{
 "cells": [
  {
   "cell_type": "markdown",
   "id": "5061ad02-4857-4d2f-98e4-057c1bfeae5a",
   "metadata": {},
   "source": [
    "# AE Algorithms and AE class\n",
    "\n",
    "As explained in section 2.5 of notebook *02_AmplitudeEstimationBTC* one of the main ingredients of the **AE BTC** is the **AE** algorithm used. In the present code implementation, 6 different algorithms can be used and all of them are managed by the *AE* class of the *BTC_02_AE/QQuantLib/AE/ae_class* module. The present notebook offers insight into the different **AE** algorithms and the keys of the input dictionary of the *AE* class for configuring them.\n",
    "\n",
    "As remaining the **AE kernel** is given a unitary operator $\\mathbf{A(f_{x_i})}$ such that:\n",
    "\n",
    "$$|\\Psi\\rangle= \\mathbf{A}|0\\rangle_n  = \\sqrt{a} |\\Psi_0\\rangle  + \\sqrt{1-a}|\\Psi_1\\rangle \\tag{1}$$\n",
    "\n",
    "The **AE kernel** tries to get an estimation of the probability of obtaining the state $|\\Psi_0\\rangle$, this is an estimator of $a$.\n",
    "\n",
    "In the following cells we create the operator $\\mathbf{A(f_{x_i})}$ that we are going to use for testing the different algorithms."
   ]
  },
  {
   "cell_type": "code",
   "execution_count": null,
   "id": "6c03a1fd-8cc4-4807-8870-94914d9ead58",
   "metadata": {
    "tags": []
   },
   "outputs": [],
   "source": [
    "import numpy as np\n",
    "\n",
    "def sin_integral(a,b):\n",
    "    return np.cos(a)-np.cos(b)\n",
    "\n",
    "start = [0.0, np.pi]\n",
    "end = [3.0*np.pi/8.0, 5.0*np.pi/4.0]\n",
    "\n",
    "#First integration domain\n",
    "a = start[0]\n",
    "b = end[0]\n",
    "#For fix the number of discretization intervals\n",
    "n=4\n",
    "domain_x = np.linspace(a, b, 2**n+1)\n",
    "\n",
    "#The selected fucntion\n",
    "f = np.sin\n",
    "\n",
    "#Discretization of the selected function\n",
    "f_x = []\n",
    "x_ = []\n",
    "for i in range(1, len(domain_x)):\n",
    "    step_f = (f(domain_x[i]) + f(domain_x[i-1]))/2.0\n",
    "    #print(i)\n",
    "    f_x.append(step_f)\n",
    "    x_.append((domain_x[i] + domain_x[i-1])/2.0)\n",
    "f_x = np.array(f_x)\n",
    "x_ = np.array(x_)\n",
    "\n",
    "normalization = np.max(np.abs(f_x))\n",
    "print(\"Normalization constant: {}\".format(normalization))\n",
    "#normalization = 1.0\n",
    "f_norm_x = f_x/normalization\n",
    "\n",
    "Riemann = (np.sum(f_x)*(b-a))/2**n\n",
    "\n",
    "print(\"Riemann sum integral: {}\".format(Riemann))"
   ]
  },
  {
   "cell_type": "code",
   "execution_count": null,
   "id": "79835d4a-a037-4ee1-99b8-58377c6918ad",
   "metadata": {
    "tags": []
   },
   "outputs": [],
   "source": [
    "import sys\n",
    "sys.path.append(\"../../\")"
   ]
  },
  {
   "cell_type": "code",
   "execution_count": null,
   "id": "32930277-7c86-41ee-b17a-7fd0e77fe2fa",
   "metadata": {
    "tags": []
   },
   "outputs": [],
   "source": [
    "from QQuantLib.DL.encoding_protocols import Encoding"
   ]
  },
  {
   "cell_type": "code",
   "execution_count": null,
   "id": "be7d3291-38b8-4c72-908c-6ec1c0d6939c",
   "metadata": {
    "tags": []
   },
   "outputs": [],
   "source": [
    "encoding_object = Encoding(\n",
    "    array_function=f_norm_x, \n",
    "    array_probability=None, \n",
    "    encoding=2\n",
    ")\n",
    "encoding_object.run()"
   ]
  },
  {
   "cell_type": "markdown",
   "id": "8807f781-5864-4f30-81c0-8387575e1f4d",
   "metadata": {},
   "source": [
    "## 1. MonteCarlo Amplitude Estimation (MCAE)\n",
    "\n",
    "In this case only the unitary operator $\\mathbf{A(f_{x_i})}$ that encodes the function to integrate is mandatory. the idea is to execute the circuit and measure the probability of obtaining the state $|\\Psi_0\\rangle$: $a$.\n",
    "\n",
    "For this technique, the only mandatory input of the configuration dictionary of the **AE** class will be the number of shots for executing the circuit that is provided using the key: *shots*."
   ]
  },
  {
   "cell_type": "code",
   "execution_count": null,
   "id": "1f5eacd2-b7ea-4910-a6a8-c9cce654a99f",
   "metadata": {
    "tags": []
   },
   "outputs": [],
   "source": [
    "sys.path.append(\"../../../\")\n",
    "from qpu.select_qpu import select_qpu\n",
    "# List with the strings taht should be provided for an ideal QPU\n",
    "ideal_qpus = [\"c\", \"python\", \"linalg\", \"mps\", \"qlmass_linalg\", \"qlmass_mps\"]\n",
    "\n",
    "qpu_config = {\n",
    "    #the following strings can be used:\n",
    "    #\n",
    "    \"qpu_type\": ideal_qpus[0], \n",
    "    # The following keys are used for configuring noisy simulations\n",
    "    \"t_gate_1qb\" : None,\n",
    "    \"t_gate_2qbs\" : None,\n",
    "    \"t_readout\": None,\n",
    "    \"depol_channel\" : {\n",
    "        \"active\": False,\n",
    "        \"error_gate_1qb\" : None,\n",
    "        \"error_gate_2qbs\" : None\n",
    "    },\n",
    "    \"idle\" : {\n",
    "        \"amplitude_damping\": False,\n",
    "        \"dephasing_channel\": False,\n",
    "        \"t1\" : None,\n",
    "        \"t2\" : None\n",
    "    },\n",
    "    \"meas\": {\n",
    "        \"active\":False,\n",
    "        \"readout_error\": None\n",
    "    }\n",
    "}\n",
    "\n",
    "qpu = select_qpu(qpu_config)"
   ]
  },
  {
   "cell_type": "code",
   "execution_count": null,
   "id": "be1586b2-8954-47e5-8c02-c2623872b8bc",
   "metadata": {
    "tags": []
   },
   "outputs": [],
   "source": [
    "from QQuantLib.AE.ae_class import AE"
   ]
  },
  {
   "cell_type": "code",
   "execution_count": null,
   "id": "1b6912eb-233d-493b-8bde-ea7ae3eff83c",
   "metadata": {
    "tags": []
   },
   "outputs": [],
   "source": [
    "mcae_dict = {\n",
    "    #QPU is alwways mandatory\n",
    "    'qpu': qpu,\n",
    "    #shots\n",
    "    'shots': 1000,\n",
    "    'ae_type': 'MCAE'\n",
    "}"
   ]
  },
  {
   "cell_type": "code",
   "execution_count": null,
   "id": "4d945aa9-30db-4ace-8026-9fede9348254",
   "metadata": {
    "tags": []
   },
   "outputs": [],
   "source": [
    "mcae = AE(\n",
    "    oracle=encoding_object.oracle,\n",
    "    target=encoding_object.target,\n",
    "    index=encoding_object.index,\n",
    "    **mcae_dict\n",
    ")\n",
    "# We need to execute run method for solving the AE problem\n",
    "mcae.run()\n",
    "# Estimation of the a\n",
    "mcae_pdf = mcae.ae_pdf"
   ]
  },
  {
   "cell_type": "markdown",
   "id": "2d79698e-8629-4f6b-ab4d-37706057cf77",
   "metadata": {},
   "source": [
    "The **MCAE** does not provide upper and limit bounds but can be easily computed using as an error: $$\\frac{1}{\\sqrt{n_{shots}}}$$ where $n_{shots}$ is the number of shots."
   ]
  },
  {
   "cell_type": "code",
   "execution_count": null,
   "id": "6450b345-d83f-4c7f-8c2f-362916ebf032",
   "metadata": {
    "scrolled": true,
    "tags": []
   },
   "outputs": [],
   "source": [
    "mcae_pdf"
   ]
  },
  {
   "cell_type": "code",
   "execution_count": null,
   "id": "d954cc5d",
   "metadata": {},
   "outputs": [],
   "source": [
    "# Rieman estimation\n",
    "(b-a)*normalization*(2**n*np.sqrt(mcae_pdf))/2**n"
   ]
  },
  {
   "cell_type": "code",
   "execution_count": null,
   "id": "a8541032",
   "metadata": {},
   "outputs": [],
   "source": [
    "Riemann"
   ]
  },
  {
   "cell_type": "markdown",
   "id": "36e34542-6938-4fa0-a06b-62285bb24fa7",
   "metadata": {},
   "source": [
    "## 2. Classical Quantum Phase Estimation (CQPEAE).\n",
    "\n",
    "This is the canonical Quantum Phase Estimation method presented in the notebook **01_AmplitudeEstimationKernel**. This algorithm needs the Grover operator of  $\\mathbf{A(f_{x_i})}$, $\\mathbf{G}(\\mathbf{A(f_{x_i})})$. In this case, the configuration keys for the *AE* class are:\n",
    "* *auxiliar_qbits_number*: number of auxiliary (or ancilla) qubits used for doing the QFT. This number of qubits sets the precision of the returned estimation.\n",
    "* *shots*: number of shots for executing the complete circuit.\n",
    "\n",
    "Reference paper:\n",
    "* Brassard, Gilles and Hoyer, Peter and Mosca, Michele and Tapp, Alain (2000). Quantum Amplitude Amplification and Estimation. AMS Contemporary Mathematics Series, **305**.\n"
   ]
  },
  {
   "cell_type": "code",
   "execution_count": null,
   "id": "0467c227-66e3-4c3f-be80-23bc5cc04177",
   "metadata": {
    "tags": []
   },
   "outputs": [],
   "source": [
    "cqpeae_dict = {\n",
    "    #QPU is alwways mandatory\n",
    "    'qpu': qpu,\n",
    "    #shots\n",
    "    'shots': 100,\n",
    "    # Number of ancilla qubits for QFT\n",
    "    'auxiliar_qbits_number': 10,\n",
    "    'ae_type': 'CQPEAE'\n",
    "}"
   ]
  },
  {
   "cell_type": "code",
   "execution_count": null,
   "id": "b1352695-822b-4912-b968-f3ed6c1e1315",
   "metadata": {
    "tags": []
   },
   "outputs": [],
   "source": [
    "cqpeae = AE(\n",
    "    oracle=encoding_object.oracle,\n",
    "    target=encoding_object.target,\n",
    "    index=encoding_object.index,\n",
    "    **cqpeae_dict\n",
    ")\n",
    "# We need to execute run method for solving the AE problem\n",
    "cqpeae.run()\n",
    "# Estimation of the a\n",
    "cqpeae_pdf = cqpeae.ae_pdf"
   ]
  },
  {
   "cell_type": "code",
   "execution_count": null,
   "id": "d71e064b-a15c-48e8-8b99-a19b89aaa8fd",
   "metadata": {
    "tags": []
   },
   "outputs": [],
   "source": [
    "cqpeae_pdf"
   ]
  },
  {
   "cell_type": "code",
   "execution_count": null,
   "id": "939a8dc5",
   "metadata": {},
   "outputs": [],
   "source": [
    "# Rieman estimation\n",
    "(b-a)*normalization*(2**n*np.sqrt(cqpeae_pdf))/2**n"
   ]
  },
  {
   "cell_type": "code",
   "execution_count": null,
   "id": "21782ef3",
   "metadata": {},
   "outputs": [],
   "source": [
    "Riemann"
   ]
  },
  {
   "cell_type": "markdown",
   "id": "e665708d-fd37-4867-a5e2-c10aa7fd10f3",
   "metadata": {},
   "source": [
    "## 3. Maximum Likelihood Amplitude Estimation (MLAE)\n",
    "\n",
    "This algorithm needs the Grover operator of  $\\mathbf{A(f_{x_i})}$, $\\mathbf{G}(\\mathbf{A(f_{x_i})})$. It is an iterative algorithm. \n",
    "\n",
    "In each step of the algorithm, the following operation is executed as a circuit: $$\\mathbf{G}^{m_k} \\mathbf{A(f_{x_i})} |0\\rangle_n$$ where $m_k$ is selected in advance and the circuit is measured a fixed number of shots ($n_k$) and the probability of obtaining the $|\\Psi_0\\rangle$ is obtained (h_k). \n",
    "\n",
    "Using the properties of the *Grover* operator it can be shown that the following equation holds:\n",
    "\n",
    "$$\\mathbf{G}^{m_k} \\mathbf{A(f_{x_i})} |0\\rangle_n  =\\sin\\left((2m_k+1)\\theta\\right)|\\Psi_0\\rangle +\\cos\\left((2m_k+1)\\theta\\right)|\\Psi_1\\rangle,$$\n",
    "\n",
    "where $$\\sqrt{a} = \\sin \\theta$$.\n",
    "\n",
    "In each step of the algorithm, the likelihood of obtaining $h_k$ in the function of $\\theta$ is obtained: $l(\\theta|h_k)$. Then the different likelihoods are gathered into a a cost function\n",
    "\n",
    "$$C(\\theta) = -\\log\\left(\\prod_{k = 0}^M l_k(\\theta,h_k)\\right)$$\n",
    "\n",
    "Then using a classical optimisation program (by default the *AE* class will use **brute force** scipy optimization:  https://docs.scipy.org/doc/scipy/reference/generated/scipy.optimize.brute.html) we compute the $\\theta^*$ that minimizes the cost function. Finally, the desired amplitude is computed by:  $$a=sin^2(\\theta^*)$$\n",
    "\n",
    "The configuration keys for the *AE* are:\n",
    "* *schedule*: list of list where the different $m_k$ and $n_k$ should be provided.\n",
    "* *delta*: float for configuring the *brute force* optimizer. To avoid problems in 0 and pi/2 theta limits for defining the search domain.\n",
    "* *ns*: int for defining the number of grid points used by the *brute force optimizer*.\n",
    "\n",
    "Reference paper:\n",
    "* Yohichi Suzuki and Shumpei Uno and Rudy Raymond and Tomoki Tanaka and Tamiya Onodera and Naoki Yamamoto (2020). Amplitude estimation without phase estimation **19**(2)."
   ]
  },
  {
   "cell_type": "code",
   "execution_count": null,
   "id": "7ce1e78b-7bce-4895-81a2-b27f37152c4e",
   "metadata": {
    "tags": []
   },
   "outputs": [],
   "source": [
    "mk = [1, 2, 3, 4, 5]\n",
    "nk = [100] * len(mk)\n",
    "schedule = [mk, nk]\n",
    "\n",
    "mlae_dict = {\n",
    "    #QPU is alwways mandatory\n",
    "    'qpu': qpu,\n",
    "    #MLAE\n",
    "    #MLAE schedule\n",
    "    'schedule': schedule,\n",
    "    'delta': 1.0e-8,\n",
    "    'ns': 100000,\n",
    "    'ae_type': 'MLAE'\n",
    "}"
   ]
  },
  {
   "cell_type": "code",
   "execution_count": null,
   "id": "3b450640-3de2-46a0-a3a0-00672aa1d3a3",
   "metadata": {
    "tags": []
   },
   "outputs": [],
   "source": [
    "mlae = AE(\n",
    "    oracle=encoding_object.oracle,\n",
    "    target=encoding_object.target,\n",
    "    index=encoding_object.index,\n",
    "    **mlae_dict\n",
    ")\n",
    "# We need to execute run method for solving the AE problem\n",
    "mlae.run()\n",
    "# Estimation of the a\n",
    "mlae_pdf = mlae.ae_pdf"
   ]
  },
  {
   "cell_type": "code",
   "execution_count": null,
   "id": "1fb669c6-fc58-4cc5-aa16-1294dacf1556",
   "metadata": {
    "tags": []
   },
   "outputs": [],
   "source": [
    "mlae_pdf"
   ]
  },
  {
   "cell_type": "code",
   "execution_count": null,
   "id": "eb9e3dd1",
   "metadata": {},
   "outputs": [],
   "source": [
    "# Rieman estimation\n",
    "(b-a)*normalization*(2**n*np.sqrt(mlae_pdf))/2**n"
   ]
  },
  {
   "cell_type": "code",
   "execution_count": null,
   "id": "3862bb17",
   "metadata": {},
   "outputs": [],
   "source": [
    "Riemann"
   ]
  },
  {
   "cell_type": "markdown",
   "id": "963d30c6-a89a-4664-b3a6-c08082cb0935",
   "metadata": {},
   "source": [
    "## 4. Iterative Quantum Amplitude Estimation (IQAE)\n",
    "\n",
    "This algorithm needs the Grover operator of  $\\mathbf{A(f_{x_i})}$, $\\mathbf{G}(\\mathbf{A(f_{x_i})})$. It is an iterative algorithm.\n",
    "\n",
    "In each step of the algorithm the property of the *Grover* operator: $$\\mathbf{G}^{m_k} \\mathbf{A(f_{x_i})} |0\\rangle_n  =\\sin\\left((2m_k+1)\\theta\\right)|\\Psi_0\\rangle +\\cos\\left((2m_k+1)\\theta\\right)|\\Psi_1\\rangle,$$ is used for obtaining some close bounds for the estimation of $a$.\n",
    "\n",
    "The **IQAE** needs an error $\\epsilon$ and a confident interval $\\alpha$ as input and the final mission is estimating some upper and lower bounds  $(a_l, a_u)$ such $a$ satisfies that: $$P\\big[a \\in [a_l, a_u]\\big] \\gt 1-\\alpha$$ and $$\\frac{a_u-a_l}{2} \\leq \\epsilon$$\n",
    "\n",
    "The configuration keys for the *AE* are:\n",
    "* *epsilon*: float fot the $\\epsilon$ of the **IQAE** algorithm.\n",
    "* *alpha*: float confidence level $\\alpha$ of the **IQAE** algorithm.\n",
    "* *shots*: number of shots\n",
    "\n",
    "Reference paper:\n",
    "* Dmitry Grinko and Julien Gacon and Christa Zoufal and Stefan Woerner (2021). Iterative quantum amplitude estimation, npj Quantum Information **7**(1)"
   ]
  },
  {
   "cell_type": "code",
   "execution_count": null,
   "id": "570d20e8-8f2e-48f4-8d73-5530d5017014",
   "metadata": {
    "tags": []
   },
   "outputs": [],
   "source": [
    "iqae_dict = {\n",
    "    #QPU is alwways mandatory\n",
    "    'qpu': qpu,\n",
    "    #MLAE\n",
    "    #MLAE schedule\n",
    "    'epsilon' : 0.001,\n",
    "    'alpha': 0.05,\n",
    "    'shots': 1000,\n",
    "    'ae_type': 'IQAE'\n",
    "}"
   ]
  },
  {
   "cell_type": "code",
   "execution_count": null,
   "id": "ca7a532b-5e95-4f4b-babf-5fc6180e3bcf",
   "metadata": {
    "tags": []
   },
   "outputs": [],
   "source": [
    "iqae = AE(\n",
    "    oracle=encoding_object.oracle,\n",
    "    target=encoding_object.target,\n",
    "    index=encoding_object.index,\n",
    "    **iqae_dict\n",
    ")\n",
    "# We need to execute run method for solving the AE problem\n",
    "iqae.run()\n",
    "# Estimation of the a\n",
    "iqae_pdf = iqae.ae_pdf"
   ]
  },
  {
   "cell_type": "code",
   "execution_count": null,
   "id": "deae58ee-2498-49a4-a888-d12251c79e75",
   "metadata": {
    "scrolled": true,
    "tags": []
   },
   "outputs": [],
   "source": [
    "iqae_pdf"
   ]
  },
  {
   "cell_type": "code",
   "execution_count": null,
   "id": "11a44a8c",
   "metadata": {
    "scrolled": true
   },
   "outputs": [],
   "source": [
    "# Rieman estimation\n",
    "(b-a)*normalization*(2**n*np.sqrt(iqae_pdf))/2**n"
   ]
  },
  {
   "cell_type": "code",
   "execution_count": null,
   "id": "51bffcd2",
   "metadata": {},
   "outputs": [],
   "source": [
    "Riemann"
   ]
  },
  {
   "cell_type": "markdown",
   "id": "e0f04faf-66aa-48c3-a547-f6b71d27b40a",
   "metadata": {},
   "source": [
    "# 5. Real Quantum Amplitude Estimation (RQAE).\n",
    "\n",
    "This algorithm needs the Grover operator of  $\\mathbf{A(f_{x_i})}$, $\\mathbf{G}(\\mathbf{A(f_{x_i})})$. It is an iterative algorithm. It computes the amplitude $a$ so it can return negative values. \n",
    "\n",
    "The **RQAE** needs an error $\\epsilon$ and a confident interval $\\gamma$ as input and the final mission is estimating some upper and lower bounds  $(a_l, a_u)$ such $a$ satisfies that: $$P\\big[a \\in [a_l, a_u]\\big] \\gt 1-\\gamma$$ and $$\\frac{a_u-a_l}{2} \\leq \\epsilon$$\n",
    "\n",
    "The configuration keys for the *AE* are:\n",
    "* *epsilon*: float fot the $\\epsilon$ of the **RQAE** algorithm.\n",
    "* *gamma*: float confidence level $\\gamma$ of the **RQAE** algorithm.\n",
    "* *ratio*: the **RQAE** allows the user to set the amplification ratio (this sets the times that the *Grover* operator is applied in each step). The recommended value is 2.\n",
    "\n",
    "Reference paper:\n",
    "* Manzano, Alberto and Musso, Daniele and Leitao, Álvaro (2023). Real Quantum Amplitude Estimation, EPJ Quantum Technology, **10**.\n"
   ]
  },
  {
   "cell_type": "code",
   "execution_count": null,
   "id": "45bf4a8c-5c70-4dc6-8113-b54001bb042d",
   "metadata": {
    "tags": []
   },
   "outputs": [],
   "source": [
    "rqae_dict = {\n",
    "    #QPU is alwways mandatory\n",
    "    'qpu': qpu,\n",
    "    #MLAE\n",
    "    #MLAE schedule\n",
    "    'epsilon' : 0.001,\n",
    "    'gamma': 0.05,\n",
    "    'q': 2.0,\n",
    "    'ae_type': 'RQAE'\n",
    "}"
   ]
  },
  {
   "cell_type": "code",
   "execution_count": null,
   "id": "adc58be8-1c03-4b26-8d80-2229413fba67",
   "metadata": {
    "tags": []
   },
   "outputs": [],
   "source": [
    "rqae = AE(\n",
    "    oracle=encoding_object.oracle,\n",
    "    target=encoding_object.target,\n",
    "    index=encoding_object.index,\n",
    "    **rqae_dict\n",
    ")\n",
    "# We need to execute run method for solving the AE problem\n",
    "rqae.run()\n",
    "# Estimation of the a\n",
    "rqae_pdf = rqae.ae_pdf"
   ]
  },
  {
   "cell_type": "code",
   "execution_count": null,
   "id": "73cbc9c1-928b-4064-942e-9cfdb95782c9",
   "metadata": {
    "scrolled": true,
    "tags": []
   },
   "outputs": [],
   "source": [
    "rqae_pdf"
   ]
  },
  {
   "cell_type": "code",
   "execution_count": null,
   "id": "930849fa",
   "metadata": {},
   "outputs": [],
   "source": [
    "(b-a)*normalization*2**n*rqae_pdf/2**n"
   ]
  },
  {
   "cell_type": "code",
   "execution_count": null,
   "id": "7e977912",
   "metadata": {},
   "outputs": [],
   "source": [
    "Riemann"
   ]
  },
  {
   "cell_type": "markdown",
   "id": "248b043f",
   "metadata": {},
   "source": [
    "## 6. IQPEAE\n",
    "\n",
    "The **IQPEAE** is a variant of the **CQPEAE** algorithm where the Quantum Fourier Transform is done using only an additional qubit. A lower number of qubits are used but the depth of the circuits is much higher. This algorithm needs the Grover operator of \\mathbf{A(f_{x_i})}$, $\\mathbf{G}(\\mathbf{A(f_{x_i})})$.  The configuration keys for the *AE* class are:\n",
    "\n",
    "* *cbits_number*: number of classical bits used for computing the returned estimation.\n",
    "* *shots*: number of shots for executing the complete circuit.\n",
    "\n",
    "Reference paper:\n",
    "\n",
    "    Alexei Y. Kitaev (1995). Quantum measurements and the Abelian Stabilizer Problem. Electron. Colloquium Comput. Complex TR96.\n",
    "    \n",
    "**BE AWARE**\n",
    "\n",
    "The IQPEAE needs a lot of computational resources for its execution. So the configuration and the code for the execution are provided as a Markdown notebook cell. For executing transform the cell to code but the computation time will be high!\n"
   ]
  },
  {
   "cell_type": "markdown",
   "id": "5fbeb763",
   "metadata": {},
   "source": [
    "iqpeae_dict = {\n",
    "    #QPU is alwways mandatory\n",
    "    'qpu': qpu,\n",
    "    #shots\n",
    "    'shots': 100,\n",
    "    # Number of classical qubits for QFT\n",
    "    'cbits_number': 10,\n",
    "    'ae_type': 'IQPEAE'\n",
    "}\n",
    "\n",
    "iqpeae = AE(\n",
    "    oracle=encoding_object.oracle,\n",
    "    target=encoding_object.target,\n",
    "    index=encoding_object.index,\n",
    "    **iqpeae_dict\n",
    ")\n",
    "# We need to execute run method for solving the AE problem\n",
    "iqpeae.run()\n",
    "# Estimation of the a\n",
    "iqpeae_pdf = iqpeae.ae_pdf\n",
    "# Rieman estimation\n",
    "print((b-a)*normalization*(2**n*np.sqrt(iqae_pdf))/2**n)\n",
    "print(Riemann)"
   ]
  },
  {
   "cell_type": "markdown",
   "id": "d0f67399",
   "metadata": {},
   "source": [
    "## 7. Other AE algorithms\n",
    "\n",
    "As explained before, the **QQuantLib** library was developed in the framework of the **Financial Applications** case of the **WP 5** of the **NEASQC** project. In addition to the **AE** algorithms presented in this notebook, several improvements and modifications were made to them. All these modifications can be used too by providing the corresponding string to the *ae_type* key of the configuration dictionary. Until 2024/05 the **AE** algorithm modifications included were:\n",
    "\n",
    "* Modified Iterative Quantum Amplitude Estimation (**MIQAE**). Modification of the **IQAE** that allows a better asymptotic behaviour.\n",
    "* Modified Real Quantum Amplitude Estimation (**MRQAE**). Modification of the **IQAE** that allows a better asymptotic behaviour.\n",
    "* Shots Real Quantum Amplitude Estimation (**sRQAE**). Modification of the **RQAE** where the user can provide the number of shots for each iteration of the algorithm. This modification usually provides a better experimental performance.\n",
    "* Extended Real Quantum Amplitude Estimation (**eRQAE**). Modification of the **RQAE** where the user can provide a schedule for guiding the evolution of the algorithm.\n",
    "\n",
    "For more information about these modifications please review the notebooks:\n",
    "\n",
    "* *misc/notebooks/05_Iterative_Quantum_Phase_Estimation_Class.ipynb*\n",
    "* *misc/notebooks/07-02_Improvements_on_Real_Quantum_Amplitude_Estimation.ipynb*\n",
    "\n",
    "Of the **FinancialApplications** software package (https://github.com/NEASQC/FinancialApplications)"
   ]
  }
 ],
 "metadata": {
  "kernelspec": {
   "display_name": "Python 3 (ipykernel)",
   "language": "python",
   "name": "python3"
  },
  "language_info": {
   "codemirror_mode": {
    "name": "ipython",
    "version": 3
   },
   "file_extension": ".py",
   "mimetype": "text/x-python",
   "name": "python",
   "nbconvert_exporter": "python",
   "pygments_lexer": "ipython3",
   "version": "3.9.9"
  }
 },
 "nbformat": 4,
 "nbformat_minor": 5
}
