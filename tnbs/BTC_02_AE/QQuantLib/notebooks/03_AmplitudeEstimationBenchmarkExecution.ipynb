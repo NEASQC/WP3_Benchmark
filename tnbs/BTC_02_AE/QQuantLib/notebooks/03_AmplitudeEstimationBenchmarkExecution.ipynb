{
 "cells": [
  {
   "cell_type": "markdown",
   "id": "f1389b36-6736-447a-a207-f13e3422798e",
   "metadata": {},
   "source": [
    "# Execution of Amplitude Estimation Benchmark\n",
    "\n",
    "In this notebook we explain how to execute a **AE** benchmark. As explained at the end of the notebook *02_AmplitudeEstimationBTC.ipynb* the module **QQuantLib/ae_sine_integral** gathers all the mandatory code for executing a complete integral using a selected **AE** algorithm. \n",
    "\n",
    "For executing a benchmark following the guidelines of the **TNBS** we need to perform several executions and do some statistics on the obtained repetitions results. Aditionally we need to procces the results for generating the mandatory **TNBS JSON** document. This is done by the following modules:\n",
    "* my_benchmark_execution.py\n",
    "* neasqc_benchmark.py"
   ]
  },
  {
   "cell_type": "markdown",
   "id": "380af109-10b2-4fec-b693-9cdb78fd2285",
   "metadata": {},
   "source": [
    "## 1. my_benchmark_execution\n",
    "\n",
    "A complete benchmark execution following the **TNBS** guidelines can be performed by using the **my\\_benchmark\\_execution.py** module in the **BTC_02_AE** folder.\n",
    "\n",
    "The configuration of the **BTC** can be done at the end of the script (code under  ############## CONFIGURE THE BTC  ################### line). Here the user should provide the **JSON** files for configuring the **AE** algorithm (*ae_json_file* variable) and the **QPU** (*qpu_json_file* variable).\n",
    "\n",
    "If there are different possible **AE** configurations the user must change properly the *id_ae* variable.\n",
    "\n",
    "If there are different possible **QPU** configurations the user must change properly the *id_qpu* variable.\n",
    "\n",
    "The integral intervals to test can be provided by the *list_of_integral_intervals* variable.\n",
    "\n",
    "A list of qubits for domain configuration can be provided to the *list_of_qbits* variable.\n",
    "\n",
    "\n",
    "The folder for saving the generated files can be provided to the *saving_folder* variable. \n",
    "\n",
    "The benchmark execution can be changed by modifying the different keys and variables under the ############## CONFIGURE THE BENCHMARK EXECUTION  ################# line (for default TNBS benchmark execution these keys should not be modified).\n",
    "\n",
    "### AE JSON configuration files:\n",
    "\n",
    "Several configuration JSON files for AE algorithms can be found under the **BTC_02_AE/jsons/* folder\n",
    "\n",
    "### QPU JSON  configuration files:\n",
    "\n",
    "Several configuration JSON files for QPU configurations be found under the **QQuantLib/qpu/** folder (files *qpu_ideal.json* and *qpu_noisy.json*"
   ]
  },
  {
   "cell_type": "markdown",
   "id": "35f90928-7e6e-4d34-bbf8-2dbf6ec6eb87",
   "metadata": {},
   "source": [
    "## 2. Generating the JSON file.\n",
    "\n",
    "Once the files from a complete benchmark execution are generated the information should be formated following the **NEASQC JSON schema**. For doing this the **neasqc_benchmark.py** module can be used. At the end of the file the path to the folder where all the files from benchmark are stored should be provided to the variable **folder**.\n",
    "\n",
    "For creating the JSON file following command should eb executed:\n",
    "\n",
    "    python neasqc_benchmark.py"
   ]
  },
  {
   "cell_type": "markdown",
   "id": "490620e7-62ab-45f7-b8a8-761bf4970497",
   "metadata": {},
   "source": [
    "## 3. Complete Workflow.\n",
    "\n",
    "The bash script **benchmark_exe.sh** allows to automatize the execution of the benchamrk and the JSON file generation (once the *my_benchmark_execution.py* and the *neasqc_benchmark.py* are properly configured).\n",
    "\n",
    "    bash benchmark_exe.sh"
   ]
  }
 ],
 "metadata": {
  "kernelspec": {
   "display_name": "Python 3 (ipykernel)",
   "language": "python",
   "name": "python3"
  },
  "language_info": {
   "codemirror_mode": {
    "name": "ipython",
    "version": 3
   },
   "file_extension": ".py",
   "mimetype": "text/x-python",
   "name": "python",
   "nbconvert_exporter": "python",
   "pygments_lexer": "ipython3",
   "version": "3.9.16"
  }
 },
 "nbformat": 4,
 "nbformat_minor": 5
}
