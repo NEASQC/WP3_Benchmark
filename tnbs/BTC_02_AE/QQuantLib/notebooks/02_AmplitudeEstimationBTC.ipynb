{
 "cells": [
  {
   "cell_type": "markdown",
   "id": "0618c8ae",
   "metadata": {},
   "source": [
    "# The Amplitude Estimation Benchmark Test Case\n",
    "\n",
    "In the **01_AmplitudeEstimationKernel.ipynb** notebook the **AE kernel** was explained. In this notebook the associated benchmark test case (**BTC**) is presented. "
   ]
  },
  {
   "cell_type": "code",
   "execution_count": null,
   "id": "7071be0e",
   "metadata": {},
   "outputs": [],
   "source": [
    "import numpy as np\n",
    "import matplotlib.pyplot as plt\n",
    "%matplotlib inline"
   ]
  },
  {
   "cell_type": "markdown",
   "id": "011635f6",
   "metadata": {},
   "source": [
    "## 1.  Description of the problem\n",
    "\n",
    "The benchmark problem is the computation of the integral of a function $f(x)$ in a closed interval $[a,b] \\subset \\mathbf{R}$:\n",
    "\n",
    "$$I = \\int_a^bf(x)dx$$\n",
    "\n",
    "In particular we propose to use $f(x) = \\sin x$, whose integral is very well known:\n",
    "\n",
    "$$I = \\int_a^{b}\\sin(x)dx = -\\cos x |_a^b = \\cos(a)-\\cos(b)$$\n",
    "\n",
    "Additionally, 2 different integration intervals will be used:\n",
    "\n",
    "1. $[0, \\frac{3\\pi}{8}]$ : $I = \\int_0^{\\frac{3\\pi}{8}}\\sin(x)dx = 0.6173165676349102$\n",
    "2. $[\\pi, \\frac{5\\pi}{4}]$ : $I = \\int_{\\pi}^{\\frac{5\\pi}{4}}\\sin(x)dx = -0.2928932188134523$\n"
   ]
  },
  {
   "cell_type": "code",
   "execution_count": null,
   "id": "871a0510",
   "metadata": {},
   "outputs": [],
   "source": [
    "def sin_integral(a,b):\n",
    "    return np.cos(a)-np.cos(b)"
   ]
  },
  {
   "cell_type": "code",
   "execution_count": null,
   "id": "c7aec8ad",
   "metadata": {},
   "outputs": [],
   "source": [
    "start = [0.0, np.pi]\n",
    "end = [3.0*np.pi/8.0, 5.0*np.pi/4.0]"
   ]
  },
  {
   "cell_type": "markdown",
   "id": "148bbae2",
   "metadata": {},
   "source": [
    "#### $1^{st}$  Domain: $[0, \\frac{3\\pi}{8}]$ \n",
    "\n",
    "In this domain the function is strictly positive defined."
   ]
  },
  {
   "cell_type": "code",
   "execution_count": null,
   "id": "29114c8f",
   "metadata": {},
   "outputs": [],
   "source": [
    "a = start[0]\n",
    "b = end[0]\n",
    "domain = np.linspace(a,b, 100)\n",
    "plt.plot(domain, np.sin(domain))\n",
    "#plt.show()"
   ]
  },
  {
   "cell_type": "code",
   "execution_count": null,
   "id": "d8fcfba3",
   "metadata": {
    "scrolled": true
   },
   "outputs": [],
   "source": [
    "print('Integral in first domain: {}'.format(sin_integral(a,b)))"
   ]
  },
  {
   "cell_type": "markdown",
   "id": "387e2fd6",
   "metadata": {},
   "source": [
    "#### $2^{nd}$ Domain: $[\\pi, \\frac{5\\pi}{4}]$\n",
    "\n",
    "In this domain, the function is not strictly positively defined and the integral is negative!"
   ]
  },
  {
   "cell_type": "code",
   "execution_count": null,
   "id": "9bc7ab74",
   "metadata": {},
   "outputs": [],
   "source": [
    "a = start[1]\n",
    "b = end[1]\n",
    "domain = np.linspace(a,b, 100)\n",
    "plt.plot(domain, np.sin(domain))"
   ]
  },
  {
   "cell_type": "code",
   "execution_count": null,
   "id": "b544a0bc",
   "metadata": {
    "scrolled": true
   },
   "outputs": [],
   "source": [
    "print('Integral in second domain: {}'.format(sin_integral(a,b)))"
   ]
  },
  {
   "cell_type": "markdown",
   "id": "faee288f-e3a6-4c01-9458-d7c7d0751cdf",
   "metadata": {},
   "source": [
    "## 2. BTC Workflow\n",
    "\n",
    "Now we present the complete Workflow for the **BTC** for the **AE kernel**:\n",
    "1. Domain discretization\n",
    "2. Function discretization\n",
    "3. Array normalisation\n",
    "4. Encoding function in a quantum state\n",
    "5. Amplitude Estimation algorithm."
   ]
  },
  {
   "cell_type": "markdown",
   "id": "4725ec35",
   "metadata": {},
   "source": [
    "### 2.1. Domain Discretization\n",
    "\n",
    "The first thing to do for computing the integral in a computer is the discretization of the domain. In the benchmark we always discretize the domain in $2^n$ intervals, with $n \\in \\mathbf{N}$:\n",
    "\n",
    "$$\\{[x_0, x_1], [x_1, x_2], ..., [x_{2^n-1}, x_{2^n}]\\}$$ \n",
    "\n",
    "Where\n",
    "\n",
    "1. $x_{i+1} < x_{i}$\n",
    "2. $a = x_0$\n",
    "3. $b = x_{2^n}$"
   ]
  },
  {
   "cell_type": "code",
   "execution_count": null,
   "id": "c4d9ce5f",
   "metadata": {},
   "outputs": [],
   "source": [
    "#First integration domain\n",
    "a = start[0]\n",
    "b = end[0]\n",
    "#For fix the number of discretization intervals\n",
    "n=4\n",
    "domain_x = np.linspace(a, b, 2**n+1)"
   ]
  },
  {
   "cell_type": "markdown",
   "id": "8f43650e",
   "metadata": {},
   "source": [
    "### 2.2. Function discretization\n",
    "\n",
    "Now using the domain discretization we need to discretized $f(x)$. In our procedure following arrays should be constructed:\n",
    "\n",
    "1. $\\Delta x_i = x_{i+1} - x_{i} = \\frac{b-a}{2^n}$\n",
    "2. $f_{x_i} = \\frac{f(x_{i+1}) + f(x_{i})}{2}$\n",
    "3. $f_{x_i} \\Delta x_i = f_{x_i} \\frac{b-a}{2^n}$\n",
    "\n",
    "Using these computed arrays the desired integral can be approximated by Riemann sum:\n",
    "\n",
    "$$S_{[a,b]} = \\sum_{i=0}^{2^n-1} f_{x_i} \\Delta x_i$$\n",
    "\n",
    "When $\\Delta x_i \\rightarrow 0$ then $I =\\int_a^{b}\\sin(x)dx \\approx S_{[a,b]}$.\n",
    "\n",
    "Using $\\Delta x_i  = \\frac{b-a}{2^n}$ then we can write down:\n",
    "\n",
    "\n",
    "$$S_{[a,b]} = \\sum_{i=0}^{2^n-1} f_{x_i} \\frac{b-a}{2^n} = \\frac{b-a}{2^n} \\sum_{i=0}^{2^n-1} f_{x_i}$$"
   ]
  },
  {
   "cell_type": "code",
   "execution_count": null,
   "id": "a30668da",
   "metadata": {},
   "outputs": [],
   "source": [
    "#The selected fucntion\n",
    "f = np.sin\n",
    "\n",
    "#Discretization of the selected function\n",
    "f_x = []\n",
    "x_ = []\n",
    "for i in range(1, len(domain_x)):\n",
    "    step_f = (f(domain_x[i]) + f(domain_x[i-1]))/2.0\n",
    "    #print(i)\n",
    "    f_x.append(step_f)\n",
    "    x_.append((domain_x[i] + domain_x[i-1])/2.0)\n",
    "f_x = np.array(f_x)\n",
    "x_ = np.array(x_)\n"
   ]
  },
  {
   "cell_type": "code",
   "execution_count": null,
   "id": "39cabf6d",
   "metadata": {},
   "outputs": [],
   "source": [
    "plt.plot(domain_x, f(domain_x), '-o')\n",
    "plt.plot(x_, f_x, 'o')\n",
    "plt.legend(['original', 'half'])"
   ]
  },
  {
   "cell_type": "code",
   "execution_count": null,
   "id": "0c6a644b",
   "metadata": {},
   "outputs": [],
   "source": [
    "Riemann = (np.sum(f_x)*(b-a))/2**n\n",
    "print(\"Riemann sum integral: {}\".format(Riemann))\n",
    "print('Exact Integral in first domain: {}'.format(sin_integral(a,b)))"
   ]
  },
  {
   "cell_type": "markdown",
   "id": "785e8e08",
   "metadata": {},
   "source": [
    "### 2.3. Array Normalisation\n",
    "\n",
    "The idea is to encode the $2^n$ discretized array $f_{x_i}$ in a $n+1$ qubit circuit. Before doing that we are going to normalise the array in the following way:\n",
    "\n",
    "\n",
    "$$f^{norm}_{x_i} = \\frac{f_{x_i}}{\\max(|f_{x_i}|)}$$\n",
    "\n",
    "If $\\max{|f_{x_i}|} \\leq 1$ then this step can be omitted.\n",
    "\n",
    "Now the computed integral will be as shown in $(1)$\n",
    "\n",
    "\\begin{equation}\n",
    "S_{[a,b]} = \\frac{b-a}{2^n} \\sum_{i=0}^{2^n-1} f_{x_i} = \\frac{b-a}{2^n} \\sum_{i=0}^{2^n-1}  \\max(|f_{x_i}|) f^{norm}_{x_i} =\\frac{\\max(|f_{x_i}|)(b-a)}{2^n} \\sum_{i=0}^{2^n-1} f^{norm}_{x_i} \\tag{1}\n",
    "\\end{equation}"
   ]
  },
  {
   "cell_type": "code",
   "execution_count": null,
   "id": "092a27f7",
   "metadata": {},
   "outputs": [],
   "source": [
    "normalization = np.max(np.abs(f_x))\n",
    "print(\"Normalization constant: {}\".format(normalization))\n",
    "#normalization = 1.0\n",
    "f_norm_x = f_x/normalization\n",
    "Riemann = normalization * np.sum(f_norm_x)*(b-a)/2**n\n",
    "#Now we need to be aware of the normalization constant when computing Rieman sum\n",
    "print(\"Riemman sum integral: {}\".format(Riemann))\n",
    "print('Exact Integral in first domain: {}'.format(sin_integral(a,b)))"
   ]
  },
  {
   "cell_type": "markdown",
   "id": "50411718-9c63-4705-8706-7501b9056317",
   "metadata": {},
   "source": [
    "### 2.4. Encoding function in a quantum circuit.\n",
    "\n",
    "The next step is to codify $f^{norm}_{x_i}$ array in a quantum circuit. The following procedure must be used:\n",
    "\n",
    "1. Initialize a quantum register with at least $n+1$ qubits, where $n$ must be equal to the $n$ used to define the $2^n$ discretization intervals $|0\\rangle\\otimes|0\\rangle_n $\n",
    "2. Apply the uniform distribution over the first $n$ qubits: $$\\big(I \\otimes H^{\\otimes n}\\big)\\big(|0\\rangle \\otimes|0\\rangle_{n}\\big) = |0\\rangle \\otimes H^{\\otimes n}|0\\rangle_{n}=\n",
    "\\frac{1}{\\sqrt{2^n}} \\sum_{i=0}^{2^{n}-1}|0\\rangle \\otimes|i\\rangle_{n} \\tag{2}$$\n",
    "3. Creates an operator $\\mathbf{U}_f$ for encoding the $f^{norm}_{x_i}$. This operator acts in the following way (see 2.4.1): $$\\mathbf{U}_f \\left(|0\\rangle \\otimes |i\\rangle_n\\right) =  \\big(f^{norm}_{x_i}|0\\rangle +  \\beta_i |1\\rangle \\big) \\otimes |i\\rangle_n  \\tag{3}$$ In the equation $(3)$ the coefficient of $|1\\rangle$ it is not important for us the only important coefficient it is the $|0\\rangle$ one.\n",
    "4. Apply the $\\mathbf{U}_f$ operator over $n+1$ qubits: $$\\mathbf{U}_f\\left(I\\otimes H^{\\otimes n}\\right)|0\\rangle\\otimes|0\\rangle_{n} \\tag{4}$$\n",
    "5. Applying equation $(2)$ and  $(3)$ on $(4)$: $$\\mathbf{U}_f\\left(I\\otimes H^{\\otimes n} \\right)|0\\rangle\\otimes|0\\rangle_{n} = \\mathbf{U}_f \\left(\\frac{1}{\\sqrt{2^n}} \\sum_{i=0}^{2^{n}-1} |0\\rangle\\otimes|i\\rangle_{n}\\right) = \\frac{1}{\\sqrt{2^n}} \\sum_{i=0}^{2^{n}-1} \\mathbf{U}_f \\left(|0\\rangle\\otimes|i\\rangle_{n}\\right) = \\frac{1}{\\sqrt{2^n}} \\sum_{i=0}^{2^{n}-1} |i\\rangle_{n} \\otimes \\left(f^{norm}_{x_i}|0\\rangle + \\beta_i|1\\rangle \\right) \\tag{5}$$\n",
    "6. Finally the uniform distribution will be applied over the first $n$ qubits again: $$|\\Psi \\rangle = \\left(I\\otimes H^{\\otimes n} \\right)\\mathbf{U}_f\\left(I\\otimes H^{\\otimes n} \\right)|0\\rangle\\otimes|0\\rangle_{n} \\tag{6}$$\n",
    "7. So applying $(5)$ on $(6)$: $$|\\Psi \\rangle = \\left(I\\otimes H^{\\otimes n} \\right)\\mathbf{U}_f\\left(I\\otimes H^{\\otimes n} \\right)|0\\rangle\\otimes|0\\rangle_{n} = \\frac{1}{\\sqrt{2^n}} \\sum_{i=0}^{2^{n}-1} H^{\\otimes n}|i\\rangle_{n} \\otimes \\left(f^{norm}_{x_i}|0\\rangle + \\beta_i|1\\rangle \\right) \\tag{7}$$\n",
    "8. We are interested only in $|0\\rangle \\otimes |i\\rangle_{n}$ so we don't need to take into account other terms, so $(7)$ can be expressed as: $$|\\Psi \\rangle = \\left(I\\otimes H^{\\otimes n} \\right)\\mathbf{U}_f\\left(I\\otimes H^{\\otimes n} \\right)|0\\rangle\\otimes|0\\rangle_{n} = \\frac{1}{\\sqrt{2^n}} \\sum_{i=0}^{2^{n}-1} f^{norm}_{x_i}|0\\rangle \\otimes H^{\\otimes n}|i\\rangle_{n}   + \\cdots \\tag{8}$$\n",
    "9. It is known that: $$H^{\\otimes n} = \\frac{1}{\\sqrt{2^n}} \\sum_{j=0}^{2^n}\\sum_{k=0}^{2^n} (-1)^{jk} |j\\rangle_n  {}_{n} \\langle k|$$.\n",
    "10. So:$$H^{\\otimes n} |i\\rangle_n = \\frac{1}{\\sqrt{2^n}} \\sum_{j=0}^{2^n}\\sum_{k=0}^{2^n} (-1)^{jk} |j\\rangle_n  {}_{n} \\langle k|i\\rangle_n = \\frac{1}{\\sqrt{2^n}} \\sum_{j=0}^{2^n} (-1)^{ji} |j\\rangle = \\frac{1}{\\sqrt{2^n}} |0\\rangle_n + \\frac{1}{\\sqrt{2^n}} \\sum_{j=1}^{2^n} (-1)^{ji} |j\\rangle \\tag{9}$$\n",
    "11. Finally applying $(9)$ in $(8)$ and taking only into account the $|0\\rangle \\otimes |0\\rangle_{n}$   $$|\\Psi \\rangle = \\left(I\\otimes H^{\\otimes n} \\right)\\mathbf{U}_f\\left(I\\otimes H^{\\otimes n} \\right)|0\\rangle\\otimes|0\\rangle_{n} = \\frac{1}{2^n} \\sum_{i=0}^{2^{n}-1} f^{norm}_{x_i} |0\\rangle\\otimes|0\\rangle_{n} + \\cdots \\tag{10}$$\n",
    "\n",
    "Using this procedure the two mandatory operators $\\mathbf{A}^I(f_{x_i})$ (one for each integration interval) can be created:\n",
    "$$\\mathbf{A}^I(f_{x_i}) = \\left(\\mathbb{I}\\otimes H^{\\otimes n} \\right)\\mathbf{U}^I_f\\left(\\mathbb{I}\\otimes H^{\\otimes n} \\right)$$\n",
    "\n",
    "Using $(10)$ the behaviour of these operators can be summarised as:\n",
    "\n",
    "$$|\\Psi \\rangle = \\mathbf{A}^I(f_{x_i}) |0\\rangle\\otimes|0\\rangle_{n}= \\frac{1}{2^n} \\sum_{i=0}^{2^{n}-1} f^{norm}_{x_i} |0\\rangle\\otimes|0\\rangle_{n} + \\cdots \\tag{11}$$\n",
    "\n",
    "$(11)$ can be compared with the equation of the **AE kernel** (see notebook *01_AmplitudeEstimationKernel.ipynb*):\n",
    "\n",
    "$$|\\Psi\\rangle= \\mathbf{A}|0\\rangle_n  = \\sqrt{a} |\\Psi_0\\rangle  + \\sqrt{1-a}|\\Psi_1\\rangle \\tag{12}$$\n",
    "\n",
    "Where $|\\Psi_0\\rangle = |0\\rangle\\otimes|0\\rangle_{n}$ and $$\\sqrt{a} = \\frac{1}{2^n} \\sum_{i=0}^{2^{n}-1} f^{norm}_{x_i}$$\n",
    "\n",
    "Now the Riemann sum approximation of the desired integral can be computed by measuring the probability of obtaining the state $|\\Psi_0\\rangle = |0\\rangle \\otimes |0\\rangle_n$ as shown in $(12)$:\n",
    "$$\\mathbf{P}[|\\Psi_0\\rangle] = \\left| \\; \\langle \\Psi_0\\ |\\Psi\\rangle \\; \\right|^2 = \\left| \\; \\langle \\Psi_0\\ | \\frac{1}{2^n} \\sum_{i=0}^{2^{n}-1} f^{norm}_{x_i} |\\Psi_0\\rangle\\; \\right|^2 = \\left| \\frac{1}{2^n} \\sum_{i=0}^{2^{n}-1} f^{norm}_{x_i} \\right|^2 = \\tilde{a} \\tag{13}$$\n",
    "\n",
    "The $\\thicksim$ in $\\tilde{a}$ indicates that the amplitude was obtained using a quantum measurement. Now plugging $(13)$ into the definition of the integral $(1)$:\n",
    "\n",
    "$$\\tilde{S}_{[a,b]}= \\frac{\\max(f_{x_i}) \\left(b-a\\right)}{2^n}\\left(2^n\\sqrt{\\mathbf{P}[|\\Psi_0\\rangle]}\\right) \\tag{14}$$\n",
    "\n",
    "The $\\thicksim$ in $\\tilde{S}_{[a,b]}$ indicates that the integral was obtained using a measurement meanwhile the $S_{[a,b]}$ is for pure Riemann sum calculation as shown"
   ]
  },
  {
   "cell_type": "markdown",
   "id": "ca85032e",
   "metadata": {},
   "source": [
    "The encoding of the array $f^{norm}_{x_i}$ in a unitary operator $\\mathbf{A}^I(f_{x_i})$ is done transparently by python class *Encoding* from the *QQuantLib/DL/encoding_protocols* module.\n",
    "\n",
    "This class creates the operator $\\mathbf{A}^I(f_{x_i})$ under the *oracle* property of the *Encoding* class. \n",
    "\n",
    "For instantiating the class the following arguments should be provided:\n",
    "\n",
    "* array_function: the array function $f^{norm}_{x_i}$.\n",
    "* array_probability: should be fixed to None\n",
    "* encoding: should be fixed to 2 (the class implement until 3 different encoding protocols but for the **BTC** the it should be fixed to 2)\n",
    "\n",
    "The *Encoding* class has the following useful attributes:\n",
    "* oracle: **myqlm** gate with the implementation of the operator $\\mathbf{A}^I(f_{x_i})$\n",
    "* target: list with the binary representation of the *good* state of the $\\mathbf{A}^I(f_{x_i})$ operator(this is the $\\ket{\\Psi_0}$ in $(12)$). So in our case it will be: $|\\Psi_0\\rangle = |0\\rangle \\otimes |0\\rangle_n$\n",
    "* index: list with the qubits affected by the unitary operator $\\mathbf{A}^I(f_{x_i})$"
   ]
  },
  {
   "cell_type": "code",
   "execution_count": null,
   "id": "a01a0395",
   "metadata": {},
   "outputs": [],
   "source": [
    "import sys\n",
    "sys.path.append(\"../../\")"
   ]
  },
  {
   "cell_type": "code",
   "execution_count": null,
   "id": "193f009a",
   "metadata": {},
   "outputs": [],
   "source": [
    "from QQuantLib.DL.encoding_protocols import Encoding"
   ]
  },
  {
   "cell_type": "code",
   "execution_count": null,
   "id": "49386077",
   "metadata": {},
   "outputs": [],
   "source": [
    "encoding_object = Encoding(\n",
    "    array_function=f_norm_x, \n",
    "    array_probability=None, \n",
    "    encoding=2\n",
    ")\n",
    "encoding_object.run()"
   ]
  },
  {
   "cell_type": "code",
   "execution_count": null,
   "id": "03299414",
   "metadata": {},
   "outputs": [],
   "source": [
    "operator_A = encoding_object.oracle\n",
    "%qatdisplay operator_A --svg"
   ]
  },
  {
   "cell_type": "code",
   "execution_count": null,
   "id": "5f4e3a54-a782-4f19-9d42-1d268ae36a7a",
   "metadata": {},
   "outputs": [],
   "source": [
    "# It must be $|\\Psi_0\\rangle = |0\\rangle \\otimes |0\\rangle_n$\n",
    "encoding_object.target"
   ]
  },
  {
   "cell_type": "code",
   "execution_count": null,
   "id": "09a274bc-a58d-4f3b-b57c-c25fc4d562fc",
   "metadata": {},
   "outputs": [],
   "source": [
    "# all the qubits affected by the operator\n",
    "encoding_object.index"
   ]
  },
  {
   "cell_type": "markdown",
   "id": "fc4201eb-1573-4cfa-8ab3-a2e7d4d9841e",
   "metadata": {},
   "source": [
    "#### 2.4.1. Operator $\\mathbf{U}_f$\n",
    "\n",
    "The unitary operator $\\mathbf{A}^I(f_{x_i})$ needs the capability of built a unitary operator $\\mathbf{U}_f$ such that: $$\\mathbf{U}_f \\left(|0\\rangle \\otimes |i\\rangle_n\\right) =  \\big(f^{norm}_{x_i}|0\\rangle +  \\beta_i |1\\rangle \\big) \\otimes |i\\rangle_n$$\n",
    "\n",
    "The operator $\\mathbf{U}_f$ can be built using following procedure:\n",
    "\n",
    "1. Given the array $f^{norm}_{x_i}$ we need to compute: $\\phi_{x_i} = \\arccos({f^{norm}_{x_i}})$.\n",
    "2. for a given state $|i\\rangle_n \\otimes |0\\rangle$ we need to implement a rotation around the *y-axis* over the last qubit ($|0\\rangle$) controlled by the state $|i\\rangle_n$ of $2*\\phi_{x_i}$. So we need to build the following operation:\n",
    "\n",
    "$$|i\\rangle_n \\otimes |0\\rangle \\rightarrow  |i\\rangle_n \\otimes \\mathbf{R}_y(2*\\phi_{x_i})|0\\rangle = |i\\rangle_n \\otimes \\left( \\cos(\\phi_{x_i})|0\\rangle + \\sin(\\phi_{x_i})|1\\rangle \\right)  $$\n",
    "\n",
    "3. Now undoing the $\\phi_{x_i}$ and doing $\\beta_i = \\sin(\\phi_{x_i})$ we can obtain the desired operator $\\mathbf{U}_f$:\n",
    "\n",
    "$$|i\\rangle_n \\otimes \\left(f^{norm}_{x_i} |0\\rangle +  \\beta_i|1\\rangle \\right) = \\mathbf{U}_f |i\\rangle_n \\otimes |0\\rangle$$\n",
    "\n",
    "The *Encoding* class from the *QQuantLib/DL/encoding_protocols* module allows us to build directly the operator $\\mathbf{A}^I(f_{x_i})$ and of course the mandatory operator $\\mathbf{U}_f$. In fact, this operator can be accessed using the attribute *funcion_gate* of the class:"
   ]
  },
  {
   "cell_type": "code",
   "execution_count": null,
   "id": "a08cc3b0",
   "metadata": {},
   "outputs": [],
   "source": [
    "# Operator U_f\n",
    "operator_Uf = encoding_object.function_gate\n",
    "%qatdisplay operator_Uf --depth --svg"
   ]
  },
  {
   "cell_type": "markdown",
   "id": "e7c384eb-2e13-4a35-bb53-9477c0409860",
   "metadata": {},
   "source": [
    "### 2.5 Amplitude Estimation Algorithm\n",
    "\n",
    "Now we have the recipe for building the mandatory unitary operator $\\mathbf{A}^I(f_{x_i})$. Now we need an algorithm that allows us to estimate the desired value of $\\tilde{a}$ $(12)$. The **TNBS** rules of the case allow us to use any **AE** algorithm that we want. In the present implementation, we can use several different algorithms: **CQPEAE**, **IQPEAE**, **MLAE**, **IQAE** or **RQAE** (see notebook *01_AmplitudeEstimationKernel.ipynb* for more information about acronyms). \n",
    "\n",
    "All these algorithms have as a base operator the Grover operator of $\\mathbf{A}^I(f_{x_i})$: $\\mathbf{G}(\\mathbf{A(f_{x_i})})$. So the first thing we need to build is this Grover operator. \n",
    "\n"
   ]
  },
  {
   "cell_type": "markdown",
   "id": "36788404",
   "metadata": {},
   "source": [
    "#### 2.5.1. Grover-like operator of $\\mathbf{A}$\n",
    "\n",
    "For each one of the 2 $\\mathbf{A(f_{x_i})}$ operators the Grover-like operator should be constructed using $(15)$:\n",
    "\n",
    "$$\\mathbf{G}(\\mathbf{A(f_{x_i})}) = \\mathbf{A(f_{x_i})} \\left(\\hat{I} - 2|0\\rangle\\langle 0|\\right) \\mathbf{A(f_{x_i})}^{\\dagger}\\left(\\hat{I} - 2|\\Psi_0\\rangle\\langle \\Psi_0|\\right) \\tag{15}$$"
   ]
  },
  {
   "cell_type": "markdown",
   "id": "94318e62",
   "metadata": {},
   "source": [
    "In the case of our **QQuantLib** the Grover-like operator building can be done in an easy way using the **Grover** function from *QQuantLib/AA/amplitude_amplification* module. The input of this function will be the following attributes of the encoding class:\n",
    "\n",
    "* *oracle*: myqlm gate with the unitary operator $\\mathbf{A(f_{x_i})}$\n",
    "* *target*: the state $\\ket{\\Psi_0}$ of the unitary operator $\\mathbf{A(f_{x_i})}$\n",
    "* *index*: index affected by the unitary operator $\\mathbf{A(f_{x_i})}$\n",
    "\n",
    "So we need to provide the corresponding attributes of the object from the *Encoding* class to the **Grover** function  for getting the desired **Grover** operator."
   ]
  },
  {
   "cell_type": "code",
   "execution_count": null,
   "id": "f42422c5",
   "metadata": {},
   "outputs": [],
   "source": [
    "from QQuantLib.AA.amplitude_amplification import grover"
   ]
  },
  {
   "cell_type": "code",
   "execution_count": null,
   "id": "b6d320c1",
   "metadata": {},
   "outputs": [],
   "source": [
    "operator_G = grover(\n",
    "    oracle = encoding_object.oracle,\n",
    "    target = encoding_object.target,\n",
    "    index = encoding_object.index\n",
    ")"
   ]
  },
  {
   "cell_type": "code",
   "execution_count": null,
   "id": "bac5d25a",
   "metadata": {},
   "outputs": [],
   "source": [
    "%qatdisplay operator_G --depth 2 --svg"
   ]
  },
  {
   "cell_type": "markdown",
   "id": "46e09369",
   "metadata": {},
   "source": [
    "#### 2.5.2 Amplitude Estimation Algorithm\n",
    "\n",
    "For each of the 2 $\\mathbf{A(f_{x_i})}$ operators and their correspondent Grover-like operators $\\mathbf{G}(\\mathbf{A(f_{x_i})})$ the desired *Amplitude Estimation* algorithm should be used. The Python class *AE* from *QQuantLib/AE/ae_class* module will be used for solving the **AE** problem. When this class is instantiated the following arguments should be provided:\n",
    "\n",
    "* *oracle*: *myqlm* gate with the unitary operator $\\mathbf{A(f_{x_i})}$\n",
    "* *target*: the state $\\ket{\\Psi_0}$ of the unitary operator $\\mathbf{A(f_{x_i})}$\n",
    "* *index*: index affected by the unitary operator $\\mathbf{A(f_{x_i})}$\n",
    "* *ae_dictionary*: Python dictionary with the complete configuration of the **AE** algorithm. Most important key is: *ae_type* key where the **AE** algorithm should be specified. The following strings can be provided: **CQPEAE**, **IQPEAE**, **MLAE**, **IQAE**,**RQAE** and **MCAE**.\n",
    "\n",
    "**NOTE**\n",
    "Some descriptions of the different *AE* algorithms implemented and about their configuration settings are provided in the notebook: *04_AmpliutdeEstimationAlgorithms*.\n",
    "\n",
    "The class directly builds the *Grover* operator mandatory for the **AE** algorithm. The **run** method of the class executes the **AE** algorithm. The *AE* class have the following important attributes:\n",
    "\n",
    "* ae_pdf: pandas DataFrame with the estimation $\\tilde{a}$. It has the following columns:\n",
    "    * ae: estimation of $\\tilde{a}$\n",
    "    * ae_l: lower bound for $\\tilde{a}$ estimation (depending on the AE algorithm used)\n",
    "    * ae_u: upper bound for $\\tilde{a}$ estimation (depending on the AE algorithm used)"
   ]
  },
  {
   "cell_type": "code",
   "execution_count": null,
   "id": "e84ed34a",
   "metadata": {},
   "outputs": [],
   "source": [
    "# QPU for solving the AE problem\n",
    "sys.path.append(\"../../\")\n",
    "from get_qpu import get_qpu\n",
    "qpu = get_qpu(\"c\")\n",
    "from QQuantLib.AE.ae_class import AE"
   ]
  },
  {
   "cell_type": "markdown",
   "id": "e16b209a",
   "metadata": {},
   "source": [
    "First we create a base configuration dictionary for the **AE** object (configuring the algorithm)"
   ]
  },
  {
   "cell_type": "code",
   "execution_count": null,
   "id": "57a5da80",
   "metadata": {},
   "outputs": [],
   "source": [
    "#AE base configuration dictionary (this is all the keys that the class AE can managed)\n",
    "ae_dictionary = {\n",
    "    #QPU\n",
    "    'qpu': qpu,\n",
    "    \n",
    "    #Multi controlled decomposition\n",
    "    'mcz_qlm': False, \n",
    "    \n",
    "    #shots\n",
    "    'shots': None,\n",
    "    \n",
    "    #MLAE\n",
    "    'schedule': [\n",
    "        [],\n",
    "        []\n",
    "    ],\n",
    "    'delta' : None,\n",
    "    'ns' : None,\n",
    "    \n",
    "    #CQPEAE\n",
    "    'auxiliar_qbits_number': None,\n",
    "    #IQPEAE\n",
    "    'cbits_number': None,\n",
    "    #IQAE & RQAQE\n",
    "    'epsilon': None,\n",
    "    #IQAE\n",
    "    'alpha': None,\n",
    "    #RQAE\n",
    "    'gamma': None,\n",
    "    'q': None\n",
    "}"
   ]
  },
  {
   "cell_type": "markdown",
   "id": "a225785f-f659-4972-ad85-bf093b4bb73f",
   "metadata": {},
   "source": [
    "##### CQPEAE\n",
    "Classical Quantum Phase Estimation for Amplitude Estimation."
   ]
  },
  {
   "cell_type": "code",
   "execution_count": null,
   "id": "98ce8ff6-b7e8-4783-96dd-dc85cec9d358",
   "metadata": {},
   "outputs": [],
   "source": [
    "ae_dictionary.update({\n",
    "    'ae_type': 'CQPEAE',\n",
    "    'auxiliar_qbits_number' : 10,\n",
    "    'shots': 1000\n",
    "})"
   ]
  },
  {
   "cell_type": "code",
   "execution_count": null,
   "id": "5d6a340b-8119-472a-a10b-7b6f44211277",
   "metadata": {},
   "outputs": [],
   "source": [
    "ae_object = AE(\n",
    "    oracle=encoding_object.oracle,\n",
    "    target=encoding_object.target,\n",
    "    index=encoding_object.index,\n",
    "    **ae_dictionary\n",
    ")\n",
    "# We need to execute run method for solving the AE problem\n",
    "ae_object.run()\n",
    "# Estimation of the a\n",
    "cqpeae_pdf = ae_object.ae_pdf"
   ]
  },
  {
   "cell_type": "code",
   "execution_count": null,
   "id": "35c2337f-2709-4504-adfa-2dde513e8666",
   "metadata": {},
   "outputs": [],
   "source": [
    "print(cqpeae_pdf)"
   ]
  },
  {
   "cell_type": "markdown",
   "id": "349eda8e",
   "metadata": {},
   "source": [
    "##### IQAE\n",
    "Iterative Quantum Amplitude Estimation Algorithm"
   ]
  },
  {
   "cell_type": "code",
   "execution_count": null,
   "id": "73c20e30",
   "metadata": {},
   "outputs": [],
   "source": [
    "ae_dictionary.update({\n",
    "    'ae_type': 'IQAE',\n",
    "    'epsilon' : 0.001,\n",
    "    'alpha': 0.05\n",
    "})\n",
    "ae_object = AE(\n",
    "    oracle=encoding_object.oracle,\n",
    "    target=encoding_object.target,\n",
    "    index=encoding_object.index,\n",
    "    **ae_dictionary\n",
    ")\n",
    "# We need to execute run method for solving the AE problem\n",
    "ae_object.run()\n",
    "iqae_pdf = ae_object.ae_pdf"
   ]
  },
  {
   "cell_type": "code",
   "execution_count": null,
   "id": "d4a75e4e-d196-4e20-8572-2e8b326606ae",
   "metadata": {},
   "outputs": [],
   "source": [
    "print(iqae_pdf)"
   ]
  },
  {
   "cell_type": "markdown",
   "id": "05af2c73-6067-462f-b2a2-f006d6fd10de",
   "metadata": {},
   "source": [
    "##### MLAE\n",
    "\n",
    "Maximum Likelihood Amplitude Estimation"
   ]
  },
  {
   "cell_type": "code",
   "execution_count": null,
   "id": "d0923f1e-e4c5-4bf0-90fb-28f79ba9228e",
   "metadata": {
    "scrolled": true
   },
   "outputs": [],
   "source": [
    "schedule = [1, 2, 3, 4, 5]\n",
    "shots = [100] * len(schedule)\n",
    "ae_dictionary.update({\n",
    "    'ae_type': 'MLAE',\n",
    "    'schedule' : [schedule, shots],\n",
    "    'delta': 1.0e-8,\n",
    "    'ns': 100000\n",
    "})\n",
    "ae_object = AE(\n",
    "    oracle=encoding_object.oracle,\n",
    "    target=encoding_object.target,\n",
    "    index=encoding_object.index,\n",
    "    **ae_dictionary\n",
    ")\n",
    "# We need to execute run method for solving the AE problem\n",
    "ae_object.run()\n",
    "# The MLAE algorithm does not provide upper and lower bounds\n",
    "mlae_pdf = ae_object.ae_pdf"
   ]
  },
  {
   "cell_type": "code",
   "execution_count": null,
   "id": "7b45ab04-3fff-4d6d-8bef-4e4726090cc3",
   "metadata": {},
   "outputs": [],
   "source": [
    "print(mlae_pdf)"
   ]
  },
  {
   "cell_type": "markdown",
   "id": "cbca279f-f724-46e8-9375-e035cdb7483b",
   "metadata": {},
   "source": [
    "### 2.6 Computing the integral\n",
    "\n",
    "**AE** algorithms, usually, return the probability of getting the state $|\\Psi_0\\rangle$, so post-processing, for getting the estimator of the integral, should be done, as explained in (14):\n",
    "\n",
    "$$\\tilde{S}_{[a,b]} = \\frac{\\max(f_{x_i}) (b-a)}{2^n} \\left(2^{n} \\sqrt{\\mathbf{P}[|\\Psi_0\\rangle]}\\right) \\tag{14}$$\n",
    "\n",
    "\n",
    "In case the algorithm returns some different value an additional post-processing should be done to get the $\\tilde{S}_{[a,b]}$ integral estimator.\n"
   ]
  },
  {
   "cell_type": "code",
   "execution_count": null,
   "id": "6e1d389e",
   "metadata": {},
   "outputs": [],
   "source": [
    "#We need to post-procces the return in order to get the correct estimator\n",
    "S_cqpeae = (b-a)*normalization*(2**n*np.sqrt(cqpeae_pdf))/2**n\n",
    "S_iqae = (b-a)*normalization*(2**n*np.sqrt(iqae_pdf))/2**n\n",
    "S_mlae = (b-a)*normalization*(2**n*np.sqrt(mlae_pdf))/2**n"
   ]
  },
  {
   "cell_type": "code",
   "execution_count": null,
   "id": "21698868",
   "metadata": {},
   "outputs": [],
   "source": [
    "print('Integral in first domain: {}'.format(sin_integral(a,b)))\n",
    "print(\"Estimated integral using CQPEAE: {}\".format(S_cqpeae[\"ae\"][0]))\n",
    "print(\"Estimated integral using IQAE: {}\".format(S_iqae[\"ae\"][0]))\n",
    "print(\"Estimated integral using MLAE: {}\".format(S_mlae[\"ae\"][0]))"
   ]
  },
  {
   "cell_type": "code",
   "execution_count": null,
   "id": "a60e682a",
   "metadata": {},
   "outputs": [],
   "source": [
    "print(\"Is it the integral between the bound limits of the estimator for CQPEAE algorithm: {}\".format(\n",
    "    (sin_integral(a,b) < S_cqpeae['ae_u'])[0] & (sin_integral(a,b) > S_cqpeae['ae_l'])[0]\n",
    "))\n",
    "print(\"Is it the integral between the bound limits of the estimator for IQAE algorithm: {}\".format(\n",
    "    (sin_integral(a,b) < S_iqae['ae_u'])[0] & (sin_integral(a,b) > S_iqae['ae_l'])[0]\n",
    "))"
   ]
  },
  {
   "cell_type": "markdown",
   "id": "197ae2a6",
   "metadata": {},
   "source": [
    "#### 2.6.1 RQAE Algorithm\n",
    "\n",
    "For the **RQAE** algorithm the returned value is directly the **Amplitude** and not the probability (like in the other methods implemented in the library) so an additional post-process is mandatory. In this case the equation $(14)$ should be implemented as $(14.b)$\n",
    "\n",
    "$$\\tilde{S}_{[a,b]} = \\frac{\\max(f_{x_i}) (b-a)}{2^n} \\left(2^{n} \\mathbf{P}[|\\Psi_0\\rangle]\\right) \\tag{14.b}$$"
   ]
  },
  {
   "cell_type": "code",
   "execution_count": null,
   "id": "28107426",
   "metadata": {},
   "outputs": [],
   "source": [
    "ae_dictionary.update({\n",
    "    'ae_type': 'RQAE',\n",
    "    'epsilon' : 0.001,\n",
    "    'alpha': None,\n",
    "    'gamma': 0.05\n",
    "})\n",
    "ae_object = AE(\n",
    "    oracle=encoding_object.oracle,\n",
    "    target=encoding_object.target,\n",
    "    index=encoding_object.index,\n",
    "    **ae_dictionary\n",
    ")\n",
    "ae_object.run()\n",
    "rqae_pdf = ae_object.ae_pdf\n",
    "#We need to post-procces the return in order to get the correct estimator.\n",
    "#In the RQAE case the amplitude instead of the probability is returned!!!\n",
    "S_rqae = (b-a)*normalization*2**n*rqae_pdf/2**n"
   ]
  },
  {
   "cell_type": "code",
   "execution_count": null,
   "id": "c07ee01f-60c2-4492-8d22-6aa60a308b4f",
   "metadata": {},
   "outputs": [],
   "source": [
    "print(S_rqae)"
   ]
  },
  {
   "cell_type": "code",
   "execution_count": null,
   "id": "b29f2100",
   "metadata": {},
   "outputs": [],
   "source": [
    "print('Integral in first domain: {}'.format(sin_integral(a,b)))\n",
    "print(\"Estimated integral using CQPEAE: {}\".format(S_rqae[\"ae\"][0]))\n",
    "print(\"Is it the integral between the bound limits of the estimator: {}\".format(\n",
    "    (sin_integral(a,b) < S_rqae['ae_u'])[0] & (sin_integral(a,b) > S_rqae['ae_l'])[0]\n",
    "))"
   ]
  },
  {
   "cell_type": "markdown",
   "id": "f3891ada",
   "metadata": {},
   "source": [
    "### 2.7.Amplitude Estimation integration (q_solve_integral function).\n",
    "\n",
    "In the other subsections of section 2, the complete workflow for **AE BTC** was described in detail. Additionally, it was explained which part of the library deals with each step of the workflow. The *q_solve_integral* function from *QQuantLib/finance/quantum_integration* gathers all these parts of the library for solving in a transparent way the proposed integrals using **AE** algorithms dealing with the post-processing part for giving the integral estimation.\n",
    "\n",
    "The *q_solve_integral* function was developed in the framework of the **WP 5** of the **NEASQC** project for the computation of expected values using **AE** algorithms. Depending on the inputs, this function can be used for computing the bare integrals mandatory for the **BTC** implementation. The input is a Python dictionary and for solving bare integrals following inputs should be provided:\n",
    "\n",
    "* *array_function*: numpy array with the desired array function for Riemann sum\n",
    "* *array_probability*:  numpy array with the probability distribution for computation of expected values. In our case, this will be None.\n",
    "* *encoding*: int for selecting the encoding. In our case, It will be 2.\n",
    "\n",
    "The other keys of the input dictionary are for selecting and configuring the **AE** algorithm (and are the same that for **AE** class).\n",
    "\n",
    "The outputs of the *q_solve_integral* function are:\n",
    "* ae_estimation: pandas DataFrame with the desired integral computation and the upper and lower limits if applied.\n",
    "* solver_ae: object based on the AE class\n",
    "\n",
    "The *q_solve_integral* returns directly the integral of the input function directly. So the returned will be: $2^{n} \\sqrt{\\mathbf{P}[|\\Psi_0\\rangle]}$ (or the $2^{n} \\mathbf{P}[|\\Psi_0\\rangle]$ for the **RQAE** algorithm)\n",
    "\n",
    "\n",
    "**BE AWARE!!**\n",
    "\n",
    "This is why we kept the  $2^n$ in the integral computation, for taking advance of the implemented integral in the *q_solve_integral* function!!\n",
    "\n",
    "$$\n",
    "\\tilde{S}_{[a,b]} =   \\left\\{\n",
    "\\begin{array}{ll}\n",
    "      \\frac{\\max(f_{x_i}) (b-a)}{2^n} \\left(2^{n} \\sqrt{\\mathbf{P}[|\\Psi_0\\rangle]}\\right) & For \\; probability \\; measurements \\\\\n",
    "      \\frac{\\max(f_{x_i}) (b-a)}{2^n} \\left(2^{n} \\mathbf{P}[|\\Psi_0\\rangle]\\right) & For \\; amplitude \\; measurements \\\\\n",
    "\\end{array} \n",
    "\\right.\n",
    "$$"
   ]
  },
  {
   "cell_type": "code",
   "execution_count": null,
   "id": "868865f1",
   "metadata": {},
   "outputs": [],
   "source": [
    "from QQuantLib.finance.quantum_integration import q_solve_integral"
   ]
  },
  {
   "cell_type": "code",
   "execution_count": null,
   "id": "ca9d8a30",
   "metadata": {},
   "outputs": [],
   "source": [
    "#AE base configuration dictionary\n",
    "ae_dictionary = {\n",
    "    #QPU\n",
    "    'qpu': qpu,\n",
    "    #Multi controlled decomposition\n",
    "    'mcz_qlm': False, \n",
    "    \n",
    "    #shots\n",
    "    'shots': None,\n",
    "    \n",
    "    #MLAE\n",
    "    'schedule': [\n",
    "        [],\n",
    "        []\n",
    "    ],\n",
    "    'delta' : None,\n",
    "    'ns' : None,\n",
    "    \n",
    "    #CQPEAE\n",
    "    'auxiliar_qbits_number': None,\n",
    "    #IQPEAE\n",
    "    'cbits_number': None,\n",
    "    #IQAE & RQAQE\n",
    "    'epsilon': None,\n",
    "    #IQAE\n",
    "    'alpha': None,\n",
    "    #RQAE\n",
    "    'gamma': None,\n",
    "    'q': None\n",
    "}\n",
    "#IQAE configuration\n",
    "ae_dictionary.update({\n",
    "    'ae_type': 'IQAE',\n",
    "    'epsilon' : 0.001,\n",
    "    'alpha': 0.05\n",
    "})\n",
    "\n",
    "encoding_dict = {\n",
    "    \"array_function\" : f_norm_x,\n",
    "    \"array_probability\" : None,\n",
    "    \"encoding\" : 2    \n",
    "}\n",
    "\n",
    "ae_dictionary.update(encoding_dict)"
   ]
  },
  {
   "cell_type": "code",
   "execution_count": null,
   "id": "99792f3d",
   "metadata": {},
   "outputs": [],
   "source": [
    "solution, solver_object = q_solve_integral(**ae_dictionary)\n",
    "#Integral of the input array is returned so only normalization has to be taken into account\n",
    "S_iqae = normalization*solution*(b-a)/2**n"
   ]
  },
  {
   "cell_type": "code",
   "execution_count": null,
   "id": "e3f374ef",
   "metadata": {},
   "outputs": [],
   "source": [
    "S_iqae"
   ]
  },
  {
   "cell_type": "code",
   "execution_count": null,
   "id": "bebd04a9",
   "metadata": {},
   "outputs": [],
   "source": [
    "print(\"Is it the integral between the bound limits of the estimator: {}\".format(\n",
    "    (sin_integral(a,b) < S_iqae['ae_u'])[0] & (sin_integral(a,b) > S_iqae['ae_l'])[0]\n",
    "))"
   ]
  },
  {
   "cell_type": "markdown",
   "id": "4ea9a2d5",
   "metadata": {},
   "source": [
    "When using the **RQAE** algorithm *q_solve_integral* deals with the internal normalisations and the integral of the input array is returned in an transparent way."
   ]
  },
  {
   "cell_type": "code",
   "execution_count": null,
   "id": "cad85df4",
   "metadata": {},
   "outputs": [],
   "source": [
    "#AE base configuration dictionary\n",
    "ae_dictionary = {\n",
    "    #QPU\n",
    "    'qpu': qpu,\n",
    "    #Multi controlled decomposition\n",
    "    'mcz_qlm': False, \n",
    "    \n",
    "    #shots\n",
    "    'shots': None,\n",
    "    \n",
    "    #MLAE\n",
    "    'schedule': [\n",
    "        [],\n",
    "        []\n",
    "    ],\n",
    "    'delta' : None,\n",
    "    'ns' : None,\n",
    "    \n",
    "    #CQPEAE\n",
    "    'auxiliar_qbits_number': None,\n",
    "    #IQPEAE\n",
    "    'cbits_number': None,\n",
    "    #IQAE & RQAQE\n",
    "    'epsilon': None,\n",
    "    #IQAE\n",
    "    'alpha': None,\n",
    "    #RQAE\n",
    "    'gamma': None,\n",
    "    'q': None\n",
    "}\n",
    "#IQAE configuration\n",
    "ae_dictionary.update({\n",
    "    'ae_type': 'RQAE',\n",
    "    'epsilon' : 0.001,\n",
    "    'gamma': 0.05,\n",
    "    'q' : 1.2\n",
    "})\n",
    "\n",
    "encoding_dict = {\n",
    "    \"array_function\" : f_norm_x,\n",
    "    \"array_probability\" : None,\n",
    "    \"encoding\" : 2    \n",
    "}\n",
    "\n",
    "ae_dictionary.update(encoding_dict)"
   ]
  },
  {
   "cell_type": "code",
   "execution_count": null,
   "id": "ac004a01",
   "metadata": {},
   "outputs": [],
   "source": [
    "solution, solver_object = q_solve_integral(**ae_dictionary)\n",
    "#Integral of the input array is returned so only normalization has to be taken into account\n",
    "S_rqae = normalization*solution*(b-a)/2**n"
   ]
  },
  {
   "cell_type": "code",
   "execution_count": null,
   "id": "c778e480",
   "metadata": {},
   "outputs": [],
   "source": [
    "S_rqae"
   ]
  },
  {
   "cell_type": "code",
   "execution_count": null,
   "id": "c6be726d",
   "metadata": {},
   "outputs": [],
   "source": [
    "print(\"Is it the integral between the bound limits of the estimator: {}\".format(\n",
    "    (sin_integral(a,b) < S_rqae['ae_u'])[0] & (sin_integral(a,b) > S_rqae['ae_l'])[0]\n",
    "))"
   ]
  },
  {
   "cell_type": "markdown",
   "id": "9c1a0dd0",
   "metadata": {},
   "source": [
    "## 3. Getting the metrics\n",
    "\n",
    "Once the amplitude estimator of the integral, $\\tilde{S}$, is obtained following metrics should be  computed:\n",
    "\n",
    "* *Integral Absolute error* between the ae estimator and the Riemann sum of the integral to compute $(1)$: $\\epsilon = |\\tilde{S} - S_{[a,b]}|$\n",
    "\n",
    "* *Oracle calls*: total number of calls of the operator $\\mathbf{A}$ (the number of shots should be taken into account in this calculation).\n",
    "\n",
    "* *Elapsed time*:The complete time for getting $\\tilde{S}$. This time will include all the complete steps this is (it is not necessary have times for each individual step):\n",
    "    * Discretization time\n",
    "    * Creation of operator $\\mathbf{A}$\n",
    "    * Creation of the Grover-like operator: $\\mathbf{G}$\n",
    "    * Execution of the *amplitude Estimation* algorithm\n",
    "    * Post-processing execution\n",
    "    * Metrics calculation."
   ]
  },
  {
   "cell_type": "markdown",
   "id": "4502a71d-9b72-43b1-8481-5bc0499da133",
   "metadata": {},
   "source": [
    "## 4. AE integration Workflow summary\n",
    "\n",
    "We have all the pieces needed to do a complete integration using **AE** algorithms. Now we summarize the procedure:\n",
    "\n",
    "1. Execute the following steps for each one of the 2 integration described intervals in Section 1\n",
    "    1. Execute the following steps from n = 4 to the maximum number of qubits. For each $n$ execute the following steps:\n",
    "        1. Create the domain discretization (sub-section 2.1)\n",
    "        2. Create the array with the corresponding sine function discretization (sub-section 2.2)\n",
    "        3. Compute normalization of the array (sub-section 2.3)\n",
    "        4. Create the $\\mathbf{A}$ oracle operator for encoding the array (see sub-section 2.4)\n",
    "        5. Create the corresponding Grover-like operator, $\\mathbf{G}(\\mathbf{A(f_{x_i})})$, from  $\\mathbf{A}$ (see section 2.5.1)\n",
    "        6. Execute the tested *amplitude estimation* algorithm properly configured using the operators $\\mathbf{G}(\\mathbf{A(f_{x_i})})$, and $\\mathbf{A}$ (see section 2.5.2)\n",
    "        7. With the *amplitude estimation* algorithm result compute the integral (see section 2.6)\n",
    "        8. Compute the desired metrics (see section 3).\n",
    "\n",
    "For doing this complete workflow the *sine_integral* function from *AmplitudeEstimation/ae_sine_integral* was programmed. The inputs for this function are:\n",
    "\n",
    "* *n_qbits*: number of qubits for interval discretization.\n",
    "* *interval*: int for selecting the integration interval.\n",
    "* *ae_dictionary*: python dictionary with the complete configuration of the *Amplitude Estimation* algorithm.\n",
    "\n",
    "The return is a pandas DataFrames with the complete information of the computation."
   ]
  },
  {
   "cell_type": "code",
   "execution_count": null,
   "id": "3a802720",
   "metadata": {},
   "outputs": [],
   "source": [
    "#AE base configuration dictionary\n",
    "ae_dictionary = {\n",
    "    #QPU\n",
    "    'qpu': qpu,\n",
    "    #Multi controlled decomposition\n",
    "    'mcz_qlm': False, \n",
    "    \n",
    "    #shots\n",
    "    'shots': None,\n",
    "    \n",
    "    #MLAE\n",
    "    'schedule': [\n",
    "        [],\n",
    "        []\n",
    "    ],\n",
    "    'delta' : None,\n",
    "    'ns' : None,\n",
    "    \n",
    "    #CQPEAE\n",
    "    'auxiliar_qbits_number': None,\n",
    "    #IQPEAE\n",
    "    'cbits_number': None,\n",
    "    #IQAE & RQAQE\n",
    "    'epsilon': None,\n",
    "    #IQAE\n",
    "    'alpha': None,\n",
    "    #RQAE\n",
    "    'gamma': None,\n",
    "    'q': None\n",
    "}\n",
    "#IQAE configuration\n",
    "ae_dictionary.update({\n",
    "    'ae_type': 'IQAE',\n",
    "    'epsilon' : 0.001,\n",
    "    'alpha': 0.05\n",
    "})"
   ]
  },
  {
   "cell_type": "code",
   "execution_count": null,
   "id": "2b30ff7e",
   "metadata": {
    "scrolled": true
   },
   "outputs": [],
   "source": [
    "from ae_sine_integral import sine_integral"
   ]
  },
  {
   "cell_type": "markdown",
   "id": "6fac8288-f555-49fd-829a-5c455cd4e641",
   "metadata": {},
   "source": [
    "### Integration for the first interval "
   ]
  },
  {
   "cell_type": "code",
   "execution_count": null,
   "id": "170d2a4b",
   "metadata": {},
   "outputs": [],
   "source": [
    "#first interval integral benchmarking\n",
    "pdf = sine_integral(4, 0, ae_dictionary)"
   ]
  },
  {
   "cell_type": "code",
   "execution_count": null,
   "id": "b6577db4-a3fa-472d-b460-07ce1b6694f2",
   "metadata": {},
   "outputs": [],
   "source": [
    "pdf.columns"
   ]
  },
  {
   "cell_type": "code",
   "execution_count": null,
   "id": "cb94f6da",
   "metadata": {
    "scrolled": true
   },
   "outputs": [],
   "source": [
    "pdf[['integral_ae', 'integral_ae_l', 'integral_ae_u', 'exact_integral', 'IntegralAbsoluteError']]"
   ]
  },
  {
   "cell_type": "markdown",
   "id": "d2a99f0b-1630-4ba6-acdc-d8b37361f011",
   "metadata": {},
   "source": [
    "### Integration for the second interval "
   ]
  },
  {
   "cell_type": "code",
   "execution_count": null,
   "id": "cf95c732",
   "metadata": {},
   "outputs": [],
   "source": [
    "#second integral is negative so the any method except RQAE will fail\n",
    "pdf = sine_integral(4, 1, ae_dictionary)"
   ]
  },
  {
   "cell_type": "code",
   "execution_count": null,
   "id": "cd7df328",
   "metadata": {
    "scrolled": true
   },
   "outputs": [],
   "source": [
    "pdf[['integral_ae', 'integral_ae_l', 'integral_ae_u', 'exact_integral', 'IntegralAbsoluteError']]"
   ]
  },
  {
   "cell_type": "code",
   "execution_count": null,
   "id": "3afd06ee",
   "metadata": {},
   "outputs": [],
   "source": [
    "# Only RQAE can deal with negative integrals\n",
    "#RQAE configuration\n",
    "ae_dictionary.update({\n",
    "    'ae_type': 'RQAE',\n",
    "    'epsilon' : 0.001,\n",
    "    'gamma': 0.05,\n",
    "    'q' : 2.0,\n",
    "    'alpha': None\n",
    "})\n",
    "#second integral is negative\n",
    "pdf = sine_integral(4, 1, ae_dictionary)"
   ]
  },
  {
   "cell_type": "code",
   "execution_count": null,
   "id": "b9be8c50",
   "metadata": {},
   "outputs": [],
   "source": [
    "pdf[['integral_ae', 'integral_ae_l', 'integral_ae_u', 'exact_integral', 'IntegralAbsoluteError']]"
   ]
  },
  {
   "cell_type": "markdown",
   "id": "9e18b442-1ce0-4aa0-8e5d-a3d385ec8720",
   "metadata": {},
   "source": [
    "### Command line execution and json configuration files.\n",
    "\n",
    "The  **BTC_02_AE/ae_sine_integral** can be executed from the command line to run a complete integration using **AE** algorithms. A help of the input of the program can be obtained by using:\n",
    "\n",
    "    python ae_sine_integral.py -h\n",
    "\n",
    "Examples: \n",
    "\n",
    "For executing a 4 qubits discretization domain, computing the first interval integration using **MCAE** algorithm and the *c* QPU*:\n",
    "\n",
    "    python ae_sine_integral.py -n_qbits 4 -interval 0 -repetitions 1 -ae_type MCAE -qpu --exe\n",
    "\n",
    "For executing a 6 qubits discretization domain, computing the second interval integration using **RQAE** algorithm and the *c* QPU*:\n",
    "\n",
    "    python ae_sine_integral.py -n_qbits 6 -interval 1 -repetitions 1 -ae_type RQAE -qpu c --exe\n",
    "\n",
    "For configuring the **AE** algorithms you can edit the different JSON files under the folder **BTC_02_AE/jsons**. For each algorithm exists a JSON file:\n",
    "* integral_cqpeae_configuration.json: configure **CQPEAE**\n",
    "* integral_iqpeae_configuration.json: configure **IQPEAE**\n",
    "* integral_mlae_configuration.json: configure **MLAE**\r",
    "* integral_iqae_configuration.jso: configure **IQAE**\n",
    "*  integral_rqae_configuration.jso: configure **RQAE**\n",
    "* integral_mcae_configuration.json: configure **MCAE**"
   ]
  },
  {
   "cell_type": "code",
   "execution_count": null,
   "id": "ac9d6c1c-fb7a-497f-9524-074bd0032879",
   "metadata": {},
   "outputs": [],
   "source": []
  }
 ],
 "metadata": {
  "kernelspec": {
   "display_name": "Python [conda env:tnbs2c] *",
   "language": "python",
   "name": "conda-env-tnbs2c-py"
  },
  "language_info": {
   "codemirror_mode": {
    "name": "ipython",
    "version": 3
   },
   "file_extension": ".py",
   "mimetype": "text/x-python",
   "name": "python",
   "nbconvert_exporter": "python",
   "pygments_lexer": "ipython3",
   "version": "3.11.7"
  }
 },
 "nbformat": 4,
 "nbformat_minor": 5
}
