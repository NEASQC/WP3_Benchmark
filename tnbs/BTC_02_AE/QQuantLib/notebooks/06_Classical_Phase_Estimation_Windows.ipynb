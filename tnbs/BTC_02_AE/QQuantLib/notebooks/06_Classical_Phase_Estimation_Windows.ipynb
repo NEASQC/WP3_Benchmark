{
 "cells": [
  {
   "cell_type": "markdown",
   "id": "91740961",
   "metadata": {},
   "source": [
    "# Classical Phase Estimation (with QFT). Windows Initialization.\n",
    "\n",
    "$$\\newcommand{\\braket}[2]{\\left\\langle{#1}\\middle|{#2}\\right\\rangle}$$\n",
    "$$\\newcommand{\\ket}[1]{\\left|{#1}\\right\\rangle}$$\n",
    "$$\\newcommand{\\bra}[1]{\\left\\langle{#1}\\right|}$$"
   ]
  },
  {
   "cell_type": "markdown",
   "id": "c4f4d8f0",
   "metadata": {},
   "source": [
    "This notebook explains how to use Windows initialization with classical Quantum Phase Estimation to enhance the probability of measuring the eigenvalues.\n",
    "\n",
    "This notebook uses the modules **QQuantLib/PE/windows_pe.py** and **QQuantLib/PE/classical_pe.py**.\n",
    "\n",
    "The present notebook is based on the following references:\n",
    "\n",
    "*  *Gumaro Rendon, Taku Izubuchi and Yuta Kikuchi* (2021). Effects of Cosine Tapering Window on Quantum Phase Estimation. Phys. Rev. D **106**, https://link.aps.org/doi/10.1103/PhysRevD.106.034503\n",
    "* *Sean Greenaway, William Pol and Sukin Sim* (2024). A case study against QSVT: assessment of quantum phase estimation improved by signal processing techniques. arXiv: https://arxiv.org/abs/2404.01396"
   ]
  },
  {
   "cell_type": "code",
   "execution_count": null,
   "id": "7e06e916",
   "metadata": {},
   "outputs": [],
   "source": [
    "import sys\n",
    "sys.path.append(\"../../\")\n",
    "import numpy as np\n",
    "import pandas as pd\n",
    "import matplotlib.pyplot as plt\n",
    "import qat.lang.AQASM as qlm\n",
    "from QQuantLib.utils.data_extracting import get_results"
   ]
  },
  {
   "cell_type": "code",
   "execution_count": null,
   "id": "2699d475",
   "metadata": {},
   "outputs": [],
   "source": [
    "sys.path.append(\"../../../\")\n",
    "from qpu.select_qpu import select_qpu\n",
    "# List with the strings taht should be provided for an ideal QPU\n",
    "ideal_qpus = [\"c\", \"python\", \"linalg\", \"mps\", \"qlmass_linalg\", \"qlmass_mps\"]\n",
    "\n",
    "qpu_config = {\n",
    "    #the following strings can be used:\n",
    "    #\n",
    "    \"qpu_type\": ideal_qpus[0], \n",
    "    # The following keys are used for configuring noisy simulations\n",
    "    \"t_gate_1qb\" : None,\n",
    "    \"t_gate_2qbs\" : None,\n",
    "    \"t_readout\": None,\n",
    "    \"depol_channel\" : {\n",
    "        \"active\": False,\n",
    "        \"error_gate_1qb\" : None,\n",
    "        \"error_gate_2qbs\" : None\n",
    "    },\n",
    "    \"idle\" : {\n",
    "        \"amplitude_damping\": False,\n",
    "        \"dephasing_channel\": False,\n",
    "        \"t1\" : None,\n",
    "        \"t2\" : None\n",
    "    },\n",
    "    \"meas\": {\n",
    "        \"active\":False,\n",
    "        \"readout_error\": None\n",
    "    }\n",
    "}\n",
    "\n",
    "qpu = select_qpu(qpu_config)"
   ]
  },
  {
   "cell_type": "markdown",
   "id": "f7302bed",
   "metadata": {},
   "source": [
    "## 1. Vanilla QPE\n",
    "\n",
    "Given a unitary operator $\\mathcal{Q}$ acting on an initial eigenestate $\\ket{\\Psi}$ such that:\n",
    "\n",
    "$$\\mathcal{Q} \\ket{\\Psi} = e^{2\\pi i\\theta}\\ket{\\Psi}$$\n",
    "\n",
    "The *Quantum Phase Estimation* algorithm, **QPE**,  allows us to estimate the eigenvalue $\\theta$.\n",
    "\n",
    "If the **QPE** algorithm is performed using $m$ auxiliary qubits the probability of measuring a state $\\ket{J}$ on them is given by:\n",
    "\n",
    "$$\\mathbf{P}_{\\ket{J}} = \\frac{1}{2^{2m}}\\frac{\\sin^2\\left( \\pi \\left(J-2^m \\theta\\right)\\right)}{\\sin^2\\left(\\frac{ \\pi}{2^m} \\left(J-2^m \\theta\\right)\\right)}$$\n",
    "\n",
    "Where $J={0, 1, \\cdots, 2^m-1}$.\n",
    "\n",
    "We can plot this probability function for $x=\\pi \\left(J-2^m \\theta\\right)$:"
   ]
  },
  {
   "cell_type": "code",
   "execution_count": null,
   "id": "97e3276e",
   "metadata": {},
   "outputs": [],
   "source": [
    "m = 4\n",
    "domain = np.linspace(0, np.pi, 1000)\n",
    "p_x = (np.sin(domain))**2 /(2**(2*m) *  (np.sin(domain/(2**m)))**2)\n",
    "\n",
    "plt.plot(domain, p_x)\n",
    "plt.ylabel(\"Probability\")\n",
    "plt.xlabel(r\"$x=\\pi \\left(J-2^m \\theta\\right)$\")"
   ]
  },
  {
   "cell_type": "markdown",
   "id": "dca334fc",
   "metadata": {},
   "source": [
    "As can be seen, when $x=0 \\rightarrow J \\sim 2^m\\theta$ the probability is very high and decreases fast when $x \\neq 0$.\n",
    "\n",
    "In a quantum device, the $m$ measured auxiliary qubits are converted to a discrete value so we can only estimate $\\theta$ with precision equal to $\\frac{1}{2^m}$.\n",
    "\n",
    "So 2 different cases appear here:\n",
    "1. The $\\theta$ eigenvalue has an exact representation using the $m$ qubits\n",
    "2. The $\\theta$ eigenvalue has not an exact representation using the $m$ qubits"
   ]
  },
  {
   "cell_type": "markdown",
   "id": "7f5c59fe",
   "metadata": {},
   "source": [
    "### 1.1 Exact $\\theta$\n",
    "\n",
    "In the case that $\\theta$ has an exact representation using the $m$ auxiliary qubits then the **QPE** algorithm will have probability of 1 of returning a state $\\ket{J}$ such that $J = 2^m \\theta$ \n"
   ]
  },
  {
   "cell_type": "code",
   "execution_count": null,
   "id": "360636d2",
   "metadata": {},
   "outputs": [],
   "source": [
    "# Set Auxiliary qubits number\n",
    "m = 4\n",
    "# Posible integers\n",
    "J_int = np.array(range(2**m))\n",
    "J = np.linspace(0, 2**m, 100)\n",
    "# Random selection of one of the posible integers\n",
    "j_theta = np.random.randint(0, 2**m)\n",
    "# Build an exact theta\n",
    "theta =  j_theta / 2**m\n",
    "print(\"j_theta= {} , theta = {}\".format(j_theta, theta))\n",
    "\n",
    "#Theoretical Probability with floats\n",
    "x = np.pi * (J - 2**m * theta)\n",
    "p_j = np.sin(x) ** 2 / (2 ** (2 * m) * np.sin(x / (2 ** m)) ** 2)\n",
    "\n",
    "#Discrete probability in an ideal Quantum Device:\n",
    "\n",
    "x_int = np.pi * (J_int - 2**m * theta)\n",
    "p_j_int = np.sin(x_int) ** 2 / (2 ** (2 * m) * np.sin(x_int / (2 ** m)) ** 2)\n",
    "\n",
    "plt.plot(J_int, p_j_int, 'o')\n",
    "plt.plot(J, p_j, '-')\n",
    "#plt.yscale(\"log\")\n",
    "plt.legend([\"Quantum Device Output\", \"Theoretical Probability\"])\n",
    "plt.ylabel(\"Probability\")\n",
    "plt.xlabel(\"Measured J\")"
   ]
  },
  {
   "cell_type": "code",
   "execution_count": null,
   "id": "569c058e",
   "metadata": {},
   "outputs": [],
   "source": [
    "# In this case is a NaN because the numerical probability is infinite!\n",
    "J_int[np.isnan(p_j_int)]"
   ]
  },
  {
   "cell_type": "markdown",
   "id": "6bca166d",
   "metadata": {},
   "source": [
    "### 1.2 Non Exact $\\theta$\n",
    "\n",
    "In the case that $\\theta$ can not be represented using the $m$ auxiliary qubits, **QPE** can always bound the estimations in the following way:\n",
    "\n",
    "$$\\theta \\in \\left[\\theta_j, \\theta_{j+1}\\right]$$\n",
    "\n",
    "where $\\theta_i = \\frac{i}{2^m}$. In this case the precision of the estimation will be: $\\frac{1}{2^m}$\n",
    "\n",
    "The probability of measurement $\\theta_j$ won't be 1 anymore. In fact, the worst case scenario is when $\\theta$ is just in the middle of $\\theta_j$ and $\\theta_{j+1}$ in this case the probability of measure $\\theta_j$ decreases to $\\frac{4}{\\pi^2} \\sim 0.4$"
   ]
  },
  {
   "cell_type": "code",
   "execution_count": null,
   "id": "610ff675",
   "metadata": {},
   "outputs": [],
   "source": [
    "m = 4\n",
    "# Posible integers\n",
    "int_j = np.array(range(2 ** m))\n",
    "# Random selection of one of the posible integers\n",
    "theta_ = np.random.randint(0, 2**m)\n",
    "# Put theta in the midle of the interval \n",
    "shift = 0.5\n",
    "theta_half = (theta_ + shift) / 2 ** m\n",
    "# Theoretical probs\n",
    "float_j = np.linspace(0, 2 ** m, 2 ** m * 10)\n",
    "domain_float = (float_j - 2 ** m * theta_half)\n",
    "prob_float_j = np.sin(np.pi * domain_float) ** 2 / (2 ** (2 * m) * np.sin(np.pi * domain_float / (2 ** m)) ** 2)\n",
    "# Quantum Device probabilities\n",
    "domain_x = (int_j - 2**m * theta_half)\n",
    "prob_int_j = np.sin(np.pi * domain_x) ** 2 / (2 ** (2 * m) * (np.sin(np.pi * domain_x / (2 ** m))) ** 2)\n",
    "\n",
    "plt.plot(int_j, prob_int_j, 'o')\n",
    "plt.plot(float_j, prob_float_j, '-')\n",
    "edge = 4 \n",
    "#plt.xlim(2 ** m * theta_half - edge, 2 ** m * theta_half + edge)\n",
    "plt.axvline(2 ** m * theta_half, color='g')\n",
    "plt.xlabel(\"J\", fontsize=14)\n",
    "plt.ylabel(r\"$P_{|J\\rangle}$\", fontsize=14)\n",
    "plt.legend([\"Measurement\", \"Theoretical\"])\n",
    "plt.title(\"J theoric = {}\".format(2 ** m *theta_half))"
   ]
  },
  {
   "cell_type": "markdown",
   "id": "45d7a967",
   "metadata": {},
   "source": [
    "The main question is: \n",
    "\n",
    "**Can we increase this measurement probability when $\\theta$ is not exactly represented?**\n",
    "\n",
    "Indeed we can, using window functions over the $m$ auxiliary qubits of the **QPE** algorithm."
   ]
  },
  {
   "cell_type": "markdown",
   "id": "eb5b7598",
   "metadata": {},
   "source": [
    "## 2. Boosting Probability using window functions\n",
    "\n",
    "\n",
    "In the **QPE** algorithm the $m$ auxiliary qubits are initialized with **Haddamard** gates (see *01_AmplitudeEstimationKernel.ipynb*). So, before the controlled applications gates, we have an equiprobable superposition of states. The window function techniques apply to these qubits a different initialization, so the probability of measuring a $\\theta_m$ can be boosted.\n",
    "\n",
    "\n",
    "### 2.1 QPE with cosine window function. Theoric Probability.\n",
    "\n",
    "One possible initialization for the $m$ auxiliary qubits is a cosine Window function. In this case the superposition of the different states is not equiprobable and will follow a cosine distribution (so $P_{\\ket{0}} = \\frac{\\sqrt{2} \\cos(0)}{\\sqrt{2^m}}$, $P_{\\ket{1}} =\\frac{\\sqrt{2} \\cos(\\frac{\\pi 1}{2^m})}{\\sqrt{2^m}}$ and so on).\n",
    "\n",
    "In the case of a Cosine window initialization the **QPE** algorithm provides a probability of measuring the state $\\ket{J}$ in the auxiliary qubits that is given by:\n",
    "\n",
    "$$\\mathbf{P}^{cos}_{\\ket{J}} = \\frac{2}{2^{2m}} \\sum_{x=-2^{m-1}}^{2^{m-1}-1}\n",
    "\\sum_{y=-2^{m-1}}^{2^{m-1}-1} \\cos\\left(\\frac{\\pi x}{2^m}\\right)\\cos\\left(\\frac{\\pi y}{2^m}\\right)\\cos\\left(\\frac{2 \\pi (J-2^m \\theta)(x-y)}{2^m}\\right)$$\n",
    "\n",
    "We can compare this probability with the obtained with the classical one when the $\\theta$ is in the middle of $\\theta_m$ and $\\theta_{m+1}$:"
   ]
  },
  {
   "cell_type": "code",
   "execution_count": null,
   "id": "2244eaca",
   "metadata": {},
   "outputs": [],
   "source": [
    "def qpe_cosine(m, theta):\n",
    "    iterator = range(-2**(m-1), 2**(m-1)-1, 1)\n",
    "    final = []\n",
    "    for q in iterator:\n",
    "        suma = []\n",
    "        for x in iterator:\n",
    "            for y in iterator:\n",
    "                a = np.cos(np.pi * x / 2**m) * np.cos(np.pi * y / 2**m)\n",
    "                \n",
    "                \n",
    "                b = np.cos(2*np.pi*(q-2**m *theta) * (x-y) / 2**m)\n",
    "                suma.append(a*b)\n",
    "        final.append(np.sum(suma))\n",
    "    prob = np.array(final) *2 / (2**(2*m))\n",
    "    int_neg = np.array(iterator)\n",
    "    inte_positive = np.where(int_neg<0, int_neg+2**m, int_neg)\n",
    "    pdf = pd.DataFrame([prob, int_neg, inte_positive]).T\n",
    "    pdf.rename(columns={0:\"Prob\", 1: \"NegInt\", 2:\"PosInt\"}, inplace=True)\n",
    "    return pdf"
   ]
  },
  {
   "cell_type": "code",
   "execution_count": null,
   "id": "75d2f5e2",
   "metadata": {},
   "outputs": [],
   "source": [
    "y=qpe_cosine(m, theta_half)\n",
    "plt.plot(float_j, prob_float_j, '-')\n",
    "plt.plot(int_j, prob_int_j, 'o')\n",
    "plt.plot(y[\"PosInt\"], y[\"Prob\"], 'o')\n",
    "plt.legend([\"Theoric QPE\", \"QPE Haddamard\", \"QPE Cosine\"])\n",
    "plt.ylabel(\"Probabilidad\")\n",
    "plt.xlabel(\"Integer\")\n",
    "plt.title(r\"$\\theta$ in the middle of the interval. Number of auxiliary qubits: {}. $\\theta =$ {}\".format(m, theta_half))"
   ]
  },
  {
   "cell_type": "markdown",
   "id": "efcc06ae",
   "metadata": {},
   "source": [
    "As can be seen, the probability of obtaining $\\theta_m$, in this worst-case scenario, has increased from 0.4 (for Haddamard **QPE**) to 0.5 (for Cosine **QPE**)."
   ]
  },
  {
   "cell_type": "markdown",
   "id": "0d109d82",
   "metadata": {},
   "source": [
    "### 2.2 Succes Probability and Failure Probability Definitions.\n",
    "\n",
    "The **success probability** is defined as the sum of the probabilities corresponding to the 2 nearest fixed points to $\\theta$. So, for a **QPE** with $m$ auxiliary qubits then \n",
    "\n",
    "$$\\theta \\in \\left[\\theta^m_j, \\theta^m_{j+1}\\right]$$ with $j=\\{0, 1, 2,\\cdots, 2^m-1\\}$\n",
    "\n",
    "Then \n",
    "\n",
    "$$P_{succes} = P(\\theta^m_j) + P(\\theta^m_{j+1})$$\n",
    "\n",
    "The **failure probability** will be defined as:\n",
    "\n",
    "$$P_{failure} = 1- P_{succes}$$\n",
    "\n",
    "\n",
    "For a $m$ auxiliary qubits **QPE** if we perform a $m$-bit estimation of $\\theta$, $\\theta^{m,*}$, the probability of $|\\theta^{m,*}- \\theta| \\leq \\frac{1}{2^m}$ is given by $P_{succes}$:\n",
    "\n",
    "$$P_{succes} = P(\\theta^m_j) + P(\\theta^m_{j+1}) = P(|\\theta^{m,*}- \\theta| \\leq \\frac{1}{2^m})$$\n",
    "\n",
    "\n",
    "In the case of classical **QPE** (this is **Haddamard** initialization) this **success probability** is given by: \n",
    "\n",
    "$$P_{succes} > \\frac{8}{\\pi^2} \\sim 0.81$$\n",
    "\n",
    "\n",
    "### 2.3 Boosting Probability using additional qubits.\n",
    "\n",
    "One way of boosting this **success probability** for $m$ auxiliary qubits is using $p$ additional qubits so that the number of auxiliary qubits will be then $m+p$. Then when using the **QPE** algorithm, instead of creating a measurement histogram of $2 ^{m+p}$ bins, a histogram of $2^m$ bins will be built and the **success probability** of obtaining $|\\theta^{m,*}- \\theta| \\leq \\frac{1}{2^m}$ will be boosted over the original limit.\n",
    "\n",
    "For the **QPE** if we want a $P_{succes} = 1 - \\delta$ the theory says that the number of additional qubits required depends on the window function:\n",
    "\n",
    "1. Haddamard window function: $p \\sim \\log\\left(\\frac{1}{\\delta}\\right)$.\n",
    "2. Cosine and Sine window functions: $p \\sim \\log\\left(\\frac{1}{\\delta^{\\frac{1}{3}}}\\right)$\n",
    "3. Kaiser window functions: $p \\sim \\log\\log\\left(\\frac{1}{\\delta}\\right)$\n",
    "\n",
    "\n",
    "The **CQPE** class from **QQuantLib/PE/classical_qpe** module allows the user to change the auxiliary qubit initialization for dealing with window functions. In the rest of the notebook, we explain how to provide windows functions to the **CQPE** class.\n"
   ]
  },
  {
   "cell_type": "markdown",
   "id": "ba35f866",
   "metadata": {},
   "source": [
    "## 3. Pre-implemented Window functions\n",
    "\n",
    "Under the module **QQuantLib/PE/windows_pe** we have implemented three different windows functions:\n",
    "\n",
    "1. Cosine window\n",
    "2. Sine window\n",
    "3. Kaiser window\n",
    "\n",
    "Present section explains how to use them."
   ]
  },
  {
   "cell_type": "markdown",
   "id": "69f2156b",
   "metadata": {},
   "source": [
    "### 3.1 Cosine Window function.\n",
    "\n",
    "When using a **Cosine Window** over $m$ qubits the state at the end will be:\n",
    "\n",
    "$$\\sum_{x=-2^{m-1}}^{2^{m-1}-1} \\frac{\\sqrt{2} \\cos\\left( \\frac{\\pi x}{2 ^m}\\right)}{\\sqrt{2^m}}\\ket{x}$$\n",
    "\n",
    "The **cosine_window** from **QQuantLib.PE.windows_pe** function creates an **AbstractGate** that implements this functionality into a quantum circuit given an input number of qubits."
   ]
  },
  {
   "cell_type": "code",
   "execution_count": null,
   "id": "922bccb1",
   "metadata": {},
   "outputs": [],
   "source": [
    "from QQuantLib.PE.windows_pe import cosine_window"
   ]
  },
  {
   "cell_type": "code",
   "execution_count": null,
   "id": "722a37da",
   "metadata": {},
   "outputs": [],
   "source": [
    "auxiliar_qbits_number = 6\n",
    "cos_win = cosine_window(auxiliar_qbits_number)"
   ]
  },
  {
   "cell_type": "code",
   "execution_count": null,
   "id": "aa5d3ddd",
   "metadata": {},
   "outputs": [],
   "source": [
    "#Quantum circuit implementation for cosine window\n",
    "%qatdisplay cos_win --svg --depth 1"
   ]
  },
  {
   "cell_type": "markdown",
   "id": "714fb24b",
   "metadata": {},
   "source": [
    "We can check that the cosine window is implemeted properly"
   ]
  },
  {
   "cell_type": "code",
   "execution_count": null,
   "id": "23349dac",
   "metadata": {},
   "outputs": [],
   "source": [
    "def cosine_array(m):\n",
    "    domain = np.array(range(2**m))\n",
    "    y = np.cos(np.pi * domain / len(domain))\n",
    "    y = y / np.sqrt(2**(m-1))\n",
    "    return y ** 2"
   ]
  },
  {
   "cell_type": "code",
   "execution_count": null,
   "id": "50d31455",
   "metadata": {},
   "outputs": [],
   "source": [
    "#theoric behaviour\n",
    "array_cosine = cosine_array(auxiliar_qbits_number)\n",
    "#quantum circuit behaviour\n",
    "results,_,_,_ = get_results(cos_win, linalg_qpu=qpu, complete=True)"
   ]
  },
  {
   "cell_type": "markdown",
   "id": "3f025e5c",
   "metadata": {},
   "source": [
    "#### BE AWARE\n",
    "\n",
    "When using window functions we are going to use the **Int_lsb** field of the output result dataframe as the correct domain!!!\n",
    "\n",
    "#### BE AWARE 2\n",
    "\n",
    "The domain definition of the cosine window state is between $-2^{m-1}$ and $2^{m-1}-1$. In the quantum circuit, the integers will go from $0$ to $2^m-1$. So the following changes can be made:\n",
    "\n",
    "\n",
    "$$\\ket{y}=   \\left\\{\n",
    "\\begin{array}{ll}\n",
    "      \\ket{x=y} & \\left(0 \\leq y  \\leq \\frac{2^m}{2} -1 \\right) \\\\\n",
    "      \\ket{x=y-2^m} & \\left(\\frac{2^m}{2} \\leq y  \\leq 2^m -1 \\right) \\\\\n",
    "\\end{array} \n",
    "\\right.$$\n",
    "\n",
    "with $y \\in \\{0, 1, 2, \\cdots, 2^m-1\\}$"
   ]
  },
  {
   "cell_type": "code",
   "execution_count": null,
   "id": "453bd250",
   "metadata": {},
   "outputs": [],
   "source": [
    "plt.plot(results[\"Int_lsb\"], results[\"Probability\"], 'o')\n",
    "plt.plot(array_cosine)\n",
    "plt.legend([\"Cosine Quantum Circuit\", \"Cosine Theoric\"])"
   ]
  },
  {
   "cell_type": "markdown",
   "id": "265f39f8",
   "metadata": {},
   "source": [
    "### 3.2 Sine Window function.\n",
    "\n",
    "When using a **Sine Window** over $m$ qubits the state at the end will be:\n",
    "\n",
    "$$\\sum_{x=0}^{2^m-1}\n",
    "\\sin\\left(\n",
    "\\frac{\\pi x}{2^m +1}\n",
    "\\right)\n",
    "\\ket{x}\n",
    "$$\n",
    "\n",
    "\n",
    "The **sine_window** from **QQuantLib.PE.windows_pe** function creates an **AbstractGate** that implements this functionality into a quantum circuit given an input number of qubits."
   ]
  },
  {
   "cell_type": "code",
   "execution_count": null,
   "id": "6a262c15",
   "metadata": {},
   "outputs": [],
   "source": [
    "from QQuantLib.PE.windows_pe import sine_window"
   ]
  },
  {
   "cell_type": "code",
   "execution_count": null,
   "id": "272248f9",
   "metadata": {},
   "outputs": [],
   "source": [
    "sin_win = sine_window(auxiliar_qbits_number)\n",
    "#Quantum circuit implementation for sine window\n",
    "%qatdisplay sin_win --svg --depth 1"
   ]
  },
  {
   "cell_type": "markdown",
   "id": "0aef02e6",
   "metadata": {},
   "source": [
    "We can check that the sine window is implemeted properly"
   ]
  },
  {
   "cell_type": "code",
   "execution_count": null,
   "id": "8fcb73ef",
   "metadata": {},
   "outputs": [],
   "source": [
    "def sine_array(m):\n",
    "    domain = np.array(range(2**m))\n",
    "    y = np.sin(np.pi * (domain) / len(domain)) / np.sqrt(2**(m-1))\n",
    "    return y ** 2"
   ]
  },
  {
   "cell_type": "markdown",
   "id": "18b4561e",
   "metadata": {},
   "source": [
    "#### BE AWARE\n",
    "\n",
    "When using window functions we are going to use the **Int_lsb** field of the output result dataframe as the correct domain!!!"
   ]
  },
  {
   "cell_type": "code",
   "execution_count": null,
   "id": "33a80e5c",
   "metadata": {},
   "outputs": [],
   "source": [
    "#theoric behaviour\n",
    "array_sine = sine_array(auxiliar_qbits_number)\n",
    "#quantum circuit behaviour\n",
    "results_sine,_,_,_ = get_results(sin_win, linalg_qpu=qpu, complete=True)"
   ]
  },
  {
   "cell_type": "code",
   "execution_count": null,
   "id": "44be55b8",
   "metadata": {},
   "outputs": [],
   "source": [
    "plt.plot(results_sine[\"Int_lsb\"], results_sine[\"Probability\"], 'o')\n",
    "plt.plot(array_sine)\n",
    "plt.legend([\"Sine Quantum Circuit\", \"Sine Theoric\"])"
   ]
  },
  {
   "cell_type": "markdown",
   "id": "9e611e21",
   "metadata": {},
   "source": [
    "### 3.3 Kaiser Window function.\n",
    "\n",
    "When using a **Kaiser Window** over $m$ qubits the state at the end will be:\n",
    "\n",
    "$$\\sum_{x=-2^{m-1}}^{2^{m-1}}\n",
    "\\frac{1}{2^m}\n",
    "\\frac{I_0 \\left(\\pi \\alpha \\sqrt{1-\\left(x/2^{m-1}\\right)^2} \\right)}{I_0(\\pi\\alpha)} \\ket{x}\n",
    "$$\n",
    "\n",
    "Where $\\alpha$ is an input parameter and $I_0$ is the modified Bessel function of the first kind of order 0.\n",
    "\n",
    "The **kaiser_window** from **QQuantLib.PE.windows_pe** function creates an **AbstractGate** that implements this functionality into a quantum circuit given an input number of qubits and a parameter $\\alpha$.\n",
    "\n",
    "The **kaiser_window**  uses the *load_probability* from **QQuantLib.DL** for loading the corresponding Kaiser probabilities. \n",
    "\n",
    "The **kaiser_array** from **QQuantLib.PE.windows_pe** creates these probabilities. This function returns a pandas DataFrame with the following columns:\n",
    "\n",
    "* **Int_neg**: the domain in positive and negative integers (this is the default domain presented in the formula)\n",
    "* **Prob**: the probability of the Kaiser window function (this is the square of the Amplitudes of the formula properly normalized)\n",
    "* **Int**: the domain but only in positive integers.\n",
    "\n",
    "To move between the completely positive integer domain and the positive and negative integers domain the following transformation must be used:\n",
    "\n",
    "$$\\ket{y}=   \\left\\{\n",
    "\\begin{array}{ll}\n",
    "      \\ket{x=y} & \\left(0 \\leq y  \\leq \\frac{2^m}{2} -1 \\right) \\\\\n",
    "      \\ket{x=y-2^m} & \\left(\\frac{2^m}{2} \\leq y  \\leq 2^m -1 \\right) \\\\\n",
    "\\end{array} \n",
    "\\right.$$\n",
    "\n",
    "with $y \\in \\{0, 1, 2, \\cdots, 2^m-1\\}$\n",
    "\n",
    "So the *Int_neg* column represents the $\\ket{x}$ basis and the *Int* column represents the $\\ket{y}$ basis.\n",
    "\n",
    "**BE AWARE**\n",
    "\n",
    "The order of the pandas DataFrame is given by the *Int* column so **IT IS NOT ORDERED USING THE DEFAULT DOMAIN**"
   ]
  },
  {
   "cell_type": "code",
   "execution_count": null,
   "id": "4f360106",
   "metadata": {},
   "outputs": [],
   "source": [
    "from QQuantLib.PE.windows_pe import kaiser_window, kaiser_array"
   ]
  },
  {
   "cell_type": "markdown",
   "id": "9374851f",
   "metadata": {},
   "source": [
    "First we plot Kaiser function for different $\\alpha$"
   ]
  },
  {
   "cell_type": "code",
   "execution_count": null,
   "id": "75a0ca7d",
   "metadata": {},
   "outputs": [],
   "source": [
    "#Plot the Kaiser probability using the default domain: positve and negative integer one\n",
    "array_kaiser = kaiser_array(auxiliar_qbits_number, 0.001)\n",
    "plt.plot(array_kaiser[\"Int_neg\"], array_kaiser[\"Prob\"], 'o')\n",
    "array_kaiser = kaiser_array(auxiliar_qbits_number, 1)\n",
    "plt.plot(array_kaiser[\"Int_neg\"], array_kaiser[\"Prob\"], 'o')\n",
    "array_kaiser = kaiser_array(auxiliar_qbits_number, 10)\n",
    "plt.plot(array_kaiser[\"Int_neg\"], array_kaiser[\"Prob\"], 'o')\n",
    "plt.legend([r\"$\\alpha=0.001$\", r\"$\\alpha=1$\", r\"$\\alpha=10$\"])"
   ]
  },
  {
   "cell_type": "markdown",
   "id": "d402ad3a",
   "metadata": {},
   "source": [
    "Now we can build the quantum circuit using the *kaiser_window* function. Under the hood this function uses the *kaiser_array* function for building the pandas DataFrame with the Kaiser window probabilities (properly normalized) and provide them to the *load_probability* function from **QQuantLib.DL** for building the corresponding Quantum Routine. The probability provided to the function are ordered following the *Int* column (this is completely positive integer domain). **BE AWARE** this is not the default order in the Kaiser window definition."
   ]
  },
  {
   "cell_type": "code",
   "execution_count": null,
   "id": "483e4e61",
   "metadata": {},
   "outputs": [],
   "source": [
    "kaiser_alpha = 20\n",
    "gate_kaiser = kaiser_window(auxiliar_qbits_number, kaiser_alpha)\n",
    "%qatdisplay gate_kaiser --svg --depth 0"
   ]
  },
  {
   "cell_type": "code",
   "execution_count": null,
   "id": "40959c4a",
   "metadata": {},
   "outputs": [],
   "source": [
    "array_kaiser = kaiser_array(auxiliar_qbits_number, kaiser_alpha)\n",
    "results_kaiser,_,_,_ = get_results(\n",
    "    gate_kaiser, linalg_qpu=qpu, complete=True)"
   ]
  },
  {
   "cell_type": "markdown",
   "id": "b9ad3934",
   "metadata": {},
   "source": [
    "#### BE AWARE\n",
    "\n",
    "When using window functions we are going to use the **Int_lsb** field of the output result dataframe as the correct domain!!!\n"
   ]
  },
  {
   "cell_type": "code",
   "execution_count": null,
   "id": "0a1de2ac",
   "metadata": {
    "scrolled": true
   },
   "outputs": [],
   "source": [
    "# We need to load the probability versus the positive integers domain.\n",
    "plt.plot(results_kaiser[\"Int_lsb\"], results_kaiser[\"Probability\"], 'o')\n",
    "plt.plot(array_kaiser[\"Prob\"])\n",
    "plt.legend([\"Kaiser Quantum Circuit\", \"Kaiser Theoric\"])"
   ]
  },
  {
   "cell_type": "markdown",
   "id": "be21e479",
   "metadata": {},
   "source": [
    "## 4. Using Window functions with CQPE class\n",
    "\n",
    "\n",
    "The window functions can be used with the **CQPE** class from **QQuantLib.PE.classical_qpe** in an easy way. The only modification is added to the input dicitionary the *window* key. \n",
    "\n",
    "The following values can be provided to this *window* key:\n",
    "\n",
    "1. *AbstractGate* with the quantum implementation of loading the window function.\n",
    "2. String. In this case, some of the pre implemented window AbstractGates are used.\n",
    "\n",
    "We are going to explain the different options but first we are going to set a simple **QPE** problem."
   ]
  },
  {
   "cell_type": "code",
   "execution_count": null,
   "id": "f616c134",
   "metadata": {},
   "outputs": [],
   "source": [
    "#Load Class\n",
    "from QQuantLib.PE.classical_qpe import CQPE"
   ]
  },
  {
   "cell_type": "markdown",
   "id": "9194bb0c",
   "metadata": {},
   "source": [
    "### 4.1 Setting QPE problem"
   ]
  },
  {
   "cell_type": "markdown",
   "id": "ab5a4b07",
   "metadata": {},
   "source": [
    "#### Initial State"
   ]
  },
  {
   "cell_type": "code",
   "execution_count": null,
   "id": "a58797bf",
   "metadata": {},
   "outputs": [],
   "source": [
    "#initial state\n",
    "n_qbits = 1\n",
    "initial_state = qlm.QRoutine()\n",
    "q_bits = initial_state.new_wires(n_qbits)\n",
    "for i in range(n_qbits):\n",
    "    initial_state.apply(qlm.X, q_bits[i])"
   ]
  },
  {
   "cell_type": "code",
   "execution_count": null,
   "id": "9563aa9e",
   "metadata": {},
   "outputs": [],
   "source": [
    "%qatdisplay initial_state --svg"
   ]
  },
  {
   "cell_type": "markdown",
   "id": "d297abf9",
   "metadata": {},
   "source": [
    "#### Unitary Operator"
   ]
  },
  {
   "cell_type": "code",
   "execution_count": null,
   "id": "861eae37",
   "metadata": {},
   "outputs": [],
   "source": [
    "theta = np.random.random()\n",
    "print(theta)\n",
    "#Unitary Operator\n",
    "unitary_operator = qlm.PH(theta * np.pi * 2)   "
   ]
  },
  {
   "cell_type": "code",
   "execution_count": null,
   "id": "13b18fa0",
   "metadata": {},
   "outputs": [],
   "source": [
    "%qatdisplay unitary_operator --svg"
   ]
  },
  {
   "cell_type": "markdown",
   "id": "6db75c04",
   "metadata": {},
   "source": [
    "### 4.2 Window Function\n",
    "\n",
    "Now we are going to explain how to use window functions."
   ]
  },
  {
   "cell_type": "markdown",
   "id": "cdebc633",
   "metadata": {},
   "source": [
    "#### 4.2.1 Original Behavior\n",
    "\n",
    "If not *window* key is provided the **Classical QPE** is used."
   ]
  },
  {
   "cell_type": "code",
   "execution_count": null,
   "id": "d61f6335",
   "metadata": {},
   "outputs": [],
   "source": [
    "hadd_dict = {\n",
    "    'initial_state': initial_state,\n",
    "    'unitary_operator': unitary_operator,\n",
    "    'qpu' : qpu,\n",
    "    'auxiliar_qbits_number' : auxiliar_qbits_number,\n",
    "    'complete': True,\n",
    "    'shots':0,\n",
    "}\n",
    "hadd_qpe = CQPE(**hadd_dict)\n",
    "hadd_qpe.run()\n",
    "c_class = hadd_qpe.circuit\n",
    "%qatdisplay c_class --svg --depth 0"
   ]
  },
  {
   "cell_type": "code",
   "execution_count": null,
   "id": "56fb1b80",
   "metadata": {},
   "outputs": [],
   "source": [
    "plt.plot(hadd_qpe.result[\"lambda\"], hadd_qpe.result[\"Probability\"], 'o')\n",
    "plt.axvline(theta, color=\"r\")"
   ]
  },
  {
   "cell_type": "markdown",
   "id": "eb329168",
   "metadata": {},
   "source": [
    "#### 4.2.2 Providing an AbstractGate\n",
    "\n",
    "An AbstractGate that implements the desired window function should be passed to the *window* key of the input dictionary.\n",
    "\n",
    "**BE AWARE**\n",
    "\n",
    "The domain of the desired window function **MUST BE** the *Int_lsb* not the *Int*. If the window function loads a probability with domain *Int* the **QPE WON'T WORK**\n",
    "\n",
    "In addition to the *window* key another key should be provided to the input dictionary: the **last_control_change**.\n",
    "\n",
    "When the window function is defined over negative and positive integers (like Kaiser or Cosine) the value of this key **MUST BE** se to *True*. If the window function is defined over positive integers (like sine or the Haddamard) this should be set to *False* (this is the default behaviour).\n",
    "\n",
    "This is because the last controlled operation should be inverted when the function is defined over negative numbers.\n"
   ]
  },
  {
   "cell_type": "markdown",
   "id": "72881263",
   "metadata": {},
   "source": [
    "##### Window Cosine"
   ]
  },
  {
   "cell_type": "code",
   "execution_count": null,
   "id": "92e0199b",
   "metadata": {},
   "outputs": [],
   "source": [
    "#Cosine\n",
    "auxiliar_qbits_number = 4\n",
    "cosine_dict = {\n",
    "    'initial_state': initial_state,\n",
    "    'unitary_operator': unitary_operator,\n",
    "    'qpu' : qpu,\n",
    "    'auxiliar_qbits_number' : auxiliar_qbits_number,\n",
    "    'complete': True,\n",
    "    'shots':0,\n",
    "    'window': cosine_window(auxiliar_qbits_number),\n",
    "    \"last_control_change\": True, #Cosine defined over psoitive and negative ints\n",
    "}\n",
    "cos_qpe = CQPE(**cosine_dict)\n",
    "cos_qpe.run()\n",
    "c_cos = cos_qpe.circuit\n",
    "%qatdisplay c_cos --svg --depth 1"
   ]
  },
  {
   "cell_type": "markdown",
   "id": "0ad8e347",
   "metadata": {},
   "source": [
    "In the Cosine window, the default domain is in positive and negative integers so the last Controlled operator **MUST BE** $U^{-2^{m-1}}$ instead of $U^{2^{m-1}}$ (It can be seen that the last controlled Phase Gate has the opposite sign that the other ones)"
   ]
  },
  {
   "cell_type": "code",
   "execution_count": null,
   "id": "1908f526",
   "metadata": {
    "scrolled": true
   },
   "outputs": [],
   "source": [
    "plt.plot(hadd_qpe.result[\"lambda\"], hadd_qpe.result[\"Probability\"], 'o')\n",
    "plt.plot(cos_qpe.result[\"lambda\"], cos_qpe.result[\"Probability\"], 'o')\n",
    "plt.legend([\"QPE\", \"QPE Cosine Window\"])\n",
    "plt.axvline(theta, color=\"r\")"
   ]
  },
  {
   "cell_type": "markdown",
   "id": "0fb42f5f",
   "metadata": {},
   "source": [
    "##### Window Sine"
   ]
  },
  {
   "cell_type": "code",
   "execution_count": null,
   "id": "119e8df0",
   "metadata": {},
   "outputs": [],
   "source": [
    "#Sine\n",
    "sine_dict = {\n",
    "    'initial_state': initial_state,\n",
    "    'unitary_operator': unitary_operator,\n",
    "    'qpu' : qpu,\n",
    "    'auxiliar_qbits_number' : auxiliar_qbits_number,\n",
    "    'complete': True,\n",
    "    'shots':0,\n",
    "    'window': sine_window(auxiliar_qbits_number),\n",
    "    \"last_control_change\": False, #Sine defined over positive ints\n",
    "}\n",
    "sin_qpe = CQPE(**sine_dict)\n",
    "sin_qpe.run()\n",
    "c_sin = sin_qpe.circuit\n",
    "%qatdisplay c_sin --svg --depth 0"
   ]
  },
  {
   "cell_type": "code",
   "execution_count": null,
   "id": "6a47e7e7",
   "metadata": {},
   "outputs": [],
   "source": [
    "plt.plot(hadd_qpe.result[\"lambda\"], hadd_qpe.result[\"Probability\"], 'o')\n",
    "#plt.plot(cos_qpe.result[\"lambda\"], cos_qpe.result[\"Probability\"], 'o')\n",
    "plt.plot(sin_qpe.result[\"lambda\"], sin_qpe.result[\"Probability\"], 'o')\n",
    "plt.legend([\"QPE\", \"QPE sine Window\"])\n",
    "plt.axvline(theta, color=\"r\")"
   ]
  },
  {
   "cell_type": "markdown",
   "id": "0b6e6491",
   "metadata": {},
   "source": [
    "##### Kaiser Window"
   ]
  },
  {
   "cell_type": "code",
   "execution_count": null,
   "id": "d84903f1",
   "metadata": {},
   "outputs": [],
   "source": [
    "# Kaiser Window\n",
    "kaiser_dict = {\n",
    "    'initial_state': initial_state,\n",
    "    'unitary_operator': unitary_operator,\n",
    "    'qpu' : qpu,\n",
    "    'auxiliar_qbits_number' : auxiliar_qbits_number,\n",
    "    'complete': True,\n",
    "    'shots':0,\n",
    "    'window': kaiser_window(auxiliar_qbits_number, 1),\n",
    "    \"last_control_change\": True #Kaiser defined over positive and negative ints\n",
    "}\n",
    "kaiser_qpe = CQPE(**kaiser_dict)\n",
    "kaiser_qpe.run()\n",
    "c_kaiser = kaiser_qpe.circuit\n",
    "%qatdisplay c_kaiser --svg --depth 0"
   ]
  },
  {
   "cell_type": "markdown",
   "id": "fc7a2ed8",
   "metadata": {},
   "source": [
    "In the Kaiser window, the default domain is in positive and negative integers so the last Controlled operator **MUST BE** $U^{-2^{m-1}}$ instead of $U^{2^{m-1}}$ (It can be seen that the last controlled Phase Gate has the opposite sign that the other ones)"
   ]
  },
  {
   "cell_type": "code",
   "execution_count": null,
   "id": "38df11e2",
   "metadata": {},
   "outputs": [],
   "source": [
    "plt.plot(hadd_qpe.result[\"lambda\"], hadd_qpe.result[\"Probability\"], 'o')\n",
    "plt.plot(kaiser_qpe.result[\"lambda\"], kaiser_qpe.result[\"Probability\"], 'o')\n",
    "plt.legend([\"QPE\", \"QPE Kaiser Window\"])"
   ]
  },
  {
   "cell_type": "markdown",
   "id": "12bdedaa",
   "metadata": {},
   "source": [
    "#### 4.2.2 Providing a string\n",
    "\n",
    "If the user wants to use one of the 3 pre-implemented window functions (cosine, sine or Kaiser) a string can be passed to the *window* key. In this case, the string can be:\n",
    "\n",
    "* \"Cosine\", \"cosine\", \"cos\": for using the Cosine window.\n",
    "* \"Sine\", \"sine\", \"sin\": for using the Sine window\n",
    "* \"Kaiser\", \"kaiser\", \"kais\": for using Kaiser window. In this case, an additional *kaiser_alpha* key with the desired $\\alpha$ should be provided.\n",
    "\n",
    "If a string is provided then the *last_control_change* is not mandatory anymore (code deals with this depending on the input string).\n"
   ]
  },
  {
   "cell_type": "markdown",
   "id": "d5476af9",
   "metadata": {},
   "source": [
    "##### Window Cosine"
   ]
  },
  {
   "cell_type": "code",
   "execution_count": null,
   "id": "e7ba9e01",
   "metadata": {},
   "outputs": [],
   "source": [
    "#Cosine\n",
    "auxiliar_qbits_number = 4\n",
    "cosine_dict = {\n",
    "    'initial_state': initial_state,\n",
    "    'unitary_operator': unitary_operator,\n",
    "    'qpu' : qpu,\n",
    "    'auxiliar_qbits_number' : auxiliar_qbits_number,\n",
    "    'complete': True,\n",
    "    'shots':0,\n",
    "    'window': \"Cosine\",\n",
    "    #\"last_control_change\": True, #Cosine defined over psoitive and negative ints\n",
    "}\n",
    "cos_qpe = CQPE(**cosine_dict)\n",
    "cos_qpe.run()\n",
    "c_cos = cos_qpe.circuit\n",
    "%qatdisplay c_cos --svg --depth 1"
   ]
  },
  {
   "cell_type": "markdown",
   "id": "d8d6ab37",
   "metadata": {},
   "source": [
    "In the Cosine window, the default domain is in positive and negative integers so the last Controlled operator **MUST BE** $U^{-2^{m-1}}$ instead of $U^{2^{m-1}}$ (It can be seen that the last controlled Phase Gate has the opposite sign that the other ones)"
   ]
  },
  {
   "cell_type": "code",
   "execution_count": null,
   "id": "38dd58b6",
   "metadata": {
    "scrolled": true
   },
   "outputs": [],
   "source": [
    "plt.plot(hadd_qpe.result[\"lambda\"], hadd_qpe.result[\"Probability\"], 'o')\n",
    "plt.plot(cos_qpe.result[\"lambda\"], cos_qpe.result[\"Probability\"], 'o')\n",
    "plt.legend([\"QPE\", \"QPE Cosine Window\"])\n",
    "plt.axvline(theta, color=\"r\")"
   ]
  },
  {
   "cell_type": "markdown",
   "id": "d70064b0",
   "metadata": {},
   "source": [
    "##### Window Sine"
   ]
  },
  {
   "cell_type": "code",
   "execution_count": null,
   "id": "5b22bd52",
   "metadata": {},
   "outputs": [],
   "source": [
    "#Sine\n",
    "sine_dict = {\n",
    "    'initial_state': initial_state,\n",
    "    'unitary_operator': unitary_operator,\n",
    "    'qpu' : qpu,\n",
    "    'auxiliar_qbits_number' : auxiliar_qbits_number,\n",
    "    'complete': True,\n",
    "    'shots':0,\n",
    "    'window': \"Sine\",\n",
    "    #\"last_control_change\": False, #Sine defined over positive ints\n",
    "}\n",
    "sin_qpe = CQPE(**sine_dict)\n",
    "sin_qpe.run()\n",
    "c_sin = sin_qpe.circuit\n",
    "%qatdisplay c_sin --svg --depth 1"
   ]
  },
  {
   "cell_type": "code",
   "execution_count": null,
   "id": "96faa0a6",
   "metadata": {},
   "outputs": [],
   "source": [
    "plt.plot(hadd_qpe.result[\"lambda\"], hadd_qpe.result[\"Probability\"], 'o')\n",
    "#plt.plot(cos_qpe.result[\"lambda\"], cos_qpe.result[\"Probability\"], 'o')\n",
    "plt.plot(sin_qpe.result[\"lambda\"], sin_qpe.result[\"Probability\"], 'o')\n",
    "plt.legend([\"QPE\", \"QPE sine Window\"])\n",
    "plt.axvline(theta, color=\"r\")"
   ]
  },
  {
   "cell_type": "markdown",
   "id": "f4d374e3",
   "metadata": {},
   "source": [
    "##### Kaiser Window"
   ]
  },
  {
   "cell_type": "code",
   "execution_count": null,
   "id": "e23e4a84",
   "metadata": {},
   "outputs": [],
   "source": [
    "# Kaiser Window\n",
    "kaiser_dict = {\n",
    "    'initial_state': initial_state,\n",
    "    'unitary_operator': unitary_operator,\n",
    "    'qpu' : qpu,\n",
    "    'auxiliar_qbits_number' : auxiliar_qbits_number,\n",
    "    'complete': True,\n",
    "    'shots':0,\n",
    "    'window': \"Kaiser\",\n",
    "    \"kaiser_alpha\" : 1,\n",
    "    #\"last_control_change\": True #Kaiser defined over positive and negative ints\n",
    "}\n",
    "kaiser_qpe = CQPE(**kaiser_dict)\n",
    "kaiser_qpe.run()\n",
    "c_kaiser = kaiser_qpe.circuit\n",
    "%qatdisplay c_kaiser --svg --depth 1"
   ]
  },
  {
   "cell_type": "markdown",
   "id": "af7b9aee",
   "metadata": {},
   "source": [
    "In the Kaiser window, the default domain is in positive and negative integers so the last Controlled operator **MUST BE** $U^{-2^{m-1}}$ instead of $U^{2^{m-1}}$ (It can be seen that the last controlled Phase Gate has the opposite sign that the other ones)"
   ]
  },
  {
   "cell_type": "code",
   "execution_count": null,
   "id": "f94f36cd",
   "metadata": {},
   "outputs": [],
   "source": [
    "plt.plot(hadd_qpe.result[\"lambda\"], hadd_qpe.result[\"Probability\"], 'o')\n",
    "plt.plot(kaiser_qpe.result[\"lambda\"], kaiser_qpe.result[\"Probability\"], 'o')\n",
    "plt.legend([\"QPE\", \"QPE Kaiser Window\"])\n",
    "plt.axvline(theta, color=\"r\")"
   ]
  },
  {
   "cell_type": "markdown",
   "id": "8ca54f7e",
   "metadata": {},
   "source": [
    "## 5. Boosting Succes Probability\n",
    "\n",
    "Now we can use the window functions for increasing the **success probability** for a fixed precision  $\\epsilon = \\frac{1}{2^m}$. The procedure is:\n",
    "\n",
    "1. Fix a desired window function.\n",
    "2. Fix the desired precision using $m$ qubits.\n",
    "3. Execute **window QPE** with additional $p$ qubits.\n",
    "4. The result will have $2^{m+p}$ posible solutions. We need to resample to the original $2^m$ solutions.\n",
    "5. Compute the success probability using the resampled $2^m$ solutions.\n",
    "\n",
    "Instead of using the **success probability** we are going to use the **failure probability** (because it has better visualization but the conclusions are the same)."
   ]
  },
  {
   "cell_type": "code",
   "execution_count": null,
   "id": "7c2f6cfb",
   "metadata": {},
   "outputs": [],
   "source": [
    "import copy\n",
    "# Function for resampling\n",
    "def resample(pdf_, m, column_index=\"Int\"):\n",
    "    pdf = copy.deepcopy(pdf_)\n",
    "    # Create a DataSeries\n",
    "    pds = pdf[\"Probability\"]\n",
    "    # Set the index for the DataSeries\n",
    "    pds.index = pdf[column_index]\n",
    "    #print(pds)\n",
    "    pds.sort_index(inplace=True)\n",
    "    group_rows = len(pdf) // 2 ** m\n",
    "    pdf_resampled = pds.groupby(\n",
    "        np.arange(len(pdf_)) // group_rows\n",
    "    ).sum()    \n",
    "    pdf_resampled = pd.DataFrame(pdf_resampled)\n",
    "    pdf_resampled[\"lambda\"] = pdf_resampled.index / len(pdf_resampled)\n",
    "    \n",
    "    return pdf_resampled\n",
    "\n",
    "# Compute failure probability\n",
    "def success_probability(pds, theta, aux):\n",
    "    integer_ = int(theta * 2 ** aux)    \n",
    "    return (pds <= integer_+1) & (pds >= integer_-1)"
   ]
  },
  {
   "cell_type": "code",
   "execution_count": null,
   "id": "34803d30",
   "metadata": {},
   "outputs": [],
   "source": [
    "# This will fix the precision\n",
    "auxiliar_qbits_number = 4\n",
    "# Additional qubits tested\n",
    "list_of_ps = range(6)"
   ]
  },
  {
   "cell_type": "markdown",
   "id": "85617a05",
   "metadata": {},
   "source": [
    "### 5.1 QPE Haddamard Window\n",
    "\n",
    "This is classical QPE"
   ]
  },
  {
   "cell_type": "code",
   "execution_count": null,
   "id": "81affce8",
   "metadata": {},
   "outputs": [],
   "source": [
    "# Base dictionary\n",
    "hadd_dict = {\n",
    "    'initial_state': initial_state,\n",
    "    'unitary_operator': unitary_operator,\n",
    "    'qpu' : qpu,\n",
    "    'complete': True,\n",
    "    'shots':0,\n",
    "}\n",
    "\n",
    "failures_haddamard = []\n",
    "list_of_ps = range(6)\n",
    "\n",
    "for p in list_of_ps:\n",
    "    # Updating the number of auxilary qubits\n",
    "    hadd_dict.update({\n",
    "        'auxiliar_qbits_number' : auxiliar_qbits_number + p,\n",
    "    })\n",
    "    # Run QPE\n",
    "    hadd_qpe = CQPE(**hadd_dict)\n",
    "    hadd_qpe.run()\n",
    "    # Results of QPE: 2^{auxiliar_qbits_number + p}\n",
    "    pdf_hadd = hadd_qpe.result\n",
    "    # Resampled to 2^{auxiliar_qbits_number}\n",
    "    resampled_had = resample(pdf_hadd, auxiliar_qbits_number)\n",
    "    # Probability failure on 2^{auxiliar_qbits_number}\n",
    "    failure = 1.0-resampled_had[\n",
    "        success_probability(resampled_had.index, theta, auxiliar_qbits_number)\n",
    "    ][\"Probability\"].sum()\n",
    "    failures_haddamard.append(failure)    \n"
   ]
  },
  {
   "cell_type": "code",
   "execution_count": null,
   "id": "e54bb853",
   "metadata": {},
   "outputs": [],
   "source": [
    "plt.plot(list_of_ps, failures_haddamard, '-o')\n",
    "plt.yscale(\"log\")\n",
    "plt.xlabel(r\"Additional qubits ($p$)\")\n",
    "plt.ylabel(\"Failure Probability\")\n",
    "plt.title(r\"Failure probability. Precision: $\\frac{1}{2^m}$. m: \"+ str(auxiliar_qbits_number))"
   ]
  },
  {
   "cell_type": "markdown",
   "id": "0d1abf58",
   "metadata": {},
   "source": [
    "### 5.2 QPE Cosine Window\n"
   ]
  },
  {
   "cell_type": "code",
   "execution_count": null,
   "id": "5609cbf0",
   "metadata": {},
   "outputs": [],
   "source": [
    "cos_dict = {\n",
    "    'initial_state': initial_state,\n",
    "    'unitary_operator': unitary_operator,\n",
    "    'qpu' : qpu,\n",
    "    'complete': True,\n",
    "    'shots':0,\n",
    "    'window': \"Cosine\"\n",
    "}\n",
    "\n",
    "failures_cosine = []\n",
    "for p in list_of_ps:\n",
    "    # Updating the number of auxilary qubits\n",
    "    cos_dict.update({\n",
    "        'auxiliar_qbits_number' : auxiliar_qbits_number + p,\n",
    "    })\n",
    "    # Run QPE\n",
    "    cos_qpe = CQPE(**cos_dict)\n",
    "    cos_qpe.run()\n",
    "    # Results of QPE: 2^{auxiliar_qbits_number + p}\n",
    "    pdf_cos = cos_qpe.result\n",
    "    # Resampled to 2^{auxiliar_qbits_number}\n",
    "    resampled_cos = resample(pdf_cos, auxiliar_qbits_number)\n",
    "    # Probability failure on 2^{auxiliar_qbits_number}\n",
    "    failure = 1.0-resampled_cos[\n",
    "        success_probability(resampled_cos.index, theta, auxiliar_qbits_number)\n",
    "    ][\"Probability\"].sum()\n",
    "    failures_cosine.append(failure)\n"
   ]
  },
  {
   "cell_type": "code",
   "execution_count": null,
   "id": "e512391d",
   "metadata": {},
   "outputs": [],
   "source": [
    "plt.plot(list_of_ps, failures_haddamard, '-o')\n",
    "plt.plot(list_of_ps, failures_cosine, '-o')\n",
    "plt.yscale(\"log\")\n",
    "plt.xlabel(r\"Additional qubits ($p$)\")\n",
    "plt.ylabel(\"Failure Probability\")\n",
    "plt.title(r\"Failure probability. Precision: $\\frac{1}{2^m}$. m: \"+ str(auxiliar_qbits_number))\n",
    "plt.legend([\"Haddamard\", \"Cosine\"])"
   ]
  },
  {
   "cell_type": "markdown",
   "id": "20e2b6b7",
   "metadata": {},
   "source": [
    "As can be seen, for the same number of additional qubits $p$ the **failure probability** decreases more when using the **Cosine window QPE** than traditional **QPE**."
   ]
  },
  {
   "cell_type": "markdown",
   "id": "872049db",
   "metadata": {},
   "source": [
    "### 5.3 QPE Sine Window\n"
   ]
  },
  {
   "cell_type": "code",
   "execution_count": null,
   "id": "a7058540",
   "metadata": {},
   "outputs": [],
   "source": [
    "sin_dict = {\n",
    "    'initial_state': initial_state,\n",
    "    'unitary_operator': unitary_operator,\n",
    "    'qpu' : qpu,\n",
    "    'complete': True,\n",
    "    'shots':0,\n",
    "    'window': \"Sine\"\n",
    "}\n",
    "\n",
    "failures_sine = []\n",
    "for p in list_of_ps:\n",
    "    # Updating the number of auxilary qubits\n",
    "    sin_dict.update({\n",
    "        'auxiliar_qbits_number' : auxiliar_qbits_number + p,\n",
    "    })\n",
    "    # Run QPE\n",
    "    sin_qpe = CQPE(**sin_dict)\n",
    "    sin_qpe.run()\n",
    "    # Results of QPE: 2^{auxiliar_qbits_number + p}\n",
    "    pdf_sin = sin_qpe.result\n",
    "    # Resampled to 2^{auxiliar_qbits_number}\n",
    "    resampled_sin = resample(pdf_sin, auxiliar_qbits_number)\n",
    "    # Probability failure on 2^{auxiliar_qbits_number}\n",
    "    failure = 1.0-resampled_sin[\n",
    "        success_probability(resampled_sin.index, theta, auxiliar_qbits_number)\n",
    "    ][\"Probability\"].sum()\n",
    "    failures_sine.append(failure)"
   ]
  },
  {
   "cell_type": "code",
   "execution_count": null,
   "id": "c502c55f",
   "metadata": {},
   "outputs": [],
   "source": [
    "plt.plot(list_of_ps, failures_haddamard, '-o')\n",
    "plt.plot(list_of_ps, failures_cosine, 'o')\n",
    "plt.plot(list_of_ps, failures_sine, '-')\n",
    "plt.yscale(\"log\")\n",
    "plt.xlabel(r\"Additional qubits ($p$)\")\n",
    "plt.ylabel(\"Failure Probability\")\n",
    "plt.title(r\"Failure probability. Precision: $\\frac{1}{2^m}$. m: \"+ str(auxiliar_qbits_number))\n",
    "plt.legend([\"Haddamard\", \"Cosine\", \"Sine\"])"
   ]
  },
  {
   "cell_type": "markdown",
   "id": "32379689",
   "metadata": {},
   "source": [
    "As can be seen, for the same number of additional qubits $p$ the **failure probability** decreases more when using the **Sine window QPE** than traditional **QPE** (Cosine and Sine windows have the same behavior)."
   ]
  },
  {
   "cell_type": "markdown",
   "id": "838667da",
   "metadata": {},
   "source": [
    "### 5.4 Kaiser Window\n",
    "\n",
    "For the *Kaiser window* we are going to use the following $\\alpha$ (obtained from https://arxiv.org/abs/2404.01396):\n",
    "\n",
    "* $p=1$ $\\alpha=6$\n",
    "* $p=2$ $\\alpha=13$\n",
    "* $p=3$ $\\alpha=25$\n",
    "* $p=4$ $\\alpha=51$\n",
    "* $p=5$ $\\alpha=100$"
   ]
  },
  {
   "cell_type": "code",
   "execution_count": null,
   "id": "7bfd45eb",
   "metadata": {},
   "outputs": [],
   "source": [
    "kaiser_dict = {\n",
    "    'initial_state': initial_state,\n",
    "    'unitary_operator': unitary_operator,\n",
    "    'qpu' : qpu,\n",
    "    'complete': True,\n",
    "    'shots':0,\n",
    "    'window': \"Kaiser\"\n",
    "}\n",
    "\n",
    "failures_kaiser = []\n",
    "alphas = [0, 6, 13, 25, 51, 100]\n",
    "\n",
    "for p,a in zip(list_of_ps, alphas):\n",
    "    print(p, a)\n",
    "    # Updating the number of auxilary qubits\n",
    "    kaiser_dict.update({\n",
    "        'auxiliar_qbits_number' : auxiliar_qbits_number + p,\n",
    "        'kaiser_alpha' : a\n",
    "    })    \n",
    "    # Run QPE\n",
    "    kaiser_qpe = CQPE(**kaiser_dict)\n",
    "    kaiser_qpe.run()\n",
    "    pdf_kaiser_ = kaiser_qpe.result\n",
    "    # Results of QPE: 2^{auxiliar_qbits_number + p}\n",
    "    resampled_kaiser = resample(pdf_kaiser_, auxiliar_qbits_number)\n",
    "    # Probability failure on 2^{auxiliar_qbits_number}\n",
    "    failure = 1.0-resampled_kaiser[\n",
    "        success_probability(resampled_kaiser.index, theta, auxiliar_qbits_number)\n",
    "    ][\"Probability\"].sum()\n",
    "    failures_kaiser.append(failure)    "
   ]
  },
  {
   "cell_type": "code",
   "execution_count": null,
   "id": "94463f09",
   "metadata": {},
   "outputs": [],
   "source": [
    "plt.plot(list_of_ps, failures_haddamard, '-o')\n",
    "plt.plot(list_of_ps, failures_cosine, 'o')\n",
    "plt.plot(list_of_ps, failures_sine, '-')\n",
    "plt.plot(list_of_ps, failures_kaiser, '-o')\n",
    "plt.yscale(\"log\")\n",
    "plt.xlabel(r\"Additional qubits ($p$)\")\n",
    "plt.ylabel(\"Failure Probability\")\n",
    "plt.title(r\"Failure probability. Precision: $\\frac{1}{2^m}$. m: \"+ str(auxiliar_qbits_number))\n",
    "plt.legend([\"Haddamard\", \"Cosine\", \"Sine\", \"Kaiser\"])"
   ]
  },
  {
   "cell_type": "markdown",
   "id": "56738cb1",
   "metadata": {},
   "source": [
    "As can be seen, a well configured *Kaiser* window (i.e. selected a properly $\\alpha$) provides a lower failure probability for the same number of additional qubits than *Cosine* (*Sine*) windows and thant traditional **QPE** ."
   ]
  },
  {
   "cell_type": "markdown",
   "id": "f41106ce",
   "metadata": {},
   "source": [
    "## 6. Window QPE for QAE\n",
    "\n",
    "The Window QPE can be used for **Quantum Amplitude Estimation** straightforwardly: the same keywords for configuring the window QPE (*window*, *kaiser_alpha* and *last_control_change*) can be provided to the class that uses **QPE** for computing **AE** problems (this is the *CQPEAE* from **QQuantLib.AE.ae_classical_qpe** module). "
   ]
  },
  {
   "cell_type": "code",
   "execution_count": null,
   "id": "08089448",
   "metadata": {},
   "outputs": [],
   "source": [
    "from QQuantLib.DL.data_loading import load_probability\n",
    "from QQuantLib.AA.amplitude_amplification import grover\n",
    "from QQuantLib.AE.ae_classical_qpe import CQPEAE"
   ]
  },
  {
   "cell_type": "markdown",
   "id": "a0b15049",
   "metadata": {},
   "source": [
    "Following cells creates the initial state $|\\Psi\\rangle = \\mathcal{A}|0\\rangle$"
   ]
  },
  {
   "cell_type": "markdown",
   "id": "bf5bfaf8",
   "metadata": {},
   "source": [
    "###  6.1 Setting the AE problem\n",
    "\n",
    "First, we will define the following amplitude estimation problem:\n",
    "\n",
    "$$|\\Psi\\rangle = \\mathcal{A}|0\\rangle = \\dfrac{1}{\\sqrt{0+1+2+3+4+5+6+7+8}}\\left[\\sqrt{0}|0\\rangle+\\sqrt{1}|1\\rangle+\\sqrt{2}|2\\rangle+\\sqrt{3}|3\\rangle+\\sqrt{4}|4\\rangle+\\sqrt{5}|5\\rangle+\\sqrt{6}|6\\rangle+\\sqrt{7}|7\\rangle\\right] \\tag{2}$$\n",
    "\n",
    "The final state will be separated in the following way:\n",
    "\n",
    "$$|\\Psi\\rangle= \\mathcal{A}|0\\rangle = \\sqrt{a}|\\Psi_0\\rangle +\\sqrt{1-a}|\\Psi_1\\rangle,$$\n",
    "\n",
    "where:\n",
    "\n",
    "$$\\sqrt{a}|\\Psi_0\\rangle = \\sin(\\theta)|\\Psi_0\\rangle = \\dfrac{\\sqrt{1}}{\\sqrt{0+1+2+3+4+5+6+7+8}}|1\\rangle$$\n",
    "\n",
    "and \n",
    "\n",
    "$$\\sqrt{1-a}|\\Psi_1\\rangle = \\cos(\\theta)|\\Psi_1\\rangle = \\dfrac{1}{\\sqrt{0+1+2+3+4+5+6+7+8}}\\left[\\sqrt{0}|0\\rangle+\\sqrt{2}|2\\rangle+\\sqrt{3}|3\\rangle+\\sqrt{4}|4\\rangle+\\sqrt{5}|5\\rangle+\\sqrt{6}|6\\rangle+\\sqrt{7}|7\\rangle\\right].$$\n"
   ]
  },
  {
   "cell_type": "code",
   "execution_count": null,
   "id": "31207825",
   "metadata": {},
   "outputs": [],
   "source": [
    "#Here we created the mandatory oracle\n",
    "n = 3\n",
    "N = 2**n\n",
    "x = np.arange(N)\n",
    "probability = x/np.sum(x)\n",
    "oracle = load_probability(probability)\n",
    "\n",
    "%qatdisplay oracle --depth 0 --svg\n",
    "\n",
    "#This will be the target state for grover and the list of qubits affected by Grover operator\n",
    "target = [0, 0, 1]\n",
    "index = range(oracle.arity)\n",
    "\n",
    "theoric_probability = probability[1]"
   ]
  },
  {
   "cell_type": "markdown",
   "id": "dcd6f674",
   "metadata": {},
   "source": [
    "### 6.1 Traditional QPE\n",
    "\n",
    "For traditional QPE there is no change"
   ]
  },
  {
   "cell_type": "code",
   "execution_count": null,
   "id": "ce37d257",
   "metadata": {},
   "outputs": [],
   "source": [
    "auxiliar_qbits_number = 8\n",
    "#We create a python dictionary for configuration of class\n",
    "hadd_dic = {\n",
    "    'qpu': qpu,\n",
    "    'auxiliar_qbits_number': auxiliar_qbits_number,\n",
    "    'shots': 0,\n",
    "    'complete':True\n",
    "}\n",
    "hadd_qae = CQPEAE(\n",
    "    oracle=oracle,\n",
    "    target=target,\n",
    "    index=index,     \n",
    "    **hadd_dic)\n",
    "hadd_estimated = hadd_qae.run()\n",
    "print(\"Estimation Haddamard: {}\".format(hadd_estimated))\n",
    "print(\"theoric_probability: {}\".format(theoric_probability))\n",
    "hadd_err = np.abs(hadd_estimated - theoric_probability)\n",
    "print(\"Error for Haddamard QPE: {}\".format(hadd_err))"
   ]
  },
  {
   "cell_type": "markdown",
   "id": "b1b2a314",
   "metadata": {},
   "source": [
    "### 6.2 Cosine Window QPE\n",
    "\n",
    "The input dictionary for the **CQPEAE** class will have the same keys than the **CQPE**."
   ]
  },
  {
   "cell_type": "code",
   "execution_count": null,
   "id": "20691baf",
   "metadata": {},
   "outputs": [],
   "source": [
    "#We create a python dictionary for configuration of class\n",
    "cos_dic = {\n",
    "    'qpu': qpu,\n",
    "    'auxiliar_qbits_number': auxiliar_qbits_number,\n",
    "    'shots': 0,\n",
    "    'complete':True,\n",
    "    'window': \"Cosine\"\n",
    "}\n",
    "cos_qae = CQPEAE(\n",
    "    oracle=oracle,\n",
    "    target=target,\n",
    "    index=index,     \n",
    "    **cos_dic)\n",
    "cos_estimated = cos_qae.run()\n",
    "print(\"Estimation Cosine Window: {}\".format(cos_estimated))\n",
    "print(\"theoric_probability: {}\".format(theoric_probability))\n",
    "cos_err = np.abs(cos_estimated - theoric_probability)\n",
    "print(\"Error for Cosine QPE: {}\".format(cos_err))"
   ]
  },
  {
   "cell_type": "markdown",
   "id": "3d70f18a",
   "metadata": {},
   "source": [
    "### 6.3 Sine Window QPE\n",
    "\n",
    "The input dictionary for the **CQPEAE** class will have the same keys than the **CQPE**."
   ]
  },
  {
   "cell_type": "code",
   "execution_count": null,
   "id": "cc13be35",
   "metadata": {},
   "outputs": [],
   "source": [
    "#We create a python dictionary for configuration of class\n",
    "sin_dic = {\n",
    "    'qpu': qpu,\n",
    "    'auxiliar_qbits_number': auxiliar_qbits_number,\n",
    "    'shots': 0,\n",
    "    'complete':True,\n",
    "    'window': \"Sine\"\n",
    "}\n",
    "\n",
    "sin_qae = CQPEAE(\n",
    "    oracle=oracle,\n",
    "    target=target,\n",
    "    index=index,     \n",
    "    **sin_dic)\n",
    "sin_estimated = sin_qae.run()\n",
    "print(\"Estimation Sine Window: {}\".format(sin_estimated))\n",
    "print(\"theoric_probability: {}\".format(theoric_probability))\n",
    "sin_err = np.abs(sin_estimated - theoric_probability)\n",
    "print(\"Error for Sine QPE: {}\".format(sin_err))"
   ]
  },
  {
   "cell_type": "markdown",
   "id": "0d496095",
   "metadata": {},
   "source": [
    "### 6.4 Kaiser Window QPE\n",
    "\n",
    "The input dictionary for the **CQPEAE** class will have the same keys than the **CQPE**."
   ]
  },
  {
   "cell_type": "code",
   "execution_count": null,
   "id": "7b020953",
   "metadata": {},
   "outputs": [],
   "source": [
    "#We create a python dictionary for configuration of class\n",
    "kaiser_dic = {\n",
    "    'qpu': qpu,\n",
    "    'auxiliar_qbits_number': auxiliar_qbits_number,\n",
    "    'shots': 0,\n",
    "    'complete':True,\n",
    "    'window': \"Kaiser\",\n",
    "    'kaiser_alpha' : 1.7# Could be different\n",
    "}\n",
    "\n",
    "kaiser_qae = CQPEAE(\n",
    "    oracle=oracle,\n",
    "    target=target,\n",
    "    index=index,     \n",
    "    **kaiser_dic)\n",
    "\n",
    "kaiser_estimated = kaiser_qae.run()\n",
    "print(\"Estimation Kaiser Window: {}\".format(kaiser_estimated))\n",
    "print(\"theoric_probability: {}\".format(theoric_probability))\n",
    "kaiser_err = np.abs(kaiser_estimated - theoric_probability)\n",
    "print(\"Error for Kaiser QPE: {}\".format(kaiser_err))"
   ]
  },
  {
   "cell_type": "markdown",
   "id": "d7f34f88",
   "metadata": {},
   "source": [
    "## 7. Using Windows QPE with sine_integral.\n",
    "\n",
    "\n",
    "The Window QPE techniques can be used with the **BTC_02_AE/ae_sine_integral.py** script. The user should add to the **JSON** file configuring the **AE** algorithm the fields corresponding to the window QPE configuration (*window*, *kaiser_alpha* and *last_control_change*). In this case the *ae_type* field should be **CQPEAE**.\n",
    "\n"
   ]
  },
  {
   "cell_type": "markdown",
   "id": "b7ea4ac0",
   "metadata": {},
   "source": [
    "## 8. Results of QPE in sine_integral computations\n",
    "\n",
    "This section presents the results of using window **QPE**s for estimating the integral of a *sine* function in the interval $[0, \\frac{3\\pi}{8}]$  (interval 0 for the **BTC_02_AE/ae_sine_integral.py** script). \n",
    "\n",
    "All the results presented were obtained using the **BTC_02_AE/ae_sine_integral.py** script and configuring properly the corresponding **JSON** configuration file of the **AE** algorithm (*ae_type* = CQPEAE).\n",
    "\n",
    "\n",
    "The configuration of the experiment was the following:\n",
    "\n",
    "* Discretization for the domain for the integral: 6 qubits\n",
    "* Exact integral:0.617317\n",
    "* Riemman Sum over a 6-qubit domain discretization: 0.617299\n",
    "* QPU: ideal simulation using CLinaAlg\n",
    "* Tested QPE: Hadamard (traditional QPE), Sine and Kaiser.\n",
    "* Different $\\alpha_{Kaiser}$ were tested.\n",
    "\n"
   ]
  },
  {
   "attachments": {
    "image.png": {
     "image/png": "[encoded data removed]"
    }
   },
   "cell_type": "markdown",
   "id": "23d4751d",
   "metadata": {},
   "source": [
    "### 8.1 Exact Simulation\n",
    "\n",
    "\n",
    "In this case the number of shots is set to zero so the exact probabilities are computed:\n",
    "\n",
    "![image.png](attachment:image.png)\n",
    "\n",
    "As can be seen for the same number of auxiliary qubits $m$ the absolute error (absolute difference between quantum estimation and Rieman sum over 6-qubits discretization) decreases when using a *Sine window function* or a properly configured *Kaiser window function* with respect to *Hadamard* (traditional **QPE**). \n",
    "\n",
    "For a large number of auxiliary qubits *Sine* and *Kaiser* could need even 2 qubits less than traditional **QPE** for the same absolute error.\n",
    "\n",
    "The *Kaiser window function* theoretical performance is better than *sine* when it is properly configured (i.e. when a good $\\alpha_{Kaiser}$ is provided)."
   ]
  },
  {
   "attachments": {
    "image.png": {
     "image/png": "[encoded data removed]"
    }
   },
   "cell_type": "markdown",
   "id": "85448121",
   "metadata": {},
   "source": [
    "### 8.2 Shots Simulation\n",
    "\n",
    "The following graph shows the absolute error vs the number of auxiliary qubits when 10000 shots are simulated (in this case we present the median over 10 different repetitions).\n",
    "\n",
    "![image.png](attachment:image.png)\n",
    "\n",
    "When shots are required the sine function shows a more stable perfomance than *Kaiser* windows (both of them have better perfromances than Hadamard). This performance decrease for *Kaiser windows* is due to the lower number of shots required. "
   ]
  },
  {
   "cell_type": "markdown",
   "id": "ce06914c",
   "metadata": {},
   "source": [
    "When shots are required the sine function shows a more stable perfomance than *Kaiser* windows (both of them have better perfromances than Hadamard). This performance decrease for *Kaiser windows* is due to the lower number of shots required. \n",
    "\n",
    "When the number of shots is increased the *Kaiser window* (properly configured) shows a slightly better performance than the *Sine window* as can be seen in the following graphs (where we presented the mean of the abolute error for 50 repetitions)."
   ]
  },
  {
   "attachments": {
    "image.png": {
     "image/png": "[encoded data removed]"
    }
   },
   "cell_type": "markdown",
   "id": "113b6457",
   "metadata": {},
   "source": [
    "When the number of shots is increased the *Kaiser window* (properly configured) shows a slightly better performance than the *Sine window* as can be seen in the following graphs (where we presented the mean of the abolute error for 50 repetitions).\n",
    "\n",
    "![image.png](attachment:image.png)"
   ]
  }
 ],
 "metadata": {
  "kernelspec": {
   "display_name": "Python 3 (ipykernel)",
   "language": "python",
   "name": "python3"
  },
  "language_info": {
   "codemirror_mode": {
    "name": "ipython",
    "version": 3
   },
   "file_extension": ".py",
   "mimetype": "text/x-python",
   "name": "python",
   "nbconvert_exporter": "python",
   "pygments_lexer": "ipython3",
   "version": "3.9.9"
  }
 },
 "nbformat": 4,
 "nbformat_minor": 5
}
