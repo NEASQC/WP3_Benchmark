{
 "cells": [
  {
   "cell_type": "markdown",
   "id": "64126633",
   "metadata": {},
   "source": [
    "## Define bra y kets\n",
    "\n",
    "Define latex commands for bra and kets\n",
    "\n",
    "$$\\newcommand{\\braket}[2]{\\left\\langle{#1}\\middle|{#2}\\right\\rangle}$$\n",
    "$$\\newcommand{\\ket}[1]{\\left|{#1}\\right\\rangle}$$\n",
    "$$\\newcommand{\\bra}[1]{\\left\\langle{#1}\\right|}$$"
   ]
  },
  {
   "cell_type": "code",
   "execution_count": null,
   "id": "0669446a",
   "metadata": {},
   "outputs": [],
   "source": [
    "import numpy as np\n",
    "import pandas as pd\n",
    "import matplotlib.pyplot as plt\n",
    "%matplotlib inline"
   ]
  },
  {
   "cell_type": "markdown",
   "id": "a7516195",
   "metadata": {},
   "source": [
    "# rz_lib\n",
    "\n",
    "In order to develop the **Benchmark Test Case** for **QPE** we have developed the **rz_library** python package that have all mandatory functions for computing eigenvalues of a  $Rz^{\\otimes n} (\\vec{\\theta})$ operator theoretically and usign Atos myqlm simulation library. In this notbook we explain the **QPE** for the $Rz^{\\otimes n} (\\vec{\\theta})$ and shows how to use the **rz_library** package"
   ]
  },
  {
   "attachments": {
    "image-2.png": {
     "image/png": "[encoded data removed]"
    }
   },
   "cell_type": "markdown",
   "id": "f4c14adf",
   "metadata": {},
   "source": [
    "## 1. Quantum Phase Estimation\n",
    "\n",
    "Let a $n$ qubit unitary operator $\\mathcal{Q}$ and let $\\ket{\\Psi_j}$ an eigenstate of operator $\\mathcal{Q}$. The eigenvalue of eigenstate $\\ket{\\Psi_j}$ for $\\mathcal{Q}$ will be:\n",
    "\n",
    "$$\\mathcal{Q}\\ket{\\Psi_j} = e^{2\\pi i \\lambda_j} \\ket{\\Psi_j}$$\n",
    "\n",
    "Quantum Phase Estimation, **QPE**, allow us, given an operator $\\mathcal{Q}$ and an eigenstate $\\ket{\\Psi_j}$, compute the correspondent eigenvalue $\\lambda_j$ using following circuit:\n",
    "\n",
    "![image-2.png](attachment:image-2.png)\n",
    "\n",
    "The measurement $y_j$ can be related with $\\lambda_j$ by:\n",
    "\n",
    "$$\\lambda_j = \\frac{y_j}{2^m}$$\n",
    "\n",
    "It can be shown that if the eigenvalue $\\lambda_j$ can be mapped to  $\\frac{y_j}{2^m}$ then the probability of getting the correct eigenvalue is 100%. If this is not posible then it can be shown that the measured $\\lambda^{Meas}_j$ have an error with respect to the true value $\\lambda^{True}_j$ of:\n",
    "\n",
    "$$|\\lambda^{Meas}_j - \\lambda^{True}_j| \\leq \\frac{1}{2^m}$$\n",
    "\n",
    "with a probability higher than $80\\%$. \n",
    "\n",
    "If all eigenstates of the operator $\\mathcal{Q}$ are know we can compute all the correspondent eigenvalues using the aforementioned circuit for each eigenstate."
   ]
  },
  {
   "cell_type": "markdown",
   "id": "ee40afe4",
   "metadata": {},
   "source": [
    "## 2. Quantum Phase Estimation for $Rz^{\\otimes n} (\\vec{\\theta})$\n",
    "\n",
    "In order to test the performance of a quantum computing system for executing the **QPE** we are going to compute the eigenvalues of the Kronecker product of $R_z$ gates, $Rz^{\\otimes n} (\\vec{\\theta})$. \n",
    "\n",
    "The reasons for selecting the $Rz^{\\otimes n} (\\vec{\\theta})$ operator as a Benchmark Test Case are:\n",
    "\n",
    "1. The eigenvectors of the $Rz^{\\otimes n} (\\vec{\\theta})$ are the elements of the computational basis.\n",
    "2. The eigenvalues of the $Rz^{\\otimes n} (\\vec{\\theta})$ are computable in a very easy way.\n",
    "\n",
    "Do some maths for justify this reasons. \n",
    "\n",
    "\n",
    "### 1 qubit \n",
    "\n",
    "The $R_z(\\theta)$ gate have the following matrix representation:\n",
    "\n",
    "\n",
    "$$\n",
    "R_z (\\theta) = \n",
    "\\begin{equation}\n",
    "    \\begin{pmatrix}\n",
    "    e^{-i\\frac{\\theta}{2}} & 0\\\\\n",
    "    0 & e^{i\\frac{\\theta}{2}}\n",
    "    \\end{pmatrix}\n",
    "\\end{equation}\n",
    "$$\n",
    "\n",
    "A more suitable formulation is using Dirac notation:\n",
    "\n",
    "$$R_z = \\ket{0}\\bra{0} e^{-i\\frac{\\theta}{2}} + \\ket{1}\\bra{1} e^{i\\frac{\\theta}{2}}$$\n",
    "\n",
    "For this operator the the eigenvectors are $\\ket{0}$ with eigenvalue $e^{-i\\frac{\\theta}{2}}$ and $\\ket{1}$ with eigenvalue $e^{i\\frac{\\theta}{2}}$.\n",
    "\n",
    "If we use the **QPE** with the $R_z$ operator then following equality should be taking into account for computing the correct eigenvalues:\n",
    "\n",
    "$$2 \\pi \\lambda = \\frac{\\theta}{2}$$\n",
    "\n",
    "\n",
    "### 2 qubit \n",
    "\n",
    "Now we are going to compute the correspondent kronecker product for 2 qbuits $R_z(\\theta_1) \\otimes R_z(\\theta_2)$:\n",
    "\n",
    "$$R_z(\\theta_1) \\otimes R_z(\\theta_2) = \\ket{00}\\bra{00} e^{-i\\frac{\\theta_1 + \\theta_2}{2}} + \\ket{01}\\bra{01} e^{-i\\frac{\\theta_1 - \\theta_2}{2}} + \\ket{10}\\bra{10} e^{-i\\frac{-\\theta_1 + \\theta_2}{2}} + \\ket{11}\\bra{11} e^{-i\\frac{-\\theta_1 - \\theta_2}{2}}$$\n",
    "\n",
    "As can be seen the eigenvectors of the $R_z(\\theta_1) \\otimes R_z(\\theta_2)$ operator are the elements of the computational basis.\n",
    "\n",
    "**Be aware** that if we want to use the **QPE** for this operator then:\n",
    "\n",
    "* $2\\pi \\lambda_{\\ket{00}} = - \\frac{\\theta_1 + \\theta_2}{2}$\n",
    "* $2\\pi \\lambda_{\\ket{01}} = - \\frac{\\theta_1 - \\theta_2}{2}$\n",
    "* $2\\pi \\lambda_{\\ket{10}} = - \\frac{-\\theta_1 + \\theta_2}{2}$\n",
    "* $2\\pi \\lambda_{\\ket{11}} =  \\frac{\\theta_1 + \\theta_2}{2}$\n",
    "\n",
    "\n",
    "### 3 qubit \n",
    "\n",
    "\n",
    "For a 3 qbit operator: $R_z(\\theta_1) \\otimes R_z(\\theta_2) \\otimes R_z(\\theta_3)$ the operator is:\n",
    "\n",
    "$$R_z(\\theta_1) \\otimes R_z(\\theta_2) \\otimes R_z(\\theta_3)= \\ket{000}\\bra{000} e^{-i\\frac{\\theta_1 + \\theta_2 + \\theta_3}{2}} + \\ket{001}\\bra{001} e^{-i\\frac{\\theta_1 + \\theta_2 - \\theta_3}{2}} + \\ket{010}\\bra{010} e^{-i\\frac{\\theta_1 -  \\theta_2 + \\theta_3}{2}} + \\ket{011}\\bra{011} e^{-i\\frac{\\theta_1 -  \\theta_2 - \\theta_3}{2}} + \\ket{100}\\bra{100} e^{-i\\frac{-\\theta_1 + \\theta_2 + \\theta_3}{2}} + \\ket{101}\\bra{101} e^{-i\\frac{-\\theta_1 + \\theta_2 - \\theta_3}{2}} + \\ket{110}\\bra{110} e^{-i\\frac{-\\theta_1 - \\theta_2 + \\theta_3}{2}} +\\ket{111}\\bra{111} e^{-i\\frac{-\\theta_1 - \\theta_2 - \\theta_3}{2}} $$\n",
    "\n",
    "\n",
    "Again the eigenvectors are the elements of the computational basis. We have to **be aware** when using  **QPE**:\n",
    "\n",
    "* $2\\pi \\lambda_{\\ket{ijk}} = - \\frac{(-1)^i\\theta_1 + (-1)^j\\theta_2 + (-1)^k\\theta_2}{2}$\n",
    "\n",
    "\n",
    "### n qubit \n",
    "\n",
    "\n",
    "\n",
    "This can be easily generalizable for a $n$ qbits kronecker product: $R_z^{\\otimes n} (\\vec{\\theta})$.\n",
    "\n",
    "Additionally the eigenvalues for each eigenvector have an easy computation recipe: for a system with $n$ qubits the eigenvalue for an eigenstate $\\ket{i_0i_1i_2 \\cdots i_n}$, with $i_j=\\{0,1\\}$, of a $Rz^{\\otimes n} (\\vec{\\theta})$ operator have following eigenvalue:\n",
    "\n",
    "$$2\\pi \\lambda_{\\ket{i_0, i_1, \\cdots , i_n}} = - \\frac{\\sum_{j=0}^{n} (-1)^{i_j} \\theta_j}{2}$$\n",
    "\n",
    "**BE AWARE**\n",
    "\n",
    "The $\\lambda_{\\ket{i_0, i_1, \\cdots , i_n}}$ presented here will be the same that $\\lambda_j$ presented in the **Quantum Phase Estimation** section"
   ]
  },
  {
   "cell_type": "markdown",
   "id": "7f110b82",
   "metadata": {},
   "source": [
    "## 3. The rz_lib\n",
    "\n",
    "The **rz_library** python package, inside **QPE** module, have all functions needed to compute, theoretically and using **QPE** algorithm (simulated using Atos myqlm), the eigenvalues of a generic $R_z^{\\otimes n} (\\vec{\\theta})$."
   ]
  },
  {
   "cell_type": "code",
   "execution_count": null,
   "id": "0bb0869d",
   "metadata": {},
   "outputs": [],
   "source": [
    "import sys\n",
    "sys.path.append('../../QPE')\n",
    "import rz_lib"
   ]
  },
  {
   "cell_type": "markdown",
   "id": "402ae605",
   "metadata": {},
   "source": [
    "### 3.1. Theoretical Eigenvalues\n",
    "\n",
    "The **rz_eigv** function from *rz_lib* allows to compute the complete eigenvalues of a generic $R_z^{\\otimes n} (\\vec{\\theta})$ operator for an input list of angles. In order to understand the package we are going to use two types of list of angles:\n",
    "\n",
    "1. A list with the same angle for all the qubits, set to $\\frac{\\pi}{2}$.\n",
    "2. A list of different random angles"
   ]
  },
  {
   "cell_type": "code",
   "execution_count": null,
   "id": "acae3d8e",
   "metadata": {},
   "outputs": [],
   "source": [
    "n_qbits = 7\n",
    "#Angle pi/2\n",
    "theta_same = [np.pi / 2.0 for i in range(n_qbits)]\n",
    "print('Same Angles: {}'.format(theta_same))\n",
    "theta_diff = [np.pi * np.random.random() for i in range(n_qbits)]\n",
    "print('Different Angles: {}'.format(theta_diff))"
   ]
  },
  {
   "cell_type": "markdown",
   "id": "8f3f77fb",
   "metadata": {},
   "source": [
    "Now we ca use the **rz_eigv** function for computing the desired eigenvalues."
   ]
  },
  {
   "cell_type": "code",
   "execution_count": null,
   "id": "60d840b4",
   "metadata": {},
   "outputs": [],
   "source": [
    "eigv_theta_same = rz_lib.rz_eigv(theta_same)\n",
    "eigv_theta_diff = rz_lib.rz_eigv(theta_diff)"
   ]
  },
  {
   "cell_type": "markdown",
   "id": "5754ad93",
   "metadata": {},
   "source": [
    "Depending of the angles of the $R_z^{\\otimes n}$ operator the eigenvalues can be degenerated!"
   ]
  },
  {
   "cell_type": "code",
   "execution_count": null,
   "id": "d1db2145",
   "metadata": {},
   "outputs": [],
   "source": [
    "non_repeated = set(eigv_theta_same['Eigenvalues'])\n",
    "print(\"Number of eigenvalues: {}. Not repeated ones: {}\".format(len(eigv_theta_same), len(non_repeated)))"
   ]
  },
  {
   "cell_type": "code",
   "execution_count": null,
   "id": "377dc09a",
   "metadata": {},
   "outputs": [],
   "source": [
    "non_repeated = set(eigv_theta_diff['Eigenvalues'])\n",
    "print(\"Number of eigenvalues: {}. Not repeated ones: {}\".format(len(eigv_theta_diff), len(non_repeated)))"
   ]
  },
  {
   "cell_type": "markdown",
   "id": "9a792b69",
   "metadata": {},
   "source": [
    "Once the theoretical eigenvalues are found we need to create the correspondent histogram of the eigenvalues between $[0, 1]$ and with fixed discretization that will be given by the number of auxiliary qubits that will be used for computing the **QPE** (the $m$ qubit register in the **QPE** showed at the begining of the notebook). This should be done for a direct comparing between the theoretical results and the results of the **QPE**.\n",
    "\n",
    "\n",
    "In the **QPE** we can measure the different eigenvalues of the input unitary operator but the precision of the meaturement will be given by the $m$ auxiliar qbit register. So the output of the **QPE** will be a histogram between $[0,1]$ with $2^m$ bins. In each bin the histogram will give us the frecuency of eigenvalues that will be inside it. \n",
    "\n",
    "For computing the correspondet histogram the **make_histogram** from *rz_library* can be used. The inputs will be the therotical computed eigenvalues and a discretization parameter (that must be equal to the $m$ that we are going to use for the **QPE**)\n"
   ]
  },
  {
   "cell_type": "code",
   "execution_count": null,
   "id": "d679b564",
   "metadata": {},
   "outputs": [],
   "source": [
    "auxiliar_qbuits = 10\n",
    "hist_theta_same = rz_lib.make_histogram(\n",
    "    eigv_theta_same['Eigenvalues'], auxiliar_qbuits)\n",
    "hist_theta_diff = rz_lib.make_histogram(\n",
    "    eigv_theta_diff['Eigenvalues'], auxiliar_qbuits)\n",
    "plt.plot(hist_theta_same['lambda'], hist_theta_same['Probability'], 'o-')\n",
    "plt.plot(hist_theta_diff['lambda'], hist_theta_diff['Probability'], 'o-')\n",
    "plt.xlabel(r'$\\lambda$')\n",
    "plt.xlabel('Probability')\n",
    "plt.legend(['Same angle', 'Different Angles'])"
   ]
  },
  {
   "cell_type": "markdown",
   "id": "78ce8152",
   "metadata": {},
   "source": [
    "If we select a different discretization the form of the distribution can be different"
   ]
  },
  {
   "cell_type": "code",
   "execution_count": null,
   "id": "1dff8591",
   "metadata": {},
   "outputs": [],
   "source": [
    "auxiliar_qbuits = 4\n",
    "hist_theta_same = rz_lib.make_histogram(\n",
    "    eigv_theta_same['Eigenvalues'], auxiliar_qbuits)\n",
    "hist_theta_diff = rz_lib.make_histogram(\n",
    "    eigv_theta_diff['Eigenvalues'], auxiliar_qbuits)\n",
    "plt.plot(hist_theta_same['lambda'], hist_theta_same['Probability'], 'o-')\n",
    "plt.plot(hist_theta_diff['lambda'], hist_theta_diff['Probability'], 'o-')\n",
    "plt.xlabel(r'$\\lambda$')\n",
    "plt.xlabel('Probability')\n",
    "plt.legend(['Same angle', 'Different Angles'])"
   ]
  },
  {
   "cell_type": "markdown",
   "id": "e79ef8b9",
   "metadata": {},
   "source": [
    "### 3.2 QPE eigenvalue computation.\n",
    "\n",
    "Now we need to compute the eigenvalues using the **QPE** algorithm. This will be done using Atos myqlm software library. \n",
    "\n",
    "For creating the corresponding circuit we can use the **rz_angles** function from *rz_lib*"
   ]
  },
  {
   "cell_type": "code",
   "execution_count": null,
   "id": "0ed082ee",
   "metadata": {},
   "outputs": [],
   "source": [
    "rz_gate_same = rz_lib.rz_angles(theta_same)\n",
    "rz_gate_diff = rz_lib.rz_angles(theta_diff)"
   ]
  },
  {
   "cell_type": "code",
   "execution_count": null,
   "id": "dff9a358",
   "metadata": {},
   "outputs": [],
   "source": [
    "%qatdisplay rz_gate_same --svg --depth 1"
   ]
  },
  {
   "cell_type": "code",
   "execution_count": null,
   "id": "98e41045",
   "metadata": {},
   "outputs": [],
   "source": [
    "%qatdisplay rz_gate_diff --svg --depth 1"
   ]
  },
  {
   "cell_type": "markdown",
   "id": "7e3159f0",
   "metadata": {},
   "source": [
    "For executing the **QPE** we can use **qpe_rz_qlm** functions that creates the complete mandatory circuit, execute it and post-procces de output to a suitable form"
   ]
  },
  {
   "cell_type": "markdown",
   "id": "b33fdccb",
   "metadata": {},
   "source": [
    "#### Computing the number of shots.\n",
    "\n",
    "The main problem is computing the number of shots. In general, we want to have for each measured eigenvalue a number of shots enough for having a good statistic. But if the eigenvalues are degenerated it could happend that the most degeneracy eigenvalues will be obtained more frequently than others. Main problem is for eigenvalues with lower degeneracy the number of shots can be not enough for having a good statistic. \n",
    "\n",
    "So we are going to execute following strategy:\n",
    "\n",
    "1. We are going to compute the probability of getting the lowest degeneracy eigenvalue from all the posible theoretical eigenvalues: $p_{lde}$.\n",
    "2. The number of shots will be equal:\n",
    "\n",
    "$$\\text{shots} = \\lceil\\frac{1000}{0.81 * p_{lde}}\\rceil$$\n",
    "\n",
    "This is because we want to have for each obtained eigenvalue near of 1000 measures such that the error with respect to the theoretical value will be lower than the discretization ($\\frac{1}{2^{m}}$).\n",
    "\n",
    "This computation can be done with *computing_shots* function"
   ]
  },
  {
   "cell_type": "code",
   "execution_count": null,
   "id": "7055d195",
   "metadata": {},
   "outputs": [],
   "source": [
    "same_shots = rz_lib.computing_shots(eigv_theta_same)\n",
    "print(\"Number of shots for same angles: {}\".format(same_shots))\n",
    "diff_shots = rz_lib.computing_shots(eigv_theta_diff)\n",
    "print(\"Number of shots for different angles: {}\".format(diff_shots))"
   ]
  },
  {
   "cell_type": "markdown",
   "id": "fae96a82",
   "metadata": {},
   "source": [
    "Now we can compute the eigenvalues using **QPE**"
   ]
  },
  {
   "cell_type": "markdown",
   "id": "6451492b",
   "metadata": {},
   "source": [
    "The *qpe_rz_qlm* function from **rz_qlm** script creates the atos qlm implementation of the **QPE** circuit for a $R_z^{\\otimes n}$ operator and solves the circuit providing the different eigenvalues ($\\lambda_j$). The mandatory inputs are:\n",
    "\n",
    "* angles : list. List with the angles that are applied to each qubit of the circuit\n",
    "* auxiliar_qbits_number : int. Number of auxiliar qubits for doing QPE.\n",
    "\n",
    "The function returns a pandas dataframe with the distribution of eigenvalues obtained.\n",
    "\n",
    "\n",
    "* lambda : lamda eigenvalue of the correspondent state\n",
    "* Probability : Probability of getting the correspondent state\n",
    "\n",
    "The format of the pandas is compatible with the pandas dataframe returned by *make_histogram* for doing direct comparison!\n",
    "\n",
    "**BE AWARE**\n",
    "\n",
    "The ordering of the **States** columns is the least significant bit at the right (it corresponds to the column labelled as **Int_lsb**)"
   ]
  },
  {
   "cell_type": "code",
   "execution_count": null,
   "id": "7f43560e",
   "metadata": {},
   "outputs": [],
   "source": [
    "auxiliar_qbuits = 10\n",
    "# Theorical distribution\n",
    "hist_theta_same = rz_lib.make_histogram(\n",
    "    eigv_theta_same['Eigenvalues'], auxiliar_qbuits)\n",
    "# QPE dstribution\n",
    "pdf_qlm_rz_same, qpe_object_ = rz_lib.qpe_rz_qlm(\n",
    "    theta_same, \n",
    "    auxiliar_qbits_number=auxiliar_qbuits, \n",
    "    shots=same_shots\n",
    ")"
   ]
  },
  {
   "cell_type": "code",
   "execution_count": null,
   "id": "4e7f7173",
   "metadata": {
    "scrolled": true
   },
   "outputs": [],
   "source": [
    "# QPE circuito\n",
    "c = qpe_object_.circuit\n",
    "%qatdisplay c --svg"
   ]
  },
  {
   "cell_type": "code",
   "execution_count": null,
   "id": "0bd313f4",
   "metadata": {},
   "outputs": [],
   "source": [
    "plt.plot(hist_theta_same['lambda'], hist_theta_same['Probability'], 'o-')\n",
    "plt.plot(pdf_qlm_rz_same['lambda'], pdf_qlm_rz_same['Probability'], 'o-')"
   ]
  },
  {
   "cell_type": "code",
   "execution_count": null,
   "id": "09c12033",
   "metadata": {},
   "outputs": [],
   "source": [
    "# As can be seen each eigenvalue is measured near 100 times\n",
    "plt.plot(hist_theta_same['lambda'], hist_theta_same['Probability'] * same_shots , 'o-')\n",
    "plt.xlabel('Eigenvalue')\n",
    "plt.ylabel('Counts')"
   ]
  },
  {
   "cell_type": "code",
   "execution_count": null,
   "id": "4497814a",
   "metadata": {
    "scrolled": true
   },
   "outputs": [],
   "source": [
    "auxiliar_qbuits = 10\n",
    "# Theorical distribution\n",
    "hist_theta_diff = rz_lib.make_histogram(\n",
    "    eigv_theta_diff['Eigenvalues'], auxiliar_qbuits)\n",
    "# QPE dstribution\n",
    "pdf_qlm_rz_diff, qpe_object = rz_lib.qpe_rz_qlm(\n",
    "    theta_diff, \n",
    "    auxiliar_qbits_number=auxiliar_qbuits, \n",
    "    shots=diff_shots)"
   ]
  },
  {
   "cell_type": "code",
   "execution_count": null,
   "id": "0812ffdd",
   "metadata": {
    "scrolled": true
   },
   "outputs": [],
   "source": [
    "plt.plot(hist_theta_diff['lambda'], hist_theta_diff['Probability'], 'o-')\n",
    "plt.plot(pdf_qlm_rz_diff['lambda'], pdf_qlm_rz_diff['Probability'], 'o-')"
   ]
  },
  {
   "cell_type": "code",
   "execution_count": null,
   "id": "6e19937b",
   "metadata": {},
   "outputs": [],
   "source": [
    "plt.plot(hist_theta_diff['lambda'], hist_theta_diff['Probability'].cumsum(), 'o-')\n",
    "plt.plot(pdf_qlm_rz_diff['lambda'], pdf_qlm_rz_diff['Probability'].cumsum(), 'o-')"
   ]
  },
  {
   "cell_type": "code",
   "execution_count": null,
   "id": "20697520",
   "metadata": {
    "scrolled": true
   },
   "outputs": [],
   "source": [
    "plt.plot(pdf_qlm_rz_diff['lambda'], pdf_qlm_rz_diff['Probability'] * diff_shots , 'o-')\n",
    "plt.xlabel('Eigenvalue')\n",
    "plt.ylabel('Counts')"
   ]
  },
  {
   "cell_type": "markdown",
   "id": "c324a8e7",
   "metadata": {},
   "source": [
    "In this case it is more difficult to see if each eigenvalue was measured near of 100 times. So we need to test it explicitely"
   ]
  },
  {
   "cell_type": "code",
   "execution_count": null,
   "id": "460eeb3a",
   "metadata": {},
   "outputs": [],
   "source": [
    "for i in set(eigv_theta_diff['Eigenvalues']):\n",
    "    pdf = pdf_qlm_rz_diff\n",
    "    # We compute the error between the measured eigenvalue \n",
    "    # and the theoretical one\n",
    "    pdf['Error'] = np.abs(pdf['lambda'] - i)\n",
    "    # We test the number of measures whose error is lower than \n",
    "    # discretization  precision\n",
    "    print(\n",
    "        sum(pdf[pdf['Error'] < 2/(2**auxiliar_qbuits)]['Probability'])\\\n",
    "        * diff_shots\n",
    "    )"
   ]
  },
  {
   "cell_type": "markdown",
   "id": "2fbef522",
   "metadata": {},
   "source": [
    "As can be seen we have near 1000 measures that verify the error condition"
   ]
  }
 ],
 "metadata": {
  "kernelspec": {
   "display_name": "Python 3 (ipykernel)",
   "language": "python",
   "name": "python3"
  },
  "language_info": {
   "codemirror_mode": {
    "name": "ipython",
    "version": 3
   },
   "file_extension": ".py",
   "mimetype": "text/x-python",
   "name": "python",
   "nbconvert_exporter": "python",
   "pygments_lexer": "ipython3",
   "version": "3.9.9"
  }
 },
 "nbformat": 4,
 "nbformat_minor": 5
}
