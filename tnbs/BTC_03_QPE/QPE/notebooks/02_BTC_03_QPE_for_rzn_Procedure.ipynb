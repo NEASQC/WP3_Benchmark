{
 "cells": [
  {
   "cell_type": "markdown",
   "id": "a5bcd51f",
   "metadata": {},
   "source": [
    "# Class for Benchmark Step\n",
    "\n",
    "We have developed a python class that implements the complete benchmark step procedure for **QPE** for a $R_z^n(\\vec{\\theta})$ operator for a fixed number of: *qubits*, *auxiliary number of qubits* and a *type of angle selection*: the *QPE_RZ* class from the *QPE.qpe_rz* module.\n",
    "\n",
    "This notebook shows how this class works"
   ]
  },
  {
   "cell_type": "code",
   "execution_count": null,
   "id": "2c7dac0c",
   "metadata": {},
   "outputs": [],
   "source": [
    "import sys\n",
    "import numpy as np\n",
    "import pandas as pd\n",
    "import matplotlib.pyplot as plt\n",
    "%matplotlib inline\n",
    "sys.path.append('../../')\n",
    "%matplotlib inline"
   ]
  },
  {
   "cell_type": "markdown",
   "id": "07acfed2",
   "metadata": {},
   "source": [
    "## 0. QPU\n",
    "\n",
    "See notebook 01_BTC_03_QPE_for_rzn_rz_library.ipynb"
   ]
  },
  {
   "cell_type": "code",
   "execution_count": null,
   "id": "7e57d269",
   "metadata": {},
   "outputs": [],
   "source": [
    "# myQLM qpus\n",
    "sys.path.append(\"../../../\")\n",
    "from qpu.select_qpu import select_qpu\n",
    "# List with the strings that should be provided for an ideal QPU\n",
    "ideal_qpus = [\"c\", \"python\", \"linalg\", \"mps\", \"qlmass_linalg\", \"qlmass_mps\"]\n",
    "qpu_config = {\n",
    "    \"qpu_type\": ideal_qpus[0], \n",
    "}\n",
    "qpu = select_qpu(qpu_config)"
   ]
  },
  {
   "cell_type": "markdown",
   "id": "7d48ee48",
   "metadata": {},
   "source": [
    "## 1. The *QPE_RZ* class"
   ]
  },
  {
   "cell_type": "markdown",
   "id": "e0be743a",
   "metadata": {},
   "source": [
    "We need to initialize the class. This should be done with a Python dictionary that configures the step benchmark execution. Mandatory keywords for the dictionary are:\n",
    "\n",
    "* **number_of_qbits**: the number of qubits for applying the Kronecker products of $R_z$\n",
    "* **auxiliar_qbits_number**: auxiliary number of qubits for performing **QPE**\n",
    "* **angles**: the angles for the $R_z^n(\\vec{\\theta})$ operator. It can be:\n",
    "    * float number: the same angle to all $R_z$\n",
    "    * list with angles: Each angle will be applied to a $R_z$. The number of elements MUST be equal to the number of qubits.\n",
    "    * string: Two different strings can be provided:\n",
    "        * *random*: random angles will be provided to each $R_z$\n",
    "        * *exact*: In this case, random angles will be provided to each $R_z$ but the final result will have a precision related with the number of auxiliary number of qubits for the **QPE**\n"
   ]
  },
  {
   "cell_type": "code",
   "execution_count": null,
   "id": "6caaf146",
   "metadata": {},
   "outputs": [],
   "source": [
    "from QPE.qpe_rz import QPE_RZ"
   ]
  },
  {
   "cell_type": "code",
   "execution_count": null,
   "id": "af70cad2",
   "metadata": {},
   "outputs": [],
   "source": [
    "n_qbits = 5\n",
    "# Fix the precision of the QPE\n",
    "aux_qbits = 6\n",
    "# angles\n",
    "angles = [np.pi / 2.0 for i in range(n_qbits)]\n",
    "# Dictionary for configuring the class\n",
    "qpe_dict = {\n",
    "    'number_of_qbits': n_qbits,\n",
    "    'auxiliar_qbits_number': aux_qbits,\n",
    "    'angles': angles,\n",
    "    #'angles' : 'random',    \n",
    "    'qpu': qpu,\n",
    "    'shots': 0\n",
    "}"
   ]
  },
  {
   "cell_type": "code",
   "execution_count": null,
   "id": "dbd9c16a",
   "metadata": {},
   "outputs": [],
   "source": [
    "qpe_rz_b = QPE_RZ(**qpe_dict)\n",
    "qpe_rz_b.exe()"
   ]
  },
  {
   "cell_type": "markdown",
   "id": "4c8de96e",
   "metadata": {},
   "source": [
    "When the computation is performed (*exe* method) 2 different metrics are computed:\n",
    "\n",
    "* Kolmogorov-Smirnov distance (**ks** attribute): it is a metric for comparing probability distributions. If it is near zero then the 2 distributions are very similar.\n",
    "* Fidelity: (**fidelity** attribute): assumes that the 2 obtained eigenvalues distribution (the theoretical and the quantum one) are vectors and computes the cosine of the angle between them. For **fidelity** near one then the vectors are more equal. \n",
    "\n",
    "Meanwhile, the **Kolmogorov-Smirnov** is the good metric for any configuration of **QPE** of the $R_z^{\\otimes n}(\\vec{\\theta})$ operator. The **fidelity** gives a very good metric when the configuration is such that the eigenvalues can be obtained exactly with the **QPE**.\n",
    "\n",
    "In the following sections we use som examples for comparing the 2 metrics behaviour.\n"
   ]
  },
  {
   "cell_type": "code",
   "execution_count": null,
   "id": "b2a14f95",
   "metadata": {},
   "outputs": [],
   "source": [
    "print(qpe_rz_b.ks, qpe_rz_b.fidelity)"
   ]
  },
  {
   "cell_type": "markdown",
   "id": "b62fa3b8",
   "metadata": {},
   "source": [
    "The class provide access to other attributes that can be useful like:\n",
    "\n",
    "* *theorical_eigv_dist*: pandas DataFrame with the theoretical eigenvalue distribution\n",
    "* *quantum_eigv_dist*: pandas DataFrame with the QPE eigenvalue distribution"
   ]
  },
  {
   "cell_type": "code",
   "execution_count": null,
   "id": "078ac42b",
   "metadata": {
    "scrolled": true
   },
   "outputs": [],
   "source": [
    "qpe_rz_b.theorical_eigv_dist"
   ]
  },
  {
   "cell_type": "code",
   "execution_count": null,
   "id": "a631536c",
   "metadata": {},
   "outputs": [],
   "source": [
    "qpe_rz_b.quantum_eigv_dist"
   ]
  },
  {
   "cell_type": "markdown",
   "id": "293eb957",
   "metadata": {},
   "source": [
    "### General QPE configuration\n",
    "\n",
    "Here we are going to execute the **QPE** of the $R_z^{\\otimes n}(\\vec{\\theta})$ operator for a random selection  of the angles. In this case, the eigenvalues of the operator can not be obtained exactly using  the QPE (we would need an infinite number of qubits to have the correct precision for obtaining exactly the eigenvalues). In this case, the **fidelity** metric does not work properly, even in the exact simulation execution, but the **Kolmogorov-Smirnov** will work.\n",
    "\n",
    "For this case, we set the variable angles to *random* for selecting random angles for each $R_z$"
   ]
  },
  {
   "cell_type": "code",
   "execution_count": null,
   "id": "74640dff",
   "metadata": {},
   "outputs": [],
   "source": [
    "#Random Angles\n",
    "n_qbits = 5\n",
    "# Fix the precision of the QPE\n",
    "aux_qbits = 10\n",
    "# angles\n",
    "# Dictionary for configuring the class\n",
    "qpe_dict = {\n",
    "    'number_of_qbits' : n_qbits,\n",
    "    'auxiliar_qbits_number' : aux_qbits,\n",
    "    #'angles' : angles,\n",
    "    'angles' : 'random',    \n",
    "    'qpu' : qpu,\n",
    "    #'shots' : 0\n",
    "}"
   ]
  },
  {
   "cell_type": "code",
   "execution_count": null,
   "id": "11519515",
   "metadata": {},
   "outputs": [],
   "source": [
    "qpe_rz_b = QPE_RZ(**qpe_dict)\n",
    "qpe_rz_b.exe()"
   ]
  },
  {
   "cell_type": "code",
   "execution_count": null,
   "id": "0ed2942f",
   "metadata": {},
   "outputs": [],
   "source": [
    "print(qpe_rz_b.ks, qpe_rz_b.fidelity)"
   ]
  },
  {
   "cell_type": "markdown",
   "id": "75734cee",
   "metadata": {},
   "source": [
    "As can be seen the **Kolmogorov-Smirnov** will give us a value near of 0, but the **fidelity** is far away from zero. We can plot the distributions to compare the results"
   ]
  },
  {
   "cell_type": "code",
   "execution_count": null,
   "id": "79e1b4a4",
   "metadata": {},
   "outputs": [],
   "source": [
    "plt.plot(qpe_rz_b.theorical_eigv_dist['lambda'], qpe_rz_b.theorical_eigv_dist['Probability'], '-')\n",
    "plt.plot(qpe_rz_b.quantum_eigv_dist['lambda'], qpe_rz_b.quantum_eigv_dist['Probability'], '-o')\n",
    "plt.xlabel('$\\lambda$')\n",
    "plt.ylabel('Probability')\n",
    "plt.legend(['Theorical', 'QPE'])"
   ]
  },
  {
   "cell_type": "markdown",
   "id": "59e0c15a",
   "metadata": {},
   "source": [
    "The cumulative distributions give us a more exact view of the similaritary of the distributions"
   ]
  },
  {
   "cell_type": "code",
   "execution_count": null,
   "id": "192b73c5",
   "metadata": {},
   "outputs": [],
   "source": [
    "%matplotlib inline"
   ]
  },
  {
   "cell_type": "code",
   "execution_count": null,
   "id": "f1273293",
   "metadata": {},
   "outputs": [],
   "source": [
    "plt.plot(qpe_rz_b.theorical_eigv_dist['lambda'], qpe_rz_b.theorical_eigv_dist['Probability'].cumsum(), 'o')\n",
    "plt.plot(qpe_rz_b.quantum_eigv_dist['lambda'], qpe_rz_b.quantum_eigv_dist['Probability'].cumsum(), '-')\n",
    "plt.xlabel('$\\lambda$')\n",
    "plt.ylabel('Probability')\n",
    "plt.legend(['Theorical', 'QPE'])\n",
    "plt.show()"
   ]
  },
  {
   "cell_type": "markdown",
   "id": "37d9e535",
   "metadata": {},
   "source": [
    "### Particular configuration\n",
    "\n",
    "We can fix the angles of the $R_z^{\\otimes n}(\\vec{\\theta})$ operator in such a way that the **QPE** can computes exactly the eigenvalues. In this case the **fidelity** works in a very accurate way. This particular configuration is very useful for assesing the capabilities of a quantum computer for executing **QPE** without the noise that have the general case.\n",
    "\n",
    "For an exact computation we have to provide to the different angles of the $R_z$'s angles that should be multiple of the minimum angular precision of the **QPE** that will be given by: \n",
    "\n",
    "$$\\delta \\theta = \\frac{4 \\pi}{2^{m}}$$\n",
    "\n",
    "where $m$ is the number of auxiliar qbuits of the **QPE**.\n",
    "\n",
    "Providing the *exact* to the keyword **angles** the class compute the angles of the different $R_z$'s by using:\n",
    "\n",
    "$$\\theta_{i+1} = \\theta_i +  a * \\delta \\theta$$ \n",
    "\n",
    "with $\\theta_0 = \\frac{\\pi}{2}$ and $a$ random variable that can be $\\{-1,1\\}$"
   ]
  },
  {
   "cell_type": "code",
   "execution_count": null,
   "id": "3ef309de",
   "metadata": {},
   "outputs": [],
   "source": [
    "n_qbits = 7\n",
    "# Fix the precision of the QPE\n",
    "aux_qbits = 7\n",
    "# angles. The eigenvalues will be sum of the minimum preccision of the QPE\n",
    "#angles = [4 * np.pi / 2 ** aux_qbits for i in range(n_qbits)]\n",
    "angles = 'exact'\n",
    "# Dictionary for configuring the class\n",
    "qpe_dict = {\n",
    "    'number_of_qbits' : n_qbits,\n",
    "    'auxiliar_qbits_number' : aux_qbits,\n",
    "    'angles' : angles,\n",
    "    #'angles' : 'random',    \n",
    "    'qpu' : qpu,\n",
    "    #'shots' : 0\n",
    "}"
   ]
  },
  {
   "cell_type": "code",
   "execution_count": null,
   "id": "503b9af2",
   "metadata": {},
   "outputs": [],
   "source": [
    "qpe_rz_b.angles"
   ]
  },
  {
   "cell_type": "code",
   "execution_count": null,
   "id": "4d0c8974",
   "metadata": {},
   "outputs": [],
   "source": [
    "qpe_rz_b = QPE_RZ(**qpe_dict)\n",
    "qpe_rz_b.exe()"
   ]
  },
  {
   "cell_type": "code",
   "execution_count": null,
   "id": "3abcdffb",
   "metadata": {},
   "outputs": [],
   "source": [
    "print(qpe_rz_b.ks, qpe_rz_b.fidelity)"
   ]
  },
  {
   "cell_type": "markdown",
   "id": "2c665358",
   "metadata": {},
   "source": [
    "As can be seen the **fidelity** now is near to 1. This is because the **QPE**, now, allows to compute exactly the eigenvalues of the operator"
   ]
  },
  {
   "cell_type": "code",
   "execution_count": null,
   "id": "1486cafd",
   "metadata": {},
   "outputs": [],
   "source": [
    "%matplotlib inline\n",
    "plt.plot(qpe_rz_b.theorical_eigv_dist['lambda'], qpe_rz_b.theorical_eigv_dist['Probability'], '-')\n",
    "plt.plot(qpe_rz_b.quantum_eigv_dist['lambda'], qpe_rz_b.quantum_eigv_dist['Probability'], '-o')\n",
    "plt.xlabel('$\\lambda$')\n",
    "plt.ylabel('Probability')\n",
    "plt.legend(['Theorical', 'QPE'])"
   ]
  },
  {
   "cell_type": "code",
   "execution_count": null,
   "id": "2c0c210a",
   "metadata": {},
   "outputs": [],
   "source": [
    "%matplotlib inline\n",
    "plt.bar(\n",
    "    qpe_rz_b.theorical_eigv_dist['lambda'], \n",
    "    qpe_rz_b.theorical_eigv_dist['Probability'],\n",
    "    width = 1 / 2**7\n",
    ")\n",
    "plt.xlim(0,1)\n",
    "plt.ylim(0,0.12)\n",
    "plt.ylabel(r'$P^{th}_{\\lambda,m}\\left(\\frac{j}{2^m}\\right)$')\n",
    "plt.xlabel(r'$\\frac{j}{2^m}$')"
   ]
  },
  {
   "cell_type": "markdown",
   "id": "e8aa2868-5152-4dee-9a07-3f4a82f4f735",
   "metadata": {},
   "source": [
    "## 3.Command line execution\n",
    "\n",
    "The module **QPE.qpe_rz** can be executed from the command line to get a complete execution of a QPE step. The following command provides help for using it:\n",
    "\n",
    "    python qpe_rz.py -h\n",
    "    \n",
    "    usage: qpe_rz.py [-h] [-n_qbits N_QBITS] [-aux_qbits AUX_QBITS] [-shots SHOTS] [-angles ANGLES] [-json_qpu JSON_QPU] [-id ID] [-repetitions REPETITIONS]\n",
    "                     [-folder FOLDER_PATH] [-name BASE_NAME] [--count] [--print] [--save] [--exe]\n",
    "\n",
    "    options:\n",
    "      -h, --help            show this help message and exit\n",
    "      -n_qbits N_QBITS      Number of qbits for unitary operator.\n",
    "      -aux_qbits AUX_QBITS  Number of auxiliary qubits for QPE\n",
    "      -shots SHOTS          Number of shots: Only valid number is 0 (for exact simulation)\n",
    "      -angles ANGLES        Select the angle load method: 0->exact. 1->random\n",
    "      -json_qpu JSON_QPU    JSON with the qpu configuration\n",
    "      -id ID                For executing only one element of the list (select the QPU)\n",
    "      -repetitions REPETITIONS\n",
    "                            Number of repetitions the integral will be computed.Default: 1\n",
    "      -folder FOLDER_PATH   Path for storing folder\n",
    "      -name BASE_NAME       Additional name for the generated files\n",
    "      --count               For counting elements on the list\n",
    "      --print               For printing\n",
    "      --save                For saving results\n",
    "      --exe                 For executing program\n",
    "\n",
    "The qpu configuration should be provided as a JSON file. In the folder **tnbs/qpu/** two examples of JSON files can be found:\n",
    "* *tnbs/qpu/qpu_ideal.json*: This JSON configures qpus for ideal simulation.\n",
    "* *tnbs/qpu/qpu_noisy.json*: This JSON configures qpus for noisy simulation (only valid if the user is connected to an EVIDEN QLM)\n",
    "\n",
    "These JSON files allow to the user configure several qpus at the same time and the user can select which one to use. \n",
    "\n",
    "\n",
    "#### **--count** argument\n",
    "\n",
    "The **--count** argument allows to the user know how many qpus have been configured for the corresponding JSON qpu file configuration. \n",
    "\n",
    "If the *QPE/qpu/qpu_ideal.json* was not modified then the following command will return 6 (because 6 different qpus are configured originally in the JSON file):\n",
    "\n",
    "    python qpe_rz.py -n_qbits 4 -aux_qbits 8 -angles 0 -json_qpu ../../qpu/qpu_ideal.json  --count\n",
    "\n",
    "#### **--print** argument\n",
    "\n",
    "The **--print** argument in combination with the -id ID argument allows to the user know what is the configuration of the QPU, and the configuration of the **QPE** and the $R_z^{\\otimes n}(\\vec{\\theta})$ operator.\n",
    "\n",
    "If the *PL/qpu/qpu_ideal.json* was not modified then the following command:\n",
    "\n",
    "        python qpe_rz.py -n_qbits 4 -aux_qbits 8 -angles 0 -json_qpu ../../qpu/qpu_ideal.json -id 0 --print\n",
    "\n",
    "will return:\n",
    "\n",
    "    ##### QPE configuration #####\n",
    "\n",
    "    {'number_of_qbits': 4, 'auxiliar_qbits_number': 8, 'shots': None, 'angles': 'exact'}\n",
    "\n",
    "    ##### QPU configuration #####\n",
    "\n",
    "    {'qpu_type': 'c', 't_gate_1qb': None, 't_gate_2qbs': None, 't_readout': None, 'depol_channel': {'active': False, 'error_gate_1qb': None, 'error_gate_2qbs': None}, 'idle': {'amplitude_damping': False, 'dephasing_channel': False, 't1': None, 't2': None}, 'meas': {'active': False, 'readout_error': None}}\n",
    "\n",
    "\n",
    "Meanwhile the command:\n",
    "\n",
    "    python qpe_rz.py -n_qbits 4 -aux_qbits 8 -angles 0 -json_qpu ../../qpu/qpu_ideal.json -id 3 --print\n",
    "    \n",
    "will return:\n",
    "\n",
    "    ##### QPE configuration #####\n",
    "    {'number_of_qbits': 4, 'auxiliar_qbits_number': 8, 'shots': None, 'angles': 'exact'}\n",
    "    ##### QPU configuration #####\n",
    "    {'qpu_type': 'mps', 't_gate_1qb': None, 't_gate_2qbs': None, 't_readout': None, 'depol_channel': {'active': False, 'error_gate_1qb': None, 'error_gate_2qbs': None}, 'idle': {'amplitude_damping': False, 'dephasing_channel': False, 't1': None, 't2': None}, 'meas': {'active': False, 'readout_error': None}}\n",
    "\n",
    "#### **--exe** argument\n",
    "\n",
    "The **--exe** argument in combination with the -id ID argument allows to the user execute the *ID* configuration case.\n",
    "\n",
    "\n",
    "##### Examples\n",
    "\n",
    "\n",
    "For computing the case for the 4 qubits operator with 8 auxiliary qubits for the exact angles case using the **C** linear algebra QPU the following command can be executed:\n",
    "\n",
    "    python qpe_rz.py -n_qbits 4 -aux_qbits 8 -angles 0 -json_qpu ../../qpu/qpu_ideal.json -id 0 --exe\n",
    "\n",
    "For computing the case for the 4 qubits operator with 8 auxiliary qubits for the random angles case using the **C** linear algebra QPU the following command can be executed:\n",
    "\n",
    "    python qpe_rz.py -n_qbits 4 -aux_qbits 8 -angles 1 -json_qpu ../../qpu/qpu_ideal.json -id 0 --exe\n",
    "    \n",
    "   "
   ]
  },
  {
   "cell_type": "markdown",
   "id": "3cb12dc9-054b-4a85-a7e3-5070d849cdba",
   "metadata": {},
   "source": [
    "## 4. my\\_benchmark\\_execution\n",
    "\n",
    "A complete benchmark execution following the **TNBS** guidelines can be performed by using the **my\\_benchmark\\_execution.py** module in the **BTC_03_QPE** folder.\n",
    "\n",
    "\n",
    "The configuration of the **BTC** can be done at the end of the script (code under  ############## CONFIGURE THE BTC  ################### line). Here the user should provide the **JSON** file for configuring the **QPU** (*qpu_json_file* variable) used for computing the **QPE** algorithm.\n",
    "\n",
    "If there are different possible **QPU** configurations the user must change properly the *id_qpu* variable.\n",
    "\n",
    "For configuring the different auxiliary qubits number used for the **QPE** the variable *auxiliar_qbits_number*. \n",
    "\n",
    "For selecting the number of qubits to execute, the variable *list_of_qbits* should be modified (a list with different numbers of qubits should be provided).\n",
    "\n",
    "**NOTE** \n",
    "\n",
    "The bechmark will be executed for each number of qubits and auxiliary qubits number. So if you provide:\n",
    "* auxiliar_qbits_number : [10, 12]\n",
    "* list_of_qbits: [6, 8]\n",
    "\n",
    "then $R_z$ operator of 15 and 18 qubits will be build and the QPE with 10 and 12 auxiliary qubits (for each operator) will be executed (4 different executions will be done).\n",
    "\n",
    "The folder for saving the generated files can be provided to the *saving_folder* variable. \n",
    "\n",
    "The benchmark execution can be changed by modifying the different keys and variables under the ############## CONFIGURE THE BENCHMARK EXECUTION  ################# line (for default TNBS benchmark execution these keys should not be modified).\n",
    "\n"
   ]
  },
  {
   "cell_type": "markdown",
   "id": "f631de04-2905-4595-9264-7fbfa8edbf48",
   "metadata": {},
   "source": [
    "## 5. Generating the JSON file.\n",
    "\n",
    "Once the files from a complete benchmark execution are generated the information should be formated following the **NEASQC JSON schema**. For doing this the **neasqc_benchmark.py** module can be used. At the end of the file the path to the folder where all the files from benchmark are stored should be provided to the variable **folder**.\n",
    "\n",
    "For creating the JSON file following command should be executed:\n",
    "\n",
    "    python neasqc_benchmark.py"
   ]
  },
  {
   "cell_type": "markdown",
   "id": "a7e7908b-17b2-45cf-a0e3-d666d56d6136",
   "metadata": {},
   "source": [
    "## 6. Complete Workflow.\n",
    "\n",
    "The bash script **benchmark_exe.sh** allows automatize the execution of the benchmark and the JSON file generation (once the *my_benchmark_execution.py* and the *neasqc_benchmark.py* are properly configured).\n",
    "\n",
    "    bash benchmark_exe.sh"
   ]
  }
 ],
 "metadata": {
  "kernelspec": {
   "display_name": "Python 3 (ipykernel)",
   "language": "python",
   "name": "python3"
  },
  "language_info": {
   "codemirror_mode": {
    "name": "ipython",
    "version": 3
   },
   "file_extension": ".py",
   "mimetype": "text/x-python",
   "name": "python",
   "nbconvert_exporter": "python",
   "pygments_lexer": "ipython3",
   "version": "3.9.9"
  }
 },
 "nbformat": 4,
 "nbformat_minor": 5
}
