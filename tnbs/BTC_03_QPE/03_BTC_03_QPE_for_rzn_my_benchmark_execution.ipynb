{
 "cells": [
  {
   "cell_type": "code",
   "execution_count": null,
   "id": "3f35e697",
   "metadata": {},
   "outputs": [],
   "source": [
    "import numpy as np\n",
    "import pandas as pd\n",
    "import matplotlib.pyplot as plt\n",
    "%matplotlib notebook\n",
    "import glob\n",
    "import re"
   ]
  },
  {
   "cell_type": "code",
   "execution_count": null,
   "id": "6878f41d",
   "metadata": {},
   "outputs": [],
   "source": [
    "# myQLM qpus\n",
    "from qat.qpus import PyLinalg, CLinalg\n",
    "qpu_c = CLinalg()\n",
    "qpu_p = PyLinalg()"
   ]
  },
  {
   "cell_type": "code",
   "execution_count": null,
   "id": "7814cc03",
   "metadata": {},
   "outputs": [],
   "source": [
    "import my_benchmark_execution as bench"
   ]
  },
  {
   "cell_type": "code",
   "execution_count": null,
   "id": "92a0b297",
   "metadata": {},
   "outputs": [],
   "source": [
    "    kernel_configuration = {\n",
    "        \"angles\" : [\"random\", \"exact\"],\n",
    "        'auxiliar_qbits_number' : [3, 4, 5],\n",
    "        \"qpu\" : \"c\", #python, qlmass, default\n",
    "        \"fidelity_error\" : 0.001,\n",
    "        \"ks_error\" : 0.05\n",
    "    }\n",
    "\n",
    "    benchmark_arguments = {\n",
    "        #Pre benchmark sttuff\n",
    "        \"pre_benchmark\": True,\n",
    "        \"pre_samples\": [10, 20],\n",
    "        \"pre_save\": True,\n",
    "        #Saving stuff\n",
    "        \"save_append\" : True,\n",
    "        \"saving_folder\": \"./Results/\",\n",
    "        \"benchmark_times\": \"kernel_times_benchmark.csv\",\n",
    "        \"csv_results\": \"kernel_benchmark.csv\",\n",
    "        \"summary_results\": \"kernel_SummaryResults.csv\",\n",
    "        #Computing Repetitions stuff\n",
    "        \"alpha\": 0.05,\n",
    "        \"min_meas\": 15,\n",
    "        \"max_meas\": None,\n",
    "        #List number of qubits tested\n",
    "        \"list_of_qbits\": [4, 5],\n",
    "    }"
   ]
  },
  {
   "cell_type": "code",
   "execution_count": null,
   "id": "c1487167",
   "metadata": {},
   "outputs": [],
   "source": [
    "    #Configuration for the benchmark kernel\n",
    "    benchmark_arguments.update({\"kernel_configuration\": kernel_configuration})\n",
    "    kernel_bench = bench.KERNEL_BENCHMARK(**benchmark_arguments)\n",
    "    kernel_bench.exe()"
   ]
  },
  {
   "cell_type": "markdown",
   "id": "f799a6ee",
   "metadata": {},
   "source": [
    "## Analysis of output"
   ]
  },
  {
   "cell_type": "code",
   "execution_count": null,
   "id": "cc0f3bd4",
   "metadata": {},
   "outputs": [],
   "source": [
    "path = './Results/'"
   ]
  },
  {
   "cell_type": "code",
   "execution_count": null,
   "id": "100de130",
   "metadata": {},
   "outputs": [],
   "source": [
    "def load_data(complete_folder):\n",
    "    lista = glob.glob(complete_folder+'*.csv')\n",
    "    return lista\n",
    "    print(lista)\n",
    "    pdf = pd.concat([pd.read_csv(step, index_col=0, header=0) for step in lista])\n",
    "    pdf.reset_index(drop=True, inplace=True)\n",
    "    return pdf"
   ]
  },
  {
   "cell_type": "code",
   "execution_count": null,
   "id": "fcab72ce",
   "metadata": {},
   "outputs": [],
   "source": [
    "file_list = load_data(path)"
   ]
  },
  {
   "cell_type": "code",
   "execution_count": null,
   "id": "25d285d4",
   "metadata": {},
   "outputs": [],
   "source": [
    "wanted_files = list(filter(\n",
    "    lambda x: re.search('pre_benchmark', x) is not None, file_list\n",
    "))"
   ]
  },
  {
   "cell_type": "code",
   "execution_count": null,
   "id": "ab93b9eb",
   "metadata": {},
   "outputs": [],
   "source": [
    "pdf = pd.concat([pd.read_csv(\n",
    "    step, index_col=0, header=0, sep =';') for step in wanted_files])"
   ]
  },
  {
   "cell_type": "code",
   "execution_count": null,
   "id": "acf7be41",
   "metadata": {},
   "outputs": [],
   "source": [
    "pdf.groupby(['n_qbits', 'aux_qbits', 'angle_method']).mean()"
   ]
  },
  {
   "cell_type": "code",
   "execution_count": null,
   "id": "142d9ccc",
   "metadata": {},
   "outputs": [],
   "source": [
    "pdf.groupby(['n_qbits', 'aux_qbits', 'angle_method']).std()"
   ]
  },
  {
   "cell_type": "code",
   "execution_count": null,
   "id": "bc787e29",
   "metadata": {},
   "outputs": [],
   "source": [
    "file_list"
   ]
  },
  {
   "cell_type": "code",
   "execution_count": null,
   "id": "03fba192",
   "metadata": {},
   "outputs": [],
   "source": [
    "sumary = pd.read_csv(\n",
    "    file_list[-1], header=[0, 1], index_col=[0, 1, 2])"
   ]
  },
  {
   "cell_type": "code",
   "execution_count": null,
   "id": "20883a5c",
   "metadata": {
    "scrolled": true
   },
   "outputs": [],
   "source": [
    "sumary[\n",
    "    sumary.index.get_level_values('angle_method') == 'exact'\n",
    "]['KS']"
   ]
  },
  {
   "cell_type": "code",
   "execution_count": null,
   "id": "100d676f",
   "metadata": {},
   "outputs": [],
   "source": [
    " \"ks_error\" : 0.05\n",
    "        \"fidelity_error\" : 0.001,"
   ]
  },
  {
   "cell_type": "code",
   "execution_count": null,
   "id": "2c1fec2a",
   "metadata": {
    "scrolled": true
   },
   "outputs": [],
   "source": [
    "sumary[\n",
    "    sumary.index.get_level_values('angle_method') == 'exact'\n",
    "]['fidelity']"
   ]
  },
  {
   "cell_type": "code",
   "execution_count": null,
   "id": "cc553905",
   "metadata": {},
   "outputs": [],
   "source": [
    "benchmark = pd.read_csv(file_list [1], sep=';', index_col=0)"
   ]
  },
  {
   "cell_type": "code",
   "execution_count": null,
   "id": "df01f33a",
   "metadata": {},
   "outputs": [],
   "source": [
    "goruped_staf = benchmark.groupby(['n_qbits', 'aux_qbits'])"
   ]
  },
  {
   "cell_type": "code",
   "execution_count": null,
   "id": "0d23ed8e",
   "metadata": {},
   "outputs": [],
   "source": [
    "goruped_staf.describe()['KS']"
   ]
  },
  {
   "cell_type": "code",
   "execution_count": null,
   "id": "13c7474d",
   "metadata": {},
   "outputs": [],
   "source": []
  },
  {
   "cell_type": "code",
   "execution_count": null,
   "id": "6f8f6636",
   "metadata": {},
   "outputs": [],
   "source": []
  },
  {
   "cell_type": "code",
   "execution_count": null,
   "id": "45cb4ebf",
   "metadata": {},
   "outputs": [],
   "source": [
    "sumary.columns"
   ]
  },
  {
   "cell_type": "code",
   "execution_count": null,
   "id": "526137d5",
   "metadata": {},
   "outputs": [],
   "source": [
    "sumary2 = sumary.reset_index()"
   ]
  },
  {
   "cell_type": "code",
   "execution_count": null,
   "id": "4080d6f7",
   "metadata": {
    "scrolled": false
   },
   "outputs": [],
   "source": [
    "n_qbits = 5\n",
    "aux_qbits = 4 \n",
    "angle_method = 'exact'"
   ]
  },
  {
   "cell_type": "code",
   "execution_count": null,
   "id": "95a4be7d",
   "metadata": {},
   "outputs": [],
   "source": [
    "indices = (sumary2['n_qbits'] == n_qbits) & (sumary2['aux_qbits'] == aux_qbits) & (sumary2['angle_method'] == angle_method)"
   ]
  },
  {
   "cell_type": "code",
   "execution_count": null,
   "id": "c07615be",
   "metadata": {
    "scrolled": true
   },
   "outputs": [],
   "source": [
    "ks_mean = list(sumary2[indices]['KS']['mean'])[0]\n",
    "print(ks_mean)\n",
    "fid_mean = list(sumary2[indices]['fidelity']['mean'])[0]\n",
    "print(fid_mean)"
   ]
  },
  {
   "cell_type": "code",
   "execution_count": null,
   "id": "191fc175",
   "metadata": {},
   "outputs": [],
   "source": [
    "from qpe_rz import QPE_RZ"
   ]
  },
  {
   "cell_type": "code",
   "execution_count": null,
   "id": "fd9695ed",
   "metadata": {},
   "outputs": [],
   "source": [
    "# Dictionary for configuring the class\n",
    "qpe_dict = {\n",
    "    'number_of_qbits' : n_qbits,\n",
    "    'auxiliar_qbits_number' : aux_qbits,\n",
    "    'angles' : angle_method,\n",
    "    #'angles' : 'random',    \n",
    "    'qpu' : qpu_c,\n",
    "    'shots' : None\n",
    "}"
   ]
  },
  {
   "cell_type": "code",
   "execution_count": null,
   "id": "c7c08b5a",
   "metadata": {},
   "outputs": [],
   "source": [
    "opa=[]\n",
    "for i in range(50):\n",
    "    qpe_rz_b = QPE_RZ(**qpe_dict)\n",
    "    qpe_rz_b.exe()\n",
    "    opa.append(qpe_rz_b.pdf[['KS', 'fidelity']])"
   ]
  },
  {
   "cell_type": "code",
   "execution_count": null,
   "id": "9ca8e7e9",
   "metadata": {},
   "outputs": [],
   "source": [
    "opa2 =pd.concat(opa).reset_index(drop=True)"
   ]
  },
  {
   "cell_type": "code",
   "execution_count": null,
   "id": "4fb96052",
   "metadata": {},
   "outputs": [],
   "source": [
    "#KS\n",
    "low = ks_mean - 0.01\n",
    "high = ks_mean + 0.01\n",
    "\n",
    "print(sum(opa2['KS'] > high) /len(opa2))\n",
    "print(sum(opa2['KS'] < low) / len(opa2))"
   ]
  },
  {
   "cell_type": "code",
   "execution_count": null,
   "id": "3e19ac9c",
   "metadata": {},
   "outputs": [],
   "source": [
    "#fidelity\n",
    "low = fid_mean - 0.01\n",
    "high = fid_mean + 0.01\n",
    "\n",
    "print(sum(opa2['fidelity'] > high) /len(opa2))\n",
    "print(sum(opa2['fidelity'] < low) / len(opa2))"
   ]
  },
  {
   "cell_type": "code",
   "execution_count": null,
   "id": "67d1f11a",
   "metadata": {},
   "outputs": [],
   "source": []
  },
  {
   "cell_type": "code",
   "execution_count": null,
   "id": "f8a0d06e",
   "metadata": {},
   "outputs": [],
   "source": []
  }
 ],
 "metadata": {
  "kernelspec": {
   "display_name": "Python 3 (ipykernel)",
   "language": "python",
   "name": "python3"
  },
  "language_info": {
   "codemirror_mode": {
    "name": "ipython",
    "version": 3
   },
   "file_extension": ".py",
   "mimetype": "text/x-python",
   "name": "python",
   "nbconvert_exporter": "python",
   "pygments_lexer": "ipython3",
   "version": "3.9.9"
  }
 },
 "nbformat": 4,
 "nbformat_minor": 5
}
