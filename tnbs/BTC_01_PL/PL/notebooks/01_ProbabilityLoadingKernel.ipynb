{
 "cells": [
  {
   "cell_type": "markdown",
   "id": "31728759",
   "metadata": {},
   "source": [
    "# Probability Loading Benchmark.\n",
    "\n",
    "$$\\newcommand{\\braket}[2]{\\left\\langle{#1}\\middle|{#2}\\right\\rangle}$$\n",
    "$$\\newcommand{\\ket}[1]{\\left|{#1}\\right\\rangle}$$\n",
    "$$\\newcommand{\\bra}[1]{\\left\\langle{#1}\\right|}$$\n",
    "\n"
   ]
  },
  {
   "cell_type": "code",
   "execution_count": null,
   "id": "547ba69d",
   "metadata": {},
   "outputs": [],
   "source": [
    "import sys\n",
    "sys.path.append(\"../\")\n",
    "import matplotlib.pyplot as plt\n",
    "import numpy as np"
   ]
  },
  {
   "cell_type": "markdown",
   "id": "b5c3e552",
   "metadata": {},
   "source": [
    "## 01. Kernel\n",
    "\n",
    "The **PL Kernel** can be defined, mathematically as follows:\n",
    "\n",
    "Let $\\mathbf{V}$ be a normalised vector of complex values:\n",
    "\n",
    "\\begin{equation}\\label{eq:vector}\n",
    "    \\mathbf{V} = \\{v_0, v_1, \\cdot, v_{2^n-1} \\}, v_i\\in \\mathbb{C} \n",
    "\\end{equation}\n",
    "\n",
    "such that\n",
    "\n",
    "\\begin{equation}\\label{eq:vector_norm}\n",
    "    \\sum_{i=0}^{2^n-1}|v_i|^2 =1\n",
    "\\end{equation}\n",
    "\n",
    "The main task of the **PL Kernel** is the creation of an operator $\\mathbf{U}$, from the normalised vector $\\mathbf{V}$, which satisfies equation:\n",
    "\n",
    "\\begin{equation}\n",
    "    \\mathbf{U}|0\\rangle_n = \\sum_{i=0}^{2^n-1} v_i|i\\rangle_n\n",
    "\\end{equation}\n",
    "\n",
    "In the case of the **TNBS** we are going to use a probability density, **pdf**, as the input vector (so $V = P$):\n",
    "\n",
    "\\begin{equation}\\label{eq:probabilÇities}\n",
    "    \\mathbf{P} = \\{p_0, p_1, \\cdot, p_{2^n-1} \\}, p_i\\in [0,1] \n",
    "\\end{equation}\n",
    "\n",
    "where:\n",
    "\n",
    "\\begin{equation}\\label{eq:prob_norm}\n",
    "    \\sum_{i=0}^{2^n-1}|p_i|^2 =1\n",
    "\\end{equation}\n",
    "\n",
    "For this particular case:\n",
    "\n",
    "\\begin{equation}\\label{eq:problem_pl2}\n",
    "    \\mathbf{U}_p|0\\rangle_n = \\sum_{i=0}^{2^n-1} \\sqrt{p_i}|i\\rangle_n\n",
    "\\end{equation}"
   ]
  },
  {
   "cell_type": "markdown",
   "id": "6ae1b84e",
   "metadata": {},
   "source": [
    "## 02. Benchmark Test Case.\n",
    "\n",
    "\n",
    "The associated **BTC** for the **PL** benchmark will be the loading of a Gaussian function. The procedure will be:\n",
    "\n",
    "1. Create the discrete probability density function\n",
    "2. Creating the probability loading unitary operator $\\mathbf{U}_p$\n",
    "3. Execution of the quantum program and measuring of the quantum probability distribution.\n",
    "4. Metrics computation."
   ]
  },
  {
   "cell_type": "markdown",
   "id": "c661e65e",
   "metadata": {},
   "source": [
    "### 1. Create the discrete probability density function.\n",
    "\n",
    "We need to create the discrete probability density function. The **TNBS** fixes the following procedure:\n",
    "\n",
    "* Take a random uniform distribution with a particular mean, $\\tilde{\\mu}$ and standard deviation, $\\tilde{\\sigma}$, selected within the following ranges:\n",
    "    * $\\tilde{\\mu} \\in [-2, 2]$\n",
    "    * $\\tilde{\\sigma} \\in [0.1, 2]$\n",
    "* So the normal \\textbf{PDF} is: $N_{\\tilde{\\mu},\\tilde{\\sigma}} (x)$ \n",
    "* Set the number of qubits to $n$.\n",
    "* Create an array of $2^n$ values: $\\mathbf{x}=\\{x_0, x_1, x_2, \\cdots, x_{2^n-1}\\}$ where\n",
    "    * $x_0$ such that $$\\int _{-\\infty} ^{x_0} N_{\\tilde{\\mu},\\tilde{\\sigma}}(x)dx = 0.05$$\n",
    "    * $x_{2^n-1}$ such that $$\\int _{-\\infty} ^{x_{2^n-1}}N_{\\tilde{\\mu},\\tilde{\\sigma}}(x) dx = 0.95$$\n",
    "    * $x_{i+1} = x_i + \\Delta x$\n",
    "    * $\\Delta x = \\frac{x_{2^n-1}-x_0}{2^n}$\n",
    "* Create a $2^n$ values array, $\\mathbf{P}$ from $\\mathbf{x}$ by:  \n",
    "    $$\\mathbf{P}(\\mathbf{x}) = \\{ P(x_0), P(x_1), \\cdots, P(x_{2^n-1}) \\} = \\{N_{\\tilde{\\mu},\\tilde{\\sigma}}(x_0), N_{\\tilde{\\mu},\\tilde{\\sigma}}(x_1), \\cdots, N_{\\tilde{\\mu},\\tilde{\\sigma}}(x_{2^n-1}) \\}$$\n",
    "* Normalize the $\\mathbf{P}$ array: \n",
    "    $$\\mathbf{P_{norm}}(\\mathbf{x}) = \\{ P_{norm}(x_0), P_{norm}(x_1), \\cdots, P_{norm}(x_{2^n-1}) \\}$$\n",
    "    where $$P_{norm}(x_{i}) = \\frac{P(x_i)}{\\sum_{j=0}^{2^n-1} P(x_j)}$$\n",
    "* Compute the number of shots $n_{shots}$   as:\n",
    "    $$n_{shots} = \\min(10^6, \\frac{100}{\\min(\\mathbf{P_{norm}}(\\mathbf{x}))})$$\n",
    "    \n",
    "All this part of the procedure is implemented by the *get_theoric_probability* function from **PL/data\\_loading** module. The function takes the number of qubits as input and returns  the following outputs:\n",
    "\n",
    "* $x$ \n",
    "* $P_{norm}(x)$\n",
    "* $\\tilde{\\mu}$\n",
    "* $\\tilde{\\mu}$\n",
    "* $\\Delta x*$\n",
    "* $n_{shots}$\n",
    "* $\\sum_{j=0}^{2^n-1} P(x_j)$\n",
    "\n",
    "Each time the function is executed a different distribution will be returned with  $\\tilde{\\mu} \\in [-2, 2]$ and $\\tilde{\\sigma} \\in [0.1, 2]$."
   ]
  },
  {
   "cell_type": "code",
   "execution_count": null,
   "id": "7e16ec87",
   "metadata": {},
   "outputs": [],
   "source": [
    "from data_loading import get_theoric_probability"
   ]
  },
  {
   "cell_type": "code",
   "execution_count": null,
   "id": "b13dbe86",
   "metadata": {},
   "outputs": [],
   "source": [
    "x, pn, mu, sigma, deltax, shots, norm = get_theoric_probability(5)\n",
    "y, pny, muy, sigmay, deltay, shotsy, normy = get_theoric_probability(5)"
   ]
  },
  {
   "cell_type": "code",
   "execution_count": null,
   "id": "c65b0306",
   "metadata": {},
   "outputs": [],
   "source": [
    "plt.plot(x, pn, '-o')\n",
    "plt.plot(y, pny, '-o')"
   ]
  },
  {
   "cell_type": "markdown",
   "id": "d1a7ffc8",
   "metadata": {},
   "source": [
    "### 2. Creating the probability loading unitary operator $\\mathbf{U}_p$,\n",
    "\n",
    "Once the discrete probability distribution is created the unitary operator $\\mathbf{U}_p$ for loading it into a quantum state should be created. This operator $\\mathbf{U}_p$ acts in the following way:\n",
    "\n",
    "\\begin{equation}\n",
    "    \\mathbf{U}_p|0\\rangle_n = \\sum_{i=0}^{2^n-1} \\sqrt{p_i}|i\\rangle_n\n",
    "\\end{equation}\n",
    "\n",
    "The *load_probability* function from **PL/data\\_loading** module creates this operator $\\mathbf{U}_p$ given the discrete probability function as input array. The function needs 2 inputs:\n",
    "* array with the normalised discrete probability array\n",
    "* method: string for selecting the algorithm  for creating the $\\mathbf{U}_p$. The algorithm for creating the $\\mathbf{U}_p$ will be the one that appeared in: *Grover, L., & Rudolph, T. (2002). Creating superpositions that correspond to efficiently integrable probability distributions*. In this algorithm, controlled rotations by state are needed to load the probability distribution into the quantum state. The selection method allows different implementations of these controlled rotations by state:\n",
    "    * *brute\\_force*: uses the direct implementation of controlled rotation by state.\n",
    "    * *multiplexor*: the controlled rotations are implemented using **Quantum mulitplexors** as explained in: *V.V. Shende and S.S. Bullock and I.L. Markov. Synthesis of quantum-logic circuits*.\n",
    "    * *KPTree*: **myqlm** implementation of the *Grover and Rudolph* algorithm  using **Quantum mulitplexors**.\n",
    "    \n",
    "The output of the function is a **myqlm** gate with the circuit implementation of the $\\mathbf{U}_p$ operator."
   ]
  },
  {
   "cell_type": "code",
   "execution_count": null,
   "id": "b56f9a7e",
   "metadata": {},
   "outputs": [],
   "source": [
    "from data_loading import load_probability"
   ]
  },
  {
   "cell_type": "code",
   "execution_count": null,
   "id": "e19a66e7",
   "metadata": {},
   "outputs": [],
   "source": [
    "Up_BF = load_probability(pn, \"brute_force\")\n",
    "Up_QMF = load_probability(pn, \"multiplexor\")\n",
    "Up_KPtree = load_probability(pn, \"KPTree\")"
   ]
  },
  {
   "cell_type": "code",
   "execution_count": null,
   "id": "c9d42f43",
   "metadata": {},
   "outputs": [],
   "source": [
    "%qatdisplay Up_BF --depth 2 --svg"
   ]
  },
  {
   "cell_type": "code",
   "execution_count": null,
   "id": "059513b5",
   "metadata": {},
   "outputs": [],
   "source": [
    "%qatdisplay Up_QMF --depth 2 --svg"
   ]
  },
  {
   "cell_type": "code",
   "execution_count": null,
   "id": "ade980f9",
   "metadata": {
    "scrolled": true
   },
   "outputs": [],
   "source": [
    "%qatdisplay Up_KPtree --depth 2 --svg"
   ]
  },
  {
   "cell_type": "markdown",
   "id": "62743715",
   "metadata": {},
   "source": [
    "### 3. Execution of the quantum program and measuring of the quantum probability distribution.\n",
    "\n",
    "Execute the quantum program $\\mathbf{U}|0\\rangle_n$ and measure all the $n$ qubits a number of times equal to $n_{shots}$. Store the number of times each state $|i\\rangle_n$ is obtained, $m_i$, and compute the probability of obtaining it as $$Q_i = \\frac{m_i}{n_{shots}} \\forall i = \\{0, 1, \\cdots, 2^n-1\\}$$\n",
    "\n",
    "This is done by the function *get_qlm_probability* from **data_loading** module. This function executes steps 2 and 3. ´The inputs are:\n",
    "\n",
    "* array with the normalised discrete probability array\n",
    "* method: string for selecting the algorithm  for creating the $\\mathbf{U}_p$. The algorithm for creating the $\\mathbf{U}_p$ will be the one that appeared in *Grover, L., & Rudolph, T. (2002). Creating superpositions that correspond to efficiently integrable probability distributions*. In this algorithm, controlled rotations by state are needed to load the probability distribution into the quantum state. The selection method allows different implementations of these controlled rotations by state:\n",
    "    * *brute\\_force*: uses the direct implementation of controlled rotation by state.\n",
    "    * *multiplexor*: the controlled rotations are implemented using **Quantum mulitplexors** as explained in: *V.V. Shende and S.S. Bullock and I.L. Markov. Synthesis of quantum-logic circuits*.\n",
    "    * *KPTree*: **myqlm** implementation of the *Grover and Rudolph* algorithm  using **Quantum mulitplexors**.\n",
    "* shots: $n_{shots}$ the circuit should be executed and measured.\n",
    "* qpu: **myqlm** quantum process unit (**QPU**) for executing the computation.\n",
    "\n",
    "The outputs of the function are:\n",
    "* result: pandas DataFrame with the results of the measurements by possible state.\n",
    "* circuit: complete executed circuit in my_qlm format\n",
    "* quantum_time: time needed for obtaining the complete quantum distribution.\n",
    "  "
   ]
  },
  {
   "cell_type": "code",
   "execution_count": null,
   "id": "92ff1490",
   "metadata": {},
   "outputs": [],
   "source": [
    "from data_loading import get_qlm_probability"
   ]
  },
  {
   "cell_type": "markdown",
   "id": "342530eb-18bc-441c-881c-988848c54e30",
   "metadata": {},
   "source": [
    "First we need to instanciate the **QPU**. We can use the *get_qpu* from **get_qpu** module (in the **BTC_01_PL** folder)"
   ]
  },
  {
   "cell_type": "code",
   "execution_count": null,
   "id": "b29810a2-abe4-4937-b244-08123bdb0c16",
   "metadata": {},
   "outputs": [],
   "source": [
    "sys.path.append(\"../../\")\n",
    "from get_qpu import get_qpu"
   ]
  },
  {
   "cell_type": "code",
   "execution_count": null,
   "id": "897d2383-8c5d-4539-8d55-6e7c948a0c17",
   "metadata": {},
   "outputs": [],
   "source": [
    "qpu_string = \"c\" #python, linalg, mps.\n",
    "# For CESGA Users QLM can be used:\n",
    "#qpu_string = \"qlmass_linalg\n",
    "qpu = get_qpu(qpu_string)"
   ]
  },
  {
   "cell_type": "code",
   "execution_count": null,
   "id": "fc01007e-9d7f-4949-9576-82e5cd7c8435",
   "metadata": {},
   "outputs": [],
   "source": [
    "result, circuit, qtime = get_qlm_probability(pn, \"multiplexor\", shots, qpu)"
   ]
  },
  {
   "cell_type": "code",
   "execution_count": null,
   "id": "24de701b-7231-4da8-9d95-b6c06d054215",
   "metadata": {
    "scrolled": true
   },
   "outputs": [],
   "source": [
    "result"
   ]
  },
  {
   "cell_type": "code",
   "execution_count": null,
   "id": "b4ab9e7c-f6a3-46c1-ba55-7fac874d1178",
   "metadata": {},
   "outputs": [],
   "source": [
    "%qatdisplay circuit --depth  --svg"
   ]
  },
  {
   "cell_type": "code",
   "execution_count": null,
   "id": "6627b195-2c65-479e-be7b-e0de4bc8efbb",
   "metadata": {},
   "outputs": [],
   "source": [
    "print(\"Time to solution: {}\".format(qtime))"
   ]
  },
  {
   "cell_type": "markdown",
   "id": "fe1a244c-570d-455a-88f8-5ec5b309b237",
   "metadata": {},
   "source": [
    "### 4. Metrics Computation\n",
    "\n",
    "Finally, we need to compare the theoretical probability distribution ($P_{norm}$) and the quantum ones ($Q$). This is done using 2 different metrics:\n",
    "\n",
    "* The Kolmogorov-Smirnov (*KS*)$$KS = \\max \\left(\\left|\\sum_{j=0}^i P_{norm}(x_j) - \\sum_{j=0}^i Q_j \\right|, \\; \\forall i=0,1,\\cdots, 2^n-1 \\right)$$\n",
    "* The Kullback-Leibler divergence (*KL*): $$KL(\\mathbf{Q} / \\mathbf{P_{norm}}) = P_{norm}(x_j) \\ln{\\frac{P_{norm}(x_j)}{\\max(\\epsilon, Q_k)}}$$ where $\\epsilon = \\min(P_{norm}(x_j)) * 10^{-5}$ which guarantees the logarithm exists when $Q_k=0$\n",
    "  "
   ]
  },
  {
   "cell_type": "code",
   "execution_count": null,
   "id": "70a5c61a-397a-4069-b963-4cea0dfb4142",
   "metadata": {},
   "outputs": [],
   "source": [
    "from scipy.stats import entropy"
   ]
  },
  {
   "cell_type": "code",
   "execution_count": null,
   "id": "23d85588-ea8b-4889-b465-a204b46f3bcb",
   "metadata": {},
   "outputs": [],
   "source": [
    "ks = np.abs(result[\"Probability\"].cumsum() - pn.cumsum()).max()\n",
    "epsilon = pn.min() * 1.0e-5\n",
    "kl = entropy(pn, np.maximum(epsilon, result[\"Probability\"]))\n",
    "\n",
    "\n",
    "print(\"The Kolmogorov-Smirnov is: {}\".format(ks))\n",
    "print(\"The Kullback-Leibler divergence is: {}\".format(kl))"
   ]
  },
  {
   "cell_type": "code",
   "execution_count": null,
   "id": "bcd0444a-d0c8-4f9a-abf3-e4de04e91885",
   "metadata": {},
   "outputs": [],
   "source": [
    "plt.plot(x, pn, '-')\n",
    "plt.plot(x, result[\"Probability\"], 'o')\n",
    "plt.legend([\"theoretical pdf\", \"quantum pdf\"])"
   ]
  },
  {
   "cell_type": "markdown",
   "id": "04f324e5-e508-4ee0-846a-2869741b8a73",
   "metadata": {},
   "source": [
    "## 03. The *LoadProbabilityDensity* class\n",
    "\n",
    "The *LoadProbabilityDensity* python class inside the **PL/load_probabilities** module allows the user to build the procedure explained in section 02 of the notebook easily and directly. When the class is instantiated a Python dictionary that configures the **BTC** execution should be provided. The mandatory keys are:\n",
    "\n",
    "* load_method: string with the method for implementing the $\\mathbf{U}_p$\n",
    "* number_of_qbits: number of qubits for discretizing the domain.\n",
    "* qpu:  string with the **myqlm QPU** for executing the case."
   ]
  },
  {
   "cell_type": "code",
   "execution_count": null,
   "id": "01cf37b9-c01a-4a1e-a73d-1c7942dc8d6f",
   "metadata": {},
   "outputs": [],
   "source": [
    "from load_probabilities import LoadProbabilityDensity"
   ]
  },
  {
   "cell_type": "code",
   "execution_count": null,
   "id": "0c3e33e9-6293-473b-80f5-a38333785968",
   "metadata": {},
   "outputs": [],
   "source": [
    "configuration = {\n",
    "    \"load_method\": \"brute_force\", \"number_of_qbits\": 8, \"qpu\": qpu\n",
    "}\n",
    "btc_pl = LoadProbabilityDensity(**configuration)"
   ]
  },
  {
   "cell_type": "markdown",
   "id": "a65f2bc0-98c3-4a05-8515-da5130b71c5c",
   "metadata": {},
   "source": [
    "For executing the procedure the *exe* method of the class should be invoked."
   ]
  },
  {
   "cell_type": "code",
   "execution_count": null,
   "id": "3c4ba65e-7065-4076-8b19-e9b947b2e6af",
   "metadata": {},
   "outputs": [],
   "source": [
    "btc_pl.exe()"
   ]
  },
  {
   "cell_type": "markdown",
   "id": "e3fc250e-2210-4caf-b8bd-e9936ea9a7b1",
   "metadata": {},
   "source": [
    "The following attributes can be accessed:\n",
    "\n",
    "* data: numoy array with the theoretical pdf.\n",
    "* result: pandas DataFrame with the quantum pdf\n",
    "* circuit: *myqlm* circuit\n",
    "* mean: mean of the theoric Gaussian distribution\n",
    "* sigma: variance of the theoric Gaussian distribution\n",
    "* ks: Kolmogorov-Smirnov metric\n",
    "* kl: Kullback-Leibler divergence"
   ]
  },
  {
   "cell_type": "code",
   "execution_count": null,
   "id": "6bc30139-246c-4778-bcf1-abc7d3759dd8",
   "metadata": {},
   "outputs": [],
   "source": [
    "print(\"The mean of the Gaussian pdf is: {}\".format(btc_pl.mean))\n",
    "print(\"The variance of the Gaussian pdf is: {}\".format(btc_pl.sigma))\n",
    "\n",
    "print(\"The Kolmogorov-Smirnov is: {}\".format(ks))\n",
    "print(\"The Kullback-Leibler divergence is: {}\".format(kl))"
   ]
  },
  {
   "cell_type": "code",
   "execution_count": null,
   "id": "bb6acd25-0fc8-4708-8f03-f7d1c089775f",
   "metadata": {},
   "outputs": [],
   "source": [
    "plt.plot(btc_pl.x_, btc_pl.data, '-')\n",
    "plt.plot(btc_pl.x_, btc_pl.result[\"Probability\"], 'o', alpha=0.3)\n",
    "plt.legend([\"theoretical pdf\", \"quantum pdf\"])"
   ]
  },
  {
   "cell_type": "code",
   "execution_count": null,
   "id": "44d0cab0-3605-402d-8e42-38916a8d5246",
   "metadata": {},
   "outputs": [],
   "source": [
    "circuit = btc_pl.circuit\n",
    "%qatdisplay circuit --dept --svg"
   ]
  },
  {
   "cell_type": "markdown",
   "id": "63a9e2e7-fe3d-4fc3-be52-0f01b661577f",
   "metadata": {},
   "source": [
    "Finally the method *summary* creates a pandas DataFrame (*pdf* attribute) with the complete information of the execution\n"
   ]
  },
  {
   "cell_type": "code",
   "execution_count": null,
   "id": "466ad295-584e-4ba9-b4b3-cbba9ea16207",
   "metadata": {},
   "outputs": [],
   "source": [
    "btc_pl.summary()"
   ]
  },
  {
   "cell_type": "code",
   "execution_count": null,
   "id": "b86394d1-ce26-4a5a-9d90-e55d8f15b20d",
   "metadata": {},
   "outputs": [],
   "source": [
    "btc_pl.pdf"
   ]
  },
  {
   "cell_type": "markdown",
   "id": "aee0ab6c-a9b8-433f-8753-cc23d6dfab75",
   "metadata": {},
   "source": [
    "### Command line execution\n",
    "\n",
    "The complete **BTC** can be executed by invoking the module **PL/load_probabilities** as a command line. For getting the inputs arguments the following command can be used:\n",
    "\n",
    "    python load_probabilities.py -h\n",
    "\n",
    "Example: for a 10 qubits circuit using *KPTree* the following command can be used (c lineal algebra library is used).\n",
    "\n",
    "    python load_probabilities.py -n_qbits 8 -method KPTree -qpu c"
   ]
  },
  {
   "cell_type": "markdown",
   "id": "75d74e9e-6389-4751-830b-15fcece60648",
   "metadata": {},
   "source": [
    "## 04. my\\_benchmark\\_execution\n",
    "\n",
    "A complete benchmark execution following the **TNBS** guidelines can be performed by using the **my\\_benchmark\\_execution.py** module in the **BTC_01_PL** folder.\n",
    "\n",
    "The probability loading algorithm can be configured in the *kernel_configuration* dictionary at the end of the file. Additionally, the number of qubits for executing the complete benchmark can be provided as a list to the key *list_of_qbits* of the *benchmark_arguments*.\n",
    "\n",
    "For changing the folder where all the files generated by the benchmark are stored the path can be provided to the key *saving_folder*  of the *benchmark_arguments*."
   ]
  },
  {
   "cell_type": "markdown",
   "id": "38bef876-ea3a-41e9-a1bc-ec0c527c5388",
   "metadata": {},
   "source": [
    "## 05. Generating the JSON file.\n",
    "\n",
    "Once the files from a complete benchmark execution are generated the information should be formated following the **NEASQC JSON schema**. For doing this the **neasqc_benchmark.py** module can be used. At the end of the file the path to the folder where all the files from benchmark are stored should be provided to the variable **folder**.\n",
    "\n",
    "For creating the JSON file following command should eb executed:\n",
    "\n",
    "    python neasqc_benchmark.py"
   ]
  },
  {
   "cell_type": "markdown",
   "id": "f2cb339f-9dab-460b-b84d-c8a57f632d9d",
   "metadata": {},
   "source": [
    "## 06. Complete Workflow.\n",
    "\n",
    "The bash script **benchmark_exe.sh** allows to automatize the execution of the benchamrk and the JSON file generation (once the *my_benchmark_execution.py* and the *neasqc_benchmark.py* are properly configured).\n",
    "\n",
    "    bash benchmark_exe.sh"
   ]
  }
 ],
 "metadata": {
  "kernelspec": {
   "display_name": "Python [conda env:tnbs2c] *",
   "language": "python",
   "name": "conda-env-tnbs2c-py"
  },
  "language_info": {
   "codemirror_mode": {
    "name": "ipython",
    "version": 3
   },
   "file_extension": ".py",
   "mimetype": "text/x-python",
   "name": "python",
   "nbconvert_exporter": "python",
   "pygments_lexer": "ipython3",
   "version": "3.11.7"
  }
 },
 "nbformat": 4,
 "nbformat_minor": 5
}
