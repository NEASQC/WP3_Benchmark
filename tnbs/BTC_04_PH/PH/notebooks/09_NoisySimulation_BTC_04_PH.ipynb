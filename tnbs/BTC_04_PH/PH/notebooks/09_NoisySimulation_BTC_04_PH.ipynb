{
 "cells": [
  {
   "cell_type": "markdown",
   "id": "7612c2a4-9e5e-4c08-8c27-24e761b10478",
   "metadata": {
    "tags": []
   },
   "source": [
    "# Noise Model Test Bank (only on QLM)\n",
    "\n",
    "The module **model_noise** from **tnbs/qpu** package allows to creation of a noise model for simulation. The following noisy channels can be added to the noisy model easily.\n",
    "\n",
    "1. Depolarizing channel.\n",
    "2. Amplitude Damping.\n",
    "3. Dephasing (only if there is Amplitude Damping).\n",
    "4. Measurement Channel.\n",
    "\n",
    "To configure a noisy model an input dictionary with the following format should be provided:\n",
    "\n",
    "{\n",
    "\n",
    "    'qpu': \"noisy\",# ideal or noisy\n",
    "    \n",
    "    't_gate_1qb': 35,# ns\n",
    "    \n",
    "    't_gate_2qbs': 660,# ns\n",
    "    \n",
    "    't_readout': 4000, # ns\n",
    "    \n",
    "    'depol_channel': {\n",
    "        'active': True, # True or False\n",
    "        'error_gate_1qb': 1.0e-4,# float\n",
    "        'error_gate_2qbs': 1.0e-3 # float\n",
    "    },\n",
    "    \n",
    "    'idle': {\n",
    "        'amplitude_damping': True, # True or False\n",
    "        'dephasing_channel': True, # True or False\n",
    "        't1': 0.2e6, #ns\n",
    "        't2': 0.1e6 #ns\n",
    "    },\n",
    "    \n",
    "    'meas': {\n",
    "        'active': True, # True or False\n",
    "        'readout_error': 1.370e-2# float\n",
    "    }\n",
    "}\n",
    "\n",
    "The implemented noise model in **model_noise** module has the following assumptions:\n",
    "\n",
    "1. The time for 1-qubit gates will be the same for all the possible 1-qubit gates: **t_gate_1qb**. The hardware model sets all the 1-qubit gates (used or not) to this value.\n",
    "2. The time for 2-qubit gates will be the same for all the possible 2-qubit gates: **t_gate_2qbs**. The hardware model sets all the 2-qubit gates (used or not) to this value.\n",
    "3. Times for 3-qubit gates (or more) **WON'T BE FIXED**. A rewriter plugin is recommended to use (in the module a Toffoli rewritter is added to the final qpu).\n",
    "4. Amplitude Damping channels and  Dephasing channels should be enabled under the *idle* key of the dictionary:\n",
    "    * The Dephasing channel will be enabled only if the Amplitude Damping channel is enabled too. This is because $T_1$ and $T_2$ are needed for generating parameter $T_{\\varphi}$ for Dephasing channel.\n",
    "    * $T_{\\varphi} = \\frac{1}{\\frac{1}{T_2} - \\frac{1}{2 T_1}}$\n",
    "6. Depolarizing channel should be enabled and configured under the *depol_channel* key:\n",
    "    * In the *Depolarizing channel* each time an ideal gate is applied then the depolarizing channel is applied\n",
    "    * The *Depolarizing channel* will be the same for the 1 and 2 qubit gates.\n",
    "    * The error associated to all the 1-qubit gates will be the same: **error_gate_1qb**\n",
    "    * The error associated to all the 2-qubit gates will be the same:: **error_gate_2qbs**\n",
    "7. Only default gates in Qaptiva **DefaultHardwareModel** can be used. If *hw_model* is a **DefaultHardwareModel** object the default Qaptiva gates can be listed in the following dictionaries:\n",
    "    * hw_model.gates_specification.quantum_channels: Gates and corresponding definitions. Gates can be of the following type: \n",
    "        * QuantumChannelKraus. Using *arity* attribute e can know if they are of 1, 2 or more qubits.\n",
    "        * _ParametricChannel (paramétric gates of 1 qubit)\n",
    "        * _CtrlParametricChannel (controlled parametric gates: 2 qubits)\n",
    "    * hw_model.gates_specification.gate_times: dictionary with pair key (gate name) value (execution time of the gate)"
   ]
  },
  {
   "cell_type": "markdown",
   "id": "3f4f50c7-cf3f-467c-8ac3-6e2e3d12ada2",
   "metadata": {
    "tags": []
   },
   "source": [
    "### Toshiko\n",
    "\n",
    "T1 = 50 # us\n",
    "T2= 30 # us\n",
    "F1 = 99.9 # %\n",
    "F2 = 92 # %\n",
    "F_ro = 90 # %"
   ]
  },
  {
   "cell_type": "code",
   "execution_count": null,
   "id": "df1a3ee8",
   "metadata": {
    "tags": []
   },
   "outputs": [],
   "source": [
    "import sys\n",
    "sys.path.append(\"../../\")\n",
    "sys.path.append(\"../../../\")"
   ]
  },
  {
   "cell_type": "code",
   "execution_count": null,
   "id": "dd9e1b0b",
   "metadata": {
    "tags": []
   },
   "outputs": [],
   "source": [
    "import numpy as np\n",
    "import pandas as pd\n",
    "import matplotlib.pyplot as plt\n",
    "import qat.lang.AQASM as qlm\n",
    "import json\n",
    "%matplotlib inline"
   ]
  },
  {
   "cell_type": "markdown",
   "id": "97a6ba69-74cf-4638-8883-fa0d5f50b4d1",
   "metadata": {},
   "source": [
    "## List of gates"
   ]
  },
  {
   "cell_type": "code",
   "execution_count": null,
   "id": "cf7ac396-03bc-46f7-8ac3-b17f2da07d54",
   "metadata": {
    "tags": []
   },
   "outputs": [],
   "source": [
    "from qat.hardware import DefaultHardwareModel"
   ]
  },
  {
   "cell_type": "code",
   "execution_count": null,
   "id": "3f0a3029-a74f-4d0b-854e-a2b43948e10e",
   "metadata": {
    "tags": []
   },
   "outputs": [],
   "source": [
    "hw_md = DefaultHardwareModel()"
   ]
  },
  {
   "cell_type": "code",
   "execution_count": null,
   "id": "9dd490a3-6688-4d24-ae5b-0e632bbee898",
   "metadata": {
    "tags": []
   },
   "outputs": [],
   "source": [
    "# Gates and asociated quantum channels\n",
    "hw_md.gates_specification.quantum_channels"
   ]
  },
  {
   "cell_type": "code",
   "execution_count": null,
   "id": "1ff0da3c-2d00-42e4-836c-89360ae9e0e3",
   "metadata": {
    "tags": []
   },
   "outputs": [],
   "source": [
    "# The Kraus operator is the ideal gate\n",
    "hw_md.gates_specification.quantum_channels[\"H\"].kraus_operators"
   ]
  },
  {
   "cell_type": "code",
   "execution_count": null,
   "id": "c544156a-8e53-48fb-8b07-9906bd3e8a51",
   "metadata": {
    "tags": []
   },
   "outputs": [],
   "source": [
    "# time of the gates\n",
    "hw_md.gates_specification.gate_times"
   ]
  },
  {
   "cell_type": "markdown",
   "id": "8bf3980f",
   "metadata": {
    "tags": []
   },
   "source": [
    "## 1. Parent Hamiltonian test case\n",
    "\n",
    "We are going to use the  Parent Hamiltonian (**PH**) problem for playing with the noise models"
   ]
  },
  {
   "cell_type": "code",
   "execution_count": null,
   "id": "dbc6360c-fef4-4453-a592-1c5e920cf474",
   "metadata": {
    "tags": []
   },
   "outputs": [],
   "source": [
    "from PH.ph_step_exe.vqe_step_btc import run_ph_execution"
   ]
  },
  {
   "cell_type": "code",
   "execution_count": null,
   "id": "7b940d5f-d9f7-42e7-a808-59ce967a4e6c",
   "metadata": {
    "tags": []
   },
   "outputs": [],
   "source": [
    "nqubits = 6\n",
    "depth = 3\n",
    "configuration = {\n",
    "    \"nqubits\": nqubits,\n",
    "    \"depth\": depth,\n",
    "    \"base_fn\": \"../../configuration_files/\",\n",
    "    \"nb_shots\": 10000,\n",
    "    \"truncation\":None,\n",
    "    \"t_inv\":True,\n",
    "    \"save\":False,\n",
    "}"
   ]
  },
  {
   "cell_type": "markdown",
   "id": "934b8846-fd62-4679-8567-267ba0cb4554",
   "metadata": {},
   "source": [
    "First the configuration dictionary for the class should be provided"
   ]
  },
  {
   "cell_type": "markdown",
   "id": "89406be8-c081-46b3-aee7-4cb067713eeb",
   "metadata": {},
   "source": [
    "## 2. Ideal Solution\n",
    "\n",
    "To get the ideal solution the *select_qpu* function from  **PH.qpu.select_qpu** module can be used. The minimum Python dictionary for configuring an ideal **QPU** is presented in the following cell. In this case, the user only has to provide a value to the *qpu_type* key. Depending on the type of simulator desired the following strings should be provided:\n",
    "\n",
    "* *qlmass_linalg*: to use the **LinAlg Quantum Learning Machine (QLM)** algebra simulator. In this case, the computation will be sent to the **QLM** by using the  Qaptiva QLM as a Service.\n",
    "* *qlmass_mps*: to use **MPS QLM** simulator. In this case, the computation will be sent to the **QLM** by using the  Qaptiva QLM as a Service.\n",
    "* *python*: to use the PyLinalg algebra simulator.\n",
    "* *c*: to use the CLinalg alegbra simulator.\n",
    "* *linalg*: to use the **LinAlg QLM**. In this case, the user should be inside a **EVIDEN QLM**\n",
    "* *mps*: to use the **MPS QLM** simulator. In this case, the user should be inside a **EVIDEN QLM**\n",
    "\n",
    " \n"
   ]
  },
  {
   "cell_type": "code",
   "execution_count": null,
   "id": "c2723319-f962-4cd9-9977-c4e1073071d7",
   "metadata": {
    "tags": []
   },
   "outputs": [],
   "source": [
    "from qpu.select_qpu import select_qpu\n",
    "from PH.utils.utils_ph import combination_for_list"
   ]
  },
  {
   "cell_type": "code",
   "execution_count": null,
   "id": "86c47694-2660-474a-9b49-8c40c2325e8d",
   "metadata": {
    "tags": []
   },
   "outputs": [],
   "source": [
    "qpus = [\"c\", \"python\", \"linalg\", \"mps\", \"qlmass_linalg\", \"qlmass_mps\"]\n",
    "# Configuration dictionary\n",
    "conf_ideal = [{\n",
    "    \"qpu_type\": [qpus[2]],\n",
    "    \"t_gate_1qb\" : [None],\n",
    "    \"t_gate_2qbs\" : [None],\n",
    "    \"t_readout\": [None],\n",
    "    \"depol_channel\" : [{\n",
    "        \"active\": False,\n",
    "        \"error_gate_1qb\" : None,\n",
    "        \"error_gate_2qbs\" : None\n",
    "    }],\n",
    "    \"idle\" : [{\n",
    "        \"amplitude_damping\": False,\n",
    "        \"dephasing_channel\": False,\n",
    "        \"t1\" : None,\n",
    "        \"t2\" : None\n",
    "    }],\n",
    "    \"meas\": [{\n",
    "        \"active\":False,\n",
    "        \"readout_error\": None\n",
    "    }]\n",
    "}]\n",
    "\n",
    "# We use the combination_for_list for getting the proper format for the dictionary\n",
    "ideal_qpu_conf = combination_for_list(conf_ideal)[0]\n",
    "print(ideal_qpu_conf)"
   ]
  },
  {
   "cell_type": "code",
   "execution_count": null,
   "id": "b246d672-c5aa-4f27-acaf-13d47c7f651b",
   "metadata": {
    "tags": []
   },
   "outputs": [],
   "source": [
    "ideal_qpu = select_qpu(ideal_qpu_conf)\n",
    "configuration.update({\"qpu\": ideal_qpu})"
   ]
  },
  {
   "cell_type": "markdown",
   "id": "6928cf2e-2c06-449d-a8be-365447a2d148",
   "metadata": {},
   "source": [
    "Now we can use the *run_ph_execution* function for executing ground state computation."
   ]
  },
  {
   "cell_type": "code",
   "execution_count": null,
   "id": "a31ae4cc-0ef0-4638-a3eb-d7be885d16a4",
   "metadata": {
    "tags": []
   },
   "outputs": [],
   "source": [
    "pdf_ideal, c = run_ph_execution(**configuration)"
   ]
  },
  {
   "cell_type": "code",
   "execution_count": null,
   "id": "67ae101f-7783-4806-9acf-3d0345372e8e",
   "metadata": {
    "tags": []
   },
   "outputs": [],
   "source": [
    "pdf_ideal[\"gse\"]"
   ]
  },
  {
   "cell_type": "code",
   "execution_count": null,
   "id": "4e4af3b7-ef18-45b6-83d3-412ff2a98119",
   "metadata": {
    "tags": []
   },
   "outputs": [],
   "source": [
    "%qatdisplay c --depth"
   ]
  },
  {
   "cell_type": "markdown",
   "id": "0d6b09c7-3f49-42f0-a9ee-d75ff81b7a1a",
   "metadata": {},
   "source": [
    "## 3. Solution with Noisy hardware\n",
    "\n",
    "For simulating the noisy hardware we need to configure the noisy hardware model and create a noisy QPU. This can be done with the *create_qpu* from **qpu.model_noise**. However, the wrapper function *select_qpu* from **qpu.select_qpu** module is recommended for these tasks.\n",
    "\n",
    "For selecting noisy hardware models the *qpu_type* key of the input configuration dictionary should have the string *noisy*.\n",
    "\n",
    "The rest of the keys of the input dictionary can be used for activating or deactivating, and configuring, the different quantum channels implemented in our noise model."
   ]
  },
  {
   "cell_type": "markdown",
   "id": "8e193c8c-bff8-4dcc-8276-28e38a817027",
   "metadata": {
    "jp-MarkdownHeadingCollapsed": true,
    "tags": []
   },
   "source": [
    "### 3.1 Depolarizing channel\n",
    "\n",
    "For selecting only a depolarizing channel model in our noisy model the *depol_channel* key of the input configuration dictionary should be configured. The value of this key is a Python dictionary with the following keys:\n",
    "\n",
    "* *active*: the corresponding value is a boolean for activating (True) or deactivating (False) the depolarizing channel.\n",
    "* *error_gate_1qb*: the corresponding value is a float value that represents the error of all the 1-qubit gates.\n",
    "* *error_gate_2qbs*: the corresponding value is a float value that represents the error of all the 2-qubit gates."
   ]
  },
  {
   "cell_type": "markdown",
   "id": "2961c7cd-5500-45b5-82d2-f22716506b6c",
   "metadata": {
    "tags": []
   },
   "source": [
    "### Toshiko\n",
    "\n",
    "T1 = 50 # us\n",
    "T2= 30 # us\n",
    "F1 = 99.9 # %\n",
    "F2 = 92 # %\n",
    "F_ro = 90 # %"
   ]
  },
  {
   "cell_type": "code",
   "execution_count": null,
   "id": "99a831f2-bbc6-4182-a2f0-0afd7ca59a54",
   "metadata": {
    "tags": []
   },
   "outputs": [],
   "source": [
    "# Configuring test for Deploarizing channel\n",
    "conf_noise = [{\n",
    "    \"qpu_type\": [\"noisy\"],\n",
    "    \"t_gate_1qb\" : [35],\n",
    "    \"t_gate_2qbs\" : [660],\n",
    "    \"t_readout\": [0],\n",
    "    \"depol_channel\" : [\n",
    "        {\n",
    "            \"active\": True,\n",
    "            \"error_gate_1qb\" : 1.0e-9,\n",
    "            \"error_gate_2qbs\" : 1.0e-8\n",
    "        },\n",
    "        {\n",
    "            \"active\": True,\n",
    "            \"error_gate_1qb\" : 1.0e-8,\n",
    "            \"error_gate_2qbs\" : 1.0e-7\n",
    "        },       \n",
    "        {\n",
    "            \"active\": True,\n",
    "            \"error_gate_1qb\" : 1.0e-7,\n",
    "            \"error_gate_2qbs\" : 1.0e-6\n",
    "        },               \n",
    "        {\n",
    "            \"active\": True,\n",
    "            \"error_gate_1qb\" : 1.0e-6,\n",
    "            \"error_gate_2qbs\" : 1.0e-5\n",
    "        },   \n",
    "        {\n",
    "            \"active\": True,\n",
    "            \"error_gate_1qb\" : 1.0e-5,\n",
    "            \"error_gate_2qbs\" : 1.0e-4\n",
    "        },  \n",
    "        {\n",
    "            \"active\": True,\n",
    "            \"error_gate_1qb\" : 2.27e-4, # brisbane\n",
    "            \"error_gate_2qbs\" : 7.741e-3 # brisbane\n",
    "        },        \n",
    "        {\n",
    "            \"active\": True,\n",
    "            \"error_gate_1qb\" : 0.001, # Toshiko\n",
    "            \"error_gate_2qbs\" : 0.08 # Toshiko\n",
    "        },            \n",
    "    ],\n",
    "    \"idle\" : [{\n",
    "        \"amplitude_damping\": False,\n",
    "        \"dephasing_channel\": False,\n",
    "        \"t1\" : None,\n",
    "        \"t2\" : None\n",
    "    }],\n",
    "    \"meas\": [{\n",
    "        \"active\":False,\n",
    "        \"readout_error\": None\n",
    "    }]\n",
    "}]\n",
    "# Now we have a list with different dictionaries\n",
    "noisy_conf_list = combination_for_list(conf_noise)"
   ]
  },
  {
   "cell_type": "code",
   "execution_count": null,
   "id": "bb06c24d-d5af-45e2-8cb8-bef0cd3ecdd1",
   "metadata": {
    "tags": []
   },
   "outputs": [],
   "source": [
    "# Now we are going to solve the circuit with all the different depolarising channel configurations\n",
    "a_depol = []\n",
    "\n",
    "error1 = []\n",
    "gse = []\n",
    "for hw_m in noisy_conf_list:\n",
    "    my_noisy_qpu = select_qpu(hw_m)\n",
    "    print(hw_m)\n",
    "    configuration.update({\"qpu\":my_noisy_qpu})\n",
    "    error1.append(hw_m[\"depol_channel\"][\"error_gate_1qb\"])\n",
    "    pdf_ideal_noisy, c = run_ph_execution(**configuration)\n",
    "    gse.append(pdf_ideal_noisy[\"gse\"].iloc[0])"
   ]
  },
  {
   "cell_type": "code",
   "execution_count": null,
   "id": "076a85f2-b44f-42bc-8aa6-7ea311797d21",
   "metadata": {
    "tags": []
   },
   "outputs": [],
   "source": [
    "plt.plot(error1, np.abs(gse - pdf_ideal[\"gse\"].iloc[0]), '-o')\n",
    "#plt.axhline(pdf_ideal[\"gse\"].iloc[0], c='r')\n",
    "plt.yscale(\"log\")\n",
    "plt.xscale(\"log\")\n",
    "plt.xlabel(\"Error 1 qubit gate\")\n",
    "plt.ylabel(r\" Ground State Energy (noisy-ideal)\")\n",
    "plt.title(\"k=0. Only depolarizing channel. No iddle qubit\")"
   ]
  },
  {
   "attachments": {
    "47882a56-b33b-4048-8bf6-be03d17e74e2.png": {
     "image/png": "[encoded data removed]"
    }
   },
   "cell_type": "markdown",
   "id": "6ff0f0b5-9bb9-4922-8af5-7814a7749929",
   "metadata": {},
   "source": [
    "Behaviour of the **GSE** metrics versus the error 1 qubit gate when only depolarizing channel is activated.\n",
    "\n",
    "![image.png](attachment:47882a56-b33b-4048-8bf6-be03d17e74e2.png)"
   ]
  },
  {
   "cell_type": "markdown",
   "id": "454696a9-f71d-4538-8657-b314d81ebd98",
   "metadata": {
    "tags": []
   },
   "source": [
    "### 3.2 Amplitude Damping Channel (No Dephasing)\n",
    "\n",
    "\n",
    "For selecting an Amplitude Damping Channel the *idle* key of the input configuration dictionary should be configured. The value of this key is a Python dictionary with the following keys:\n",
    "\n",
    "\n",
    "* *amplitude_damping*: the corresponding value is a boolean for activating (True) or deactivating (False) the Amplitude Damping Channel \n",
    "* *t1*: T1 time in nanosecods.\n",
    "* *dephasing_channel*: the boolean key that should be set to False (only if Amplitude Damping Channel is required)\n",
    "* *t2*: T2 time in nanoseconds. Only valid if the *dephasing_channel* is set to True.\n"
   ]
  },
  {
   "cell_type": "markdown",
   "id": "a23ba314-384a-4a34-b275-980eeef96edc",
   "metadata": {
    "tags": []
   },
   "source": [
    "### Toshiko\n",
    "\n",
    "T1 = 50 # us\n",
    "T2= 30 # us\n",
    "F1 = 99.9 # %\n",
    "F2 = 92 # %\n",
    "F_ro = 90 # %"
   ]
  },
  {
   "cell_type": "code",
   "execution_count": null,
   "id": "bf63f1dd-64a8-4dc5-884e-139d8da60d19",
   "metadata": {
    "tags": []
   },
   "outputs": [],
   "source": [
    "conf_noise = [{\n",
    "    \"qpu_type\": [\"noisy\"],\n",
    "    \"t_gate_1qb\" : [35],\n",
    "    \"t_gate_2qbs\" : [660],\n",
    "    \"t_readout\": [0],\n",
    "    \"depol_channel\" : [\n",
    "        {\n",
    "            \"active\": False,\n",
    "            \"error_gate_1qb\" : None,\n",
    "            \"error_gate_2qbs\" : None\n",
    "        }          \n",
    "    ],\n",
    "    \"idle\" : [\n",
    "        {\n",
    "            \"amplitude_damping\": True,\n",
    "            \"dephasing_channel\": False,\n",
    "            \"t1\" : 1000e6,\n",
    "            \"t2\" : None\n",
    "        },\n",
    "        {\n",
    "            \"amplitude_damping\": True,\n",
    "            \"dephasing_channel\": False,\n",
    "            \"t1\" : 100e6,\n",
    "            \"t2\" : None\n",
    "        },        \n",
    "        {\n",
    "            \"amplitude_damping\": True,\n",
    "            \"dephasing_channel\": False,\n",
    "            \"t1\" : 10e6,\n",
    "            \"t2\" : None\n",
    "        },     \n",
    "        {\n",
    "            \"amplitude_damping\": True,\n",
    "            \"dephasing_channel\": False,\n",
    "            \"t1\" : 1e6,\n",
    "            \"t2\" : None\n",
    "        },  \n",
    "        {\n",
    "            \"amplitude_damping\": True,\n",
    "            \"dephasing_channel\": False,\n",
    "            \"t1\" : 0.231e6, # brisbane\n",
    "            \"t2\" : None \n",
    "        },       \n",
    "        {\n",
    "            \"amplitude_damping\": True,\n",
    "            \"dephasing_channel\": False,\n",
    "            \"t1\" : 50e3, # Toshiko: 50 us\n",
    "            \"t2\" : None \n",
    "        }        \n",
    "    ],\n",
    "    \"meas\": [{\n",
    "        \"active\":False,\n",
    "        \"readout_error\": None\n",
    "    }]\n",
    "}]\n",
    "noisy_conf_list = combination_for_list(conf_noise)"
   ]
  },
  {
   "cell_type": "code",
   "execution_count": null,
   "id": "87656d08-db6d-4f6d-b191-129b445180a0",
   "metadata": {
    "tags": []
   },
   "outputs": [],
   "source": [
    "# Now we are going to solve the circuit with all the different depolarising channel configurations\n",
    "a_depol = []\n",
    "\n",
    "error1 = []\n",
    "gse = []\n",
    "for hw_m in noisy_conf_list:\n",
    "    my_noisy_qpu = select_qpu(hw_m)\n",
    "    print(hw_m)\n",
    "    configuration.update({\"qpu\":my_noisy_qpu})\n",
    "    error1.append(hw_m[\"idle\"][\"t1\"])\n",
    "    pdf_ideal_noisy, c = run_ph_execution(**configuration)\n",
    "    gse.append(pdf_ideal_noisy[\"gse\"].iloc[0])"
   ]
  },
  {
   "cell_type": "code",
   "execution_count": null,
   "id": "d89c25d7-1871-43c6-8973-5235c3c62fab",
   "metadata": {
    "tags": []
   },
   "outputs": [],
   "source": [
    "plt.plot(error1, np.abs(gse - pdf_ideal[\"gse\"].iloc[0]), '-o')\n",
    "#plt.axhline(pdf_ideal[\"gse\"].iloc[0], c='r')\n",
    "plt.yscale(\"log\")\n",
    "plt.xscale(\"log\")\n",
    "plt.xlabel(\"T1 (ns)\")\n",
    "plt.ylabel(r\" Ground State Energy (noisy-ideal)\")\n",
    "plt.title(\"Only Amplitude Damping. Ideal Gates\")\n"
   ]
  },
  {
   "attachments": {
    "2271a359-9edb-49be-82a0-7fcfcd89fc8f.png": {
     "image/png": "[encoded data removed]"
    }
   },
   "cell_type": "markdown",
   "id": "887753f5-c4b3-4448-95d4-3b8839a1bcb3",
   "metadata": {},
   "source": [
    "#### Behaviour of the metrics versus $T_1$ (only amplitude damping channel)\n",
    "\n",
    "\n",
    "![image.png](attachment:2271a359-9edb-49be-82a0-7fcfcd89fc8f.png)"
   ]
  },
  {
   "cell_type": "markdown",
   "id": "a11ee806-27d9-4cd9-bf8e-668f6320b014",
   "metadata": {},
   "source": [
    "### 3.3 Amplitude Damping and Dephasing Channels\n",
    "\n",
    "In addition to an Amplitude Damping a Dephasing Channel can be included in the noise hardware model. Again the *idle* key should be used. In this case the configuration is the following:\n",
    "\n",
    "\n",
    "\n",
    "* *amplitude_damping*: the corresponding value is a boolean for activating (True) or deactivating (False) the Amplitude Damping Channel. It is mandatory have this cannel activated to activate a Dephasing Channel\n",
    "* *t1*: T1 time in nanosecods (configuration for the Amplitude Damping channel)\n",
    "* *dephasing_channel*: boolean key that should be set to True if  Dephasing Channel is required.\n",
    "* *t2*: T2 time in nanoseconds. For configuring the Dephasing Channel. It is used in combination with T1 for computing $T_{\\varphi}$ for Dephasing channel using the following parameter:\n",
    "$$T_{\\varphi} = \\frac{1}{\\frac{1}{T_2} - \\frac{1}{2 T_1}}$$"
   ]
  },
  {
   "cell_type": "markdown",
   "id": "80d46c0e-771b-4d7a-9fba-09175c4fc204",
   "metadata": {
    "tags": []
   },
   "source": [
    "### Toshiko\n",
    "\n",
    "T1 = 50 # us\n",
    "T2= 30 # us\n",
    "F1 = 99.9 # %\n",
    "F2 = 92 # %\n",
    "F_ro = 90 # %"
   ]
  },
  {
   "cell_type": "code",
   "execution_count": null,
   "id": "8100dd84-bd6b-47b0-91fc-dd682fee3e41",
   "metadata": {
    "tags": []
   },
   "outputs": [],
   "source": [
    "conf_noise = [{\n",
    "    \"qpu_type\": [\"noisy\"],# Palabara para generar qpus ruidosas\n",
    "    \"t_gate_1qb\" : [35],\n",
    "    \"t_gate_2qbs\" : [660],\n",
    "    \"t_readout\": [0],\n",
    "    \"depol_channel\" : [\n",
    "        {\n",
    "            \"active\": False,\n",
    "            \"error_gate_1qb\" : None,\n",
    "            \"error_gate_2qbs\" : None\n",
    "        }          \n",
    "    ],\n",
    "    \"idle\" : [\n",
    "        {\n",
    "            \"amplitude_damping\": True,\n",
    "            \"dephasing_channel\": True,\n",
    "            \"t1\" : 1000e6,\n",
    "            \"t2\" : 500e6\n",
    "        },\n",
    "        {\n",
    "            \"amplitude_damping\": True,\n",
    "            \"dephasing_channel\": True,\n",
    "            \"t1\" : 100e6,\n",
    "            \"t2\" : 50e6\n",
    "        },        \n",
    "        {\n",
    "            \"amplitude_damping\": True,\n",
    "            \"dephasing_channel\": True,\n",
    "            \"t1\" : 10e6,\n",
    "            \"t2\" : 5e6\n",
    "        },     \n",
    "        {\n",
    "            \"amplitude_damping\": True,\n",
    "            \"dephasing_channel\": True,\n",
    "            \"t1\" : 1e6,\n",
    "            \"t2\" : 0.5e6\n",
    "        },  \n",
    "        {\n",
    "            \"amplitude_damping\": True,\n",
    "            \"dephasing_channel\": True,\n",
    "            \"t1\" : 0.231e6, # brisbane\n",
    "            \"t2\" : 0.132e6 # brisbane\n",
    "        }, \n",
    "        {\n",
    "            \"amplitude_damping\": True,\n",
    "            \"dephasing_channel\": True,\n",
    "            \"t1\" : 50e3,  # Toshiko: 50 us\n",
    "            \"t2\" : 30e3 # Toshiko: 30 us\n",
    "        },              \n",
    "    ],\n",
    "    \"meas\": [{\n",
    "        \"active\":False,\n",
    "        \"readout_error\": None\n",
    "    }]\n",
    "}]\n",
    "noisy_conf_list = combination_for_list(conf_noise)"
   ]
  },
  {
   "cell_type": "code",
   "execution_count": null,
   "id": "47b80e2f-1e14-4a47-89d2-db784c2dfc5b",
   "metadata": {
    "tags": []
   },
   "outputs": [],
   "source": [
    "# Now we are going to solve the circuit with all the different depolarising channel configurations\n",
    "a_depol = []\n",
    "\n",
    "error1 = []\n",
    "gse = []\n",
    "for hw_m in noisy_conf_list:\n",
    "    my_noisy_qpu = select_qpu(hw_m)\n",
    "    print(hw_m)\n",
    "    configuration.update({\"qpu\":my_noisy_qpu})\n",
    "    t1 = hw_m[\"idle\"][\"t1\"]\n",
    "    t2 = hw_m[\"idle\"][\"t2\"]    \n",
    "    t_varphi = 1.0 / ((1.0 / t2) - (1.0 / (2 * t1)))\n",
    "    error1.append(t_varphi)\n",
    "    pdf_ideal_noisy, c = run_ph_execution(**configuration)\n",
    "    gse.append(pdf_ideal_noisy[\"gse\"].iloc[0])"
   ]
  },
  {
   "cell_type": "code",
   "execution_count": null,
   "id": "323612f8-466b-4779-a646-2f847b4bc76a",
   "metadata": {
    "tags": []
   },
   "outputs": [],
   "source": [
    "plt.plot(error1, np.abs(gse - pdf_ideal[\"gse\"].iloc[0]), '-o')\n",
    "#plt.axhline(pdf_ideal[\"gse\"].iloc[0], c='r')\n",
    "plt.yscale(\"log\")\n",
    "plt.xscale(\"log\")\n",
    "plt.xlabel(r\"$T_{\\varphi}$\")\n",
    "plt.ylabel(r\" Ground State Energy (noisy-ideal)\")\n",
    "plt.title(\"Amplitude Damping and Dephasing. Ideal Gates\")\n",
    "    "
   ]
  },
  {
   "attachments": {
    "f8a647db-d2bb-454e-8b2c-eed67af18762.png": {
     "image/png": "[encoded data removed]"
    }
   },
   "cell_type": "markdown",
   "id": "65550258-558d-4eff-a4b8-911f058e9599",
   "metadata": {},
   "source": [
    "\n",
    "#### Behaviour of the metrics versus $T_{\\varphi}$ (amplitude damping and dephaising channel)\n",
    "\n",
    "![image.png](attachment:f8a647db-d2bb-454e-8b2c-eed67af18762.png)"
   ]
  },
  {
   "cell_type": "markdown",
   "id": "849971a3-1a1c-4cab-9098-bfe03524a10b",
   "metadata": {},
   "source": [
    "### 3.4 Redout error\n",
    "\n",
    "For selecting a readout error the *meas* key should be used. The corresponding value is a Python dictionary with the following keys:\n",
    "\n",
    "* active: the corresponding value is a boolean for activating (True) or deactivating (False) the readout error.\n",
    "* readout_error: the corresponding value for the readout error"
   ]
  },
  {
   "cell_type": "markdown",
   "id": "421b48d3-a4cd-4b8f-83bb-92d60bc3b120",
   "metadata": {
    "tags": []
   },
   "source": [
    "### Toshiko\n",
    "\n",
    "T1 = 50 # us\n",
    "T2= 30 # us\n",
    "F1 = 99.9 # %\n",
    "F2 = 92 # %\n",
    "F_ro = 90 # %"
   ]
  },
  {
   "cell_type": "code",
   "execution_count": null,
   "id": "2594a2fe-d13d-4a17-867d-c70944d8ff36",
   "metadata": {
    "tags": []
   },
   "outputs": [],
   "source": [
    "conf_noise = [{\n",
    "    \"qpu_type\": [\"noisy\"],\n",
    "    \"t_gate_1qb\" : [35],\n",
    "    \"t_gate_2qbs\" : [660],\n",
    "    \"t_readout\": [0],\n",
    "    \"depol_channel\" : [\n",
    "        {\n",
    "            \"active\": False,\n",
    "            \"error_gate_1qb\" : None,\n",
    "            \"error_gate_2qbs\" : None\n",
    "        }          \n",
    "    ],\n",
    "    \"idle\" : [\n",
    "        {\n",
    "            \"amplitude_damping\": False,\n",
    "            \"dephasing_channel\": False,\n",
    "            \"t1\" : None,\n",
    "            \"t2\" : None\n",
    "        }          \n",
    "    ],\n",
    "    \"meas\": [\n",
    "        {\n",
    "            \"active\":True,\n",
    "            \"readout_error\": 1e-6\n",
    "        },\n",
    "        {\n",
    "            \"active\":True,\n",
    "            \"readout_error\": 1e-5\n",
    "        },\n",
    "        {\n",
    "            \"active\":True,\n",
    "            \"readout_error\": 1e-4\n",
    "        },        \n",
    "        {\n",
    "            \"active\":True,\n",
    "            \"readout_error\": 1e-3\n",
    "        }, \n",
    "        {\n",
    "            \"active\":True,\n",
    "            \"readout_error\": 1.300e-2 # brisbane\n",
    "        },\n",
    "        {\n",
    "            \"active\":True,\n",
    "            \"readout_error\": 0.1 #Toshiko\n",
    "        }        \n",
    "    ]\n",
    "}]\n",
    "noisy_conf_list = combination_for_list(conf_noise)"
   ]
  },
  {
   "cell_type": "code",
   "execution_count": null,
   "id": "5562b41b-c033-422f-adbb-cf2ef695b997",
   "metadata": {
    "tags": []
   },
   "outputs": [],
   "source": [
    "# Now we are going to solve the circuit with all the different depolarising channel configurations\n",
    "a_depol = []\n",
    "\n",
    "error1 = []\n",
    "gse = []\n",
    "for hw_m in noisy_conf_list:\n",
    "    my_noisy_qpu = select_qpu(hw_m)\n",
    "    print(hw_m)\n",
    "    configuration.update({\"qpu\":my_noisy_qpu}) \n",
    "    error1.append(hw_m[\"meas\"][\"readout_error\"])\n",
    "    pdf_ideal_noisy, c = run_ph_execution(**configuration)\n",
    "    gse.append(pdf_ideal_noisy[\"gse\"].iloc[0])"
   ]
  },
  {
   "cell_type": "code",
   "execution_count": null,
   "id": "b20d3754-8bf2-49f4-b315-737a06d9b5da",
   "metadata": {
    "tags": []
   },
   "outputs": [],
   "source": [
    "plt.plot(error1, np.abs(gse - pdf_ideal[\"gse\"].iloc[0]), '-o')\n",
    "#plt.axhline(pdf_ideal[\"gse\"].iloc[0], c='r')\n",
    "plt.yscale(\"log\")\n",
    "plt.xscale(\"log\")\n",
    "plt.xlabel(\"Readout Error\")\n",
    "plt.ylabel(r\" Ground State Energy (noisy-ideal)\")\n",
    "plt.title(\"Only Readout Error.\")"
   ]
  },
  {
   "attachments": {
    "bac80fbd-5256-4872-b678-6b89b81303e4.png": {
     "image/png": "[encoded data removed]"
    }
   },
   "cell_type": "markdown",
   "id": "7ca0c59f-4ff2-4207-9fa3-c8fd67e63b2b",
   "metadata": {},
   "source": [
    "#### Behaviour of the metrics versus Readout error\n",
    "\n",
    "\n",
    "![image.png](attachment:bac80fbd-5256-4872-b678-6b89b81303e4.png)"
   ]
  }
 ],
 "metadata": {
  "kernelspec": {
   "display_name": "1. Qaptiva 3.12 (ipykernel)",
   "language": "python",
   "name": "qaptiva312"
  },
  "language_info": {
   "codemirror_mode": {
    "name": "ipython",
    "version": 3
   },
   "file_extension": ".py",
   "mimetype": "text/x-python",
   "name": "python",
   "nbconvert_exporter": "python",
   "pygments_lexer": "ipython3",
   "version": "3.12.3"
  }
 },
 "nbformat": 4,
 "nbformat_minor": 5
}
