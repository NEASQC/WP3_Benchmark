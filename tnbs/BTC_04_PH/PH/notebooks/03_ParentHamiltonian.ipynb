{
 "cells": [
  {
   "cell_type": "markdown",
   "id": "65171bc2",
   "metadata": {},
   "source": [
    "# Complete PH\n",
    "\n",
    "Here we document the code for executing a complete parent hamiltonian BTC."
   ]
  },
  {
   "cell_type": "code",
   "execution_count": null,
   "id": "833398ed",
   "metadata": {},
   "outputs": [],
   "source": [
    "import logging\n",
    "logging.basicConfig(\n",
    "    format='%(asctime)s-%(levelname)s: %(message)s',\n",
    "    datefmt='%m/%d/%Y %I:%M:%S %p',\n",
    "    level=logging.INFO\n",
    "    #level=logging.DEBUG\n",
    ")\n",
    "logger = logging.getLogger('__name__')"
   ]
  },
  {
   "cell_type": "code",
   "execution_count": null,
   "id": "dc8da478",
   "metadata": {},
   "outputs": [],
   "source": [
    "import numpy as np\n",
    "import pandas as pd\n",
    "import time"
   ]
  },
  {
   "cell_type": "code",
   "execution_count": null,
   "id": "721e3dc7",
   "metadata": {},
   "outputs": [],
   "source": [
    "import sys\n",
    "sys.path.append(\"../../\")"
   ]
  },
  {
   "cell_type": "code",
   "execution_count": null,
   "id": "c96e5f5a",
   "metadata": {
    "scrolled": true
   },
   "outputs": [],
   "source": [
    "# myQLM qpus\n",
    "from qat.qpus import PyLinalg, CLinalg\n",
    "qpu_c = CLinalg()\n",
    "qpu_p = PyLinalg()\n",
    "# QLM qpus\n",
    "from qlmaas.qpus import LinAlg, MPS\n",
    "qpu_qaass = LinAlg()\n",
    "qpu_mps = MPS(lnnize =True)"
   ]
  },
  {
   "cell_type": "markdown",
   "id": "6c0538eb",
   "metadata": {},
   "source": [
    "## Module PH.btc_ph\n",
    "\n",
    "In this module we built the function **ph_btc** that implements a complete workflow of a **BTC** of a the **PH kernel**. The input of this function is a complete dictionary that configures the complete case. The main key will be:\n",
    "\n",
    "* ansatz: for selecting the ansatz to use (restricted to simple01, simple02, lda or hwe).\n",
    "* nqubits: number of qubits for the ansatz\n",
    "* depth: ansatz depth\n",
    "* qpu_ansatz: atos myqlm QPU that will be used for solving the ansatz\n",
    "* qpu_ph: atos myqlm QPU that will be used for solving the complete PH problem\n",
    "* nb_shots: shots\n",
    "* save: for saving or not intermediate data (like parameters of the ansztz or the complete Pauli decomposition of the Hamiltoninan)\n",
    "* folder: Folder for saving the intermediate files\n"
   ]
  },
  {
   "cell_type": "code",
   "execution_count": null,
   "id": "f3d04c9f",
   "metadata": {},
   "outputs": [],
   "source": [
    "from PH.btc_ph import ph_btc, get_qpu, create_folder"
   ]
  },
  {
   "cell_type": "code",
   "execution_count": null,
   "id": "cd1308c0",
   "metadata": {},
   "outputs": [],
   "source": [
    "ansatz = 'simple02'\n",
    "nqubits = 5\n",
    "depth = 3\n",
    "qpu_ansatz = \"mps\"\n",
    "qpu_ph = \"c\"\n",
    "\n",
    "folder_name = \"ansatz_{}_nqubits_{}_depth_{}_qpu_ansatz_{}_qpu_ph_{}\".format(\n",
    "    ansatz, nqubits, depth, qpu_ansatz, qpu_ph)\n",
    "                                                                   \n",
    "ph_configuration = {\n",
    "    'ansatz': ansatz, \n",
    "    'nqubits': nqubits,\n",
    "    'depth': depth,\n",
    "    'qpu_ansatz' : get_qpu(qpu_ansatz),\n",
    "    'qpu_ph' : get_qpu(qpu_ph),\n",
    "    'nb_shots' : 0,\n",
    "    'save': True,\n",
    "    'folder': create_folder(folder_name),\n",
    "}"
   ]
  },
  {
   "cell_type": "code",
   "execution_count": null,
   "id": "759dec17",
   "metadata": {
    "scrolled": true
   },
   "outputs": [],
   "source": [
    "result  = ph_btc(**ph_configuration)"
   ]
  },
  {
   "cell_type": "code",
   "execution_count": null,
   "id": "4dd97c68",
   "metadata": {},
   "outputs": [],
   "source": [
    "result"
   ]
  },
  {
   "cell_type": "code",
   "execution_count": null,
   "id": "eeb4ff8b",
   "metadata": {},
   "outputs": [],
   "source": [
    "ansatz = 'hwe'\n",
    "nqubits = 7\n",
    "depth = 3\n",
    "qpu_ansatz = \"mps\"\n",
    "qpu_ph = \"qlmass\"\n",
    "\n",
    "folder_name = \"ansatz_{}_nqubits_{}_depth_{}_qpu_ansatz_{}_qpu_ph_{}\".format(\n",
    "    ansatz, nqubits, depth, qpu_ansatz, qpu_ph)\n",
    "                                                                   \n",
    "ph_configuration = {\n",
    "    'ansatz': ansatz, \n",
    "    'nqubits': nqubits,\n",
    "    'depth': depth,\n",
    "    'qpu_ansatz' : get_qpu(qpu_ansatz),\n",
    "    'qpu_ph' : get_qpu(qpu_ph),\n",
    "    'nb_shots' : 0,\n",
    "    'save': True,\n",
    "    'folder': create_folder(folder_name),\n",
    "}\n",
    "result  = ph_btc(**ph_configuration)\n",
    "print(result)"
   ]
  }
 ],
 "metadata": {
  "kernelspec": {
   "display_name": "Python 3 (ipykernel)",
   "language": "python",
   "name": "python3"
  },
  "language_info": {
   "codemirror_mode": {
    "name": "ipython",
    "version": 3
   },
   "file_extension": ".py",
   "mimetype": "text/x-python",
   "name": "python",
   "nbconvert_exporter": "python",
   "pygments_lexer": "ipython3",
   "version": "3.9.9"
  }
 },
 "nbformat": 4,
 "nbformat_minor": 5
}
