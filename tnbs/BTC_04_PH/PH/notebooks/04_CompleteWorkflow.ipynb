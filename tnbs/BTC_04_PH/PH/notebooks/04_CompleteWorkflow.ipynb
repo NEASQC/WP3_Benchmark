{
 "cells": [
  {
   "cell_type": "markdown",
   "id": "65171bc2",
   "metadata": {},
   "source": [
    "# Complete PH workflow\n",
    "\n",
    "The **PH** pacakge has a very modular structure for dealing with the different parts of the **PH** benchmark test case:\n",
    "\n",
    "* module **ansatzes** deals with ansatz circuit creation and solving (see notebook: **01_Ansatzes.ipynb**)\n",
    "* module **parent_hamiltonian**: has functions and class for computing the Parent Hamiltonian and its Pauli String decomposition (see notebook **02_Using_PH_Class.ipynb**)\n",
    "* module *vqe_step*: deals with the computation of the ground state energy for a given ansatz and parent hamiltonian (see notebook **03_ParentHamiltonian_execution.ipynb**).\n",
    "\n",
    "In this notebook the module **workflow** is reviewed. This module group all the aforementioned modules for execute a complete Benchamrk Test Case for a **PH Kernel**\n"
   ]
  },
  {
   "cell_type": "code",
   "execution_count": null,
   "id": "833398ed",
   "metadata": {},
   "outputs": [],
   "source": [
    "import logging\n",
    "logging.basicConfig(\n",
    "    format='%(asctime)s-%(levelname)s: %(message)s',\n",
    "    datefmt='%m/%d/%Y %I:%M:%S %p',\n",
    "    level=logging.INFO\n",
    "    #level=logging.DEBUG\n",
    ")\n",
    "logger = logging.getLogger('__name__')"
   ]
  },
  {
   "cell_type": "code",
   "execution_count": null,
   "id": "dc8da478",
   "metadata": {},
   "outputs": [],
   "source": [
    "import numpy as np\n",
    "import pandas as pd\n",
    "import time"
   ]
  },
  {
   "cell_type": "code",
   "execution_count": null,
   "id": "721e3dc7",
   "metadata": {},
   "outputs": [],
   "source": [
    "import sys\n",
    "sys.path.append(\"../\")"
   ]
  },
  {
   "cell_type": "code",
   "execution_count": null,
   "id": "c96e5f5a",
   "metadata": {
    "scrolled": true
   },
   "outputs": [],
   "source": [
    "# myQLM qpus\n",
    "from qat.qpus import PyLinalg, CLinalg\n",
    "qpu_c = CLinalg()\n",
    "qpu_p = PyLinalg()\n",
    "# QLM qpus\n",
    "from qlmaas.qpus import LinAlg, MPS\n",
    "qpu_qaass = LinAlg()\n",
    "qpu_mps = MPS()"
   ]
  },
  {
   "cell_type": "code",
   "execution_count": null,
   "id": "4f7f6ea3",
   "metadata": {},
   "outputs": [],
   "source": [
    "from workflow import workflow"
   ]
  },
  {
   "cell_type": "markdown",
   "id": "f3b5e8c7",
   "metadata": {},
   "source": [
    "In order to use the *workflow* function from **workflow** module a configuration dictionary should be provided. Following cell show a complete configuration"
   ]
  },
  {
   "cell_type": "code",
   "execution_count": null,
   "id": "480783df",
   "metadata": {},
   "outputs": [],
   "source": [
    "nqubits = 8\n",
    "depth = 4\n",
    "i = 0\n",
    "ansatz = [\"simple01\", \"simple02\", \"lda\", \"hwe\"][i]\n",
    "if i== 0:\n",
    "    t_inv = True\n",
    "else:\n",
    "    t_inv = False\n",
    "truncation = None\n",
    "nb_shots = 0\n",
    "qpus = [\"c\", \"python\", \"qlmass\", \"mps\"]\n",
    "qpu_ansatz = qpus[0]\n",
    "qpu_ph = qpus[0]\n",
    "save = True\n",
    "folder = \"Savings/\"\n",
    "configuration = {\n",
    "    # ansatz related configuration\n",
    "    \"nqubits\": nqubits,\n",
    "    \"depth\": depth,\n",
    "    \"ansatz\": ansatz,\n",
    "    # parent hamiltonian configuration\n",
    "    \"t_inv\": t_inv,\n",
    "    # vqe step configuration\n",
    "    \"truncation\": truncation,\n",
    "    \"nb_shots\": nb_shots,\n",
    "    \"qpu_ansatz\": qpu_ansatz,\n",
    "    \"qpu_ph\": qpu_ph,\n",
    "    \"save\": save,\n",
    "    \"folder\": folder\n",
    "    \n",
    "}"
   ]
  },
  {
   "cell_type": "code",
   "execution_count": null,
   "id": "bc3ad135",
   "metadata": {},
   "outputs": [],
   "source": [
    "pdf = workflow(**configuration)"
   ]
  },
  {
   "cell_type": "code",
   "execution_count": null,
   "id": "69625a97",
   "metadata": {},
   "outputs": [],
   "source": [
    "pdf"
   ]
  },
  {
   "cell_type": "markdown",
   "id": "519e2b95",
   "metadata": {},
   "source": [
    "We can truncate Pauli terms !!"
   ]
  },
  {
   "cell_type": "code",
   "execution_count": null,
   "id": "5dc578c5",
   "metadata": {},
   "outputs": [],
   "source": [
    "configuration.update({\"truncation\": 3})"
   ]
  },
  {
   "cell_type": "code",
   "execution_count": null,
   "id": "b2f319e6",
   "metadata": {},
   "outputs": [],
   "source": [
    "pdf = workflow(**configuration)"
   ]
  },
  {
   "cell_type": "code",
   "execution_count": null,
   "id": "d79f81f6",
   "metadata": {},
   "outputs": [],
   "source": [
    "pdf"
   ]
  },
  {
   "cell_type": "code",
   "execution_count": null,
   "id": "223e68d4",
   "metadata": {},
   "outputs": [],
   "source": [
    "configuration.update({\"truncation\": 2})\n",
    "pdf = workflow(**configuration)"
   ]
  },
  {
   "cell_type": "code",
   "execution_count": null,
   "id": "b5974ab4",
   "metadata": {},
   "outputs": [],
   "source": [
    "pdf"
   ]
  },
  {
   "cell_type": "markdown",
   "id": "e7801585",
   "metadata": {},
   "source": [
    "## Command Line\n",
    "\n",
    "The **workflow** module can be executed from command line. Several arguments can be provided for configuring the complete execution. For getting a help type:\n",
    "\n",
    "**python workflow.py -h**\n",
    "\n",
    "The following argumnets can be provided:\n",
    "\n",
    "* -nqubits NQUBITS      Number of qbits for the ansatz.\n",
    "* -depth DEPTH          Depth for ansatz.\n",
    "* -ansatz ANSATZ        Ansatz type: simple01, simple02, lda or hwe.\n",
    "* -qpu_ansatz QPU_ANSATZ: QPU for ansatz simulation: [qlmass, python, c, mps]\n",
    "* --t_inv               Setting translational invariant of the ansatz\n",
    "* -truncation TRUNCATION: Truncation for Pauli coeficients.\n",
    "* -nb_shots NB_SHOTS    Number of shots\n",
    "* -qpu_ph QPU_PH        QPU for parent hamiltonian simulation: [qlmass, python, c]\n",
    "* -folder FOLDER        Path for storing results\n",
    "* --save                For storing results"
   ]
  },
  {
   "cell_type": "markdown",
   "id": "38ebe36e",
   "metadata": {},
   "source": [
    "## Masive Execution\n",
    "\n",
    "As in the other cases we can execute masive executions of the **workflow** module. The mandatory files are:\n",
    "\n",
    "* **workflow.json**: JSON file with the complete desired configuration for the workflow. Each posible configuration parameter in the JSON file has associated a list with the desired values. The total number of workflows will be all the posible combinations of the values of all the parameters. \n",
    "    * Example: if *nqubits: [10, 14]*, *depth: [1, 2, 3, 4]* and *ansatz: [\"simple01\", \"simple02\"]* (and the otheres parameters has only a one element) then the posible workflows will be 2 * 4 * 2= 16. \n",
    "* **launch_workflow.py** this script allows to configure the workflows taking the configuration from the **workflow.json** and executes them. Use **python launch_workflow -h** for getting a help. The following arguments can be provided:\n",
    "    * --all: for selecting all the posible workflows resulting from **workflow.json** file.\n",
    "    * -id ID: for selecting only one posible workflow (the number given by ID) from all the posible workflowss from **workflow.json** file.\n",
    "    * --print: for printing the configuration of the workflow\n",
    "    * --count: give the number of all the posible combinations resulting from **workflow.json** file.\n",
    "    * --exe: for executing a complete workflow. If --all is provided all posible workflow combinations from **workflow.json** are executes. If -id ID is provided only the ID workflow will be executed."
   ]
  }
 ],
 "metadata": {
  "kernelspec": {
   "display_name": "Python 3 (ipykernel)",
   "language": "python",
   "name": "python3"
  },
  "language_info": {
   "codemirror_mode": {
    "name": "ipython",
    "version": 3
   },
   "file_extension": ".py",
   "mimetype": "text/x-python",
   "name": "python",
   "nbconvert_exporter": "python",
   "pygments_lexer": "ipython3",
   "version": "3.9.9"
  }
 },
 "nbformat": 4,
 "nbformat_minor": 5
}
