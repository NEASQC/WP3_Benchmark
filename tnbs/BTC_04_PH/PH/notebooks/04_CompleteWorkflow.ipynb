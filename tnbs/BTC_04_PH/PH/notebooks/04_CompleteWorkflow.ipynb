{
 "cells": [
  {
   "cell_type": "markdown",
   "id": "65171bc2",
   "metadata": {},
   "source": [
    "# Complete PH workflow\n",
    "\n",
    "The **PH** pacakge has a very modular structure for dealing with the different parts of the **PH** benchmark test case:\n",
    "\n",
    "* module *ansatzes* deals with ansatz circuit creation and solving (see notebook: **01_Ansatzes.ipynb**)\n",
    "* module *parent_hamiltonian*: has functions and class for computing the Parent Hamiltonian and its Pauli String decomposition (see notebook **02_Using_PH_Class.ipynb**)\n",
    "* module *execution_ph*: deals with the computation of the ground state energy for a given ansat and parent hamiltonian (see notebook **03_ParentHamiltonian_execution.ipynb**).\n",
    "\n",
    "In this notebook the module **workflow** is reviewed. This module group all the aforementioned modules for execute a complete Benchamrk Test Case for a **PH Kernel**\n"
   ]
  },
  {
   "cell_type": "code",
   "execution_count": null,
   "id": "833398ed",
   "metadata": {},
   "outputs": [],
   "source": [
    "import logging\n",
    "logging.basicConfig(\n",
    "    format='%(asctime)s-%(levelname)s: %(message)s',\n",
    "    datefmt='%m/%d/%Y %I:%M:%S %p',\n",
    "    level=logging.INFO\n",
    "    #level=logging.DEBUG\n",
    ")\n",
    "logger = logging.getLogger('__name__')"
   ]
  },
  {
   "cell_type": "code",
   "execution_count": null,
   "id": "dc8da478",
   "metadata": {},
   "outputs": [],
   "source": [
    "import numpy as np\n",
    "import pandas as pd\n",
    "import time"
   ]
  },
  {
   "cell_type": "code",
   "execution_count": null,
   "id": "721e3dc7",
   "metadata": {},
   "outputs": [],
   "source": [
    "import sys\n",
    "sys.path.append(\"../\")"
   ]
  },
  {
   "cell_type": "code",
   "execution_count": null,
   "id": "c96e5f5a",
   "metadata": {
    "scrolled": true
   },
   "outputs": [],
   "source": [
    "# myQLM qpus\n",
    "from qat.qpus import PyLinalg, CLinalg\n",
    "qpu_c = CLinalg()\n",
    "qpu_p = PyLinalg()\n",
    "# QLM qpus\n",
    "from qlmaas.qpus import LinAlg, MPS\n",
    "qpu_qaass = LinAlg()\n",
    "qpu_mps = MPS()"
   ]
  },
  {
   "cell_type": "code",
   "execution_count": null,
   "id": "4f7f6ea3",
   "metadata": {},
   "outputs": [],
   "source": [
    "from workflow import workflow"
   ]
  },
  {
   "cell_type": "markdown",
   "id": "f3b5e8c7",
   "metadata": {},
   "source": [
    "In order to use the *workflow* function from **workflow** module a configuration dictionary should be provided. Following cell show a complete configuration"
   ]
  },
  {
   "cell_type": "code",
   "execution_count": null,
   "id": "480783df",
   "metadata": {},
   "outputs": [],
   "source": [
    "nqubits = 8\n",
    "depth = 4\n",
    "i = 0\n",
    "ansatz = [\"simple01\", \"simple02\", \"lda\", \"hwe\"][i]\n",
    "if i== 0:\n",
    "    t_inv = True\n",
    "else:\n",
    "    t_inv = False\n",
    "truncation = None\n",
    "nb_shots = 0\n",
    "qpus = [\"c\", \"python\", \"qlmass\", \"mps\"]\n",
    "qpu_ansatz = qpus[0]\n",
    "qpu_ph = qpus[0]\n",
    "save = True\n",
    "folder = \"Savings/\"\n",
    "configuration = {\n",
    "    # ansatz related configuration\n",
    "    \"nqubits\": nqubits,\n",
    "    \"depth\": depth,\n",
    "    \"ansatz\": ansatz,\n",
    "    # parent hamiltonian configuration\n",
    "    \"t_inv\": t_inv,\n",
    "    # vqe step configuration\n",
    "    \"truncation\": truncation,\n",
    "    \"nb_shots\": nb_shots,\n",
    "    \"qpu_ansatz\": qpu_ansatz,\n",
    "    \"qpu_ph\": qpu_ph,\n",
    "    \"save\": save,\n",
    "    \"folder\": folder\n",
    "    \n",
    "}"
   ]
  },
  {
   "cell_type": "code",
   "execution_count": null,
   "id": "bc3ad135",
   "metadata": {},
   "outputs": [],
   "source": [
    "pdf = workflow(**configuration)"
   ]
  },
  {
   "cell_type": "code",
   "execution_count": null,
   "id": "69625a97",
   "metadata": {},
   "outputs": [],
   "source": [
    "pdf"
   ]
  },
  {
   "cell_type": "markdown",
   "id": "519e2b95",
   "metadata": {},
   "source": [
    "We can truncate Pauli terms !!"
   ]
  },
  {
   "cell_type": "code",
   "execution_count": null,
   "id": "5dc578c5",
   "metadata": {},
   "outputs": [],
   "source": [
    "configuration.update({\"truncation\": 3})"
   ]
  },
  {
   "cell_type": "code",
   "execution_count": null,
   "id": "b2f319e6",
   "metadata": {},
   "outputs": [],
   "source": [
    "pdf = workflow(**configuration)"
   ]
  },
  {
   "cell_type": "code",
   "execution_count": null,
   "id": "d79f81f6",
   "metadata": {},
   "outputs": [],
   "source": [
    "pdf"
   ]
  },
  {
   "cell_type": "code",
   "execution_count": null,
   "id": "223e68d4",
   "metadata": {},
   "outputs": [],
   "source": [
    "configuration.update({\"truncation\": 2})\n",
    "pdf = workflow(**configuration)"
   ]
  },
  {
   "cell_type": "code",
   "execution_count": null,
   "id": "b5974ab4",
   "metadata": {},
   "outputs": [],
   "source": [
    "pdf"
   ]
  }
 ],
 "metadata": {
  "kernelspec": {
   "display_name": "Python 3 (ipykernel)",
   "language": "python",
   "name": "python3"
  },
  "language_info": {
   "codemirror_mode": {
    "name": "ipython",
    "version": 3
   },
   "file_extension": ".py",
   "mimetype": "text/x-python",
   "name": "python",
   "nbconvert_exporter": "python",
   "pygments_lexer": "ipython3",
   "version": "3.9.9"
  }
 },
 "nbformat": 4,
 "nbformat_minor": 5
}
