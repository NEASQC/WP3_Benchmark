{
 "cells": [
  {
   "cell_type": "markdown",
   "id": "65171bc2",
   "metadata": {},
   "source": [
    "# Complete PH workflow\n",
    "\n",
    "The **PH** pacakge has a very modular structure for dealing with the different parts of the **PH** benchmark test case:\n",
    "\n",
    "* module *ansatzes* deals with ansatz circuit creation and solving (see notebook: **01_Ansatzes.ipynb**)\n",
    "* module *parent_hamiltonian*: has functions and class for computing the Parent Hamiltonian and its Pauli String decomposition (see notebook **02_Using_PH_Class.ipynb**)\n",
    "* module *execution_ph*: deals with the computation of the ground state energy for a given ansat and parent hamiltonian (see notebook **03_ParentHamiltonian_execution.ipynb**).\n",
    "\n",
    "In this notebook the module **btc_ph** is reviewed. This module group all the aforementioned modules for execute a complete Benchamrk Test Case for a **PH Kernel**\n"
   ]
  },
  {
   "cell_type": "code",
   "execution_count": null,
   "id": "833398ed",
   "metadata": {},
   "outputs": [],
   "source": [
    "import logging\n",
    "logging.basicConfig(\n",
    "    format='%(asctime)s-%(levelname)s: %(message)s',\n",
    "    datefmt='%m/%d/%Y %I:%M:%S %p',\n",
    "    level=logging.INFO\n",
    "    #level=logging.DEBUG\n",
    ")\n",
    "logger = logging.getLogger('__name__')"
   ]
  },
  {
   "cell_type": "code",
   "execution_count": null,
   "id": "dc8da478",
   "metadata": {},
   "outputs": [],
   "source": [
    "import numpy as np\n",
    "import pandas as pd\n",
    "import time"
   ]
  },
  {
   "cell_type": "code",
   "execution_count": null,
   "id": "721e3dc7",
   "metadata": {},
   "outputs": [],
   "source": [
    "import sys\n",
    "sys.path.append(\"../\")"
   ]
  },
  {
   "cell_type": "code",
   "execution_count": null,
   "id": "c96e5f5a",
   "metadata": {
    "scrolled": true
   },
   "outputs": [],
   "source": [
    "# myQLM qpus\n",
    "from qat.qpus import PyLinalg, CLinalg\n",
    "qpu_c = CLinalg()\n",
    "qpu_p = PyLinalg()\n",
    "# QLM qpus\n",
    "from qlmaas.qpus import LinAlg, MPS\n",
    "qpu_qaass = LinAlg()\n",
    "qpu_mps = MPS(lnnize =True)"
   ]
  },
  {
   "cell_type": "markdown",
   "id": "6c0538eb",
   "metadata": {},
   "source": [
    "## 1. complete_ph function\n",
    "\n",
    "\n",
    "The *complete_ph* from **btc_ph** implements a complete workflow of a **BTC** of a the **PH kernel**. The input of this function is a complete dictionary that configures the complete case. Keys will be:\n",
    "\n",
    "* ansatz: for selecting the ansatz to use (restricted to simple01, simple02, lda or hwe).\n",
    "* nqubits: number of qubits for the ansatz\n",
    "* depth: ansatz depth\n",
    "* qpu_ansatz: atos myqlm QPU that will be used for solving the ansatz\n",
    "* t_invariant: boolean variable for indicating if the ansatz is tralational invariant\n",
    "* qpu_ph: atos myqlm QPU that will be used for computing groudnstate energy of the ansatz under the parent hamiltonian.\n",
    "* nb_shots: shots dor computing gorund state energy\n",
    "* truncation: for deleting Pauli coefficients in the ground state energy\n",
    "* save: for saving or not intermediate data (like parameters of the ansztz or the complete Pauli decomposition of the Hamiltoninan)\n",
    "* folder: Folder for saving the intermediate files\n",
    "* filename: base filename for saving intermediate files\n"
   ]
  },
  {
   "cell_type": "code",
   "execution_count": null,
   "id": "f3d04c9f",
   "metadata": {},
   "outputs": [],
   "source": [
    "from btc_ph import complete_ph\n",
    "from utils import get_qpu, create_folder"
   ]
  },
  {
   "cell_type": "code",
   "execution_count": null,
   "id": "8da736f9",
   "metadata": {},
   "outputs": [],
   "source": [
    "#Anstaz\n",
    "ansatz = 'simple01'\n",
    "nqubits = 7\n",
    "depth = 3\n",
    "qpu_ansatz = \"mps\"\n",
    "#Parent Hamiltonian\n",
    "t_inv = True\n",
    "#Ground State Energy\n",
    "qpu_ph = \"qlmass\"\n",
    "nb_shots = 0\n",
    "truncation = None\n",
    "#Saving Stuff\n",
    "folder = \"Test\"\n",
    "filename = \"ansatz_{}_nqubits_{}_depth_{}_qpu_ansatz_{}_qpu_ph_{}\".format(\n",
    "    ansatz, nqubits, depth, qpu_ansatz, qpu_ph)\n",
    "                                                                   \n",
    "ph_configuration = {\n",
    "    #Ansatz\n",
    "    'ansatz': ansatz, \n",
    "    'nqubits': nqubits,\n",
    "    'depth': depth,\n",
    "    'qpu_ansatz' : get_qpu(qpu_ansatz),\n",
    "    #Parent Hamiltonian\n",
    "    't_inv': t_inv,    \n",
    "    # Ground State Energy\n",
    "    'qpu_ph' : get_qpu(qpu_ph),\n",
    "    'nb_shots' : nb_shots,\n",
    "    'truncation': truncation,\n",
    "    \n",
    "    'save': True,\n",
    "    'folder': create_folder(folder),\n",
    "    'filename': filename\n",
    "\n",
    "}"
   ]
  },
  {
   "cell_type": "code",
   "execution_count": null,
   "id": "87a84c45",
   "metadata": {
    "scrolled": true
   },
   "outputs": [],
   "source": [
    "pdf = complete_ph(**ph_configuration)"
   ]
  },
  {
   "cell_type": "markdown",
   "id": "8f4ce169",
   "metadata": {},
   "source": [
    "The output of the *complete_ph* is pandas DataFrame with the configuration of the complete procedure. Important information are the times of the different procceses:\n",
    "\n",
    "* create_ansatz_time: elapsed time in ansatz circuit creation\n",
    "* solve_ansatz_time: elapsed time for solving ansatz\n",
    "* ph_time: elapsed time for creating parent hamiltonian\n",
    "* observable_time: time for creating the observable list for GSE computations (CAN BE very consuming)\n",
    "* quantum_time: time for pure quantum computation of GSE\n",
    "* elapsed_time: sum of all times\n",
    "\n",
    "The *gse* column provide the computed Ground State Energy"
   ]
  },
  {
   "cell_type": "code",
   "execution_count": null,
   "id": "d047c2da",
   "metadata": {},
   "outputs": [],
   "source": [
    "pdf"
   ]
  },
  {
   "cell_type": "markdown",
   "id": "822e6bfc",
   "metadata": {},
   "source": [
    "In addtition if save is set to *True* all the intermediate files are saving in the *folder* name witha base file name given by *filename*. The files are:\n",
    "\n",
    "* filename_**parameters.csv**: where the parameters of the ansatz are stored\n",
    "* filename_**state.csv**: where the complete state of the ansatz is stored\n",
    "* filename_**pauli.csv**: where the complete Pauli decomposition of the PH is stored\n",
    "* filename_**phexe.csv**: where the results of the ground state calculation is stored."
   ]
  },
  {
   "cell_type": "markdown",
   "id": "f7c4a7db",
   "metadata": {},
   "source": [
    "## 2. Other ansatzes\n",
    "\n",
    "Different ansatzes can be used by configuring the input dicitonary properly"
   ]
  },
  {
   "cell_type": "code",
   "execution_count": null,
   "id": "572c3a50",
   "metadata": {},
   "outputs": [],
   "source": [
    "#Anstaz\n",
    "ansatz = 'simple02'\n",
    "nqubits = 7\n",
    "depth = 3\n",
    "qpu_ansatz = \"mps\"\n",
    "#Parent Hamiltonian MUST BE False for other than simple01\n",
    "t_inv = False\n",
    "#Ground State Energy\n",
    "qpu_ph = \"qlmass\"\n",
    "nb_shots = 1000\n",
    "truncation = 5\n",
    "#Saving Stuff\n",
    "folder = \"Test\"\n",
    "filename = \"ansatz_{}_nqubits_{}_depth_{}_qpu_ansatz_{}_qpu_ph_{}\".format(\n",
    "    ansatz, nqubits, depth, qpu_ansatz, qpu_ph)\n",
    "                                                                   \n",
    "ph_configuration = {\n",
    "    #Ansatz\n",
    "    'ansatz': ansatz, \n",
    "    'nqubits': nqubits,\n",
    "    'depth': depth,\n",
    "    'qpu_ansatz' : get_qpu(qpu_ansatz),\n",
    "    #Parent Hamiltonian\n",
    "    't_inv': t_inv,    \n",
    "    # Ground State Energy\n",
    "    'qpu_ph' : get_qpu(qpu_ph),\n",
    "    'nb_shots' : nb_shots,\n",
    "    'truncation': truncation,\n",
    "    \n",
    "    'save': True,\n",
    "    'folder': create_folder(folder),\n",
    "    'filename': filename\n",
    "\n",
    "}"
   ]
  },
  {
   "cell_type": "code",
   "execution_count": null,
   "id": "89994828",
   "metadata": {},
   "outputs": [],
   "source": [
    "pdf_simple02 = complete_ph(**ph_configuration)"
   ]
  },
  {
   "cell_type": "code",
   "execution_count": null,
   "id": "ac9e7ebb",
   "metadata": {
    "scrolled": true
   },
   "outputs": [],
   "source": [
    "pdf_simple02"
   ]
  },
  {
   "cell_type": "code",
   "execution_count": null,
   "id": "898f9cd8",
   "metadata": {},
   "outputs": [],
   "source": [
    "#Anstaz\n",
    "ansatz = 'lda'\n",
    "nqubits = 8\n",
    "depth = 3\n",
    "qpu_ansatz = \"mps\"\n",
    "#Parent Hamiltonian MUST BE False for other than simple01\n",
    "t_inv = False\n",
    "#Ground State Energy\n",
    "qpu_ph = \"qlmass\"\n",
    "nb_shots = 10000\n",
    "truncation = 5\n",
    "#Saving Stuff\n",
    "folder = \"Test\"\n",
    "filename = \"ansatz_{}_nqubits_{}_depth_{}_qpu_ansatz_{}_qpu_ph_{}\".format(\n",
    "    ansatz, nqubits, depth, qpu_ansatz, qpu_ph)\n",
    "                                                                   \n",
    "ph_configuration = {\n",
    "    #Ansatz\n",
    "    'ansatz': ansatz, \n",
    "    'nqubits': nqubits,\n",
    "    'depth': depth,\n",
    "    'qpu_ansatz' : get_qpu(qpu_ansatz),\n",
    "    #Parent Hamiltonian\n",
    "    't_inv': t_inv,    \n",
    "    # Ground State Energy\n",
    "    'qpu_ph' : get_qpu(qpu_ph),\n",
    "    'nb_shots' : nb_shots,\n",
    "    'truncation': truncation,\n",
    "    \n",
    "    'save': True,\n",
    "    'folder': create_folder(folder),\n",
    "    'filename': filename\n",
    "\n",
    "}"
   ]
  },
  {
   "cell_type": "code",
   "execution_count": null,
   "id": "aebe03fd",
   "metadata": {},
   "outputs": [],
   "source": [
    "pdf_lda = complete_ph(**ph_configuration)"
   ]
  },
  {
   "cell_type": "code",
   "execution_count": null,
   "id": "974fd29b",
   "metadata": {
    "scrolled": true
   },
   "outputs": [],
   "source": [
    "pdf_lda"
   ]
  },
  {
   "cell_type": "code",
   "execution_count": null,
   "id": "b5bb4bbf",
   "metadata": {},
   "outputs": [],
   "source": [
    "#Anstaz\n",
    "ansatz = 'hwe'\n",
    "nqubits = 8\n",
    "depth = 3\n",
    "qpu_ansatz = \"mps\"\n",
    "#Parent Hamiltonian MUST BE False for other than simple01\n",
    "t_inv = False\n",
    "#Ground State Energy\n",
    "qpu_ph = \"qlmass\"\n",
    "nb_shots = 10000\n",
    "truncation = 5\n",
    "#Saving Stuff\n",
    "folder = \"Test\"\n",
    "filename = \"ansatz_{}_nqubits_{}_depth_{}_qpu_ansatz_{}_qpu_ph_{}\".format(\n",
    "    ansatz, nqubits, depth, qpu_ansatz, qpu_ph)\n",
    "                                                                   \n",
    "ph_configuration = {\n",
    "    #Ansatz\n",
    "    'ansatz': ansatz, \n",
    "    'nqubits': nqubits,\n",
    "    'depth': depth,\n",
    "    'qpu_ansatz' : get_qpu(qpu_ansatz),\n",
    "    #Parent Hamiltonian\n",
    "    't_inv': t_inv,    \n",
    "    # Ground State Energy\n",
    "    'qpu_ph' : get_qpu(qpu_ph),\n",
    "    'nb_shots' : nb_shots,\n",
    "    'truncation': truncation,\n",
    "    # Saving\n",
    "    'save': True,\n",
    "    'folder': create_folder(folder),\n",
    "    'filename': filename\n",
    "\n",
    "}"
   ]
  },
  {
   "cell_type": "code",
   "execution_count": null,
   "id": "43fb9041",
   "metadata": {},
   "outputs": [],
   "source": [
    "pdf_hwe = complete_ph(**ph_configuration)"
   ]
  },
  {
   "cell_type": "code",
   "execution_count": null,
   "id": "053fe70d",
   "metadata": {},
   "outputs": [],
   "source": [
    "pdf_hwe"
   ]
  },
  {
   "cell_type": "markdown",
   "id": "f6f1f3c6",
   "metadata": {},
   "source": [
    "## 3. my_benchmark_execution"
   ]
  },
  {
   "cell_type": "code",
   "execution_count": null,
   "id": "7cb51016",
   "metadata": {},
   "outputs": [],
   "source": [
    "import sys\n",
    "sys.path.append(\"../../\")"
   ]
  },
  {
   "cell_type": "code",
   "execution_count": null,
   "id": "8d768c9e",
   "metadata": {},
   "outputs": [],
   "source": [
    "from my_benchmark_execution import KERNEL_BENCHMARK"
   ]
  },
  {
   "cell_type": "code",
   "execution_count": null,
   "id": "b3e68d5b",
   "metadata": {},
   "outputs": [],
   "source": [
    "#Anstaz\n",
    "ansatz = \"simple01\"\n",
    "depth = [2]\n",
    "qpu_ansatz = \"mps\"\n",
    "#Parent Hamiltonian\n",
    "t_inv = True\n",
    "#Ground State Energy\n",
    "qpu_ph = \"c\"\n",
    "nb_shots = 0\n",
    "truncation = None\n",
    "\n",
    "\n",
    "kernel_configuration = {\n",
    "    #Ansatz\n",
    "    \"ansatz\": ansatz,\n",
    "    \"depth\": depth,\n",
    "    \"qpu_ansatz\" : qpu_ansatz,\n",
    "    #Parent Hamiltonian\n",
    "    \"t_inv\": t_inv,    \n",
    "    # Ground State Energy\n",
    "    \"qpu_ph\" : qpu_ph,\n",
    "    \"nb_shots\" : nb_shots,\n",
    "    \"truncation\": truncation,\n",
    "    # Saving\n",
    "    \"save\": True,\n",
    "    \"folder\": None,\n",
    "    # Errors for confidence level\n",
    "    \"gse_error\" : None,\n",
    "    \"time_error\": None,\n",
    "}\n",
    "\n",
    "\n",
    "benchmark_arguments = {\n",
    "    #Pre benchmark sttuff\n",
    "    \"pre_benchmark\": True,\n",
    "    \"pre_samples\": None,\n",
    "    \"pre_save\": True,\n",
    "    #Saving stuff\n",
    "    \"save_append\" : True,\n",
    "    \"saving_folder\": \"./Results/\",\n",
    "    \"benchmark_times\": \"kernel_times_benchmark.csv\",\n",
    "    \"csv_results\": \"kernel_benchmark.csv\",\n",
    "    \"summary_results\": \"kernel_SummaryResults.csv\",\n",
    "    #Computing Repetitions stuff\n",
    "    \"alpha\": None,\n",
    "    \"min_meas\": None,\n",
    "    \"max_meas\": 20,\n",
    "    #List number of qubits tested\n",
    "    \"list_of_qbits\": [4],\n",
    "}\n",
    "\n",
    "#Configuration for the benchmark kernel\n",
    "benchmark_arguments.update({\"kernel_configuration\": kernel_configuration})\n",
    "kernel_bench = KERNEL_BENCHMARK(**benchmark_arguments)"
   ]
  },
  {
   "cell_type": "code",
   "execution_count": null,
   "id": "4b05c583",
   "metadata": {
    "scrolled": true
   },
   "outputs": [],
   "source": [
    "kernel_bench.exe()"
   ]
  },
  {
   "cell_type": "code",
   "execution_count": null,
   "id": "4b3f767c",
   "metadata": {},
   "outputs": [],
   "source": []
  },
  {
   "cell_type": "code",
   "execution_count": null,
   "id": "0c91ea6f",
   "metadata": {},
   "outputs": [],
   "source": []
  }
 ],
 "metadata": {
  "kernelspec": {
   "display_name": "Python 3 (ipykernel)",
   "language": "python",
   "name": "python3"
  },
  "language_info": {
   "codemirror_mode": {
    "name": "ipython",
    "version": 3
   },
   "file_extension": ".py",
   "mimetype": "text/x-python",
   "name": "python",
   "nbconvert_exporter": "python",
   "pygments_lexer": "ipython3",
   "version": "3.9.9"
  }
 },
 "nbformat": 4,
 "nbformat_minor": 5
}
