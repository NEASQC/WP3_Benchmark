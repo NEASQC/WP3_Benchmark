{
 "cells": [
  {
   "cell_type": "markdown",
   "id": "aeb61bcb",
   "metadata": {},
   "source": [
    "# Using Parent Hamiltonian Class\n",
    "\n",
    "Here we explain how to use the **Parent Hamiltonian** class of the module *parent_hamiltonian* of the library **PH** that can be use for computing Parent Hamiltonians of an input state"
   ]
  },
  {
   "cell_type": "code",
   "execution_count": null,
   "id": "38e1a346",
   "metadata": {},
   "outputs": [],
   "source": [
    "import logging\n",
    "logging.basicConfig(\n",
    "    format='%(asctime)s-%(levelname)s: %(message)s',\n",
    "    datefmt='%m/%d/%Y %I:%M:%S %p',\n",
    "    level=logging.INFO\n",
    "    #level=logging.DEBUG\n",
    ")\n",
    "logger = logging.getLogger('__name__')"
   ]
  },
  {
   "cell_type": "code",
   "execution_count": null,
   "id": "06514fc1",
   "metadata": {},
   "outputs": [],
   "source": [
    "import numpy as np"
   ]
  },
  {
   "cell_type": "code",
   "execution_count": null,
   "id": "6a729091",
   "metadata": {},
   "outputs": [],
   "source": [
    "import sys\n",
    "sys.path.append(\"../../\")"
   ]
  },
  {
   "cell_type": "code",
   "execution_count": null,
   "id": "7cbcc292",
   "metadata": {},
   "outputs": [],
   "source": [
    "# myQLM qpus\n",
    "from qat.qpus import PyLinalg, CLinalg\n",
    "qpu_c = CLinalg()\n",
    "qpu_p = PyLinalg()\n",
    "# QLM qpus\n",
    "from qlmaas.qpus import LinAlg, MPS\n",
    "qpu_qaass = LinAlg()\n",
    "qpu_mps = MPS(lnnize =True)"
   ]
  },
  {
   "cell_type": "code",
   "execution_count": null,
   "id": "dd17dce0",
   "metadata": {},
   "outputs": [],
   "source": [
    "from PH.parent_hamiltonian import PH"
   ]
  },
  {
   "cell_type": "markdown",
   "id": "7774214a",
   "metadata": {},
   "source": [
    "## 1. Input Ansatz\n",
    "\n",
    "To create a Parent Hamiltonian (**PH**) with our software we need, given an input ansatz, the complete state of the ansatz. This is the amplitudes of the state of the ansatz in the computational n qubit basis. In the module *ansatzes* of the **PH** library several ansatzes are defined and the mandatory functions for simultaing and getting results usin **Atos myqlm** are provided (see notebook **01_Ansatzes.ipynb** for a explanation and use of this module). Here we use the **ansatz_qlm_01** that is the **Atos myqlm** implementation of the ansatz in the github:\n",
    "\n",
    "https://github.com/FumiKobayashi/Parent_Hamiltonian_as_a_benchmark_problem_for_variational_quantum_eigensolvers\n",
    "\n",
    "from the original Parent Hamiltonian Papper:\n",
    "\n",
    "* Kobayashi, F., Mitarai, K., & Fujii, K. (2022). Parent hamiltonian as a benchmark problem for variational quantum eigensolvers. Phys. Rev. A, 105, 052415 (https://doi.org/10.1103%2Fphysreva.105.052415)"
   ]
  },
  {
   "cell_type": "code",
   "execution_count": null,
   "id": "f806e2b2",
   "metadata": {},
   "outputs": [],
   "source": [
    "from PH.ansatzes import ansatz_qlm_01, solve_ansatz"
   ]
  },
  {
   "cell_type": "code",
   "execution_count": null,
   "id": "df111591",
   "metadata": {
    "scrolled": true
   },
   "outputs": [],
   "source": [
    "n_qubits = 8\n",
    "depth = 3\n",
    "ansatz_01, theta = ansatz_qlm_01(nqubits=n_qubits, depth=depth)\n",
    "circ = ansatz_01.to_circ()\n",
    "%qatdisplay circ --svg"
   ]
  },
  {
   "cell_type": "markdown",
   "id": "b28c09fb",
   "metadata": {},
   "source": [
    "Here we fix the parameters of the ansatz (random selection)"
   ]
  },
  {
   "cell_type": "code",
   "execution_count": null,
   "id": "13438b86",
   "metadata": {},
   "outputs": [],
   "source": [
    "parameters = list(2*np.pi * np.random.rand(len(theta)))\n",
    "parameters = {v_ : parameters[i] for i, v_ in enumerate(theta)}\n",
    "print(parameters)"
   ]
  },
  {
   "cell_type": "code",
   "execution_count": null,
   "id": "8d2de78f",
   "metadata": {
    "scrolled": false
   },
   "outputs": [],
   "source": [
    "pdf01 = solve_ansatz(ansatz_01, parameters, qpu_mps)"
   ]
  },
  {
   "cell_type": "markdown",
   "id": "aa4b5954",
   "metadata": {},
   "source": [
    "The output is a pandas DataFrame with the complete output ibfirmnation of the state of the ansatz"
   ]
  },
  {
   "cell_type": "code",
   "execution_count": null,
   "id": "607c8fd8",
   "metadata": {},
   "outputs": [],
   "source": [
    "pdf01.head()"
   ]
  },
  {
   "cell_type": "code",
   "execution_count": null,
   "id": "7add6953",
   "metadata": {},
   "outputs": [],
   "source": [
    "amplitudes = list(pdf01['Amplitude'])"
   ]
  },
  {
   "cell_type": "markdown",
   "id": "32879daf",
   "metadata": {},
   "source": [
    "## 2. Parent Hamiltonian Class\n",
    "\n",
    "The main step is instantiate the **PH** python class from *parent_hamiltonian* module of **PH** library. For this we need to provided the amplitudes of the ansatz state as a python list.\n",
    "\n"
   ]
  },
  {
   "cell_type": "code",
   "execution_count": null,
   "id": "f0934236",
   "metadata": {},
   "outputs": [],
   "source": [
    "ph_object = PH(amplitudes)"
   ]
  },
  {
   "cell_type": "markdown",
   "id": "a9b6445b",
   "metadata": {},
   "source": [
    "### 2.1 Naive Parent Hamiltonian Computations"
   ]
  },
  {
   "cell_type": "markdown",
   "id": "c74ffe0c",
   "metadata": {},
   "source": [
    "The **PH** class allows to compute the Parent Hamiltonian for an all-to-all interaction. Here the methods of attributes related with this capability will be explained."
   ]
  },
  {
   "cell_type": "markdown",
   "id": "fbd2fbe7",
   "metadata": {},
   "source": [
    "#### Density matrix\n",
    "\n",
    "The class allows to compute the density matrix of the state by executing the method **get_density_matrix**. The attribute *rho* stores the computed density matrix"
   ]
  },
  {
   "cell_type": "code",
   "execution_count": null,
   "id": "3a98d0af",
   "metadata": {},
   "outputs": [],
   "source": [
    "ph_object.get_density_matrix()\n",
    "print(ph_object.rho.shape)"
   ]
  },
  {
   "cell_type": "markdown",
   "id": "4fa5878e",
   "metadata": {},
   "source": [
    "#### Projector over the null sapce\n",
    "\n",
    "For computing the parent hamiltonian of an input matrix the method **get_parent_hamiltonian** can be used. In fact the method returns the complete sum of all the projectors onto the null space of the input matrix"
   ]
  },
  {
   "cell_type": "code",
   "execution_count": null,
   "id": "9c15a49c",
   "metadata": {},
   "outputs": [],
   "source": [
    "ph_ = ph_object.get_parent_hamiltonian(ph_object.rho)"
   ]
  },
  {
   "cell_type": "code",
   "execution_count": null,
   "id": "5dec0be6",
   "metadata": {},
   "outputs": [],
   "source": [
    "ph_.shape"
   ]
  },
  {
   "cell_type": "markdown",
   "id": "9685b5cf",
   "metadata": {},
   "source": [
    "The application of the result over the amplituds should be return 0"
   ]
  },
  {
   "cell_type": "code",
   "execution_count": null,
   "id": "79b7925f",
   "metadata": {},
   "outputs": [],
   "source": [
    "np.isclose(ph_ @ ph_object.amplitudes, 0).all()"
   ]
  },
  {
   "cell_type": "markdown",
   "id": "778fe3ff",
   "metadata": {},
   "source": [
    "#### Decomposition in Generalized Pauli matrices basis\n",
    "\n",
    "Given an input matrix the Pauli decomposition is provided by using the **pauli_decomposition** method. This method returns the coeficients of the pauli matrices and the pauli matrices as Pauli Strings.\n",
    "\n",
    "**Note:** for the naive computation this decomposition can be very memory and time consuming so it is limited to 11 qubits"
   ]
  },
  {
   "cell_type": "code",
   "execution_count": null,
   "id": "86bfbc49",
   "metadata": {},
   "outputs": [],
   "source": [
    "coefs, paulis = ph_object.pauli_decomposition(ph_, n_qubits)"
   ]
  },
  {
   "cell_type": "code",
   "execution_count": null,
   "id": "e1d39075",
   "metadata": {},
   "outputs": [],
   "source": [
    "len(coefs) == 4**n_qubits"
   ]
  },
  {
   "cell_type": "markdown",
   "id": "bd388b92",
   "metadata": {},
   "source": [
    "Here each coeficient element corresponds to same element of the Pauli String"
   ]
  },
  {
   "cell_type": "code",
   "execution_count": null,
   "id": "6ca19c9f",
   "metadata": {},
   "outputs": [],
   "source": [
    "print(coefs[:10])"
   ]
  },
  {
   "cell_type": "code",
   "execution_count": null,
   "id": "ddee0a80",
   "metadata": {},
   "outputs": [],
   "source": [
    "paulis[0:10]"
   ]
  },
  {
   "cell_type": "markdown",
   "id": "8d74a622",
   "metadata": {},
   "source": [
    "As can be seen in the naive computation all the qubits have asignated a Pauli string, this is because the Hamiltonian obtained by the naive method is not local and assumes an all-to-all iteration between the qubits."
   ]
  },
  {
   "cell_type": "markdown",
   "id": "154ccf0c",
   "metadata": {},
   "source": [
    "#### Complete naive computation\n",
    "\n",
    "The method **naive_ph** computes all the mandatory steps to obtain the parent hamiltonian and its decomposition in pauli strings with the associated coefficients. This method populates the following attributes:\n",
    "\n",
    "* *pauli_coeficients*: list with the coeficients of the pauli matrices\n",
    "* *pauli_matrices*: list with the pauli matrices as Pauli Strings\n",
    "* *naive_parent_hamiltonian*: the parent hamiltonian\n",
    "* *rho*: the density matrix"
   ]
  },
  {
   "cell_type": "code",
   "execution_count": null,
   "id": "5c287b9d",
   "metadata": {},
   "outputs": [],
   "source": [
    "ph_object = PH(amplitudes)"
   ]
  },
  {
   "cell_type": "code",
   "execution_count": null,
   "id": "97b4be7b",
   "metadata": {},
   "outputs": [],
   "source": [
    "ph_object.naive_ph()"
   ]
  },
  {
   "cell_type": "code",
   "execution_count": null,
   "id": "ada859c4",
   "metadata": {
    "scrolled": true
   },
   "outputs": [],
   "source": [
    "ph_object.pauli_coeficients[:10]"
   ]
  },
  {
   "cell_type": "code",
   "execution_count": null,
   "id": "1f9fdb2a",
   "metadata": {
    "scrolled": true
   },
   "outputs": [],
   "source": [
    "ph_object.pauli_matrices[:10]"
   ]
  },
  {
   "cell_type": "code",
   "execution_count": null,
   "id": "b9e77785",
   "metadata": {
    "scrolled": true
   },
   "outputs": [],
   "source": [
    "ph_object.naive_parent_hamiltonian.shape"
   ]
  },
  {
   "cell_type": "code",
   "execution_count": null,
   "id": "b7ebc6e5",
   "metadata": {},
   "outputs": [],
   "source": [
    "ph_object.rho.shape"
   ]
  },
  {
   "cell_type": "markdown",
   "id": "fd90f895",
   "metadata": {},
   "source": [
    "### 2.2. Local Parent Hamiltonian\n",
    "\n",
    "The class allows to compute the local Parent Hamiltonian. Here the methods of attributes related with this capability will be explained."
   ]
  },
  {
   "cell_type": "code",
   "execution_count": null,
   "id": "732b3a83",
   "metadata": {},
   "outputs": [],
   "source": [
    "ph_object = PH(amplitudes)"
   ]
  },
  {
   "cell_type": "markdown",
   "id": "0014c06c",
   "metadata": {},
   "source": [
    "#### Reduced Density Matrix\n",
    "\n",
    "The **get_reduced_density_matrices** method computes the minimum reduced density matrix associated at each qubit that have a null space (the kernel computation can be done). The method poupulates following attributes:\n",
    "\n",
    "* reduced_rho: list where each element is a reduced density matrix asociated to a qubit.\n",
    "* local_free_qubits: list where each elements is a list with the qubits affected by the correspondent reduced density matrix.\n",
    "\n",
    "So for *reduced_rho[i]* the affected qubits will be *local_free_qubits[i]*"
   ]
  },
  {
   "cell_type": "code",
   "execution_count": null,
   "id": "fff2ff70",
   "metadata": {
    "scrolled": true
   },
   "outputs": [],
   "source": [
    "ph_object.get_reduced_density_matrices()"
   ]
  },
  {
   "cell_type": "code",
   "execution_count": null,
   "id": "47e4a303",
   "metadata": {},
   "outputs": [],
   "source": [
    "ph_object.local_free_qubits"
   ]
  },
  {
   "cell_type": "code",
   "execution_count": null,
   "id": "f03508dc",
   "metadata": {},
   "outputs": [],
   "source": [
    "# Reduced Density Matrix for qubit j\n",
    "j = 2\n",
    "print(\"The element: {} have a reduced density matrix of shape: {} and affects to qubits: {}\".format(\n",
    "    j, ph_object.reduced_rho[j].shape, ph_object.local_free_qubits[j]\n",
    "))"
   ]
  },
  {
   "cell_type": "markdown",
   "id": "bb27d645",
   "metadata": {},
   "source": [
    "Due to the symetries of the **ansatz_qlm_01** the obtained reduced density matrix are equal for all the qubits of the ansazt. But this is not necesary true for other type of ansatzes"
   ]
  },
  {
   "cell_type": "code",
   "execution_count": null,
   "id": "fbe13f33",
   "metadata": {
    "scrolled": true
   },
   "outputs": [],
   "source": [
    "np.isclose(ph_object.reduced_rho[0], ph_object.reduced_rho[1]).all()"
   ]
  },
  {
   "cell_type": "markdown",
   "id": "eeb639aa",
   "metadata": {},
   "source": [
    "Here we computed the reduced density matrix obtained for ansatz02"
   ]
  },
  {
   "cell_type": "code",
   "execution_count": null,
   "id": "5bae8d9c",
   "metadata": {},
   "outputs": [],
   "source": [
    "from PH.ansatzes import ansatz_qlm_02"
   ]
  },
  {
   "cell_type": "code",
   "execution_count": null,
   "id": "9de6c6ed",
   "metadata": {},
   "outputs": [],
   "source": [
    "n_qubits = 12\n",
    "depth = 3\n",
    "ansatz_02, theta_02 = ansatz_qlm_02(nqubits=n_qubits, depth=depth)\n",
    "parameters_02 = list(np.random.rand(len(theta_02)))\n",
    "parameters_02 = {v_ : parameters_02[i] for i, v_ in enumerate(theta_02)}\n",
    "pdf_02 = solve_ansatz(ansatz_02, parameters_02, qpu_mps)\n",
    "amplitudes02 = list(pdf_02['Amplitude'])\n",
    "ph_anstaz02 = PH(amplitudes02)\n",
    "ph_anstaz02.get_reduced_density_matrices()"
   ]
  },
  {
   "cell_type": "code",
   "execution_count": null,
   "id": "e11c96f5",
   "metadata": {},
   "outputs": [],
   "source": [
    "np.isclose(ph_anstaz02.reduced_rho[0], ph_anstaz02.reduced_rho[1]).all()"
   ]
  },
  {
   "cell_type": "markdown",
   "id": "3c69a497",
   "metadata": {},
   "source": [
    "We can use the **get_parent_hamiltonian** for computing the asociated parent hamiltonian of any of the computed reduced density matrices"
   ]
  },
  {
   "cell_type": "code",
   "execution_count": null,
   "id": "569f8a07",
   "metadata": {},
   "outputs": [],
   "source": [
    "ph_ = ph_object.get_parent_hamiltonian(ph_object.reduced_rho[j])"
   ]
  },
  {
   "cell_type": "code",
   "execution_count": null,
   "id": "60acd6a7",
   "metadata": {},
   "outputs": [],
   "source": [
    "ph_.shape"
   ]
  },
  {
   "cell_type": "markdown",
   "id": "cf95061d",
   "metadata": {},
   "source": [
    "### 3.2 Complete local parent Hamiltonian Computation\n",
    "\n",
    "The method **local_ph** creates the local parent Hamiltonian. This method populates:\n",
    "\n",
    "* reduced_rho: list where each element is a reduced density matrix asociated to a qubit.\n",
    "* local_free_qubits: list where each elements is a list with the qubits affected by the correspondent reduced density matrix.\n",
    "* local_parent_hamiltonians: list where each element is the associated parent hamiltonian of the correspondient qubit\n",
    "* *pauli_coeficients*: list with the coeficients of the pauli matrices\n",
    "* *pauli_matrices*: list with the pauli matrices as Pauli Strings\n",
    "* *qubits_list*: list with the qubits affected by the correspondient local parent hamiltonian.\n",
    "\n",
    "*pauli_coeficients*, *pauli_matrices* and *qubits_list* are interrelated. The *j* element of the *pauli_coeficients* is the asociated pauli coeficient of the Pauli string located in *pauli_matrices[j]*. *qubits_list[j]* provides the list affected for the Pauli Strings"
   ]
  },
  {
   "cell_type": "code",
   "execution_count": null,
   "id": "698d6b98",
   "metadata": {},
   "outputs": [],
   "source": [
    "ph_object = PH(amplitudes)"
   ]
  },
  {
   "cell_type": "code",
   "execution_count": null,
   "id": "e2f477eb",
   "metadata": {
    "scrolled": true
   },
   "outputs": [],
   "source": [
    "ph_object.local_ph()"
   ]
  },
  {
   "cell_type": "code",
   "execution_count": null,
   "id": "6ba7120a",
   "metadata": {},
   "outputs": [],
   "source": [
    "j=0\n",
    "ph_object.local_parent_hamiltonians[j].shape"
   ]
  },
  {
   "cell_type": "code",
   "execution_count": null,
   "id": "039199a3",
   "metadata": {},
   "outputs": [],
   "source": [
    "k = 150\n",
    "print(\"For element: {} the Pauli string is: {}. Its asociated coefficient is: {} and the affects qubits are: {}\".format(\n",
    "    k, ph_object.pauli_matrices[k], ph_object.pauli_coeficients[k], ph_object.qubits_list[k]\n",
    "))"
   ]
  }
 ],
 "metadata": {
  "kernelspec": {
   "display_name": "Python 3 (ipykernel)",
   "language": "python",
   "name": "python3"
  },
  "language_info": {
   "codemirror_mode": {
    "name": "ipython",
    "version": 3
   },
   "file_extension": ".py",
   "mimetype": "text/x-python",
   "name": "python",
   "nbconvert_exporter": "python",
   "pygments_lexer": "ipython3",
   "version": "3.9.9"
  }
 },
 "nbformat": 4,
 "nbformat_minor": 5
}
