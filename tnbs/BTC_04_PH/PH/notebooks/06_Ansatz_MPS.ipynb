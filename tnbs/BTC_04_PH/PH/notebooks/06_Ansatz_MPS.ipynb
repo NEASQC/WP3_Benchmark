{
 "cells": [
  {
   "cell_type": "code",
   "execution_count": null,
   "id": "57a1c2ea",
   "metadata": {},
   "outputs": [],
   "source": [
    "import logging\n",
    "logging.basicConfig(\n",
    "    format='%(asctime)s-%(levelname)s: %(message)s',\n",
    "    datefmt='%m/%d/%Y %I:%M:%S %p',\n",
    "    level=logging.INFO\n",
    "    #level=logging.DEBUG\n",
    ")\n",
    "logger = logging.getLogger('__name__')"
   ]
  },
  {
   "cell_type": "code",
   "execution_count": null,
   "id": "ee95a39c",
   "metadata": {},
   "outputs": [],
   "source": [
    "import numpy as np\n",
    "import pandas as pd"
   ]
  },
  {
   "cell_type": "code",
   "execution_count": null,
   "id": "65256acc",
   "metadata": {},
   "outputs": [],
   "source": [
    "import sys\n",
    "sys.path.append(\"../\")"
   ]
  },
  {
   "cell_type": "code",
   "execution_count": null,
   "id": "6e683c91",
   "metadata": {},
   "outputs": [],
   "source": [
    "# myQLM qpus\n",
    "from qat.qpus import PyLinalg, CLinalg\n",
    "qpu_c = CLinalg()\n",
    "qpu_p = PyLinalg()"
   ]
  },
  {
   "cell_type": "markdown",
   "id": "064e6cac",
   "metadata": {},
   "source": [
    "## 1.Building Ansatz using MPS\n",
    "\n",
    "First thing we need to do is simulate the ansatz circuit using **MPS**. "
   ]
  },
  {
   "cell_type": "code",
   "execution_count": null,
   "id": "412f1403",
   "metadata": {},
   "outputs": [],
   "source": [
    "from ansatz_mps import ansatz_mps, get_angles"
   ]
  },
  {
   "cell_type": "code",
   "execution_count": null,
   "id": "f273b795",
   "metadata": {},
   "outputs": [],
   "source": [
    "nqubits = 10\n",
    "depth = 4\n",
    "angles = get_angles(depth)\n",
    "list_angles = []\n",
    "for angle in angles:\n",
    "    list_angles = list_angles + angle\n",
    "param_names = [\"\\\\theta_{}\".format(i) for i, _ in enumerate(list_angles)]    \n",
    "pdf_angles = pd.DataFrame([param_names, list_angles], index=[\"key\", \"value\"]).T\n",
    "\n",
    "mps = ansatz_mps(nqubits, depth, angles, truncate)"
   ]
  }
 ],
 "metadata": {
  "kernelspec": {
   "display_name": "Python 3 (ipykernel)",
   "language": "python",
   "name": "python3"
  },
  "language_info": {
   "codemirror_mode": {
    "name": "ipython",
    "version": 3
   },
   "file_extension": ".py",
   "mimetype": "text/x-python",
   "name": "python",
   "nbconvert_exporter": "python",
   "pygments_lexer": "ipython3",
   "version": "3.9.9"
  }
 },
 "nbformat": 4,
 "nbformat_minor": 5
}
