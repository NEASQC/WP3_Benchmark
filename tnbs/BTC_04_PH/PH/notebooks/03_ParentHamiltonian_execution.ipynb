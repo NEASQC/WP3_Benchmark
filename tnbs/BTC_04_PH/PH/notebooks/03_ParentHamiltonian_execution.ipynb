{
 "cells": [
  {
   "cell_type": "markdown",
   "id": "fbf59529",
   "metadata": {},
   "source": [
    "# Using PH_EXE class\n",
    "\n",
    "This notebook explains how to use the **PH_EXE** class inside *execution_ph* module. \n",
    "\n",
    "This class, given an ansatz and its parent hamiltonian, provided as a string  Pauli decomposition, computes the asociated ground state energy (that should be near zero)."
   ]
  },
  {
   "cell_type": "code",
   "execution_count": null,
   "id": "7546a0c7",
   "metadata": {},
   "outputs": [],
   "source": [
    "import logging"
   ]
  },
  {
   "cell_type": "code",
   "execution_count": null,
   "id": "12137d77",
   "metadata": {},
   "outputs": [],
   "source": [
    "logging.basicConfig(\n",
    "    format='%(asctime)s-%(levelname)s: %(message)s',\n",
    "    datefmt='%m/%d/%Y %I:%M:%S %p',\n",
    "    #level=logging.INFO\n",
    "    level=logging.DEBUG\n",
    ")\n"
   ]
  },
  {
   "cell_type": "code",
   "execution_count": null,
   "id": "9c436107",
   "metadata": {},
   "outputs": [],
   "source": [
    "logger = logging.getLogger('__name__')"
   ]
  },
  {
   "cell_type": "code",
   "execution_count": null,
   "id": "bef2297f",
   "metadata": {},
   "outputs": [],
   "source": [
    "import os\n",
    "import sys\n",
    "sys.path.append(\"../\")\n",
    "import numpy as np"
   ]
  },
  {
   "cell_type": "code",
   "execution_count": null,
   "id": "6b9566db",
   "metadata": {},
   "outputs": [],
   "source": [
    "# myQLM qpus\n",
    "from qat.qpus import PyLinalg, CLinalg\n",
    "qpu_c = CLinalg()\n",
    "qpu_p = PyLinalg()\n",
    "# QLM qpus\n",
    "from qlmaas.qpus import LinAlg, MPS\n",
    "qpu_qaass = LinAlg()\n",
    "qpu_mps = MPS(lnnize =True)"
   ]
  },
  {
   "cell_type": "markdown",
   "id": "fd13be4e",
   "metadata": {},
   "source": [
    "Before doing the siumulation we need to perform several steps:\n",
    "\n",
    "1. Ansatz Definition\n",
    "2. Ansatz Solving\n",
    "3. Parent Hamiltonian Computation"
   ]
  },
  {
   "cell_type": "markdown",
   "id": "206806ed",
   "metadata": {},
   "source": [
    "## 1. Ansatz Definition\n",
    "\n",
    "First we need to create the myqlm cirucit implementation of the desired ansatz (see notebook **01_Ansatzes.ipynb**) "
   ]
  },
  {
   "cell_type": "code",
   "execution_count": null,
   "id": "5d16d0c4",
   "metadata": {},
   "outputs": [],
   "source": [
    "from ansatzes import ansatz_selector"
   ]
  },
  {
   "cell_type": "code",
   "execution_count": null,
   "id": "e2bbbd5f",
   "metadata": {},
   "outputs": [],
   "source": [
    "# Ansatz Configuration\n",
    "ansatz = \"simple01\"\n",
    "ansatz_conf = {\n",
    "    'nqubits' : 6,\n",
    "    'depth' : 2\n",
    "}\n",
    "filename = \"ansatz_{}_dept_{}_nqubits_{}\".format(ansatz, ansatz_conf[\"depth\"], ansatz_conf[\"nqubits\"])\n",
    "# Create Ansatz Circuit\n",
    "circuit = ansatz_selector(ansatz, **ansatz_conf)"
   ]
  },
  {
   "cell_type": "code",
   "execution_count": null,
   "id": "a6cc2d66",
   "metadata": {},
   "outputs": [],
   "source": [
    "%qatdisplay circuit --svg"
   ]
  },
  {
   "cell_type": "markdown",
   "id": "1dfdb9e4",
   "metadata": {},
   "source": [
    "## 2. Ansatz Solution\n",
    "\n",
    "Now we need to fix the parameters of the ansatz and solving it(see notebook **01_Ansatzes.ipynb**)"
   ]
  },
  {
   "cell_type": "code",
   "execution_count": null,
   "id": "997b971d",
   "metadata": {},
   "outputs": [],
   "source": [
    "from ansatzes import SolveCircuit"
   ]
  },
  {
   "cell_type": "code",
   "execution_count": null,
   "id": "423e14de",
   "metadata": {},
   "outputs": [],
   "source": [
    "folder = \"Saving/\""
   ]
  },
  {
   "cell_type": "code",
   "execution_count": null,
   "id": "0bd44697",
   "metadata": {
    "scrolled": true
   },
   "outputs": [],
   "source": [
    "# Solving  Ansatz Configuration\n",
    "\n",
    "# setting parameters of the ansatz\n",
    "parameters = {v_ : 2 * np.pi * np.random.rand() for i_, v_ in enumerate(circuit.get_variables())}\n",
    "solve_conf = {\n",
    "    \"qpu\" : qpu_mps,\n",
    "    \"parameters\" : parameters,\n",
    "    \"filename\": folder + filename,\n",
    "    \"save\": False        \n",
    "}\n",
    "# Solving Ansatz\n",
    "solv_ansatz = SolveCircuit(circuit, **solve_conf)\n",
    "solv_ansatz.run()"
   ]
  },
  {
   "cell_type": "code",
   "execution_count": null,
   "id": "f6cd0175",
   "metadata": {},
   "outputs": [],
   "source": [
    "solv_ansatz.state"
   ]
  },
  {
   "cell_type": "markdown",
   "id": "31ee289c",
   "metadata": {},
   "source": [
    "## 3. Parent Hamiltonian Computation\n",
    "\n",
    "With the obtained stat eof the ansatz we need to compute the Parent Hamiltonian and get its Pauli string decomposition."
   ]
  },
  {
   "cell_type": "code",
   "execution_count": null,
   "id": "920446a4",
   "metadata": {},
   "outputs": [],
   "source": [
    "from parent_hamiltonian import PH"
   ]
  },
  {
   "cell_type": "code",
   "execution_count": null,
   "id": "c037d587",
   "metadata": {},
   "outputs": [],
   "source": [
    "# Create PH\n",
    "# Get teh amplitudes\n",
    "amplitudes = list(solv_ansatz.state[\"Amplitude\"])\n",
    "ph_conf = {\n",
    "    \"filename\": folder + filename,\n",
    "    \"save\": False          \n",
    "}\n",
    "ph_object = PH(amplitudes, **ph_conf)\n",
    "ph_object.local_ph()"
   ]
  },
  {
   "cell_type": "code",
   "execution_count": null,
   "id": "2963a209",
   "metadata": {},
   "outputs": [],
   "source": [
    "ph_object.pauli_pdf"
   ]
  },
  {
   "cell_type": "markdown",
   "id": "9ef0eea3",
   "metadata": {},
   "source": [
    "## 4. Computing PH ground state\n",
    "\n",
    "Now we have all mandatory inputs so we can use **PH_EXE** class for computing the ground state energy of the parent hamiltonian of our input ansatz.\n",
    "We need to provide for initializing the class:\n",
    "\n",
    "* *ansatz*: myqlm circuit of the ansatz where the parameters fixed.\n",
    "* *pauli_ph*: pandas DataFrame with the Pauli decomposition of the Parent Hamiltonian\n",
    "* *nqubits*: number of qubits of the ansatz\n",
    "\n",
    "Additionally othe parameters can be provides as keyword arguments (*kwargs*):\n",
    "* *qpu*: myqlm QPU unit for simulating the ground state energ\n",
    "* *nb_shots*: number of shots for measuring GSE.\n",
    "* *truncation*: for truncating the number of Pauli strings. It is a positive number and all the Pauli coefficients where its absolute value is lower than $10^{-\\text{truncation}}$ will be deleted\n",
    "\n",
    "The **run** method should be used for the computation."
   ]
  },
  {
   "cell_type": "code",
   "execution_count": null,
   "id": "f44f9bb4",
   "metadata": {},
   "outputs": [],
   "source": [
    "from execution_ph import PH_EXE"
   ]
  },
  {
   "cell_type": "code",
   "execution_count": null,
   "id": "11d36e35",
   "metadata": {},
   "outputs": [],
   "source": [
    "vqe_conf = {\n",
    "    \"qpu\" : qpu_qaass,\n",
    "    \"nb_shots\": 1000,\n",
    "    \"truncation\": 6,\n",
    "    \"filename\": folder + filename,\n",
    "    \"save\": False        \n",
    "}\n",
    "\n",
    "ansatz_circuit = solv_ansatz.circuit\n",
    "pauli_ph = ph_object.pauli_pdf\n",
    "nqubits = ansatz_conf[\"nqubits\"]\n",
    "exe_ph = PH_EXE(ansatz_circuit, pauli_ph, nqubits, **vqe_conf)"
   ]
  },
  {
   "cell_type": "code",
   "execution_count": null,
   "id": "f56299f0",
   "metadata": {},
   "outputs": [],
   "source": [
    "pauli_ph"
   ]
  },
  {
   "cell_type": "code",
   "execution_count": null,
   "id": "d8e2a218",
   "metadata": {
    "scrolled": false
   },
   "outputs": [],
   "source": [
    "exe_ph.run()"
   ]
  },
  {
   "cell_type": "markdown",
   "id": "9ffbeb39",
   "metadata": {},
   "source": [
    "The results will be stored in the attribute **pdf_result** (that will be a pandas DataFrame)"
   ]
  },
  {
   "cell_type": "code",
   "execution_count": null,
   "id": "a923244d",
   "metadata": {},
   "outputs": [],
   "source": [
    "exe_ph.pdf_result"
   ]
  },
  {
   "cell_type": "code",
   "execution_count": null,
   "id": "9ea0bc5d",
   "metadata": {},
   "outputs": [],
   "source": [
    "exe_ph.pdf_info"
   ]
  },
  {
   "cell_type": "code",
   "execution_count": null,
   "id": "14331d69",
   "metadata": {},
   "outputs": [],
   "source": []
  }
 ],
 "metadata": {
  "kernelspec": {
   "display_name": "Python 3 (ipykernel)",
   "language": "python",
   "name": "python3"
  },
  "language_info": {
   "codemirror_mode": {
    "name": "ipython",
    "version": 3
   },
   "file_extension": ".py",
   "mimetype": "text/x-python",
   "name": "python",
   "nbconvert_exporter": "python",
   "pygments_lexer": "ipython3",
   "version": "3.9.9"
  }
 },
 "nbformat": 4,
 "nbformat_minor": 5
}
