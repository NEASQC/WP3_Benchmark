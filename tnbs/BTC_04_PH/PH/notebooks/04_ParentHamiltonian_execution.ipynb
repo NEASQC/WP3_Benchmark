{
 "cells": [
  {
   "cell_type": "markdown",
   "id": "fbf59529",
   "metadata": {},
   "source": [
    "# Using PH_EXE class\n",
    "\n",
    "This notebook explains how to use the **PH\\_EXE** class inside the **vqe\\_step** module. \n",
    "\n",
    "This class, given an ansatz and its parent Hamiltonian, provided as a string  Pauli decomposition, computes the associated ground state energy (that should be near zero)."
   ]
  },
  {
   "cell_type": "code",
   "execution_count": null,
   "id": "7546a0c7",
   "metadata": {},
   "outputs": [],
   "source": [
    "import logging"
   ]
  },
  {
   "cell_type": "code",
   "execution_count": null,
   "id": "12137d77",
   "metadata": {},
   "outputs": [],
   "source": [
    "logging.basicConfig(\n",
    "    format='%(asctime)s-%(levelname)s: %(message)s',\n",
    "    datefmt='%m/%d/%Y %I:%M:%S %p',\n",
    "    level=logging.INFO\n",
    "    #level=logging.DEBUG\n",
    ")\n"
   ]
  },
  {
   "cell_type": "code",
   "execution_count": null,
   "id": "9c436107",
   "metadata": {},
   "outputs": [],
   "source": [
    "logger = logging.getLogger('__name__')"
   ]
  },
  {
   "cell_type": "code",
   "execution_count": null,
   "id": "bef2297f",
   "metadata": {},
   "outputs": [],
   "source": [
    "import os\n",
    "import sys\n",
    "sys.path.append(\"../\")\n",
    "import numpy as np"
   ]
  },
  {
   "cell_type": "code",
   "execution_count": null,
   "id": "a4011c57-f538-4913-91ab-518a7fb59cff",
   "metadata": {},
   "outputs": [],
   "source": [
    "sys.path.append(\"../../\")\n",
    "# myQLM qpus\n",
    "from get_qpu import get_qpu\n",
    "# myQLM qpus\n",
    "qpu_c = get_qpu(\"c\")\n",
    "qpu_p = get_qpu(\"python\")"
   ]
  },
  {
   "cell_type": "markdown",
   "id": "fd13be4e",
   "metadata": {},
   "source": [
    "Before doing the siumulation we need to perform several steps:\n",
    "\n",
    "1. Ansatz Definition and Solving (doing with functions from **ansatzes** module).\n",
    "2. Parent Hamiltonian Computation (doing with functions from **parent\\_hamiltonian** module)"
   ]
  },
  {
   "cell_type": "markdown",
   "id": "206806ed",
   "metadata": {},
   "source": [
    "## 1. Ansatz Definition and Solving\n",
    "\n",
    "We neeed to define an ansatz circuit and solving it for getting its state (see **02_Ansatzes.ipynb**. We can use the functions from **ansatzes** module"
   ]
  },
  {
   "cell_type": "markdown",
   "id": "fe58f7a8",
   "metadata": {},
   "source": [
    "### Ansatz definition\n",
    "\n",
    "First we define an ansatz circuit"
   ]
  },
  {
   "cell_type": "code",
   "execution_count": null,
   "id": "5d16d0c4",
   "metadata": {},
   "outputs": [],
   "source": [
    "from ansatzes import ansatz_selector, angles_ansatz01"
   ]
  },
  {
   "cell_type": "code",
   "execution_count": null,
   "id": "e2bbbd5f",
   "metadata": {},
   "outputs": [],
   "source": [
    "# Ansatz Configuration\n",
    "ansatz = \"simple01\"\n",
    "nqubits = 6\n",
    "depth = 2\n",
    "ansatz_conf = {\n",
    "    'nqubits' : nqubits,\n",
    "    'depth' : depth\n",
    "}\n",
    "filename = \"ansatz_{}_dept_{}_nqubits_{}\".format(ansatz, ansatz_conf[\"depth\"], ansatz_conf[\"nqubits\"])\n",
    "# Create Ansatz Circuit\n",
    "circuit = ansatz_selector(ansatz, **ansatz_conf)"
   ]
  },
  {
   "cell_type": "code",
   "execution_count": null,
   "id": "a6cc2d66",
   "metadata": {},
   "outputs": [],
   "source": [
    "%qatdisplay circuit --svg"
   ]
  },
  {
   "cell_type": "code",
   "execution_count": null,
   "id": "1e564f47",
   "metadata": {},
   "outputs": [],
   "source": [
    "# Fixing the parameters of the circuit\n",
    "circuit, parameters_pdf = angles_ansatz01(circuit)"
   ]
  },
  {
   "cell_type": "code",
   "execution_count": null,
   "id": "b5523ca1",
   "metadata": {},
   "outputs": [],
   "source": [
    "%qatdisplay circuit --svg"
   ]
  },
  {
   "cell_type": "code",
   "execution_count": null,
   "id": "61a1f7a8",
   "metadata": {},
   "outputs": [],
   "source": [
    "parameters_pdf"
   ]
  },
  {
   "cell_type": "markdown",
   "id": "1dfdb9e4",
   "metadata": {},
   "source": [
    "### Ansatz Solution\n",
    "\n",
    "Now we need to fix the parameters of the ansatz and solving it(see notebook **02_Ansatzes.ipynb**)"
   ]
  },
  {
   "cell_type": "code",
   "execution_count": null,
   "id": "997b971d",
   "metadata": {},
   "outputs": [],
   "source": [
    "from ansatzes import SolveCircuit"
   ]
  },
  {
   "cell_type": "code",
   "execution_count": null,
   "id": "423e14de",
   "metadata": {},
   "outputs": [],
   "source": [
    "folder = \"Saving/\""
   ]
  },
  {
   "cell_type": "code",
   "execution_count": null,
   "id": "0bd44697",
   "metadata": {
    "scrolled": true
   },
   "outputs": [],
   "source": [
    "# Solving  Ansatz Configuration\n",
    "\n",
    "solve_conf = {\n",
    "    \"nqubits\":nqubits,\n",
    "    \"qpu\" : qpu_c,\n",
    "    \"parameters\" : parameters_pdf,\n",
    "    \"filename\": folder + filename,\n",
    "    \"save\": True        \n",
    "}\n",
    "# Solving Ansatz\n",
    "solv_ansatz = SolveCircuit(circuit, **solve_conf)\n",
    "solv_ansatz.run()"
   ]
  },
  {
   "cell_type": "code",
   "execution_count": null,
   "id": "f6cd0175",
   "metadata": {},
   "outputs": [],
   "source": [
    "solv_ansatz.state"
   ]
  },
  {
   "cell_type": "markdown",
   "id": "31ee289c",
   "metadata": {},
   "source": [
    "## 2. Parent Hamiltonian Computation\n",
    "\n",
    "With the obtained state of the ansatz, we need to compute the Parent Hamiltonian and get its Pauli string decomposition. Here we use the **parent\\_hamiltonian** module (see notebook **03_Using_PH_Class.ipynb** for more information)"
   ]
  },
  {
   "cell_type": "code",
   "execution_count": null,
   "id": "920446a4",
   "metadata": {},
   "outputs": [],
   "source": [
    "from parent_hamiltonian import PH"
   ]
  },
  {
   "cell_type": "code",
   "execution_count": null,
   "id": "c037d587",
   "metadata": {},
   "outputs": [],
   "source": [
    "# Create PH\n",
    "# Get teh amplitudes\n",
    "amplitudes = list(solv_ansatz.state[\"Amplitude\"])\n",
    "ph_conf = {\n",
    "    \"filename\": folder + filename,\n",
    "    \"save\": True          \n",
    "}\n",
    "ph_object = PH(amplitudes, t_invariant=True, **ph_conf)\n",
    "ph_object.local_ph()"
   ]
  },
  {
   "cell_type": "code",
   "execution_count": null,
   "id": "2963a209",
   "metadata": {
    "scrolled": true
   },
   "outputs": [],
   "source": [
    "ph_object.pauli_pdf"
   ]
  },
  {
   "cell_type": "markdown",
   "id": "9ef0eea3",
   "metadata": {},
   "source": [
    "## 4. Computing PH ground state\n",
    "\n",
    "Now we have all mandatory inputs so we can use **PH_EXE** class for computing the ground state energy of the parent hamiltonian of our input ansatz.\n",
    "We need to provide for initializing the class:\n",
    "\n",
    "* *ansatz*: myqlm circuit of the ansatz where the parameters are fixed.\n",
    "* *pauli_ph*: pandas DataFrame with the Pauli decomposition of the Parent Hamiltonian\n",
    "* *nqubits*: number of qubits of the ansatz\n",
    "\n",
    "Additionally, other parameters can be provided as keyword arguments (*kwargs*):\n",
    "* *qpu*: myqlm QPU unit for simulating the ground state energy\n",
    "* *nb_shots*: number of shots for measuring GSE.\n",
    "* *t_inv*: if True for indicating that the Pauli decomposition was done using translational invariance.\n",
    "* *truncation*: for truncating the number of Pauli strings. It is a positive number and all the Pauli coefficients where its absolute value is lower than $10^{-\\text{truncation}}$ will be deleted\n",
    "\n",
    "The **run** method should be used for the computation."
   ]
  },
  {
   "cell_type": "markdown",
   "id": "600ebb2d",
   "metadata": {},
   "source": [
    "**BE AWARE**\n",
    "\n",
    "If the local **PH** was computed using the translational invariance then the obtained Pauli decomposition was obtained for the first qubit only!! For executing the complete step we need to replicate the Pauli strings for all the qubits. This is done automatically by the class **BUT it is mandatory to indicate it by the t_inv key**"
   ]
  },
  {
   "cell_type": "code",
   "execution_count": null,
   "id": "f44f9bb4",
   "metadata": {},
   "outputs": [],
   "source": [
    "from vqe_step import PH_EXE"
   ]
  },
  {
   "cell_type": "code",
   "execution_count": null,
   "id": "11d36e35",
   "metadata": {},
   "outputs": [],
   "source": [
    "vqe_conf = {\n",
    "    \"t_inv\":True,\n",
    "    \"qpu\" : qpu_c,\n",
    "    \"nb_shots\": 0,\n",
    "    \"truncation\": None,\n",
    "    \"filename\": folder + filename,\n",
    "    \"save\": True        \n",
    "}\n",
    "\n",
    "ansatz_circuit = solv_ansatz.circuit\n",
    "pauli_ph = ph_object.pauli_pdf\n",
    "nqubits = ansatz_conf[\"nqubits\"]\n",
    "exe_ph = PH_EXE(ansatz_circuit, pauli_ph, nqubits, **vqe_conf)"
   ]
  },
  {
   "cell_type": "code",
   "execution_count": null,
   "id": "0442c24d",
   "metadata": {},
   "outputs": [],
   "source": [
    "exe_ph.run()"
   ]
  },
  {
   "cell_type": "markdown",
   "id": "9ffbeb39",
   "metadata": {},
   "source": [
    "The results will be stored in the attribute **pdf_result** (that will be a pandas DataFrame)"
   ]
  },
  {
   "cell_type": "code",
   "execution_count": null,
   "id": "a923244d",
   "metadata": {},
   "outputs": [],
   "source": [
    "exe_ph.pdf_result"
   ]
  },
  {
   "cell_type": "code",
   "execution_count": null,
   "id": "9ea0bc5d",
   "metadata": {},
   "outputs": [],
   "source": [
    "exe_ph.pdf_info"
   ]
  },
  {
   "cell_type": "code",
   "execution_count": null,
   "id": "920b4906",
   "metadata": {},
   "outputs": [],
   "source": [
    "exe_ph.pdf"
   ]
  },
  {
   "cell_type": "markdown",
   "id": "ecc22854",
   "metadata": {},
   "source": [
    "If save was required the complete information (axis 1 concatenation of *exe_ph.pdf_result* and *exe_ph.pdf_result*) will be saved as: folder + filename+*_phexe.csv*"
   ]
  },
  {
   "cell_type": "markdown",
   "id": "55bd78eb",
   "metadata": {},
   "source": [
    "## 5. run_ph_execution\n",
    "\n",
    "Inside the module **vqe_step** the **run_ph_execution** function can be found. This function uses typical **CSV** files from **ansatzes** and **parent_hamiltonian** modules for executing a **VQE** step. The input of this function is a **kwargs** (called **configuration**) where following keywords are processed:\n",
    "\n",
    "* base_fn: Base name for the files generated by **ansatzes** and **parent_hamiltonian**. The pattern of the name can be: \n",
    "    * **ansatz\\_{}\\_nqubits\\_{}\\_depth\\_{}\\_qpu_ansatz\\_{}**. From this kind of filenames the code extracts directly:\n",
    "        * ansatz\n",
    "        * nqubits\n",
    "        * depth\n",
    "        * The following files must exist:\n",
    "            * **ansatz\\_{}\\_nqubits\\_{}\\_depth\\_{}\\_qpu_ansatz\\_{}\\_parameter.csv**: with the angles of the ansatz\n",
    "            * **ansatz\\_{}\\_nqubits\\_{}\\_depth\\_{}\\_qpu_ansatz\\_{}\\_pauli.csv**: with the Pauli decomposition of the **PH**.\n",
    "    * **nqubits\\_{}\\_depth\\_{}\\_qpu\\_{}**. From this kind of filenames the code extracts directly:\n",
    "        *  ansatz: the ansatz will be fixed by defalut to *simple01*\n",
    "        *  nqubits\n",
    "        *  depth\n",
    "        * The following files must exist:\n",
    "            * **nqubits\\_{}\\_depth\\_{}\\_qpu_ansatz\\_{}\\_parameter.csv**: with the angles of the ansatz\n",
    "            * **nqubits\\_{}\\_depth\\_{}\\_qpu_ansatz\\_{}\\_pauli.csv**: with the Pauli decomposition of the **PH**.\n",
    "    * Additionally filenames without the **\\\n",
    "    * _qpu_ansatz** can be given as valid filenames. Corresponding **_parameter.csv** and **_pauli.csv** files must exist\n",
    "* qpu_ph: name with the qpu for executing the **VQE** step simulation.\n",
    "* nb_shots: for setting the  number of shots for the **VQE** step.\n",
    "* t_inv: True if the ansatz is transaltional invariant.\n",
    "* truncation: integer for truncating the Pauli coefficients\n",
    "* save: for saving the results. The results will be saved with the following pattern that depends on the *base_fn*:\n",
    "    * **ansatz\\_{}\\_nqubits\\_{}\\_depth\\_{}\\_qpu_ansatz\\_{}\\_ph\\_exe.csv**\n",
    "    * **nqubits\\_{}\\_depth\\_{}\\_qpu_ansatz\\_{}\\_ph\\_exe.csv**\n",
    "    * If in the base_fn the name does not have the **\\_qpu_ansatz** the created file does not have too."
   ]
  },
  {
   "cell_type": "markdown",
   "id": "1950d87c",
   "metadata": {},
   "source": [
    "## 6. Command Line execution\n",
    "\n",
    "The **run_ph_execution** function from module **vqe_step**  can be executed from command line. Several arguments can be passed for configuring the **VQE** step computation. A help can be obtained by:\n",
    "\n",
    "**python vqe_step.py -h**\n",
    "\n",
    "Arguments can be:\n",
    "\n",
    "* -basefn BASE_FN: Base Filename for Loading Files\n",
    "* -nb_shots NB_SHOTS    Number of shots\n",
    "* -truncation TRUNCATION: Truncation for Pauli coeficients.\n",
    "* -qpu_ph QPU_PH: QPU for **VQE** simulation: [qlmass, python, c]\n",
    "* --t_inv: Setting translational invariant of the ansatz\n",
    "* --save: For storing results"
   ]
  },
  {
   "cell_type": "markdown",
   "id": "200e3276-bd37-433a-bb50-cd715e0c18ac",
   "metadata": {},
   "source": [
    "**Example**\n",
    "\n",
    "We are going to use the example provided in the **02_Ansatzes.ipynb** and **03_Using_PH_Class.ipynb** notebooks where we have used the **ansatzes.py** module for doing computations for a **simple_02** ansatz of 6 **qubits** and **depth** 2, and the **parent_hamiltonian.py** module for computing the corresponding Pauli decomposition of its parent Hamiltonian. We need to have the following files in the folder **Saves**:\n",
    "\n",
    "* ansatz_simple02_nqubits_6_depth_2_qpu_ansatz_c_parameters.csv\n",
    "* ansatz_simple02_nqubits_6_depth_2_qpu_ansatz_c_state.csv\n",
    "* ansatz_simple02_nqubits_6_depth_2_qpu_ansatz_c_solve_ansatz_time.csv\n",
    "* ansatz_simple02_nqubits_6_depth_2_qpu_ansatz_c_ph_time.csv\n",
    "* ansatz_simple02_nqubits_6_depth_2_qpu_ansatz_c_pauli.csv\n",
    "\n",
    "Now we can use the **vqe_step.py** module for executing a **VQE** step by using the following command (we have set truncation to 3 so all Pauli coefficients lower than $10^{-3}$ will be pruned):\n",
    "\n",
    "    python vqe_step.py -basefn Saves/ansatz_simple02_nqubits_6_depth_2_qpu_ansatz_c -qpu_ph c -truncation 3 --save\n",
    "\n",
    "Now in the **Saves** folder, we should find the following fils (in addition to the other ones)\n",
    "\n",
    "* ansatz_simple02_nqubits_6_depth_2_qpu_ansatz_c_phexe.csv"
   ]
  },
  {
   "cell_type": "markdown",
   "id": "1eea57b0",
   "metadata": {},
   "source": [
    "## 7. Massive VQE step computations\n",
    "\n",
    "As for the case of masive ansatz state and parent hamiltonian computations (see Notebook **02_Ansatzes.ipynb and 03_Using_PH_Class.ipynb**) we can execute masive **VQE** step computations.For this the 2 following files can be used:\n",
    "\n",
    "* **vqe\\_step.json**: JSON file with the configuration for the **VQE** step computations. For each desired computation a complete dictionary should be provided. The keys are:\n",
    "    * save: for saving or not the results\n",
    "    * t_inv: for setting if the ansatz is, or not, translational invariant.\n",
    "    * base_fn: base name for the inputs files.\n",
    "    * nb_shots: number of shots for **VQE** step.\n",
    "    * qpu_ph: qpu for executing **VQE** step.\n",
    "    * truncation: for tuncating Pauli coefficients.\n",
    "* **launch_vqe_step.py**: This scripts procces the before **JSON** file creating a complete list of all posible **VQE** calculations. By providing different arguments a selected configuration (or all of them) can be chosen. For getting help use: **launch_vqe_step.py -h**. Following arguments can be provided:\n",
    "  * **--count**: Getting the number of posible **VQE** steps from the **vqe\\_stepjson** JSON file.\n",
    "  * **--all**: for selecting all the posible **VQE** steps from the **vqe\\_stepjson** JSON file.\n",
    "  * **-id ID**: for selecting a single (the **ID** one) **VQE** step from the **vqe\\_stepjson** JSON file.\n",
    "  * **--print**: for printing the **VQE** step configuration.\n",
    "  * **--exe**: for executing the **VQE** execution indicated by **--all** or by **-id ID**."
   ]
  }
 ],
 "metadata": {
  "kernelspec": {
   "display_name": "Python 3 (ipykernel)",
   "language": "python",
   "name": "python3"
  },
  "language_info": {
   "codemirror_mode": {
    "name": "ipython",
    "version": 3
   },
   "file_extension": ".py",
   "mimetype": "text/x-python",
   "name": "python",
   "nbconvert_exporter": "python",
   "pygments_lexer": "ipython3",
   "version": "3.9.9"
  }
 },
 "nbformat": 4,
 "nbformat_minor": 5
}
