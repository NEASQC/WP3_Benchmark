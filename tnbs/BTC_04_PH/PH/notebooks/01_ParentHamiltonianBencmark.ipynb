{
 "cells": [
  {
   "cell_type": "markdown",
   "id": "abc0ec77-a62e-47fd-9780-b6002e237eb5",
   "metadata": {},
   "source": [
    "# Parent Hamiltonian Benchmark\n",
    "\n",
    "Present notebook documents the **Parent Hamiltonian** (**PH**) **kernel** and its associated **Benchmark Test Case**. Additionally, explains how the benchmark can be executed.\n",
    "\n",
    "$$\\newcommand{\\braket}[2]{\\left\\langle{#1}\\middle|{#2}\\right\\rangle}$$\n",
    "$$\\newcommand{\\ket}[1]{\\left|{#1}\\right\\rangle}$$\n",
    "$$\\newcommand{\\bra}[1]{\\left\\langle{#1}\\right|}$$"
   ]
  },
  {
   "cell_type": "markdown",
   "id": "3b7ed307-b41f-4d76-9467-c73047f583d8",
   "metadata": {},
   "source": [
    "## 1. PH Kernel\n",
    "\n",
    "Given an ansatz with a state $\\ket{\\Psi \\left(\\theta\\right)}$, where $\\theta$ is a vector of parameters, the **PH kernel** aims to compute a Hamiltonian, $\\mathcal{H}$, such that the ansatz is its ground state with a fixed energy of 0. Such Hamiltonian is called the **Parent Hamiltonian**^of the ansatz (or of the state $\\ket{\\Psi \\left(\\theta\\right)}$)\n",
    "\n",
    "$$\\mathcal{H}\\ket{\\Psi \\left(\\theta\\right)} = 0 \\tag{1}$$\n",
    "\n",
    "In the **TNBS** it is expected to use the **PH kernel** for evaluating the performance of quantum architectures for running typical **VQE** circuits (or ansatzes).\n",
    "\n",
    "This kernel is based on the original *Parent Hamiltonian*  paper:\n",
    "\n",
    "* Kobayashi, F., Mitarai, K., & Fujii, K. (2022). Parent Hamiltonian as a benchmark problem for variational quantum eigensolvers. Phys. Rev. A, 105, 052415 (https://doi.org/10.1103%2Fphysreva.105.052415)"
   ]
  },
  {
   "attachments": {},
   "cell_type": "markdown",
   "id": "69e54053-190f-431b-b3da-5342a480f21f",
   "metadata": {},
   "source": [
    "## 2. BTC\n",
    "\n",
    "As a **BTC** for the **PH kernel**  we are going to use the proposed ansatz on the original *Parent Hamiltonian*  paper that is depicted in the following figure:\n",
    "\n",
    "\n",
    "![alternatvie text](./parent_hamiltonian.svg)\n",
    "\n",
    "\n",
    "The ansatz is the circuit inside the rectangle solid line and it can be composed of several layers. Each layer (rectangle dashed line) is composed of a $R_X(\\theta_i)$ gate by qubit, followed by a ladder of $CNOT$ gates and finally a $R_Z(\\theta_{i+1})$ by qubit.\n",
    "\n",
    "The angles of the different gates will be set to, follow the TNBS guidelines:\n",
    "\n",
    "$$\\delta \\theta = \\frac{\\pi}{4*(n_l+1)}$$ $$\\theta_i = (i+1) \\delta \\theta \\; i=0, 1, \\cdots 2n_l-1$$ where $n_l$ is the number of layers of the ansatz (the **depth** of the ansatz)\n",
    "\n",
    "For a fixed **number of qubits** and **depth** the corresponding **PH** of the ansatz should be computed and decomposed as linear decomposition following $(2)$: $$\\mathcal{H} = \\sum_{I=0}^{4^n-1} a_I P_{I}^n\\tag{2}$$ where $P_I^n$ is a generalized Pauli string: $$P_I^n=\\sigma_{i_0} \\otimes \\sigma_{i_1} \\cdots \\otimes \\sigma_{i_{n-1}}$$ where $i_j={0, 1, 2, 3}$.\n",
    "\n",
    "For each possible **Pauli** string the complete ansatz circuit should be executed and the corresponding expected value of the **Pauli** string should be computed (this is depicted in the figure with *Rotation to $P_i$ measurement basis* and the *$\\langle P_i \\rangle$* boxes). Finally, all the computed expected values ($\\langle P_i \\rangle$) should be gathered and the ground state energy ($E_0$) of the ansatz under the **PH** should be computed using $(3)$:$$E_0 = \\sum_{I=0}^{4^n-1} a_I \\langle P_i \\rangle \\tag{3}$$\n",
    "\n",
    "If all properly works the obtained $E_0$ should be as close to 0 as possible."
   ]
  },
  {
   "cell_type": "markdown",
   "id": "b14f7f06-162c-4934-b8ac-cbad1696b29d",
   "metadata": {},
   "source": [
    "## 3 Benchmark execution.\n",
    "\n",
    "In the present repository, we have computed the Pauli decomposition for ansatz circuits from 3 to 30 qubits and for 1 to 4 depths. The mandatory files are stored inside the **BTC_04_PH/configuration_files/**. There are 2 kinds of files:\n",
    "\n",
    "* *_parameters.csv* files: where the different parameters of the ansatz circuit are stored.\n",
    "* _pauli.csv* files: where the corresponding Pauli decomposition is stored.\n",
    "\n",
    "These files are mandatory for executing the **BTC** using the code of the repository."
   ]
  },
  {
   "cell_type": "markdown",
   "id": "2c8bd9ad-672e-48dc-91ba-66d10b969ce1",
   "metadata": {},
   "source": [
    "## 4. my_benchmark_execution.py\n",
    "\n",
    "The **my_benchmark_execution.py** module executes the benchmark for the **PH BTC**. This module needs the files stored in the **BTC_04_PH/configuration_files/** folder. \n",
    "\n",
    "The benchmark can be configured using the *kernel_configuration* and the *benchmark_arguments* dictionary at the end of the **my_benchmark_execution.py** module. \n",
    "\n",
    "For selecting the depths to execute the key *depth* from the *kernel_configuration* dictionary should be modified (a list with the different depths should be provided). Only depths from 1 to 4 can be provided (are the precomputed ansatz depths).\n",
    "For selecting the number of qubits to execute the key *list_of_qbits* from the *benchmark_arguments* should be modified (a list with different number of qubits should be provided). Only qubits from 3 to 30 can be provided (are the precomputed ansatz qubits).\n",
    "\n",
    "**NOTE** \n",
    "The bechmark will be executed for each number of qubits and depths. So if you provide:\n",
    "* depth : [2, 3]\n",
    "*  list_of_qbits: [15, 18]\n",
    "\n",
    "then the ansatzes for 15 qubits and 2 and 3 depths, and for 18 and 2 of 3 ansatzes will be executed (4 different executions will be done).\n"
   ]
  },
  {
   "cell_type": "markdown",
   "id": "69adb7fb-cf82-4e2a-976d-00c020a6302e",
   "metadata": {},
   "source": [
    "## 5. Generating the JSON file.\n",
    "\n",
    "Once the files from a complete benchmark execution are generated the information should be formated following the **NEASQC JSON schema**. For doing this the **neasqc_benchmark.py** module can be used. At the end of the file the path to the folder where all the files from benchmark are stored should be provided to the variable **folder**.\n",
    "\n",
    "For creating the JSON file following command should eb executed:\n",
    "\n",
    "    python neasqc_benchmark.py"
   ]
  },
  {
   "cell_type": "markdown",
   "id": "0bdc2b52-0e67-4ad6-81fe-ee2e67ebcba7",
   "metadata": {},
   "source": [
    "## 6. Complete Workflow.\n",
    "\n",
    "The bash script **benchmark_exe.sh** allows to automatize the execution of the benchmark and the JSON file generation (once the *my_benchmark_execution.py* and the *neasqc_benchmark.py* are properly configured).\n",
    "\n",
    "    bash benchmark_exe.sh"
   ]
  },
  {
   "cell_type": "markdown",
   "id": "7f94c0d3-3e96-49b8-86f7-686e3235ef5b",
   "metadata": {},
   "source": [
    "## 7. About the other notebooks.\n",
    "\n",
    "The other notebooks presented in the **BTC_04_PH/PH/notebooks/* folder gives more information about the **Parent Hamiltonian** and about the code used for generating the configuration files. The user can check it and can use for creating different ansatzes and its corresponding Pauli decomposition even can be used for creating **BTC** with higher depths (or even higher numbers of qubits). The notebooks are:\n",
    "\n",
    "* **02_Ansatzes.ipynb**: in this notebook the code for computing different ansatzes and their corresponding states are explained.\n",
    "* **03_Using_PH_Class.ipynb**: in this notebook the internal details of the **Parent Hamiltonian** computation are provided. Additionally, the mandatory code for creating the Pauli decomposition of the **PH** is described.\n",
    "* **04_ParentHamiltonian_execution.ipynb**: in this notebook the code used for, giving the ansatz and its corresponding **PH** Pauli decomposition, execute **VQE** step is explained.\n",
    "* **05_CompleteWorkflow.ipynb**: in this notebook the code for a complete workflow (creating the ansatz, computing the PH and executing the **VQE** step) is provided and explained.\n",
    "* **06_ParentHamiltonian_with_MPS.ipynb**: the main problem of the **PH** case is the need to compute the state of the ansatz for obtaining the **PH**. Using vector state simulators for this task can be very inefficient (and even unaffordable) when the number of qubits (or even the depth) increases. For this case techniques like *Matrix Product State* from **Tensor Networks** can be used. In this notebook, we explain how to use or naive implementation of these computations for obtaining the **PH** Pauli decomposition.\n",
    "* **07_Ansatz_MPS.ipynb**: this notebook explains how to use our **MPS** implementation for computing the state of the **BTC** ansatz.\n",
    "* **08_ReducedDensityMatriceswithMPS.ipynb**: this notebook shows how to use our **MPS** implementation for computing the **PH** Pauli decomposition."
   ]
  },
  {
   "cell_type": "code",
   "execution_count": null,
   "id": "b0d83731-ddea-495d-842e-776fea3640bd",
   "metadata": {},
   "outputs": [],
   "source": []
  }
 ],
 "metadata": {
  "kernelspec": {
   "display_name": "Python [conda env:tnbs2c] *",
   "language": "python",
   "name": "conda-env-tnbs2c-py"
  },
  "language_info": {
   "codemirror_mode": {
    "name": "ipython",
    "version": 3
   },
   "file_extension": ".py",
   "mimetype": "text/x-python",
   "name": "python",
   "nbconvert_exporter": "python",
   "pygments_lexer": "ipython3",
   "version": "3.11.7"
  }
 },
 "nbformat": 4,
 "nbformat_minor": 5
}
