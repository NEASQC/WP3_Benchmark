{
 "cells": [
  {
   "cell_type": "markdown",
   "id": "28f90284",
   "metadata": {},
   "source": [
    "# Ansatzes"
   ]
  },
  {
   "cell_type": "code",
   "execution_count": null,
   "id": "6f6fa0ab",
   "metadata": {},
   "outputs": [],
   "source": [
    "import logging\n",
    "logging.basicConfig(\n",
    "    format='%(asctime)s-%(levelname)s: %(message)s',\n",
    "    datefmt='%m/%d/%Y %I:%M:%S %p',\n",
    "    level=logging.INFO\n",
    "    #level=logging.DEBUG\n",
    ")\n",
    "logger = logging.getLogger('__name__')"
   ]
  },
  {
   "cell_type": "code",
   "execution_count": null,
   "id": "cef33b61",
   "metadata": {},
   "outputs": [],
   "source": [
    "import numpy as np\n",
    "import pandas as pd"
   ]
  },
  {
   "cell_type": "code",
   "execution_count": null,
   "id": "f0eed4f8",
   "metadata": {},
   "outputs": [],
   "source": [
    "import sys\n",
    "sys.path.append(\"../\")"
   ]
  },
  {
   "cell_type": "code",
   "execution_count": null,
   "id": "8a0997b0",
   "metadata": {},
   "outputs": [],
   "source": [
    "# myQLM qpus\n",
    "from qat.qpus import PyLinalg, CLinalg\n",
    "qpu_c = CLinalg()\n",
    "qpu_p = PyLinalg()"
   ]
  },
  {
   "cell_type": "markdown",
   "id": "74e2b979",
   "metadata": {},
   "source": [
    "# QLM qpus\n",
    "from qlmaas.qpus import LinAlg\n",
    "qpu_qaass = LinAlg()\n",
    "from qlmaas.qpus import MPS\n",
    "qpu_mps = MPS()"
   ]
  },
  {
   "cell_type": "markdown",
   "id": "9d6b01f9",
   "metadata": {},
   "source": [
    "## 1. ansatzes module\n",
    "\n",
    "One mandatory step for using the Parent Hamiltonian, **PH**, library (see nootebook **02_Using_PH_Class.ipynb**) is computing for a given ansatz its complete state. This is the amplitudes of the state in the computational *n* qubit basis. \n",
    "\n",
    "In the *ansatzes* module of the **PH** library several functions and classes for deling with this part of the computation was done.\n"
   ]
  },
  {
   "cell_type": "markdown",
   "id": "1a79e9c3",
   "metadata": {},
   "source": [
    "### 1.1 SolveCircuit class\n",
    "\n",
    "The **SolveCircuit** takes a *Atos myqlm circuit* with an ansatz, fix their parameter and simulates using *Atos qpu* and return the state of the ansatz. This class needs for initialization following arguments:\n",
    "\n",
    "* qlm_circuit: *Atos myqlm circuit* with an ansatz and wit the parameters fixed\n",
    "* kwargs: keyword arguments where following keys are proccesed:\n",
    "    * parameters: pandas DataFrame with the parameters of the circuit\n",
    "    * qpu: Atos qpu for simulate the ansatz\n",
    "    \n",
    "For showing how this class works some example circuits will be provided"
   ]
  },
  {
   "cell_type": "code",
   "execution_count": null,
   "id": "3237219c",
   "metadata": {},
   "outputs": [],
   "source": [
    "from ansatzes import SolveCircuit"
   ]
  },
  {
   "cell_type": "markdown",
   "id": "8c629cee",
   "metadata": {},
   "source": [
    "### 1.2 Parent Hamiltonian Github ansatz\n",
    "\n",
    "The *ansatz_qlm_01* functions implements a **Atos myqlm** version of the ansatz in the github:\n",
    "\n",
    "https://github.com/FumiKobayashi/Parent_Hamiltonian_as_a_benchmark_problem_for_variational_quantum_eigensolvers\n",
    "\n",
    "from the original Parent Hamiltonian Papper:\n",
    "\n",
    "* Kobayashi, F., Mitarai, K., & Fujii, K. (2022). Parent hamiltonian as a benchmark problem for variational quantum eigensolvers. Phys. Rev. A, 105, 052415 (https://doi.org/10.1103%2Fphysreva.105.052415)\n",
    "\n",
    "We need functions *ansatz_qlm_01* and the function *solve_ansatz* that allows the simulation of a **Atos myqlm** program"
   ]
  },
  {
   "cell_type": "code",
   "execution_count": null,
   "id": "f2f3e925",
   "metadata": {},
   "outputs": [],
   "source": [
    "from ansatzes import ansatz_qlm_01"
   ]
  },
  {
   "cell_type": "markdown",
   "id": "ea2226b7",
   "metadata": {},
   "source": [
    "We need to provided to the *ansatz_qlm_01* the number of desired qubits and the depth of the circuit. The function returns an *Atos myqlm circuit* of the ansatz."
   ]
  },
  {
   "cell_type": "code",
   "execution_count": null,
   "id": "68de1184",
   "metadata": {
    "scrolled": true
   },
   "outputs": [],
   "source": [
    "n_qubits = 12\n",
    "depth = 2\n",
    "circ_ansatz01 = ansatz_qlm_01(nqubits=n_qubits, depth=depth)"
   ]
  },
  {
   "cell_type": "code",
   "execution_count": null,
   "id": "784d7def",
   "metadata": {
    "scrolled": true
   },
   "outputs": [],
   "source": [
    "%qatdisplay circ_ansatz01 --svg"
   ]
  },
  {
   "cell_type": "markdown",
   "id": "02b1429d",
   "metadata": {},
   "source": [
    "### Setting the parameters\n",
    "\n",
    "As can be seen the circuit has the parameters as variables. We can set the parameters calling the **angles_ansatz01**function. If $n_l$ is the number of layers of the circuit the formula for setting the parameters is:\n",
    "\n",
    "\n",
    "$$\\delta \\theta = \\frac{\\pi}{4*(n_l+1)}$$\n",
    "\n",
    "$$\\theta_i = (i+1) \\delta \\theta \\; i=0, 1, \\cdots 2n_l-1$$\n",
    "\n",
    "The output of the function are:\n",
    "* circuit with the parameters fixed\n",
    "* pandas DataFrame with the value of the parameters used"
   ]
  },
  {
   "cell_type": "code",
   "execution_count": null,
   "id": "5db961f7",
   "metadata": {},
   "outputs": [],
   "source": [
    "from ansatzes import angles_ansatz01"
   ]
  },
  {
   "cell_type": "code",
   "execution_count": null,
   "id": "bd7f3daf",
   "metadata": {},
   "outputs": [],
   "source": [
    "circ_ansatz01_, pdf_par = angles_ansatz01(circ_ansatz01)"
   ]
  },
  {
   "cell_type": "code",
   "execution_count": null,
   "id": "3b8108ba",
   "metadata": {},
   "outputs": [],
   "source": [
    "%qatdisplay circ_ansatz01_ --svg"
   ]
  },
  {
   "cell_type": "markdown",
   "id": "aebbd82b",
   "metadata": {},
   "source": [
    "In addition we can use the parameters of the circuit providing a pandas DataFrame to the function. In this case the function can be used for setting the parameters for any circuit! The parameters should be passes as a pandas DataFrame with 2 columns:\n",
    "* key: string with the name of the parameter (the same name that has in the circuit)\n",
    "* value: float value of the correspondent parameter"
   ]
  },
  {
   "cell_type": "code",
   "execution_count": null,
   "id": "b64e8167",
   "metadata": {},
   "outputs": [],
   "source": [
    "parameters = {v_ : 2 * np.pi * np.random.rand() for i_, v_ in enumerate(circ_ansatz01.get_variables())}\n",
    "angles = [k for k, v in parameters.items()]\n",
    "values = [v for k, v in parameters.items()]\n",
    "pdf_parameters = pd.DataFrame([angles, values], index=['key', 'value']).T"
   ]
  },
  {
   "cell_type": "code",
   "execution_count": null,
   "id": "631073fd",
   "metadata": {},
   "outputs": [],
   "source": [
    "pdf_parameters"
   ]
  },
  {
   "cell_type": "code",
   "execution_count": null,
   "id": "28c39a9b",
   "metadata": {},
   "outputs": [],
   "source": [
    "circ_ansatz01_2, _ = angles_ansatz01(circ_ansatz01, pdf_parameters)"
   ]
  },
  {
   "cell_type": "code",
   "execution_count": null,
   "id": "7646554c",
   "metadata": {},
   "outputs": [],
   "source": [
    "# The output is the circuit with the parameters fixed\n",
    "%qatdisplay circ_ansatz01_2 --svg"
   ]
  },
  {
   "cell_type": "code",
   "execution_count": null,
   "id": "d2bef9e2",
   "metadata": {},
   "outputs": [],
   "source": [
    "from utils import create_folder\n",
    "\n",
    "filename = \"ansatz_{}_dept_{}_nqubits_{}\".format(\"simple01\", depth, n_qubits)\n",
    "folder = create_folder(\"kk\")\n",
    "\n",
    "class_dict = {\n",
    "    \"qpu\" : qpu_c,\n",
    "    \"parameters\" : pdf_parameters,\n",
    "    \"filename\": folder + filename,\n",
    "    \"save\": True\n",
    "}"
   ]
  },
  {
   "cell_type": "code",
   "execution_count": null,
   "id": "86effe6d",
   "metadata": {},
   "outputs": [],
   "source": [
    "solv_ansatz01 = SolveCircuit(circ_ansatz01_, **class_dict)"
   ]
  },
  {
   "cell_type": "code",
   "execution_count": null,
   "id": "8a25bd33",
   "metadata": {},
   "outputs": [],
   "source": [
    "solv_ansatz01.run()"
   ]
  },
  {
   "cell_type": "markdown",
   "id": "6219d3ff",
   "metadata": {},
   "source": [
    "For simulating the ansatz the *run* method of the class should be executed when properly configuration is done. The *state* attribute will contain a pandas DataFrame with complet state information"
   ]
  },
  {
   "cell_type": "code",
   "execution_count": null,
   "id": "64c7da54",
   "metadata": {},
   "outputs": [],
   "source": [
    "solv_ansatz01.state"
   ]
  },
  {
   "cell_type": "markdown",
   "id": "a15cdaaa",
   "metadata": {},
   "source": [
    "### 1.2 Parent Hamiltonian General ansatz\n",
    "\n",
    "The function *ansatz_qlm_02* implements a generalization of the *ansatz_qlm_01* one. In the *ansatz_qlm_01* all the qubits has the same operations with the same parameters. In the *ansatz_qlm_02* each qubit has the same operations but each operation will have a different  parameter.\n",
    "\n",
    "The *SolveCircuit* class can be used for solving the ansatz"
   ]
  },
  {
   "cell_type": "code",
   "execution_count": null,
   "id": "f9d5ee0f",
   "metadata": {},
   "outputs": [],
   "source": [
    "from ansatzes import ansatz_qlm_02"
   ]
  },
  {
   "cell_type": "code",
   "execution_count": null,
   "id": "b317d974",
   "metadata": {},
   "outputs": [],
   "source": [
    "n_qubits = 8\n",
    "depth = 3\n",
    "circ_ansatz02 = ansatz_qlm_02(nqubits=n_qubits, depth=depth)"
   ]
  },
  {
   "cell_type": "code",
   "execution_count": null,
   "id": "51c41bc1",
   "metadata": {},
   "outputs": [],
   "source": [
    "%qatdisplay circ_ansatz02 --svg"
   ]
  },
  {
   "cell_type": "code",
   "execution_count": null,
   "id": "89fc33e3",
   "metadata": {},
   "outputs": [],
   "source": [
    "filename = \"ansatz_{}_dept_{}_nqubits_{}\".format(\"simple02\", depth, n_qubits)\n",
    "folder = create_folder(\"kk\")\n",
    "\n",
    "# Create the parameter values\n",
    "parameters = {v_ : 2 * np.pi * np.random.rand() for i_, v_ in enumerate(circ_ansatz02.get_variables())}\n",
    "angles = [k for k, v in parameters.items()]\n",
    "values = [v for k, v in parameters.items()]\n",
    "pdf_parameters = pd.DataFrame([angles, values], index=['key', 'value']).T\n"
   ]
  },
  {
   "cell_type": "code",
   "execution_count": null,
   "id": "0dbf40b6",
   "metadata": {},
   "outputs": [],
   "source": [
    "circ_ansatz02_, _ = angles_ansatz01(circ_ansatz02, pdf_parameters)"
   ]
  },
  {
   "cell_type": "code",
   "execution_count": null,
   "id": "924efa46",
   "metadata": {},
   "outputs": [],
   "source": [
    "class_dict = {\n",
    "    \"qpu\" : qpu_c,\n",
    "    \"parameters\" : pdf_parameters,\n",
    "    \"filename\": folder + filename,\n",
    "    \"save\": True    \n",
    "}\n",
    "solv_ansatz02 = SolveCircuit(circ_ansatz02_, **class_dict)\n",
    "solv_ansatz02.run()"
   ]
  },
  {
   "cell_type": "code",
   "execution_count": null,
   "id": "47a3e607",
   "metadata": {},
   "outputs": [],
   "source": [
    "solv_ansatz02.state"
   ]
  },
  {
   "cell_type": "markdown",
   "id": "814cbabf",
   "metadata": {},
   "source": [
    "### 1.3 Other ansatzes"
   ]
  },
  {
   "cell_type": "markdown",
   "id": "098441b5",
   "metadata": {},
   "source": [
    "For using the **PH** library for computing Parent Hamiltonians the mandatory input will be the list of amplitudes. We can use different ansatzes that are avialable from *Atos myqlm* library."
   ]
  },
  {
   "cell_type": "code",
   "execution_count": null,
   "id": "25b9879c",
   "metadata": {},
   "outputs": [],
   "source": [
    "from qat.fermion.circuits import make_ldca_circ, make_general_hwe_circ"
   ]
  },
  {
   "cell_type": "code",
   "execution_count": null,
   "id": "2dde2cfe",
   "metadata": {},
   "outputs": [],
   "source": [
    "nqubit = 8\n",
    "depth = 3\n",
    "lda_circ = make_ldca_circ(nqubit, depth)"
   ]
  },
  {
   "cell_type": "code",
   "execution_count": null,
   "id": "e20031a4",
   "metadata": {},
   "outputs": [],
   "source": [
    "%qatdisplay lda_circ --svg"
   ]
  },
  {
   "cell_type": "code",
   "execution_count": null,
   "id": "9f829e96",
   "metadata": {
    "scrolled": true
   },
   "outputs": [],
   "source": [
    "filename = \"ansatz_{}_dept_{}_nqubits_{}\".format(\"ldca\", depth, nqubit)\n",
    "folder = create_folder(\"kk\")\n",
    "\n",
    "# Create the parameter values\n",
    "parameters = {v_ : 2 * np.pi * np.random.rand() for i_, v_ in enumerate(lda_circ.get_variables())}\n",
    "angles = [k for k, v in parameters.items()]\n",
    "values = [v for k, v in parameters.items()]\n",
    "pdf_parameters = pd.DataFrame([angles, values], index=['key', 'value']).T"
   ]
  },
  {
   "cell_type": "code",
   "execution_count": null,
   "id": "42c5b886",
   "metadata": {},
   "outputs": [],
   "source": [
    "lda_circ_, _ = angles_ansatz01(lda_circ, pdf_parameters)"
   ]
  },
  {
   "cell_type": "code",
   "execution_count": null,
   "id": "9af65df1",
   "metadata": {},
   "outputs": [],
   "source": [
    "%qatdisplay lda_circ_ --svg"
   ]
  },
  {
   "cell_type": "code",
   "execution_count": null,
   "id": "1a92d871",
   "metadata": {},
   "outputs": [],
   "source": [
    "class_dict = {\n",
    "    \"qpu\" : qpu_c,\n",
    "    \"parameters\" : pdf_parameters,\n",
    "    \"filename\": folder + filename,\n",
    "    \"save\": True    \n",
    "}\n",
    "solv_ldca = SolveCircuit(lda_circ_, **class_dict)\n",
    "solv_ldca.run()"
   ]
  },
  {
   "cell_type": "code",
   "execution_count": null,
   "id": "221496e1",
   "metadata": {},
   "outputs": [],
   "source": [
    "solv_ldca.state"
   ]
  },
  {
   "cell_type": "code",
   "execution_count": null,
   "id": "4c83f740",
   "metadata": {},
   "outputs": [],
   "source": [
    "hwe_circ = make_general_hwe_circ(nqubit, n_cycles=1)"
   ]
  },
  {
   "cell_type": "code",
   "execution_count": null,
   "id": "ea21c470",
   "metadata": {},
   "outputs": [],
   "source": [
    "%qatdisplay hwe_circ --svg"
   ]
  },
  {
   "cell_type": "code",
   "execution_count": null,
   "id": "21b5f2cc",
   "metadata": {},
   "outputs": [],
   "source": [
    "filename = \"ansatz_{}_dept_{}_nqubits_{}\".format(\"hwe\", 1, nqubit)\n",
    "folder = create_folder(\"kk\")\n",
    "# Create the parameter values\n",
    "parameters = {v_ : 2 * np.pi * np.random.rand() for i_, v_ in enumerate(hwe_circ.get_variables())}\n",
    "# Create the parameter values\n",
    "parameters = {v_ : 2 * np.pi * np.random.rand() for i_, v_ in enumerate(lda_circ.get_variables())}\n",
    "angles = [k for k, v in parameters.items()]\n",
    "values = [v for k, v in parameters.items()]\n",
    "pdf_parameters = pd.DataFrame([angles, values], index=['key', 'value']).T\n",
    "hwe_circ_, _ = angles_ansatz01(hwe_circ, pdf_parameters)"
   ]
  },
  {
   "cell_type": "code",
   "execution_count": null,
   "id": "aa2ec7c8",
   "metadata": {},
   "outputs": [],
   "source": [
    "\n",
    "class_dict = {\n",
    "    \"qpu\" : qpu_c,\n",
    "    \"parameters\" : pdf_parameters,\n",
    "    \"filename\": folder + filename,\n",
    "    \"save\": True    \n",
    "}\n",
    "solv_hwe = SolveCircuit(hwe_circ_, **class_dict)\n",
    "solv_hwe.run()"
   ]
  },
  {
   "cell_type": "code",
   "execution_count": null,
   "id": "b510ba2e",
   "metadata": {},
   "outputs": [],
   "source": [
    "%qatdisplay hwe_circ_ --svg"
   ]
  },
  {
   "cell_type": "code",
   "execution_count": null,
   "id": "34ab37fc",
   "metadata": {},
   "outputs": [],
   "source": [
    "solv_hwe.state"
   ]
  },
  {
   "cell_type": "markdown",
   "id": "5ce2d533",
   "metadata": {},
   "source": [
    "### 1.4 Ansatz selector\n",
    "\n",
    "In order to simplify the ansatz selection a function called **ansatz_selector** was built. "
   ]
  },
  {
   "cell_type": "code",
   "execution_count": null,
   "id": "17a0fb89",
   "metadata": {},
   "outputs": [],
   "source": [
    "from ansatzes import ansatz_selector"
   ]
  },
  {
   "cell_type": "code",
   "execution_count": null,
   "id": "8aa75dc0",
   "metadata": {},
   "outputs": [],
   "source": [
    "conf_dict = {\n",
    "    'nqubits' : 4,\n",
    "    'depth' : 20\n",
    "}"
   ]
  },
  {
   "cell_type": "code",
   "execution_count": null,
   "id": "37f06d87",
   "metadata": {
    "scrolled": false
   },
   "outputs": [],
   "source": [
    "circuit = ansatz_selector('simple01', **conf_dict)\n",
    "%qatdisplay circuit --svg"
   ]
  },
  {
   "cell_type": "code",
   "execution_count": null,
   "id": "dc4d7dcb",
   "metadata": {},
   "outputs": [],
   "source": [
    "parameters = {v_ : 2 * np.pi * np.random.rand() for i_, v_ in enumerate(circuit.get_variables())}"
   ]
  },
  {
   "cell_type": "code",
   "execution_count": null,
   "id": "221fc2e5",
   "metadata": {},
   "outputs": [],
   "source": [
    "circuit = circuit(**parameters)"
   ]
  },
  {
   "cell_type": "code",
   "execution_count": null,
   "id": "0a6e4150",
   "metadata": {},
   "outputs": [],
   "source": [
    "%qatdisplay circuit --svg"
   ]
  },
  {
   "cell_type": "code",
   "execution_count": null,
   "id": "34780806",
   "metadata": {
    "scrolled": true
   },
   "outputs": [],
   "source": [
    "circuit = ansatz_selector('simple02', **conf_dict)\n",
    "%qatdisplay circuit --svg"
   ]
  },
  {
   "cell_type": "code",
   "execution_count": null,
   "id": "efbcae81",
   "metadata": {},
   "outputs": [],
   "source": [
    "circuit = ansatz_selector('lda', **conf_dict)\n",
    "%qatdisplay circuit --svg"
   ]
  },
  {
   "cell_type": "code",
   "execution_count": null,
   "id": "fa897cb6",
   "metadata": {
    "scrolled": false
   },
   "outputs": [],
   "source": [
    "circuit = ansatz_selector('hwe', **conf_dict)\n",
    "%qatdisplay circuit --svg"
   ]
  },
  {
   "cell_type": "code",
   "execution_count": null,
   "id": "6e3bf649",
   "metadata": {},
   "outputs": [],
   "source": []
  }
 ],
 "metadata": {
  "kernelspec": {
   "display_name": "Python 3 (ipykernel)",
   "language": "python",
   "name": "python3"
  },
  "language_info": {
   "codemirror_mode": {
    "name": "ipython",
    "version": 3
   },
   "file_extension": ".py",
   "mimetype": "text/x-python",
   "name": "python",
   "nbconvert_exporter": "python",
   "pygments_lexer": "ipython3",
   "version": "3.9.9"
  }
 },
 "nbformat": 4,
 "nbformat_minor": 5
}
