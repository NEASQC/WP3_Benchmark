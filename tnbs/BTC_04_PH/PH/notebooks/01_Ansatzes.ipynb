{
 "cells": [
  {
   "cell_type": "markdown",
   "id": "28f90284",
   "metadata": {},
   "source": [
    "# Ansatzes"
   ]
  },
  {
   "cell_type": "code",
   "execution_count": null,
   "id": "6f6fa0ab",
   "metadata": {},
   "outputs": [],
   "source": [
    "import logging\n",
    "logging.basicConfig(\n",
    "    format='%(asctime)s-%(levelname)s: %(message)s',\n",
    "    datefmt='%m/%d/%Y %I:%M:%S %p',\n",
    "    level=logging.INFO\n",
    "    #level=logging.DEBUG\n",
    ")\n",
    "logger = logging.getLogger('__name__')"
   ]
  },
  {
   "cell_type": "code",
   "execution_count": null,
   "id": "cef33b61",
   "metadata": {},
   "outputs": [],
   "source": [
    "import numpy as np"
   ]
  },
  {
   "cell_type": "code",
   "execution_count": null,
   "id": "f0eed4f8",
   "metadata": {},
   "outputs": [],
   "source": [
    "import sys\n",
    "sys.path.append(\"../../\")"
   ]
  },
  {
   "cell_type": "code",
   "execution_count": null,
   "id": "8a0997b0",
   "metadata": {},
   "outputs": [],
   "source": [
    "# myQLM qpus\n",
    "from qat.qpus import PyLinalg, CLinalg\n",
    "qpu_c = CLinalg()\n",
    "qpu_p = PyLinalg()\n",
    "# QLM qpus\n",
    "from qlmaas.qpus import LinAlg, MPS\n",
    "qpu_qaass = LinAlg()\n",
    "qpu_mps = MPS(lnnize =True)"
   ]
  },
  {
   "cell_type": "markdown",
   "id": "9d6b01f9",
   "metadata": {},
   "source": [
    "## 1. ansatzes module\n",
    "\n",
    "One mandatory step for using the Parent Hamiltonian, **PH**, library (see nootebook **02_Using_PH_Class.ipynb**) is computing for a given ansatz its complete state. This is the amplitudes of the state in the computational *n* qubit basis. \n",
    "\n",
    "In the *ansatzes* module of the **PH** library several functions and classes for deling with this part of the computation was done.\n"
   ]
  },
  {
   "cell_type": "markdown",
   "id": "1a79e9c3",
   "metadata": {},
   "source": [
    "### 1.1 SolveCircuit class\n",
    "\n",
    "The **SolveCircuit** takes a *Atos myqlm circuit* with an ansatz, fix their parameter and simulates using *Atos qpu* and return the state of the ansatz. This class needs for initialization following arguments:\n",
    "\n",
    "* qlm_circuit: *Atos myqlm circuit* with an ansatz\n",
    "* kwargs: keyword arguments where following keys are proccesed:\n",
    "    * parameters: It could be list or a dictionary with the parameters for fixing it the parameters of the ansatz or a None. In this case random parameters will be used\n",
    "    * qpu: Atos qpu for simulate the ansatz\n",
    "    \n",
    "For showing how this class works some example circuits will be provided"
   ]
  },
  {
   "cell_type": "code",
   "execution_count": null,
   "id": "3237219c",
   "metadata": {},
   "outputs": [],
   "source": [
    "from PH.ansatzes import SolveCircuit"
   ]
  },
  {
   "cell_type": "markdown",
   "id": "8c629cee",
   "metadata": {},
   "source": [
    "### 1.2 Parent Hamiltonian Github ansatz\n",
    "\n",
    "The *ansatz_qlm_01* functions implements a **Atos myqlm** version of the ansatz in the github:\n",
    "\n",
    "https://github.com/FumiKobayashi/Parent_Hamiltonian_as_a_benchmark_problem_for_variational_quantum_eigensolvers\n",
    "\n",
    "from the original Parent Hamiltonian Papper:\n",
    "\n",
    "* Kobayashi, F., Mitarai, K., & Fujii, K. (2022). Parent hamiltonian as a benchmark problem for variational quantum eigensolvers. Phys. Rev. A, 105, 052415 (https://doi.org/10.1103%2Fphysreva.105.052415)\n",
    "\n",
    "We need functions *ansatz_qlm_01* and the function *solve_ansatz* that allows the simulation of a **Atos myqlm** program"
   ]
  },
  {
   "cell_type": "code",
   "execution_count": null,
   "id": "f2f3e925",
   "metadata": {},
   "outputs": [],
   "source": [
    "from PH.ansatzes import ansatz_qlm_01"
   ]
  },
  {
   "cell_type": "markdown",
   "id": "ea2226b7",
   "metadata": {},
   "source": [
    "We need to provided to the *ansatz_qlm_01* the number of desired qubits and the depth of the circuit. The function returns an *Atos myqlm circuit* of the ansatz."
   ]
  },
  {
   "cell_type": "code",
   "execution_count": null,
   "id": "68de1184",
   "metadata": {
    "scrolled": true
   },
   "outputs": [],
   "source": [
    "n_qubits = 12\n",
    "depth = 3\n",
    "circ_ansatz01 = ansatz_qlm_01(nqubits=n_qubits, depth=depth)"
   ]
  },
  {
   "cell_type": "code",
   "execution_count": null,
   "id": "784d7def",
   "metadata": {
    "scrolled": true
   },
   "outputs": [],
   "source": [
    "%qatdisplay circ_ansatz01 --svg"
   ]
  },
  {
   "cell_type": "markdown",
   "id": "b6fd106a",
   "metadata": {},
   "source": [
    "Now we can initialize the *SolveCircuit* by providing the circuit and a input dictionary"
   ]
  },
  {
   "cell_type": "code",
   "execution_count": null,
   "id": "a958c4d3",
   "metadata": {},
   "outputs": [],
   "source": [
    "par_names = circ_ansatz01.get_variables()"
   ]
  },
  {
   "cell_type": "code",
   "execution_count": null,
   "id": "d2bef9e2",
   "metadata": {},
   "outputs": [],
   "source": [
    "class_dict = {\n",
    "    \"qpu\" : qpu_mps,\n",
    "    \"parameters\" : None,\n",
    "}"
   ]
  },
  {
   "cell_type": "code",
   "execution_count": null,
   "id": "86effe6d",
   "metadata": {},
   "outputs": [],
   "source": [
    "solv_ansatz01 = SolveCircuit(circ_ansatz01, **class_dict)"
   ]
  },
  {
   "cell_type": "code",
   "execution_count": null,
   "id": "b08f1450",
   "metadata": {},
   "outputs": [],
   "source": [
    "# If None is provided then random parameters will be used\n",
    "solv_ansatz01.parameters"
   ]
  },
  {
   "cell_type": "code",
   "execution_count": null,
   "id": "f3f29b64",
   "metadata": {},
   "outputs": [],
   "source": [
    "angle_list = [np.pi /2.0 for i in circ_ansatz01.get_variables()]\n",
    "print(\"List with parameter will be provided: {}\".format(angle_list))\n",
    "class_dict = {\n",
    "    \"qpu\" : qpu_mps,\n",
    "    \"parameters\" : angle_list,\n",
    "}\n",
    "solv_ansatz01 = SolveCircuit(circ_ansatz01, **class_dict)\n",
    "solv_ansatz01.parameters"
   ]
  },
  {
   "cell_type": "code",
   "execution_count": null,
   "id": "1043de53",
   "metadata": {},
   "outputs": [],
   "source": [
    "angle_list = {v: np.pi /4.0 for v in circ_ansatz01.get_variables()}\n",
    "print(\"Dictionary with parameter will be provided: {}\".format(angle_list))\n",
    "class_dict = {\n",
    "    \"qpu\" : qpu_mps,\n",
    "    \"parameters\" : angle_list,\n",
    "}\n",
    "solv_ansatz01 = SolveCircuit(circ_ansatz01, **class_dict)\n",
    "solv_ansatz01.parameters"
   ]
  },
  {
   "cell_type": "markdown",
   "id": "70385321",
   "metadata": {},
   "source": [
    "Additionally we can set the parameter attribute after initialization"
   ]
  },
  {
   "cell_type": "code",
   "execution_count": null,
   "id": "e8f458c7",
   "metadata": {},
   "outputs": [],
   "source": [
    "solv_ansatz01.parameters = None\n",
    "solv_ansatz01.parameters"
   ]
  },
  {
   "cell_type": "code",
   "execution_count": null,
   "id": "c7300dde",
   "metadata": {},
   "outputs": [],
   "source": [
    "solv_ansatz01.parameters = [np.pi /2.0 for i in solv_ansatz01.parameter_names]\n",
    "solv_ansatz01.parameters"
   ]
  },
  {
   "cell_type": "code",
   "execution_count": null,
   "id": "ae40fe88",
   "metadata": {
    "scrolled": true
   },
   "outputs": [],
   "source": [
    "solv_ansatz01.parameters = {i: np.pi /4.0 for i in solv_ansatz01.parameter_names}\n",
    "solv_ansatz01.parameters"
   ]
  },
  {
   "cell_type": "markdown",
   "id": "6219d3ff",
   "metadata": {},
   "source": [
    "For simulating the ansatz the *run* method of the class should be executed when properly configuration is done. The *state* attribute will contain a pandas DataFrame with complet state information"
   ]
  },
  {
   "cell_type": "code",
   "execution_count": null,
   "id": "c3085594",
   "metadata": {},
   "outputs": [],
   "source": [
    "class_dict = {\n",
    "    \"qpu\" : qpu_mps,\n",
    "    \"parameters\" : None,\n",
    "}\n",
    "solv_ansatz01 = SolveCircuit(circ_ansatz01, **class_dict)\n",
    "solv_ansatz01.run()"
   ]
  },
  {
   "cell_type": "code",
   "execution_count": null,
   "id": "64c7da54",
   "metadata": {},
   "outputs": [],
   "source": [
    "solv_ansatz01.state"
   ]
  },
  {
   "cell_type": "markdown",
   "id": "a15cdaaa",
   "metadata": {},
   "source": [
    "### 1.2 Parent Hamiltonian General ansatz\n",
    "\n",
    "The function *ansatz_qlm_02* implements a generalization of the *ansatz_qlm_01* one. In the *ansatz_qlm_01* all the qubits has the same operations with the same parameters. In the *ansatz_qlm_02* each qubit has the same operations but each operation will have a different  parameter.\n",
    "\n",
    "The *SolveCircuit* class can be used for solving the ansatz"
   ]
  },
  {
   "cell_type": "code",
   "execution_count": null,
   "id": "f9d5ee0f",
   "metadata": {},
   "outputs": [],
   "source": [
    "from PH.ansatzes import ansatz_qlm_02"
   ]
  },
  {
   "cell_type": "code",
   "execution_count": null,
   "id": "b317d974",
   "metadata": {},
   "outputs": [],
   "source": [
    "n_qubits = 12\n",
    "depth = 3\n",
    "circ_ansatz02 = ansatz_qlm_02(nqubits=n_qubits, depth=depth)"
   ]
  },
  {
   "cell_type": "code",
   "execution_count": null,
   "id": "51c41bc1",
   "metadata": {},
   "outputs": [],
   "source": [
    "%qatdisplay circ_ansatz02 --svg"
   ]
  },
  {
   "cell_type": "code",
   "execution_count": null,
   "id": "89fc33e3",
   "metadata": {},
   "outputs": [],
   "source": [
    "class_dict = {\n",
    "    \"qpu\" : qpu_mps,\n",
    "    \"parameters\" : None,\n",
    "}\n",
    "solv_ansatz02 = SolveCircuit(circ_ansatz02, **class_dict)\n",
    "solv_ansatz02.run()"
   ]
  },
  {
   "cell_type": "code",
   "execution_count": null,
   "id": "47a3e607",
   "metadata": {},
   "outputs": [],
   "source": [
    "solv_ansatz02.state"
   ]
  },
  {
   "cell_type": "markdown",
   "id": "814cbabf",
   "metadata": {},
   "source": [
    "### 1.3 Other ansatzes"
   ]
  },
  {
   "cell_type": "markdown",
   "id": "098441b5",
   "metadata": {},
   "source": [
    "For using the **PH** library for computing Parent Hamiltonians the mandatory input will be the list of amplitudes. We can use different ansatzes that are avialable from *Atos myqlm* library."
   ]
  },
  {
   "cell_type": "code",
   "execution_count": null,
   "id": "25b9879c",
   "metadata": {},
   "outputs": [],
   "source": [
    "from qat.fermion.circuits import make_ldca_circ, make_general_hwe_circ"
   ]
  },
  {
   "cell_type": "code",
   "execution_count": null,
   "id": "2dde2cfe",
   "metadata": {},
   "outputs": [],
   "source": [
    "nqubit = 8\n",
    "depth = 3\n",
    "lda_circ = make_ldca_circ(nqubit, depth)"
   ]
  },
  {
   "cell_type": "code",
   "execution_count": null,
   "id": "e20031a4",
   "metadata": {},
   "outputs": [],
   "source": [
    "%qatdisplay lda_circ --svg"
   ]
  },
  {
   "cell_type": "code",
   "execution_count": null,
   "id": "9f829e96",
   "metadata": {},
   "outputs": [],
   "source": [
    "class_dict = {\n",
    "    \"qpu\" : qpu_mps,\n",
    "    \"parameters\" : None,\n",
    "}\n",
    "solv_lda = SolveCircuit(lda_circ, **class_dict)\n",
    "solv_lda.run()\n",
    "solv_lda.state"
   ]
  },
  {
   "cell_type": "code",
   "execution_count": null,
   "id": "4c83f740",
   "metadata": {},
   "outputs": [],
   "source": [
    "hwe_circ = make_general_hwe_circ(nqubit, n_cycles=3)"
   ]
  },
  {
   "cell_type": "code",
   "execution_count": null,
   "id": "ea21c470",
   "metadata": {},
   "outputs": [],
   "source": [
    "%qatdisplay hwe_circ --svg"
   ]
  },
  {
   "cell_type": "code",
   "execution_count": null,
   "id": "34ab37fc",
   "metadata": {},
   "outputs": [],
   "source": [
    "class_dict = {\n",
    "    \"qpu\" : qpu_mps,\n",
    "    \"parameters\" : None,\n",
    "}\n",
    "solv_hwe = SolveCircuit(hwe_circ, **class_dict)\n",
    "solv_hwe.run()\n",
    "solv_hwe.state"
   ]
  }
 ],
 "metadata": {
  "kernelspec": {
   "display_name": "Python 3 (ipykernel)",
   "language": "python",
   "name": "python3"
  },
  "language_info": {
   "codemirror_mode": {
    "name": "ipython",
    "version": 3
   },
   "file_extension": ".py",
   "mimetype": "text/x-python",
   "name": "python",
   "nbconvert_exporter": "python",
   "pygments_lexer": "ipython3",
   "version": "3.9.9"
  }
 },
 "nbformat": 4,
 "nbformat_minor": 5
}
