{
 "cells": [
  {
   "cell_type": "markdown",
   "id": "28f90284",
   "metadata": {},
   "source": [
    "# Ansatzes"
   ]
  },
  {
   "cell_type": "code",
   "execution_count": null,
   "id": "6f6fa0ab",
   "metadata": {},
   "outputs": [],
   "source": [
    "import logging\n",
    "logging.basicConfig(\n",
    "    format='%(asctime)s-%(levelname)s: %(message)s',\n",
    "    datefmt='%m/%d/%Y %I:%M:%S %p',\n",
    "    level=logging.INFO\n",
    "    #level=logging.DEBUG\n",
    ")\n",
    "logger = logging.getLogger('__name__')"
   ]
  },
  {
   "cell_type": "code",
   "execution_count": null,
   "id": "cef33b61",
   "metadata": {},
   "outputs": [],
   "source": [
    "import numpy as np"
   ]
  },
  {
   "cell_type": "code",
   "execution_count": null,
   "id": "f0eed4f8",
   "metadata": {},
   "outputs": [],
   "source": [
    "import sys\n",
    "sys.path.append(\"../../\")"
   ]
  },
  {
   "cell_type": "code",
   "execution_count": null,
   "id": "8a0997b0",
   "metadata": {},
   "outputs": [],
   "source": [
    "# myQLM qpus\n",
    "from qat.qpus import PyLinalg, CLinalg\n",
    "qpu_c = CLinalg()\n",
    "qpu_p = PyLinalg()\n",
    "# QLM qpus\n",
    "from qlmaas.qpus import LinAlg, MPS\n",
    "qpu_qaass = LinAlg()\n",
    "qpu_mps = MPS(lnnize =True)"
   ]
  },
  {
   "cell_type": "markdown",
   "id": "9d6b01f9",
   "metadata": {},
   "source": [
    "## 1. ansatzes module\n",
    "\n",
    "One mandatory step for using the Parent Hamiltonian, **PH**, library (see nootebook **02_Using_PH_Class.ipynb**) is computing for a given ansatz its complete state. This is the amplitudes of the state in the computational *n* qubit basis. \n",
    "\n",
    "In the *ansatzes* module of the **PH** library some ansatzs were build using **Atos myqlm** software. Additionally several functions that deals with the simulation of a given ansatz using the **Atos myqlm** are provided."
   ]
  },
  {
   "cell_type": "markdown",
   "id": "8c629cee",
   "metadata": {},
   "source": [
    "### 1.1 Parent Hamiltonian Github ansatz\n",
    "\n",
    "The *ansatz_qlm_01* functions implements a **Atos myqlm** version of the ansatz in the github:\n",
    "\n",
    "https://github.com/FumiKobayashi/Parent_Hamiltonian_as_a_benchmark_problem_for_variational_quantum_eigensolvers\n",
    "\n",
    "from the original Parent Hamiltonian Papper:\n",
    "\n",
    "* Kobayashi, F., Mitarai, K., & Fujii, K. (2022). Parent hamiltonian as a benchmark problem for variational quantum eigensolvers. Phys. Rev. A, 105, 052415 (https://doi.org/10.1103%2Fphysreva.105.052415)\n",
    "\n",
    "We need functions *ansatz_qlm_01* and the function *solve_ansatz* that allows the simulation of a **Atos myqlm** program"
   ]
  },
  {
   "cell_type": "code",
   "execution_count": null,
   "id": "f2f3e925",
   "metadata": {},
   "outputs": [],
   "source": [
    "from PH.ansatzes import ansatz_qlm_01, solve_ansatz"
   ]
  },
  {
   "cell_type": "markdown",
   "id": "ea2226b7",
   "metadata": {},
   "source": [
    "We need to provided to the *ansatz_qlm_01* the number of desired qubits and the depth of the circuit. The function returns an *Atos myqlm* objet called *Program* with the implementation of the ansatz and the list of the parameters names of the ansatz"
   ]
  },
  {
   "cell_type": "code",
   "execution_count": null,
   "id": "68de1184",
   "metadata": {
    "scrolled": true
   },
   "outputs": [],
   "source": [
    "n_qubits = 12\n",
    "depth = 3\n",
    "ansatz_01, theta = ansatz_qlm_01(nqubits=n_qubits, depth=depth)"
   ]
  },
  {
   "cell_type": "code",
   "execution_count": null,
   "id": "784d7def",
   "metadata": {},
   "outputs": [],
   "source": [
    "# This is a myqlm obcet called Program\n",
    "ansatz_01"
   ]
  },
  {
   "cell_type": "code",
   "execution_count": null,
   "id": "5c201081",
   "metadata": {
    "scrolled": true
   },
   "outputs": [],
   "source": [
    "# Names of the parameters of the ansatz\n",
    "theta"
   ]
  },
  {
   "cell_type": "markdown",
   "id": "87275fab",
   "metadata": {},
   "source": [
    "We can plot the correspondent circuit of the myqlm Program of the ansatz"
   ]
  },
  {
   "cell_type": "code",
   "execution_count": null,
   "id": "eac386b7",
   "metadata": {},
   "outputs": [],
   "source": [
    "circ = ansatz_01.to_circ()\n",
    "%qatdisplay circ --svg"
   ]
  },
  {
   "cell_type": "markdown",
   "id": "d29d54c3",
   "metadata": {},
   "source": [
    "Now we need to fix the parameter of the circuits in order to obtatain the quantum state of the ansatz"
   ]
  },
  {
   "cell_type": "code",
   "execution_count": null,
   "id": "e9e3ac29",
   "metadata": {},
   "outputs": [],
   "source": [
    "parameters = list(np.random.rand(len(theta)))\n",
    "parameters = {v_ : parameters[i] for i, v_ in enumerate(theta)}\n",
    "print(parameters)"
   ]
  },
  {
   "cell_type": "markdown",
   "id": "aee30ea5",
   "metadata": {},
   "source": [
    "Finally we need to provided the myqlm program, the parameter vector and a *myql* solver to the function *solve_ansatz* for simulating the ansatz and get its final state. IIn this case the provided results is a pandas DataFrame with the complete inforamtion of the ansatz state computed by the simulation."
   ]
  },
  {
   "cell_type": "code",
   "execution_count": null,
   "id": "0e5bb82b",
   "metadata": {},
   "outputs": [],
   "source": [
    "pdf = solve_ansatz(ansatz_01, parameters, qpu_mps)"
   ]
  },
  {
   "cell_type": "code",
   "execution_count": null,
   "id": "6240273b",
   "metadata": {},
   "outputs": [],
   "source": [
    "pdf.head()"
   ]
  },
  {
   "cell_type": "markdown",
   "id": "04c33445",
   "metadata": {},
   "source": [
    "### 1.2 Parent Hamiltonian General ansatz\n",
    "\n",
    "The function *ansatz_qlm_02* implements a generalization of the *ansatz_qlm_01* one. In the *ansatz_qlm_01* all the qubits has the same operations with the same parameters. In the *ansatz_qlm_02* each qubit has the same operations but each operation will have a different  parameter."
   ]
  },
  {
   "cell_type": "code",
   "execution_count": null,
   "id": "39f252ab",
   "metadata": {},
   "outputs": [],
   "source": [
    "from PH.ansatzes import ansatz_qlm_02"
   ]
  },
  {
   "cell_type": "code",
   "execution_count": null,
   "id": "8096b562",
   "metadata": {},
   "outputs": [],
   "source": [
    "n_qubits = 12\n",
    "depth = 3\n",
    "ansatz_02, theta_02 = ansatz_qlm_02(nqubits=n_qubits, depth=depth)"
   ]
  },
  {
   "cell_type": "code",
   "execution_count": null,
   "id": "34615aba",
   "metadata": {},
   "outputs": [],
   "source": [
    "circ = ansatz_02.to_circ()\n",
    "%qatdisplay circ --svg"
   ]
  },
  {
   "cell_type": "code",
   "execution_count": null,
   "id": "26001759",
   "metadata": {},
   "outputs": [],
   "source": [
    "parameters_02 = list(np.random.rand(len(theta_02)))"
   ]
  },
  {
   "cell_type": "code",
   "execution_count": null,
   "id": "64b70231",
   "metadata": {},
   "outputs": [],
   "source": [
    "print(\"The number of parameters for ansatz 01 is: {}. And for ansatz 02 is :{}\".format(\n",
    "    len(parameters),\n",
    "    len(parameters_02),    \n",
    "))"
   ]
  },
  {
   "cell_type": "markdown",
   "id": "1145a5d0",
   "metadata": {},
   "source": [
    "Again we need to fix the parameter of the circuits in order to obtatain the quantum state of the ansatz"
   ]
  },
  {
   "cell_type": "code",
   "execution_count": null,
   "id": "ae73ef51",
   "metadata": {},
   "outputs": [],
   "source": [
    "parameters_02 = {v_ : parameters_02[i] for i, v_ in enumerate(theta_02)}\n",
    "print(parameters_02)"
   ]
  },
  {
   "cell_type": "markdown",
   "id": "19b1dcba",
   "metadata": {},
   "source": [
    "Finally we can use the *solve_ansatz* function for simulating the ansatz."
   ]
  },
  {
   "cell_type": "code",
   "execution_count": null,
   "id": "f8fc0f51",
   "metadata": {},
   "outputs": [],
   "source": [
    "pdf_02 = solve_ansatz(ansatz_02, parameters_02, qpu_mps)"
   ]
  },
  {
   "cell_type": "code",
   "execution_count": null,
   "id": "46f50d5b",
   "metadata": {
    "scrolled": true
   },
   "outputs": [],
   "source": [
    "pdf_02.head()"
   ]
  },
  {
   "cell_type": "markdown",
   "id": "a64b861e",
   "metadata": {},
   "source": [
    "### 1.3 Other ansatzes"
   ]
  },
  {
   "cell_type": "markdown",
   "id": "286ec604",
   "metadata": {},
   "source": [
    "For using the **PH** library for computing Parent Hamiltonians the mandatory input will be the list of amplitudes. We can use different ansatzes that are avialable from *Atos myqlm* library."
   ]
  },
  {
   "cell_type": "code",
   "execution_count": null,
   "id": "1c9ee239",
   "metadata": {},
   "outputs": [],
   "source": [
    "from qat.fermion.circuits import make_ldca_circ, make_general_hwe_circ"
   ]
  },
  {
   "cell_type": "code",
   "execution_count": null,
   "id": "01629938",
   "metadata": {},
   "outputs": [],
   "source": [
    "nqubit = 8\n",
    "depth = 3\n",
    "lda = make_ldca_circ(nqubit, depth)"
   ]
  },
  {
   "cell_type": "code",
   "execution_count": null,
   "id": "48af32c4",
   "metadata": {},
   "outputs": [],
   "source": [
    "%qatdisplay lda --svg"
   ]
  },
  {
   "cell_type": "markdown",
   "id": "09be0225",
   "metadata": {},
   "source": [
    "In this case the output of the function is the circuit and not the *Atos myqlm Program*. In this case we can use the function *solving_circuit* from *ansatzes* package for getting the state of the ansatz. \n",
    "\n",
    "This functions need:\n",
    "\n",
    "* Atos myqlm circuit\n",
    "* number of qubits of the input circuit\n",
    "* Atos myqlm qpu solver\n",
    "\n",
    "The output will be a pandas DataFrame with all the information about the sate"
   ]
  },
  {
   "cell_type": "code",
   "execution_count": null,
   "id": "215f9113",
   "metadata": {},
   "outputs": [],
   "source": [
    "from PH.ansatzes import solving_circuit"
   ]
  },
  {
   "cell_type": "code",
   "execution_count": null,
   "id": "2fa37948",
   "metadata": {},
   "outputs": [],
   "source": [
    "# Fixing the parameter of the ansatz\n",
    "angles = np.random.rand(len(lda.get_variables()))\n",
    "lda = lda(\n",
    "    ** {v: angles[i] for i,v in enumerate(lda.get_variables())})"
   ]
  },
  {
   "cell_type": "code",
   "execution_count": null,
   "id": "4a881be2",
   "metadata": {},
   "outputs": [],
   "source": [
    "pdf_lda = solving_circuit(lda, nqubit, qpu_mps)"
   ]
  },
  {
   "cell_type": "code",
   "execution_count": null,
   "id": "9cd7ba02",
   "metadata": {},
   "outputs": [],
   "source": [
    "pdf_lda.head()"
   ]
  },
  {
   "cell_type": "code",
   "execution_count": null,
   "id": "ad4c5ecd",
   "metadata": {},
   "outputs": [],
   "source": [
    "circ_02 = make_general_hwe_circ(nqubit, n_cycles=3)"
   ]
  },
  {
   "cell_type": "code",
   "execution_count": null,
   "id": "c23e206f",
   "metadata": {},
   "outputs": [],
   "source": [
    "%qatdisplay circ_02 --svg"
   ]
  },
  {
   "cell_type": "code",
   "execution_count": null,
   "id": "bcc5be37",
   "metadata": {},
   "outputs": [],
   "source": [
    "angles_circ_02 = np.random.rand(len(circ_02.get_variables()))\n",
    "circ_02 = circ_02(\n",
    "    ** {v: angles_circ_02[i] for i,v in enumerate(circ_02.get_variables())})"
   ]
  },
  {
   "cell_type": "code",
   "execution_count": null,
   "id": "6878b140",
   "metadata": {},
   "outputs": [],
   "source": [
    "pdf_circ_02 = solving_circuit(circ_02, nqubit, qpu_mps)"
   ]
  },
  {
   "cell_type": "code",
   "execution_count": null,
   "id": "d978cc16",
   "metadata": {},
   "outputs": [],
   "source": [
    "pdf_circ_02"
   ]
  },
  {
   "cell_type": "code",
   "execution_count": null,
   "id": "38192491",
   "metadata": {},
   "outputs": [],
   "source": []
  }
 ],
 "metadata": {
  "kernelspec": {
   "display_name": "Python 3 (ipykernel)",
   "language": "python",
   "name": "python3"
  },
  "language_info": {
   "codemirror_mode": {
    "name": "ipython",
    "version": 3
   },
   "file_extension": ".py",
   "mimetype": "text/x-python",
   "name": "python",
   "nbconvert_exporter": "python",
   "pygments_lexer": "ipython3",
   "version": "3.9.9"
  }
 },
 "nbformat": 4,
 "nbformat_minor": 5
}
