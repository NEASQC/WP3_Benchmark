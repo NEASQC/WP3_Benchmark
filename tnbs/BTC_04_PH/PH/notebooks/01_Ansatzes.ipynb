{
 "cells": [
  {
   "cell_type": "markdown",
   "id": "28f90284",
   "metadata": {},
   "source": [
    "# Ansatzes"
   ]
  },
  {
   "cell_type": "code",
   "execution_count": null,
   "id": "6f6fa0ab",
   "metadata": {},
   "outputs": [],
   "source": [
    "import logging\n",
    "logging.basicConfig(\n",
    "    format='%(asctime)s-%(levelname)s: %(message)s',\n",
    "    datefmt='%m/%d/%Y %I:%M:%S %p',\n",
    "    level=logging.INFO\n",
    "    #level=logging.DEBUG\n",
    ")\n",
    "logger = logging.getLogger('__name__')"
   ]
  },
  {
   "cell_type": "code",
   "execution_count": null,
   "id": "cef33b61",
   "metadata": {},
   "outputs": [],
   "source": [
    "import numpy as np\n",
    "import pandas as pd"
   ]
  },
  {
   "cell_type": "code",
   "execution_count": null,
   "id": "f0eed4f8",
   "metadata": {},
   "outputs": [],
   "source": [
    "import sys\n",
    "sys.path.append(\"../../\")"
   ]
  },
  {
   "cell_type": "code",
   "execution_count": null,
   "id": "8a0997b0",
   "metadata": {},
   "outputs": [],
   "source": [
    "# myQLM qpus\n",
    "from get_qpu import get_qpu"
   ]
  },
  {
   "cell_type": "code",
   "execution_count": null,
   "id": "d14efaf5",
   "metadata": {},
   "outputs": [],
   "source": [
    "# QLM qpus\n",
    "qpu_c = get_qpu(\"c\")\n",
    "qpu_p = get_qpu(\"python\")"
   ]
  },
  {
   "cell_type": "markdown",
   "id": "9d6b01f9",
   "metadata": {},
   "source": [
    "## 1. ansatzes module\n",
    "\n",
    "One mandatory step for using the Parent Hamiltonian, **PH**, library (see notebook **02_Using_PH_Class.ipynb**) is computing for a given ansatz its complete state. This is the amplitudes of the state in the computational $n$ qubit basis. \n",
    "\n",
    "In the *ansatzes* module of the **PH** library, several functions and classes for dealing with this part of the computation were done.\n"
   ]
  },
  {
   "cell_type": "markdown",
   "id": "1a79e9c3",
   "metadata": {},
   "source": [
    "### 1.1 SolveCircuit class\n",
    "\n",
    "The **SolveCircuit** takes a *Atos myqlm circuit* with an ansatz, fixes their parameter, simulates using *Atos qpu* and returns the state of the ansatz.\n",
    "\n",
    "The main input of this class is a QLM circuit where the parameters were set. For showing how this class works we are going to use an ansatz example: the translational invariant circuit of the original Parent Hamiltonian paper."
   ]
  },
  {
   "cell_type": "code",
   "execution_count": null,
   "id": "3237219c",
   "metadata": {},
   "outputs": [],
   "source": [
    "from ansatzes import SolveCircuit"
   ]
  },
  {
   "cell_type": "markdown",
   "id": "8c629cee",
   "metadata": {},
   "source": [
    "#### 1.1.1 Parent Hamiltonian Github ansatz\n",
    "\n",
    "The *ansatz_qlm_01* functions implements a **Atos myqlm** version of the ansatz in the github:\n",
    "\n",
    "https://github.com/FumiKobayashi/Parent_Hamiltonian_as_a_benchmark_problem_for_variational_quantum_eigensolvers\n",
    "\n",
    "from the original Parent Hamiltonian Papper:\n",
    "\n",
    "* Kobayashi, F., Mitarai, K., & Fujii, K. (2022). Parent hamiltonian as a benchmark problem for variational quantum eigensolvers. Phys. Rev. A, 105, 052415 (https://doi.org/10.1103%2Fphysreva.105.052415)\n",
    "\n",
    "This circuit is implemented under the function *ansatz_qlm_01* of the **ansatzes** module"
   ]
  },
  {
   "cell_type": "code",
   "execution_count": null,
   "id": "f2f3e925",
   "metadata": {},
   "outputs": [],
   "source": [
    "from ansatzes import ansatz_qlm_01"
   ]
  },
  {
   "cell_type": "markdown",
   "id": "ea2226b7",
   "metadata": {},
   "source": [
    "We need to provided to the *ansatz_qlm_01* the number of desired qubits and the depth of the circuit. The function returns an *Atos myqlm circuit* of the ansatz."
   ]
  },
  {
   "cell_type": "code",
   "execution_count": null,
   "id": "68de1184",
   "metadata": {},
   "outputs": [],
   "source": [
    "n_qubits = 12\n",
    "depth = 2\n",
    "circ_ansatz01 = ansatz_qlm_01(nqubits=n_qubits, depth=depth)"
   ]
  },
  {
   "cell_type": "code",
   "execution_count": null,
   "id": "784d7def",
   "metadata": {
    "scrolled": true
   },
   "outputs": [],
   "source": [
    "%qatdisplay circ_ansatz01 --svg"
   ]
  },
  {
   "cell_type": "markdown",
   "id": "02b1429d",
   "metadata": {},
   "source": [
    "#### 1.1.2 . Setting the parameters\n",
    "\n",
    "As can be seen, the circuit has the parameters as variables. We can set the parameters by calling the *angles_ansatz01* function. If $n_l$ is the number of layers of the circuit the formula for setting the parameters is:\n",
    "\n",
    "\n",
    "$$\\delta \\theta = \\frac{\\pi}{4*(n_l+1)}$$\n",
    "\n",
    "$$\\theta_i = (i+1) \\delta \\theta \\; i=0, 1, \\cdots 2n_l-1$$\n",
    "\n",
    "The outputs of the function are:\n",
    "* circuit with the parameters fixed\n",
    "* pandas DataFrame with the value of the parameters used"
   ]
  },
  {
   "cell_type": "code",
   "execution_count": null,
   "id": "5db961f7",
   "metadata": {},
   "outputs": [],
   "source": [
    "from ansatzes import angles_ansatz01"
   ]
  },
  {
   "cell_type": "code",
   "execution_count": null,
   "id": "bd7f3daf",
   "metadata": {},
   "outputs": [],
   "source": [
    "circ_ansatz01_, pdf_par = angles_ansatz01(circ_ansatz01)"
   ]
  },
  {
   "cell_type": "code",
   "execution_count": null,
   "id": "3b8108ba",
   "metadata": {
    "scrolled": true
   },
   "outputs": [],
   "source": [
    "# Now the vatiables are fixed to values\n",
    "%qatdisplay circ_ansatz01_ --svg"
   ]
  },
  {
   "cell_type": "code",
   "execution_count": null,
   "id": "45244a6f",
   "metadata": {},
   "outputs": [],
   "source": [
    "# pandas DataFrame with parameters of the circuit\n",
    "pdf_par"
   ]
  },
  {
   "cell_type": "markdown",
   "id": "aebbd82b",
   "metadata": {},
   "source": [
    "In addition we can use the parameters of the circuit providing a pandas DataFrame to the function. In this case the function can be used for setting the parameters for any circuit! The parameters should be passed as a pandas DataFrame with 2 columns:\n",
    "* key: string with the name of the parameter (the same name that is in the circuit)\n",
    "* value: float value of the correspondent parameter"
   ]
  },
  {
   "cell_type": "code",
   "execution_count": null,
   "id": "b64e8167",
   "metadata": {},
   "outputs": [],
   "source": [
    "# Random parameters\n",
    "parameters = {v_ : 2 * np.pi * np.random.rand() for i_, v_ in enumerate(circ_ansatz01.get_variables())}\n",
    "# Creating the DataFrame\n",
    "angles = [k for k, v in parameters.items()]\n",
    "values = [v for k, v in parameters.items()]\n",
    "pdf_parameters = pd.DataFrame([angles, values], index=['key', 'value']).T"
   ]
  },
  {
   "cell_type": "code",
   "execution_count": null,
   "id": "631073fd",
   "metadata": {},
   "outputs": [],
   "source": [
    "pdf_parameters"
   ]
  },
  {
   "cell_type": "code",
   "execution_count": null,
   "id": "28c39a9b",
   "metadata": {},
   "outputs": [],
   "source": [
    "circ_ansatz01_2, _ = angles_ansatz01(circ_ansatz01, pdf_parameters)"
   ]
  },
  {
   "cell_type": "code",
   "execution_count": null,
   "id": "7646554c",
   "metadata": {},
   "outputs": [],
   "source": [
    "# The output is the circuit with the parameters fixed\n",
    "%qatdisplay circ_ansatz01_2 --svg"
   ]
  },
  {
   "cell_type": "markdown",
   "id": "df23676c",
   "metadata": {},
   "source": [
    "#### 1.1.3 Solving the ansatz\n",
    "\n",
    "Now we can use the *SolveCircuit* class to solve the circuit. The main inputs are:\n",
    "* circuit: QLM circuit where the parameters were set\n",
    "* Input dictionary with the following keys:\n",
    "    * nqubits: number of qubits of the ansatz\n",
    "    * qpu: myqlm QPU used for solving the circuit\n",
    "    * parameters: a pandas DataFrame with the parameters of the circuit\n",
    "    * save: For saving or not the parameters and the solution (the state) of the circuit\n",
    "    * filename: complete base filename for storing the parameters and state\n",
    "\n",
    "For solving the circuit the *run* method of the object should be invoked"
   ]
  },
  {
   "cell_type": "code",
   "execution_count": null,
   "id": "d2bef9e2",
   "metadata": {},
   "outputs": [],
   "source": [
    "from utils_ph import create_folder\n",
    "\n",
    "filename = \"ansatz_{}_dept_{}_nqubits_{}\".format(\"simple01\", depth, n_qubits)\n",
    "folder = create_folder(\"Savings\")\n",
    "\n",
    "class_dict = {\n",
    "    'nqubits' : n_qubits,\n",
    "    \"qpu\" : qpu_c,\n",
    "    \"parameters\" : pdf_parameters,\n",
    "    \"filename\": folder + filename,\n",
    "    \"save\": True\n",
    "}"
   ]
  },
  {
   "cell_type": "code",
   "execution_count": null,
   "id": "86effe6d",
   "metadata": {},
   "outputs": [],
   "source": [
    "solv_ansatz01 = SolveCircuit(circ_ansatz01_, **class_dict)"
   ]
  },
  {
   "cell_type": "code",
   "execution_count": null,
   "id": "8a25bd33",
   "metadata": {},
   "outputs": [],
   "source": [
    "solv_ansatz01.run()"
   ]
  },
  {
   "cell_type": "markdown",
   "id": "6219d3ff",
   "metadata": {},
   "source": [
    "For simulating the ansatz the *run* method of the class should be executed when properly configuration is done. The *state* attribute will contain a pandas DataFrame with complet state information"
   ]
  },
  {
   "cell_type": "code",
   "execution_count": null,
   "id": "64c7da54",
   "metadata": {
    "scrolled": true
   },
   "outputs": [],
   "source": [
    "solv_ansatz01.state"
   ]
  },
  {
   "cell_type": "markdown",
   "id": "73fe7436",
   "metadata": {},
   "source": [
    "In adition three files were created (if requested):\n",
    "* folder + filename*_parameters.csv*: where the parameters were stored\n",
    "* folder + filename*_state.csv*: where the state of the ansat was stored. Only the Amplitudes will be stored.\n",
    "* folder + filename*_ansatz_time.csv*: where the time of solving the ansatz was stored"
   ]
  },
  {
   "cell_type": "markdown",
   "id": "a15cdaaa",
   "metadata": {},
   "source": [
    "### 1.2 Parent Hamiltonian General ansatz\n",
    "\n",
    "Other ansatzes are implemented in the **ansatzes** module.\n",
    "\n",
    "The function *ansatz_qlm_02* implements a generalization of the *ansatz_qlm_01* one. In the *ansatz_qlm_01* all the qubits have the same operations with the same parameters. In the *ansatz_qlm_02* each qubit has the same operations but each operation will have a different  parameter.\n",
    "\n",
    "The *SolveCircuit* class can be used for solving the ansatz"
   ]
  },
  {
   "cell_type": "code",
   "execution_count": null,
   "id": "f9d5ee0f",
   "metadata": {},
   "outputs": [],
   "source": [
    "from ansatzes import ansatz_qlm_02"
   ]
  },
  {
   "cell_type": "code",
   "execution_count": null,
   "id": "b317d974",
   "metadata": {},
   "outputs": [],
   "source": [
    "n_qubits = 8\n",
    "depth = 3\n",
    "circ_ansatz02 = ansatz_qlm_02(nqubits=n_qubits, depth=depth)"
   ]
  },
  {
   "cell_type": "code",
   "execution_count": null,
   "id": "51c41bc1",
   "metadata": {},
   "outputs": [],
   "source": [
    "%qatdisplay circ_ansatz02 --svg"
   ]
  },
  {
   "cell_type": "code",
   "execution_count": null,
   "id": "89fc33e3",
   "metadata": {},
   "outputs": [],
   "source": [
    "filename = \"ansatz_{}_dept_{}_nqubits_{}\".format(\"simple02\", depth, n_qubits)\n",
    "folder = create_folder(\"Savings\")\n",
    "# Create the parameter values\n",
    "parameters = {v_ : 2 * np.pi * np.random.rand() for i_, v_ in enumerate(circ_ansatz02.get_variables())}\n",
    "angles = [k for k, v in parameters.items()]\n",
    "values = [v for k, v in parameters.items()]\n",
    "pdf_parameters = pd.DataFrame([angles, values], index=['key', 'value']).T"
   ]
  },
  {
   "cell_type": "code",
   "execution_count": null,
   "id": "0dbf40b6",
   "metadata": {},
   "outputs": [],
   "source": [
    "circ_ansatz02_, _ = angles_ansatz01(circ_ansatz02, pdf_parameters)"
   ]
  },
  {
   "cell_type": "code",
   "execution_count": null,
   "id": "924efa46",
   "metadata": {},
   "outputs": [],
   "source": [
    "class_dict = {\n",
    "    'nqubits' : n_qubits,    \n",
    "    \"qpu\" : qpu_c,\n",
    "    \"parameters\" : pdf_parameters,\n",
    "    \"filename\": folder + filename,\n",
    "    \"save\": True    \n",
    "}\n",
    "solv_ansatz02 = SolveCircuit(circ_ansatz02_, **class_dict)\n",
    "solv_ansatz02.run()"
   ]
  },
  {
   "cell_type": "code",
   "execution_count": null,
   "id": "47a3e607",
   "metadata": {},
   "outputs": [],
   "source": [
    "solv_ansatz02.state"
   ]
  },
  {
   "cell_type": "markdown",
   "id": "814cbabf",
   "metadata": {},
   "source": [
    "### 1.3 Other ansatzes\n",
    "\n",
    "We can solve different ansatzes with the *SolveCircuit* the only mandatory input is the myqlm circuit of the ansatz with the parameters set."
   ]
  },
  {
   "cell_type": "code",
   "execution_count": null,
   "id": "25b9879c",
   "metadata": {},
   "outputs": [],
   "source": [
    "#Ansatzes built in the myqlm atos library\n",
    "from qat.fermion.circuits import make_ldca_circ, make_general_hwe_circ"
   ]
  },
  {
   "cell_type": "code",
   "execution_count": null,
   "id": "2dde2cfe",
   "metadata": {},
   "outputs": [],
   "source": [
    "nqubit = 8\n",
    "depth = 3\n",
    "lda_circ = make_ldca_circ(nqubit, depth)"
   ]
  },
  {
   "cell_type": "code",
   "execution_count": null,
   "id": "e20031a4",
   "metadata": {},
   "outputs": [],
   "source": [
    "%qatdisplay lda_circ --svg"
   ]
  },
  {
   "cell_type": "code",
   "execution_count": null,
   "id": "9f829e96",
   "metadata": {
    "scrolled": true
   },
   "outputs": [],
   "source": [
    "filename = \"ansatz_{}_dept_{}_nqubits_{}\".format(\"ldca\", depth, nqubit)\n",
    "folder = create_folder(\"Savings\")\n",
    "\n",
    "# Create the parameter values\n",
    "parameters = {v_ : 2 * np.pi * np.random.rand() for i_, v_ in enumerate(lda_circ.get_variables())}\n",
    "angles = [k for k, v in parameters.items()]\n",
    "values = [v for k, v in parameters.items()]\n",
    "pdf_parameters = pd.DataFrame([angles, values], index=['key', 'value']).T"
   ]
  },
  {
   "cell_type": "code",
   "execution_count": null,
   "id": "42c5b886",
   "metadata": {},
   "outputs": [],
   "source": [
    "lda_circ_, _ = angles_ansatz01(lda_circ, pdf_parameters)"
   ]
  },
  {
   "cell_type": "code",
   "execution_count": null,
   "id": "9af65df1",
   "metadata": {},
   "outputs": [],
   "source": [
    "%qatdisplay lda_circ_ --svg"
   ]
  },
  {
   "cell_type": "code",
   "execution_count": null,
   "id": "1a92d871",
   "metadata": {},
   "outputs": [],
   "source": [
    "class_dict = {\n",
    "    'nqubits' : nqubit,    \n",
    "    \"qpu\" : qpu_c,\n",
    "    \"parameters\" : pdf_parameters,\n",
    "    \"filename\": folder + filename,\n",
    "    \"save\": True    \n",
    "}\n",
    "solv_ldca = SolveCircuit(lda_circ_, **class_dict)\n",
    "solv_ldca.run()"
   ]
  },
  {
   "cell_type": "code",
   "execution_count": null,
   "id": "221496e1",
   "metadata": {},
   "outputs": [],
   "source": [
    "solv_ldca.state"
   ]
  },
  {
   "cell_type": "code",
   "execution_count": null,
   "id": "4c83f740",
   "metadata": {},
   "outputs": [],
   "source": [
    "hwe_circ = make_general_hwe_circ(nqubit, n_cycles=1)"
   ]
  },
  {
   "cell_type": "code",
   "execution_count": null,
   "id": "ea21c470",
   "metadata": {},
   "outputs": [],
   "source": [
    "%qatdisplay hwe_circ --svg"
   ]
  },
  {
   "cell_type": "code",
   "execution_count": null,
   "id": "21b5f2cc",
   "metadata": {},
   "outputs": [],
   "source": [
    "filename = \"ansatz_{}_dept_{}_nqubits_{}\".format(\"hwe\", 1, nqubit)\n",
    "folder = create_folder(\"Savings\")\n",
    "# Create the parameter values\n",
    "parameters = {v_ : 2 * np.pi * np.random.rand() for i_, v_ in enumerate(hwe_circ.get_variables())}\n",
    "angles = [k for k, v in parameters.items()]\n",
    "values = [v for k, v in parameters.items()]\n",
    "pdf_parameters = pd.DataFrame([angles, values], index=['key', 'value']).T\n",
    "hwe_circ_, _ = angles_ansatz01(hwe_circ, pdf_parameters)"
   ]
  },
  {
   "cell_type": "code",
   "execution_count": null,
   "id": "aa2ec7c8",
   "metadata": {},
   "outputs": [],
   "source": [
    "class_dict = {\n",
    "    'nqubits' : nqubit,        \n",
    "    \"qpu\" : qpu_c,\n",
    "    \"parameters\" : pdf_parameters,\n",
    "    \"filename\": folder + filename,\n",
    "    \"save\": True    \n",
    "}\n",
    "solv_hwe = SolveCircuit(hwe_circ_, **class_dict)\n",
    "solv_hwe.run()"
   ]
  },
  {
   "cell_type": "code",
   "execution_count": null,
   "id": "b510ba2e",
   "metadata": {},
   "outputs": [],
   "source": [
    "%qatdisplay hwe_circ_ --svg"
   ]
  },
  {
   "cell_type": "code",
   "execution_count": null,
   "id": "34ab37fc",
   "metadata": {},
   "outputs": [],
   "source": [
    "solv_hwe.state"
   ]
  },
  {
   "cell_type": "markdown",
   "id": "5ce2d533",
   "metadata": {},
   "source": [
    "### 1.4 Ansatz selector\n",
    "\n",
    "In order to simplify the ansatz selection a function called **ansatz_selector** was built. "
   ]
  },
  {
   "cell_type": "code",
   "execution_count": null,
   "id": "17a0fb89",
   "metadata": {},
   "outputs": [],
   "source": [
    "from ansatzes import ansatz_selector"
   ]
  },
  {
   "cell_type": "code",
   "execution_count": null,
   "id": "8aa75dc0",
   "metadata": {},
   "outputs": [],
   "source": [
    "conf_dict = {\n",
    "    'nqubits' : 4,\n",
    "    'depth' : 20\n",
    "}"
   ]
  },
  {
   "cell_type": "code",
   "execution_count": null,
   "id": "37f06d87",
   "metadata": {},
   "outputs": [],
   "source": [
    "circuit = ansatz_selector('simple01', **conf_dict)\n",
    "%qatdisplay circuit --svg"
   ]
  },
  {
   "cell_type": "code",
   "execution_count": null,
   "id": "dc4d7dcb",
   "metadata": {},
   "outputs": [],
   "source": [
    "parameters = {v_ : 2 * np.pi * np.random.rand() for i_, v_ in enumerate(circuit.get_variables())}"
   ]
  },
  {
   "cell_type": "code",
   "execution_count": null,
   "id": "221fc2e5",
   "metadata": {},
   "outputs": [],
   "source": [
    "circuit = circuit(**parameters)"
   ]
  },
  {
   "cell_type": "code",
   "execution_count": null,
   "id": "0a6e4150",
   "metadata": {},
   "outputs": [],
   "source": [
    "%qatdisplay circuit --svg"
   ]
  },
  {
   "cell_type": "code",
   "execution_count": null,
   "id": "34780806",
   "metadata": {
    "scrolled": true
   },
   "outputs": [],
   "source": [
    "circuit = ansatz_selector('simple02', **conf_dict)\n",
    "%qatdisplay circuit --svg"
   ]
  },
  {
   "cell_type": "code",
   "execution_count": null,
   "id": "efbcae81",
   "metadata": {},
   "outputs": [],
   "source": [
    "circuit = ansatz_selector('lda', **conf_dict)\n",
    "%qatdisplay circuit --svg"
   ]
  },
  {
   "cell_type": "code",
   "execution_count": null,
   "id": "fa897cb6",
   "metadata": {},
   "outputs": [],
   "source": [
    "circuit = ansatz_selector('hwe', **conf_dict)\n",
    "%qatdisplay circuit --svg"
   ]
  },
  {
   "cell_type": "markdown",
   "id": "28b062eb",
   "metadata": {},
   "source": [
    "## 1.5 run_ansatz\n",
    "\n",
    "The complete ansatz-solving process can be done by using the function *run_ansatz* of the **ansatzes** module. A complete configuration dictionary should be provided and the function executes the complete steps for ansatz creation and solve."
   ]
  },
  {
   "cell_type": "code",
   "execution_count": null,
   "id": "0793e6cc",
   "metadata": {},
   "outputs": [],
   "source": [
    "from ansatzes import run_ansatz"
   ]
  },
  {
   "cell_type": "code",
   "execution_count": null,
   "id": "75a62890",
   "metadata": {},
   "outputs": [],
   "source": [
    "configuration ={\n",
    "    \"nqubits\": 4,\n",
    "    \"depth\": 2,\n",
    "    \"ansatz\" : \"simple01\",\n",
    "    \"qpu_ansatz\": \"c\",\n",
    "    \"t_inv\": True,\n",
    "    \"folder\": \"Saving/\",\n",
    "    \"save\": True,\n",
    "    \"solve\" : True,\n",
    "}"
   ]
  },
  {
   "cell_type": "code",
   "execution_count": null,
   "id": "03ae9c0e",
   "metadata": {},
   "outputs": [],
   "source": [
    "output_dict = run_ansatz(**configuration)"
   ]
  },
  {
   "cell_type": "code",
   "execution_count": null,
   "id": "d28c6a81",
   "metadata": {
    "scrolled": true
   },
   "outputs": [],
   "source": [
    "# State of the ansatz\n",
    "output_dict[\"state\"]"
   ]
  },
  {
   "cell_type": "code",
   "execution_count": null,
   "id": "85dd43cd",
   "metadata": {},
   "outputs": [],
   "source": [
    "# Parameters of the ansatz\n",
    "output_dict[\"parameters\"]"
   ]
  },
  {
   "cell_type": "code",
   "execution_count": null,
   "id": "75bf1df7",
   "metadata": {},
   "outputs": [],
   "source": [
    "# Base file name for the created files\n",
    "output_dict[\"filename\"]"
   ]
  },
  {
   "cell_type": "markdown",
   "id": "cda7ac59",
   "metadata": {},
   "source": [
    "The results will be stored under the selected folder (kwarg **folder**). The following files are created inside it:\n",
    "\n",
    "* *_parameters.csv*: with the parameters of the ansatz \n",
    "* *_solve_ansatz_time.csv*: with the times of solving the ansatz\n",
    "* *_state.csv*: complete state of the ansatz.\n",
    "\n",
    "The base name for all the files will be: **ansatz\\_{}\\_nqubits\\_{}\\_depth\\_{}\\_qpu_ansatz\\_{}**.\n"
   ]
  },
  {
   "cell_type": "markdown",
   "id": "8b4e3230",
   "metadata": {},
   "source": [
    "## 2. Line command\n",
    "\n",
    "Additionally, the **ansatzes** module can be used from the command line and several parameters can be provided for configuring the ansatz. \n",
    "\n",
    "    For getting a help type:  *python ansatzes.py -h*.\n",
    "\n",
    "Posible arguments are:\n",
    "\n",
    "* -nqubits NQUBITS: Number of qbits for the ansatz.\n",
    "* -depth DEPTH: Depth for ansatz.\n",
    "* -ansatz ANSATZ: Ansatz type: simple01, simple02, lda or hwe.\n",
    "* -qpu_ansatz QPU_ANSATZ: QPU for ansatz simulation: [qlmass, python, c, mps]\n",
    "* -folder FOLDER: Path for storing result\n",
    "* --save: For storing results\n",
    "* --solve: For solving complete ansatz\n",
    "\n",
    "\n",
    "When **--save** is provided the results will be stored under the selected **FOLDER** (-folder FOLDER). The following files will be created inside it:\n",
    "\n",
    "* *_parameters.csv*: with the parameters of the ansatz \n",
    "* *_solve_ansatz_time.csv*: with the times of solving the ansatz\n",
    "* *_state.csv*: complete state of the ansatz.\n"
   ]
  },
  {
   "cell_type": "markdown",
   "id": "f22d21b1",
   "metadata": {},
   "source": [
    "## 3. Submitting jobs to QLM (only for QLM users)\n",
    "\n",
    "If the ansatz has a great number of qubits or has high depths computations using **myQLM** can not be done (or need a lot of time). In these cases, computations can be executed in an **Eviden QLM hardware platform** (CESGA has one available for their users able to simulate until 35 qubits). In this case, the computation can be submitted to the **QLM** and retrieved when finished.\n",
    "For submitting an ansatz computation to the **QLM**, in addition with the arguments shown before, the following argument should be provided:\n",
    "\n",
    "* --submit: For submiting ansatz to QLM\n",
    "\n",
    "This option is valid only when **QPU_ANSATZ** (*-qpu_ansatz QPU_ANSATZ*) is: **qlmass** or **mps**. The execution will create the ansatz and submit the computation to QLM returning a *jobid*. **PLEASE keep this jobid for accesing the job.**"
   ]
  },
  {
   "cell_type": "markdown",
   "id": "30543470",
   "metadata": {},
   "source": [
    "Once the computation is submitted to QLM we need to retrieve the results from the **QLM**. The following arguments can be used for getting the state:\n",
    "\n",
    "* --get_job: For getting a job from QLM\n",
    "* -jobid JOB_ID: jobid of the QLM job. Only when provided --get_job\n",
    "* -filename FILENAME: Base Filename for saving. Only Valid with get_job\n",
    "* --save: For storing results\n",
    "\n",
    "If **--save** is provided the *-filename* should be provided too. The state will be saved as a csv with the name: **FILENAME_state.csv**"
   ]
  },
  {
   "cell_type": "markdown",
   "id": "4a9fcc44",
   "metadata": {},
   "source": [
    "## 4. Masive ansatzes computations\n",
    "\n",
    "For sending several ansatzes at the same time the following files can be used:\n",
    "\n",
    "* ansatzes.json: JSON file with the configuration of the desired ansatzes. Each possible configuration parameter in the JSON file has associated a list with the desired values. The total number of ansatzes will be all the possible combinations of the values of all the parameters. \n",
    "    * Example: if *nqubits: [10, 14]* and *depth: [1, 2, 3, 4]* (and the other parameters have only one element) then the possible ansatzes will be 2 * 4 = 8.\n",
    "* launch_ansatzes.py: this script allows to configuration of the ansatzes taking the configuration from the **ansatzes.json** and executing them. Use **python launch\\_ansatzes -h** to get help. The following arguments can be provided:\n",
    "    * --all: for executing all the posible ansatzes resulting from **ansatzes.json** file.\n",
    "    * -id ID: for executing only one possible ansatz (the number given by ID) from all the possible ansatzes from **ansatzes.json** file.\n",
    "    * --print: for printing the configuration of the ansatz\n",
    "    * --count: give the number of all the possible combinations resulting from the **ansatzes.json** file.\n",
    "    * --exe: for executing the complete ansatz computation program"
   ]
  },
  {
   "cell_type": "markdown",
   "id": "d62de278",
   "metadata": {},
   "source": [
    "## 5. Massive retrieving QLM\n",
    "\n",
    "When using the **launch_ansatzes.py** you can send all the computations to the QLM (**submit** to True in the **ansatzes.json**). You can retrieve all the jobs with their corresponding JobId. You can use the  **launch\\_get\\_jobs.py** script to recover all the jobs automatically. This file uses the JSON file **get\\_jobs.json**. In the JSON file, the JobIDs should be provided in the **job\\_id** field of the JSON. In this case, one dictionary for JobID should be configured in the JSON file.\n",
    "\n",
    "To get the help use: **pyhton launch\\_get\\_jobs.py**. The following arguments can be provided:\n",
    "    * --all: for executing all the posible recoverings from **get\\_jobs.json** file.\n",
    "    * -id ID: for executing only one possible recovery (the number given by ID) from all the possible ones from **get\\_jobs.json** file.\n",
    "    * --print: for printing the configuration of the recovering\n",
    "    * --count: give the number of all the possible recoverings from **get\\_jobs.json** file.\n",
    "    * --exe: for executing the complete recovery.\n"
   ]
  },
  {
   "cell_type": "code",
   "execution_count": null,
   "id": "5061b17e-8031-4203-a6f7-ba3ced2c8fff",
   "metadata": {},
   "outputs": [],
   "source": []
  }
 ],
 "metadata": {
  "kernelspec": {
   "display_name": "Python [conda env:tnbs2c] *",
   "language": "python",
   "name": "conda-env-tnbs2c-py"
  },
  "language_info": {
   "codemirror_mode": {
    "name": "ipython",
    "version": 3
   },
   "file_extension": ".py",
   "mimetype": "text/x-python",
   "name": "python",
   "nbconvert_exporter": "python",
   "pygments_lexer": "ipython3",
   "version": "3.11.7"
  }
 },
 "nbformat": 4,
 "nbformat_minor": 5
}
